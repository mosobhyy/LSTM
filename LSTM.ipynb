{
  "nbformat": 4,
  "nbformat_minor": 0,
  "metadata": {
    "colab": {
      "name": "LSTM.ipynb",
      "provenance": [],
      "collapsed_sections": []
    },
    "kernelspec": {
      "name": "python3",
      "display_name": "Python 3"
    },
    "language_info": {
      "name": "python"
    }
  },
  "cells": [
    {
      "cell_type": "markdown",
      "source": [
        "# Import Libraries"
      ],
      "metadata": {
        "id": "6bu-PRCsVG6u"
      }
    },
    {
      "cell_type": "code",
      "execution_count": 1,
      "metadata": {
        "id": "rTGcz3sV807Q"
      },
      "outputs": [],
      "source": [
        "import numpy as np\n",
        "import pandas as pd\n",
        "import matplotlib.pyplot as plt\n",
        "import tensorflow as tf\n",
        "from keras.preprocessing.text import Tokenizer\n",
        "from keras.preprocessing.sequence import pad_sequences\n",
        "from keras.callbacks import EarlyStopping \n",
        "import gensim\n",
        "from gensim.models import KeyedVectors\n",
        "from gensim.models import word2vec\n",
        "from utility import ar_preprocessing\n",
        "from sklearn.model_selection import train_test_split\n",
        "from sklearn import preprocessing"
      ]
    },
    {
      "cell_type": "markdown",
      "source": [
        "# **Read Data**"
      ],
      "metadata": {
        "id": "VeKbK-YZVKVy"
      }
    },
    {
      "cell_type": "markdown",
      "source": [
        "***Convert txt file to csv***"
      ],
      "metadata": {
        "id": "ZN131yJdV0Xs"
      }
    },
    {
      "cell_type": "code",
      "source": [
        "data = pd.read_csv('all.dev.features.txt', sep=' ')\n",
        "  \n",
        "data.to_csv('all.dev.features.csv', index = None)"
      ],
      "metadata": {
        "id": "rmBG4npKT4J2"
      },
      "execution_count": 2,
      "outputs": []
    },
    {
      "cell_type": "markdown",
      "source": [
        "***As Documentaion say, data columns represnts the following info:***\n",
        "\n",
        "\n",
        "0. Token (T1,T2,...Tn-1, Tn)\n",
        "1. T1\n",
        "2. Tn\n",
        "3. T1,T2\n",
        "4. Tn-1,Tn\n",
        "5. T1,T2,T3\n",
        "6. Tn-2,Tn-1,Tn\n",
        "7. T2,T3\n",
        "8. Tn-2,Tn-1\n",
        "9. T2,T3,T4\n",
        "10. Tn-3,Tn-2,Tn-1\n",
        "11. T3,T4\n",
        "12. Tn-4,Tn-3\n",
        "13. token length\n",
        "14. is the word's gloss translation capitalized?\n",
        "15. POS\n",
        "16. case\n",
        "17. aspect\n",
        "18. number\n",
        "19. person\n",
        "20. gender\n",
        "21. state\n",
        "22. normalized spelling (romanized)\n",
        "23. is there a mada analysis\n",
        "24. is the word Arabic UTF-8 (vs. Latin)\n",
        "25. is base form same as the normalized form\n",
        "26. Wikipedia: is this a hyperlink or regular text (noisy; turned off)\n",
        "27. Wikipedia dict: noisy (noisy; turned off)\n",
        "28. is the token utf-8 or ascii (noisy; turned off)\n",
        "29. does the term have any vowels (noisy; turned off)\n",
        "30. is the token in Wiki NE dict\n",
        "31. is curr+next token in Wiki NE dict\n",
        "32. is curr+prev token in Wiki NE dict\n",
        "33. is the token in Wiki non-NE dict\n",
        "34. is curr+next token in Wiki non-NE dict\n",
        "35. is curr+prev token in Wiki non-NE dict\n",
        "36. class\n",
        "\n",
        "\n",
        "***So we'll choose the following columns (0, 24, 36) that represent (token, is arabic ?, class).***"
      ],
      "metadata": {
        "id": "mEBr0y_olAWj"
      }
    },
    {
      "cell_type": "code",
      "source": [
        "data = pd.read_csv(\"all.dev.features.csv\", delimiter='\\t', header=None, usecols=[0, 24, 36])\n",
        "data.rename(columns={0:'Word', 24:'Arabic', 36:'Label'}, inplace=True)\n",
        "data"
      ],
      "metadata": {
        "colab": {
          "base_uri": "https://localhost:8080/",
          "height": 424
        },
        "id": "jQS0COBT-ShC",
        "outputId": "cfc0c5ed-2396-47c4-c6d8-a6eaa68c4272"
      },
      "execution_count": 3,
      "outputs": [
        {
          "output_type": "execute_result",
          "data": {
            "text/plain": [
              "          Word  Arabic  Label\n",
              "0        الذرة     1.0      O\n",
              "1           هي     1.0      O\n",
              "2         أصغر     1.0      O\n",
              "3          جزء     1.0      O\n",
              "4           من     1.0      O\n",
              "...        ...     ...    ...\n",
              "21198      BSD     0.0  I-MIS\n",
              "21199       في     1.0      O\n",
              "21200      طور     1.0      O\n",
              "21201  التصميم     1.0      O\n",
              "21202        .     1.0      O\n",
              "\n",
              "[21203 rows x 3 columns]"
            ],
            "text/html": [
              "\n",
              "  <div id=\"df-543911a7-d531-453f-8154-4cb37ff5d3d8\">\n",
              "    <div class=\"colab-df-container\">\n",
              "      <div>\n",
              "<style scoped>\n",
              "    .dataframe tbody tr th:only-of-type {\n",
              "        vertical-align: middle;\n",
              "    }\n",
              "\n",
              "    .dataframe tbody tr th {\n",
              "        vertical-align: top;\n",
              "    }\n",
              "\n",
              "    .dataframe thead th {\n",
              "        text-align: right;\n",
              "    }\n",
              "</style>\n",
              "<table border=\"1\" class=\"dataframe\">\n",
              "  <thead>\n",
              "    <tr style=\"text-align: right;\">\n",
              "      <th></th>\n",
              "      <th>Word</th>\n",
              "      <th>Arabic</th>\n",
              "      <th>Label</th>\n",
              "    </tr>\n",
              "  </thead>\n",
              "  <tbody>\n",
              "    <tr>\n",
              "      <th>0</th>\n",
              "      <td>الذرة</td>\n",
              "      <td>1.0</td>\n",
              "      <td>O</td>\n",
              "    </tr>\n",
              "    <tr>\n",
              "      <th>1</th>\n",
              "      <td>هي</td>\n",
              "      <td>1.0</td>\n",
              "      <td>O</td>\n",
              "    </tr>\n",
              "    <tr>\n",
              "      <th>2</th>\n",
              "      <td>أصغر</td>\n",
              "      <td>1.0</td>\n",
              "      <td>O</td>\n",
              "    </tr>\n",
              "    <tr>\n",
              "      <th>3</th>\n",
              "      <td>جزء</td>\n",
              "      <td>1.0</td>\n",
              "      <td>O</td>\n",
              "    </tr>\n",
              "    <tr>\n",
              "      <th>4</th>\n",
              "      <td>من</td>\n",
              "      <td>1.0</td>\n",
              "      <td>O</td>\n",
              "    </tr>\n",
              "    <tr>\n",
              "      <th>...</th>\n",
              "      <td>...</td>\n",
              "      <td>...</td>\n",
              "      <td>...</td>\n",
              "    </tr>\n",
              "    <tr>\n",
              "      <th>21198</th>\n",
              "      <td>BSD</td>\n",
              "      <td>0.0</td>\n",
              "      <td>I-MIS</td>\n",
              "    </tr>\n",
              "    <tr>\n",
              "      <th>21199</th>\n",
              "      <td>في</td>\n",
              "      <td>1.0</td>\n",
              "      <td>O</td>\n",
              "    </tr>\n",
              "    <tr>\n",
              "      <th>21200</th>\n",
              "      <td>طور</td>\n",
              "      <td>1.0</td>\n",
              "      <td>O</td>\n",
              "    </tr>\n",
              "    <tr>\n",
              "      <th>21201</th>\n",
              "      <td>التصميم</td>\n",
              "      <td>1.0</td>\n",
              "      <td>O</td>\n",
              "    </tr>\n",
              "    <tr>\n",
              "      <th>21202</th>\n",
              "      <td>.</td>\n",
              "      <td>1.0</td>\n",
              "      <td>O</td>\n",
              "    </tr>\n",
              "  </tbody>\n",
              "</table>\n",
              "<p>21203 rows × 3 columns</p>\n",
              "</div>\n",
              "      <button class=\"colab-df-convert\" onclick=\"convertToInteractive('df-543911a7-d531-453f-8154-4cb37ff5d3d8')\"\n",
              "              title=\"Convert this dataframe to an interactive table.\"\n",
              "              style=\"display:none;\">\n",
              "        \n",
              "  <svg xmlns=\"http://www.w3.org/2000/svg\" height=\"24px\"viewBox=\"0 0 24 24\"\n",
              "       width=\"24px\">\n",
              "    <path d=\"M0 0h24v24H0V0z\" fill=\"none\"/>\n",
              "    <path d=\"M18.56 5.44l.94 2.06.94-2.06 2.06-.94-2.06-.94-.94-2.06-.94 2.06-2.06.94zm-11 1L8.5 8.5l.94-2.06 2.06-.94-2.06-.94L8.5 2.5l-.94 2.06-2.06.94zm10 10l.94 2.06.94-2.06 2.06-.94-2.06-.94-.94-2.06-.94 2.06-2.06.94z\"/><path d=\"M17.41 7.96l-1.37-1.37c-.4-.4-.92-.59-1.43-.59-.52 0-1.04.2-1.43.59L10.3 9.45l-7.72 7.72c-.78.78-.78 2.05 0 2.83L4 21.41c.39.39.9.59 1.41.59.51 0 1.02-.2 1.41-.59l7.78-7.78 2.81-2.81c.8-.78.8-2.07 0-2.86zM5.41 20L4 18.59l7.72-7.72 1.47 1.35L5.41 20z\"/>\n",
              "  </svg>\n",
              "      </button>\n",
              "      \n",
              "  <style>\n",
              "    .colab-df-container {\n",
              "      display:flex;\n",
              "      flex-wrap:wrap;\n",
              "      gap: 12px;\n",
              "    }\n",
              "\n",
              "    .colab-df-convert {\n",
              "      background-color: #E8F0FE;\n",
              "      border: none;\n",
              "      border-radius: 50%;\n",
              "      cursor: pointer;\n",
              "      display: none;\n",
              "      fill: #1967D2;\n",
              "      height: 32px;\n",
              "      padding: 0 0 0 0;\n",
              "      width: 32px;\n",
              "    }\n",
              "\n",
              "    .colab-df-convert:hover {\n",
              "      background-color: #E2EBFA;\n",
              "      box-shadow: 0px 1px 2px rgba(60, 64, 67, 0.3), 0px 1px 3px 1px rgba(60, 64, 67, 0.15);\n",
              "      fill: #174EA6;\n",
              "    }\n",
              "\n",
              "    [theme=dark] .colab-df-convert {\n",
              "      background-color: #3B4455;\n",
              "      fill: #D2E3FC;\n",
              "    }\n",
              "\n",
              "    [theme=dark] .colab-df-convert:hover {\n",
              "      background-color: #434B5C;\n",
              "      box-shadow: 0px 1px 3px 1px rgba(0, 0, 0, 0.15);\n",
              "      filter: drop-shadow(0px 1px 2px rgba(0, 0, 0, 0.3));\n",
              "      fill: #FFFFFF;\n",
              "    }\n",
              "  </style>\n",
              "\n",
              "      <script>\n",
              "        const buttonEl =\n",
              "          document.querySelector('#df-543911a7-d531-453f-8154-4cb37ff5d3d8 button.colab-df-convert');\n",
              "        buttonEl.style.display =\n",
              "          google.colab.kernel.accessAllowed ? 'block' : 'none';\n",
              "\n",
              "        async function convertToInteractive(key) {\n",
              "          const element = document.querySelector('#df-543911a7-d531-453f-8154-4cb37ff5d3d8');\n",
              "          const dataTable =\n",
              "            await google.colab.kernel.invokeFunction('convertToInteractive',\n",
              "                                                     [key], {});\n",
              "          if (!dataTable) return;\n",
              "\n",
              "          const docLinkHtml = 'Like what you see? Visit the ' +\n",
              "            '<a target=\"_blank\" href=https://colab.research.google.com/notebooks/data_table.ipynb>data table notebook</a>'\n",
              "            + ' to learn more about interactive tables.';\n",
              "          element.innerHTML = '';\n",
              "          dataTable['output_type'] = 'display_data';\n",
              "          await google.colab.output.renderOutput(dataTable, element);\n",
              "          const docLink = document.createElement('div');\n",
              "          docLink.innerHTML = docLinkHtml;\n",
              "          element.appendChild(docLink);\n",
              "        }\n",
              "      </script>\n",
              "    </div>\n",
              "  </div>\n",
              "  "
            ]
          },
          "metadata": {},
          "execution_count": 3
        }
      ]
    },
    {
      "cell_type": "markdown",
      "source": [
        "# **Explore Data**"
      ],
      "metadata": {
        "id": "-V24GQZ_7Gbf"
      }
    },
    {
      "cell_type": "code",
      "source": [
        "data.info()"
      ],
      "metadata": {
        "colab": {
          "base_uri": "https://localhost:8080/"
        },
        "id": "kUkPSK497IuK",
        "outputId": "20fb80e3-ea3b-49a9-ddf6-1d1bda6aacf6"
      },
      "execution_count": 4,
      "outputs": [
        {
          "output_type": "stream",
          "name": "stdout",
          "text": [
            "<class 'pandas.core.frame.DataFrame'>\n",
            "RangeIndex: 21203 entries, 0 to 21202\n",
            "Data columns (total 3 columns):\n",
            " #   Column  Non-Null Count  Dtype  \n",
            "---  ------  --------------  -----  \n",
            " 0   Word    21203 non-null  object \n",
            " 1   Arabic  20992 non-null  float64\n",
            " 2   Label   20992 non-null  object \n",
            "dtypes: float64(1), object(2)\n",
            "memory usage: 497.1+ KB\n"
          ]
        }
      ]
    },
    {
      "cell_type": "code",
      "source": [
        "data.drop('Arabic', axis=1).describe()"
      ],
      "metadata": {
        "colab": {
          "base_uri": "https://localhost:8080/",
          "height": 175
        },
        "id": "GPV3DI-K7M-2",
        "outputId": "2566146d-31d8-4238-c4a1-161862c2376b"
      },
      "execution_count": 5,
      "outputs": [
        {
          "output_type": "execute_result",
          "data": {
            "text/plain": [
              "         Word  Label\n",
              "count   21203  20992\n",
              "unique   6927      9\n",
              "top         .      O\n",
              "freq      609  17641"
            ],
            "text/html": [
              "\n",
              "  <div id=\"df-e20110a6-1924-4791-a80e-82860426b8d9\">\n",
              "    <div class=\"colab-df-container\">\n",
              "      <div>\n",
              "<style scoped>\n",
              "    .dataframe tbody tr th:only-of-type {\n",
              "        vertical-align: middle;\n",
              "    }\n",
              "\n",
              "    .dataframe tbody tr th {\n",
              "        vertical-align: top;\n",
              "    }\n",
              "\n",
              "    .dataframe thead th {\n",
              "        text-align: right;\n",
              "    }\n",
              "</style>\n",
              "<table border=\"1\" class=\"dataframe\">\n",
              "  <thead>\n",
              "    <tr style=\"text-align: right;\">\n",
              "      <th></th>\n",
              "      <th>Word</th>\n",
              "      <th>Label</th>\n",
              "    </tr>\n",
              "  </thead>\n",
              "  <tbody>\n",
              "    <tr>\n",
              "      <th>count</th>\n",
              "      <td>21203</td>\n",
              "      <td>20992</td>\n",
              "    </tr>\n",
              "    <tr>\n",
              "      <th>unique</th>\n",
              "      <td>6927</td>\n",
              "      <td>9</td>\n",
              "    </tr>\n",
              "    <tr>\n",
              "      <th>top</th>\n",
              "      <td>.</td>\n",
              "      <td>O</td>\n",
              "    </tr>\n",
              "    <tr>\n",
              "      <th>freq</th>\n",
              "      <td>609</td>\n",
              "      <td>17641</td>\n",
              "    </tr>\n",
              "  </tbody>\n",
              "</table>\n",
              "</div>\n",
              "      <button class=\"colab-df-convert\" onclick=\"convertToInteractive('df-e20110a6-1924-4791-a80e-82860426b8d9')\"\n",
              "              title=\"Convert this dataframe to an interactive table.\"\n",
              "              style=\"display:none;\">\n",
              "        \n",
              "  <svg xmlns=\"http://www.w3.org/2000/svg\" height=\"24px\"viewBox=\"0 0 24 24\"\n",
              "       width=\"24px\">\n",
              "    <path d=\"M0 0h24v24H0V0z\" fill=\"none\"/>\n",
              "    <path d=\"M18.56 5.44l.94 2.06.94-2.06 2.06-.94-2.06-.94-.94-2.06-.94 2.06-2.06.94zm-11 1L8.5 8.5l.94-2.06 2.06-.94-2.06-.94L8.5 2.5l-.94 2.06-2.06.94zm10 10l.94 2.06.94-2.06 2.06-.94-2.06-.94-.94-2.06-.94 2.06-2.06.94z\"/><path d=\"M17.41 7.96l-1.37-1.37c-.4-.4-.92-.59-1.43-.59-.52 0-1.04.2-1.43.59L10.3 9.45l-7.72 7.72c-.78.78-.78 2.05 0 2.83L4 21.41c.39.39.9.59 1.41.59.51 0 1.02-.2 1.41-.59l7.78-7.78 2.81-2.81c.8-.78.8-2.07 0-2.86zM5.41 20L4 18.59l7.72-7.72 1.47 1.35L5.41 20z\"/>\n",
              "  </svg>\n",
              "      </button>\n",
              "      \n",
              "  <style>\n",
              "    .colab-df-container {\n",
              "      display:flex;\n",
              "      flex-wrap:wrap;\n",
              "      gap: 12px;\n",
              "    }\n",
              "\n",
              "    .colab-df-convert {\n",
              "      background-color: #E8F0FE;\n",
              "      border: none;\n",
              "      border-radius: 50%;\n",
              "      cursor: pointer;\n",
              "      display: none;\n",
              "      fill: #1967D2;\n",
              "      height: 32px;\n",
              "      padding: 0 0 0 0;\n",
              "      width: 32px;\n",
              "    }\n",
              "\n",
              "    .colab-df-convert:hover {\n",
              "      background-color: #E2EBFA;\n",
              "      box-shadow: 0px 1px 2px rgba(60, 64, 67, 0.3), 0px 1px 3px 1px rgba(60, 64, 67, 0.15);\n",
              "      fill: #174EA6;\n",
              "    }\n",
              "\n",
              "    [theme=dark] .colab-df-convert {\n",
              "      background-color: #3B4455;\n",
              "      fill: #D2E3FC;\n",
              "    }\n",
              "\n",
              "    [theme=dark] .colab-df-convert:hover {\n",
              "      background-color: #434B5C;\n",
              "      box-shadow: 0px 1px 3px 1px rgba(0, 0, 0, 0.15);\n",
              "      filter: drop-shadow(0px 1px 2px rgba(0, 0, 0, 0.3));\n",
              "      fill: #FFFFFF;\n",
              "    }\n",
              "  </style>\n",
              "\n",
              "      <script>\n",
              "        const buttonEl =\n",
              "          document.querySelector('#df-e20110a6-1924-4791-a80e-82860426b8d9 button.colab-df-convert');\n",
              "        buttonEl.style.display =\n",
              "          google.colab.kernel.accessAllowed ? 'block' : 'none';\n",
              "\n",
              "        async function convertToInteractive(key) {\n",
              "          const element = document.querySelector('#df-e20110a6-1924-4791-a80e-82860426b8d9');\n",
              "          const dataTable =\n",
              "            await google.colab.kernel.invokeFunction('convertToInteractive',\n",
              "                                                     [key], {});\n",
              "          if (!dataTable) return;\n",
              "\n",
              "          const docLinkHtml = 'Like what you see? Visit the ' +\n",
              "            '<a target=\"_blank\" href=https://colab.research.google.com/notebooks/data_table.ipynb>data table notebook</a>'\n",
              "            + ' to learn more about interactive tables.';\n",
              "          element.innerHTML = '';\n",
              "          dataTable['output_type'] = 'display_data';\n",
              "          await google.colab.output.renderOutput(dataTable, element);\n",
              "          const docLink = document.createElement('div');\n",
              "          docLink.innerHTML = docLinkHtml;\n",
              "          element.appendChild(docLink);\n",
              "        }\n",
              "      </script>\n",
              "    </div>\n",
              "  </div>\n",
              "  "
            ]
          },
          "metadata": {},
          "execution_count": 5
        }
      ]
    },
    {
      "cell_type": "code",
      "source": [
        "data.Word.value_counts()"
      ],
      "metadata": {
        "colab": {
          "base_uri": "https://localhost:8080/"
        },
        "id": "Kytcn5tM7pN_",
        "outputId": "6a190a9d-d77f-411b-d33e-b75c6aca6a11"
      },
      "execution_count": 6,
      "outputs": [
        {
          "output_type": "execute_result",
          "data": {
            "text/plain": [
              ".        609\n",
              "في       606\n",
              "من       511\n",
              "،        453\n",
              "و        360\n",
              "        ... \n",
              "حساس       1\n",
              "تشبع       1\n",
              "للحد       1\n",
              "أقسام      1\n",
              "ستجد       1\n",
              "Name: Word, Length: 6927, dtype: int64"
            ]
          },
          "metadata": {},
          "execution_count": 6
        }
      ]
    },
    {
      "cell_type": "markdown",
      "source": [
        "# **Data Cleaning**"
      ],
      "metadata": {
        "id": "pfDmrrERc_9q"
      }
    },
    {
      "cell_type": "markdown",
      "source": [
        "***Remove Non Arabic words***"
      ],
      "metadata": {
        "id": "wxVVUmSDkpk9"
      }
    },
    {
      "cell_type": "code",
      "source": [
        "data = data[data['Arabic'] == 1]\n",
        "data"
      ],
      "metadata": {
        "colab": {
          "base_uri": "https://localhost:8080/",
          "height": 424
        },
        "id": "GTQB4Yp4ieEi",
        "outputId": "6d1c4fcc-01bd-4f03-c8c6-35848bd27a75"
      },
      "execution_count": 7,
      "outputs": [
        {
          "output_type": "execute_result",
          "data": {
            "text/plain": [
              "          Word  Arabic  Label\n",
              "0        الذرة     1.0      O\n",
              "1           هي     1.0      O\n",
              "2         أصغر     1.0      O\n",
              "3          جزء     1.0      O\n",
              "4           من     1.0      O\n",
              "...        ...     ...    ...\n",
              "21197        /     1.0  I-MIS\n",
              "21199       في     1.0      O\n",
              "21200      طور     1.0      O\n",
              "21201  التصميم     1.0      O\n",
              "21202        .     1.0      O\n",
              "\n",
              "[20197 rows x 3 columns]"
            ],
            "text/html": [
              "\n",
              "  <div id=\"df-285fc222-bbc7-4eba-9503-397b6716e9b1\">\n",
              "    <div class=\"colab-df-container\">\n",
              "      <div>\n",
              "<style scoped>\n",
              "    .dataframe tbody tr th:only-of-type {\n",
              "        vertical-align: middle;\n",
              "    }\n",
              "\n",
              "    .dataframe tbody tr th {\n",
              "        vertical-align: top;\n",
              "    }\n",
              "\n",
              "    .dataframe thead th {\n",
              "        text-align: right;\n",
              "    }\n",
              "</style>\n",
              "<table border=\"1\" class=\"dataframe\">\n",
              "  <thead>\n",
              "    <tr style=\"text-align: right;\">\n",
              "      <th></th>\n",
              "      <th>Word</th>\n",
              "      <th>Arabic</th>\n",
              "      <th>Label</th>\n",
              "    </tr>\n",
              "  </thead>\n",
              "  <tbody>\n",
              "    <tr>\n",
              "      <th>0</th>\n",
              "      <td>الذرة</td>\n",
              "      <td>1.0</td>\n",
              "      <td>O</td>\n",
              "    </tr>\n",
              "    <tr>\n",
              "      <th>1</th>\n",
              "      <td>هي</td>\n",
              "      <td>1.0</td>\n",
              "      <td>O</td>\n",
              "    </tr>\n",
              "    <tr>\n",
              "      <th>2</th>\n",
              "      <td>أصغر</td>\n",
              "      <td>1.0</td>\n",
              "      <td>O</td>\n",
              "    </tr>\n",
              "    <tr>\n",
              "      <th>3</th>\n",
              "      <td>جزء</td>\n",
              "      <td>1.0</td>\n",
              "      <td>O</td>\n",
              "    </tr>\n",
              "    <tr>\n",
              "      <th>4</th>\n",
              "      <td>من</td>\n",
              "      <td>1.0</td>\n",
              "      <td>O</td>\n",
              "    </tr>\n",
              "    <tr>\n",
              "      <th>...</th>\n",
              "      <td>...</td>\n",
              "      <td>...</td>\n",
              "      <td>...</td>\n",
              "    </tr>\n",
              "    <tr>\n",
              "      <th>21197</th>\n",
              "      <td>/</td>\n",
              "      <td>1.0</td>\n",
              "      <td>I-MIS</td>\n",
              "    </tr>\n",
              "    <tr>\n",
              "      <th>21199</th>\n",
              "      <td>في</td>\n",
              "      <td>1.0</td>\n",
              "      <td>O</td>\n",
              "    </tr>\n",
              "    <tr>\n",
              "      <th>21200</th>\n",
              "      <td>طور</td>\n",
              "      <td>1.0</td>\n",
              "      <td>O</td>\n",
              "    </tr>\n",
              "    <tr>\n",
              "      <th>21201</th>\n",
              "      <td>التصميم</td>\n",
              "      <td>1.0</td>\n",
              "      <td>O</td>\n",
              "    </tr>\n",
              "    <tr>\n",
              "      <th>21202</th>\n",
              "      <td>.</td>\n",
              "      <td>1.0</td>\n",
              "      <td>O</td>\n",
              "    </tr>\n",
              "  </tbody>\n",
              "</table>\n",
              "<p>20197 rows × 3 columns</p>\n",
              "</div>\n",
              "      <button class=\"colab-df-convert\" onclick=\"convertToInteractive('df-285fc222-bbc7-4eba-9503-397b6716e9b1')\"\n",
              "              title=\"Convert this dataframe to an interactive table.\"\n",
              "              style=\"display:none;\">\n",
              "        \n",
              "  <svg xmlns=\"http://www.w3.org/2000/svg\" height=\"24px\"viewBox=\"0 0 24 24\"\n",
              "       width=\"24px\">\n",
              "    <path d=\"M0 0h24v24H0V0z\" fill=\"none\"/>\n",
              "    <path d=\"M18.56 5.44l.94 2.06.94-2.06 2.06-.94-2.06-.94-.94-2.06-.94 2.06-2.06.94zm-11 1L8.5 8.5l.94-2.06 2.06-.94-2.06-.94L8.5 2.5l-.94 2.06-2.06.94zm10 10l.94 2.06.94-2.06 2.06-.94-2.06-.94-.94-2.06-.94 2.06-2.06.94z\"/><path d=\"M17.41 7.96l-1.37-1.37c-.4-.4-.92-.59-1.43-.59-.52 0-1.04.2-1.43.59L10.3 9.45l-7.72 7.72c-.78.78-.78 2.05 0 2.83L4 21.41c.39.39.9.59 1.41.59.51 0 1.02-.2 1.41-.59l7.78-7.78 2.81-2.81c.8-.78.8-2.07 0-2.86zM5.41 20L4 18.59l7.72-7.72 1.47 1.35L5.41 20z\"/>\n",
              "  </svg>\n",
              "      </button>\n",
              "      \n",
              "  <style>\n",
              "    .colab-df-container {\n",
              "      display:flex;\n",
              "      flex-wrap:wrap;\n",
              "      gap: 12px;\n",
              "    }\n",
              "\n",
              "    .colab-df-convert {\n",
              "      background-color: #E8F0FE;\n",
              "      border: none;\n",
              "      border-radius: 50%;\n",
              "      cursor: pointer;\n",
              "      display: none;\n",
              "      fill: #1967D2;\n",
              "      height: 32px;\n",
              "      padding: 0 0 0 0;\n",
              "      width: 32px;\n",
              "    }\n",
              "\n",
              "    .colab-df-convert:hover {\n",
              "      background-color: #E2EBFA;\n",
              "      box-shadow: 0px 1px 2px rgba(60, 64, 67, 0.3), 0px 1px 3px 1px rgba(60, 64, 67, 0.15);\n",
              "      fill: #174EA6;\n",
              "    }\n",
              "\n",
              "    [theme=dark] .colab-df-convert {\n",
              "      background-color: #3B4455;\n",
              "      fill: #D2E3FC;\n",
              "    }\n",
              "\n",
              "    [theme=dark] .colab-df-convert:hover {\n",
              "      background-color: #434B5C;\n",
              "      box-shadow: 0px 1px 3px 1px rgba(0, 0, 0, 0.15);\n",
              "      filter: drop-shadow(0px 1px 2px rgba(0, 0, 0, 0.3));\n",
              "      fill: #FFFFFF;\n",
              "    }\n",
              "  </style>\n",
              "\n",
              "      <script>\n",
              "        const buttonEl =\n",
              "          document.querySelector('#df-285fc222-bbc7-4eba-9503-397b6716e9b1 button.colab-df-convert');\n",
              "        buttonEl.style.display =\n",
              "          google.colab.kernel.accessAllowed ? 'block' : 'none';\n",
              "\n",
              "        async function convertToInteractive(key) {\n",
              "          const element = document.querySelector('#df-285fc222-bbc7-4eba-9503-397b6716e9b1');\n",
              "          const dataTable =\n",
              "            await google.colab.kernel.invokeFunction('convertToInteractive',\n",
              "                                                     [key], {});\n",
              "          if (!dataTable) return;\n",
              "\n",
              "          const docLinkHtml = 'Like what you see? Visit the ' +\n",
              "            '<a target=\"_blank\" href=https://colab.research.google.com/notebooks/data_table.ipynb>data table notebook</a>'\n",
              "            + ' to learn more about interactive tables.';\n",
              "          element.innerHTML = '';\n",
              "          dataTable['output_type'] = 'display_data';\n",
              "          await google.colab.output.renderOutput(dataTable, element);\n",
              "          const docLink = document.createElement('div');\n",
              "          docLink.innerHTML = docLinkHtml;\n",
              "          element.appendChild(docLink);\n",
              "        }\n",
              "      </script>\n",
              "    </div>\n",
              "  </div>\n",
              "  "
            ]
          },
          "metadata": {},
          "execution_count": 7
        }
      ]
    },
    {
      "cell_type": "markdown",
      "source": [
        "***We used 'Arabic' column to identify Non Arabic words and delelete them.So, now we don't need it.***"
      ],
      "metadata": {
        "id": "6Pa5AKSqIvjo"
      }
    },
    {
      "cell_type": "markdown",
      "source": [
        "***Drop Arabic Column***"
      ],
      "metadata": {
        "id": "ctxHSg6cm1t-"
      }
    },
    {
      "cell_type": "code",
      "source": [
        "data = data.drop(['Arabic'], axis=1)\n",
        "data"
      ],
      "metadata": {
        "colab": {
          "base_uri": "https://localhost:8080/",
          "height": 424
        },
        "id": "Tha_AVEtm1JL",
        "outputId": "e6b956a7-d0d1-478b-a2c6-d83bd61ff4eb"
      },
      "execution_count": 8,
      "outputs": [
        {
          "output_type": "execute_result",
          "data": {
            "text/plain": [
              "          Word  Label\n",
              "0        الذرة      O\n",
              "1           هي      O\n",
              "2         أصغر      O\n",
              "3          جزء      O\n",
              "4           من      O\n",
              "...        ...    ...\n",
              "21197        /  I-MIS\n",
              "21199       في      O\n",
              "21200      طور      O\n",
              "21201  التصميم      O\n",
              "21202        .      O\n",
              "\n",
              "[20197 rows x 2 columns]"
            ],
            "text/html": [
              "\n",
              "  <div id=\"df-4dd1e395-01b4-4059-a4a7-315b7f376a59\">\n",
              "    <div class=\"colab-df-container\">\n",
              "      <div>\n",
              "<style scoped>\n",
              "    .dataframe tbody tr th:only-of-type {\n",
              "        vertical-align: middle;\n",
              "    }\n",
              "\n",
              "    .dataframe tbody tr th {\n",
              "        vertical-align: top;\n",
              "    }\n",
              "\n",
              "    .dataframe thead th {\n",
              "        text-align: right;\n",
              "    }\n",
              "</style>\n",
              "<table border=\"1\" class=\"dataframe\">\n",
              "  <thead>\n",
              "    <tr style=\"text-align: right;\">\n",
              "      <th></th>\n",
              "      <th>Word</th>\n",
              "      <th>Label</th>\n",
              "    </tr>\n",
              "  </thead>\n",
              "  <tbody>\n",
              "    <tr>\n",
              "      <th>0</th>\n",
              "      <td>الذرة</td>\n",
              "      <td>O</td>\n",
              "    </tr>\n",
              "    <tr>\n",
              "      <th>1</th>\n",
              "      <td>هي</td>\n",
              "      <td>O</td>\n",
              "    </tr>\n",
              "    <tr>\n",
              "      <th>2</th>\n",
              "      <td>أصغر</td>\n",
              "      <td>O</td>\n",
              "    </tr>\n",
              "    <tr>\n",
              "      <th>3</th>\n",
              "      <td>جزء</td>\n",
              "      <td>O</td>\n",
              "    </tr>\n",
              "    <tr>\n",
              "      <th>4</th>\n",
              "      <td>من</td>\n",
              "      <td>O</td>\n",
              "    </tr>\n",
              "    <tr>\n",
              "      <th>...</th>\n",
              "      <td>...</td>\n",
              "      <td>...</td>\n",
              "    </tr>\n",
              "    <tr>\n",
              "      <th>21197</th>\n",
              "      <td>/</td>\n",
              "      <td>I-MIS</td>\n",
              "    </tr>\n",
              "    <tr>\n",
              "      <th>21199</th>\n",
              "      <td>في</td>\n",
              "      <td>O</td>\n",
              "    </tr>\n",
              "    <tr>\n",
              "      <th>21200</th>\n",
              "      <td>طور</td>\n",
              "      <td>O</td>\n",
              "    </tr>\n",
              "    <tr>\n",
              "      <th>21201</th>\n",
              "      <td>التصميم</td>\n",
              "      <td>O</td>\n",
              "    </tr>\n",
              "    <tr>\n",
              "      <th>21202</th>\n",
              "      <td>.</td>\n",
              "      <td>O</td>\n",
              "    </tr>\n",
              "  </tbody>\n",
              "</table>\n",
              "<p>20197 rows × 2 columns</p>\n",
              "</div>\n",
              "      <button class=\"colab-df-convert\" onclick=\"convertToInteractive('df-4dd1e395-01b4-4059-a4a7-315b7f376a59')\"\n",
              "              title=\"Convert this dataframe to an interactive table.\"\n",
              "              style=\"display:none;\">\n",
              "        \n",
              "  <svg xmlns=\"http://www.w3.org/2000/svg\" height=\"24px\"viewBox=\"0 0 24 24\"\n",
              "       width=\"24px\">\n",
              "    <path d=\"M0 0h24v24H0V0z\" fill=\"none\"/>\n",
              "    <path d=\"M18.56 5.44l.94 2.06.94-2.06 2.06-.94-2.06-.94-.94-2.06-.94 2.06-2.06.94zm-11 1L8.5 8.5l.94-2.06 2.06-.94-2.06-.94L8.5 2.5l-.94 2.06-2.06.94zm10 10l.94 2.06.94-2.06 2.06-.94-2.06-.94-.94-2.06-.94 2.06-2.06.94z\"/><path d=\"M17.41 7.96l-1.37-1.37c-.4-.4-.92-.59-1.43-.59-.52 0-1.04.2-1.43.59L10.3 9.45l-7.72 7.72c-.78.78-.78 2.05 0 2.83L4 21.41c.39.39.9.59 1.41.59.51 0 1.02-.2 1.41-.59l7.78-7.78 2.81-2.81c.8-.78.8-2.07 0-2.86zM5.41 20L4 18.59l7.72-7.72 1.47 1.35L5.41 20z\"/>\n",
              "  </svg>\n",
              "      </button>\n",
              "      \n",
              "  <style>\n",
              "    .colab-df-container {\n",
              "      display:flex;\n",
              "      flex-wrap:wrap;\n",
              "      gap: 12px;\n",
              "    }\n",
              "\n",
              "    .colab-df-convert {\n",
              "      background-color: #E8F0FE;\n",
              "      border: none;\n",
              "      border-radius: 50%;\n",
              "      cursor: pointer;\n",
              "      display: none;\n",
              "      fill: #1967D2;\n",
              "      height: 32px;\n",
              "      padding: 0 0 0 0;\n",
              "      width: 32px;\n",
              "    }\n",
              "\n",
              "    .colab-df-convert:hover {\n",
              "      background-color: #E2EBFA;\n",
              "      box-shadow: 0px 1px 2px rgba(60, 64, 67, 0.3), 0px 1px 3px 1px rgba(60, 64, 67, 0.15);\n",
              "      fill: #174EA6;\n",
              "    }\n",
              "\n",
              "    [theme=dark] .colab-df-convert {\n",
              "      background-color: #3B4455;\n",
              "      fill: #D2E3FC;\n",
              "    }\n",
              "\n",
              "    [theme=dark] .colab-df-convert:hover {\n",
              "      background-color: #434B5C;\n",
              "      box-shadow: 0px 1px 3px 1px rgba(0, 0, 0, 0.15);\n",
              "      filter: drop-shadow(0px 1px 2px rgba(0, 0, 0, 0.3));\n",
              "      fill: #FFFFFF;\n",
              "    }\n",
              "  </style>\n",
              "\n",
              "      <script>\n",
              "        const buttonEl =\n",
              "          document.querySelector('#df-4dd1e395-01b4-4059-a4a7-315b7f376a59 button.colab-df-convert');\n",
              "        buttonEl.style.display =\n",
              "          google.colab.kernel.accessAllowed ? 'block' : 'none';\n",
              "\n",
              "        async function convertToInteractive(key) {\n",
              "          const element = document.querySelector('#df-4dd1e395-01b4-4059-a4a7-315b7f376a59');\n",
              "          const dataTable =\n",
              "            await google.colab.kernel.invokeFunction('convertToInteractive',\n",
              "                                                     [key], {});\n",
              "          if (!dataTable) return;\n",
              "\n",
              "          const docLinkHtml = 'Like what you see? Visit the ' +\n",
              "            '<a target=\"_blank\" href=https://colab.research.google.com/notebooks/data_table.ipynb>data table notebook</a>'\n",
              "            + ' to learn more about interactive tables.';\n",
              "          element.innerHTML = '';\n",
              "          dataTable['output_type'] = 'display_data';\n",
              "          await google.colab.output.renderOutput(dataTable, element);\n",
              "          const docLink = document.createElement('div');\n",
              "          docLink.innerHTML = docLinkHtml;\n",
              "          element.appendChild(docLink);\n",
              "        }\n",
              "      </script>\n",
              "    </div>\n",
              "  </div>\n",
              "  "
            ]
          },
          "metadata": {},
          "execution_count": 8
        }
      ]
    },
    {
      "cell_type": "markdown",
      "source": [
        "# **Data Preprocessing**"
      ],
      "metadata": {
        "id": "RFz_wdEGJNBb"
      }
    },
    {
      "cell_type": "markdown",
      "source": [
        "***Preprocess Arabic Words***"
      ],
      "metadata": {
        "id": "SY0TDOVGwgB_"
      }
    },
    {
      "cell_type": "code",
      "source": [
        "data['Word'] = data['Word'].apply(ar_preprocessing)\n",
        "data"
      ],
      "metadata": {
        "id": "5HiWEnHcdwz1",
        "colab": {
          "base_uri": "https://localhost:8080/",
          "height": 424
        },
        "outputId": "08e19c8c-4f03-4b5b-faeb-f621e2782caf"
      },
      "execution_count": 9,
      "outputs": [
        {
          "output_type": "execute_result",
          "data": {
            "text/plain": [
              "          Word  Label\n",
              "0        الذره      O\n",
              "1           هي      O\n",
              "2         اصغر      O\n",
              "3          جزء      O\n",
              "4           من      O\n",
              "...        ...    ...\n",
              "21197           I-MIS\n",
              "21199       في      O\n",
              "21200      طور      O\n",
              "21201  التصميم      O\n",
              "21202               O\n",
              "\n",
              "[20197 rows x 2 columns]"
            ],
            "text/html": [
              "\n",
              "  <div id=\"df-698a9b4f-b16c-4e16-b095-123947d7687c\">\n",
              "    <div class=\"colab-df-container\">\n",
              "      <div>\n",
              "<style scoped>\n",
              "    .dataframe tbody tr th:only-of-type {\n",
              "        vertical-align: middle;\n",
              "    }\n",
              "\n",
              "    .dataframe tbody tr th {\n",
              "        vertical-align: top;\n",
              "    }\n",
              "\n",
              "    .dataframe thead th {\n",
              "        text-align: right;\n",
              "    }\n",
              "</style>\n",
              "<table border=\"1\" class=\"dataframe\">\n",
              "  <thead>\n",
              "    <tr style=\"text-align: right;\">\n",
              "      <th></th>\n",
              "      <th>Word</th>\n",
              "      <th>Label</th>\n",
              "    </tr>\n",
              "  </thead>\n",
              "  <tbody>\n",
              "    <tr>\n",
              "      <th>0</th>\n",
              "      <td>الذره</td>\n",
              "      <td>O</td>\n",
              "    </tr>\n",
              "    <tr>\n",
              "      <th>1</th>\n",
              "      <td>هي</td>\n",
              "      <td>O</td>\n",
              "    </tr>\n",
              "    <tr>\n",
              "      <th>2</th>\n",
              "      <td>اصغر</td>\n",
              "      <td>O</td>\n",
              "    </tr>\n",
              "    <tr>\n",
              "      <th>3</th>\n",
              "      <td>جزء</td>\n",
              "      <td>O</td>\n",
              "    </tr>\n",
              "    <tr>\n",
              "      <th>4</th>\n",
              "      <td>من</td>\n",
              "      <td>O</td>\n",
              "    </tr>\n",
              "    <tr>\n",
              "      <th>...</th>\n",
              "      <td>...</td>\n",
              "      <td>...</td>\n",
              "    </tr>\n",
              "    <tr>\n",
              "      <th>21197</th>\n",
              "      <td></td>\n",
              "      <td>I-MIS</td>\n",
              "    </tr>\n",
              "    <tr>\n",
              "      <th>21199</th>\n",
              "      <td>في</td>\n",
              "      <td>O</td>\n",
              "    </tr>\n",
              "    <tr>\n",
              "      <th>21200</th>\n",
              "      <td>طور</td>\n",
              "      <td>O</td>\n",
              "    </tr>\n",
              "    <tr>\n",
              "      <th>21201</th>\n",
              "      <td>التصميم</td>\n",
              "      <td>O</td>\n",
              "    </tr>\n",
              "    <tr>\n",
              "      <th>21202</th>\n",
              "      <td></td>\n",
              "      <td>O</td>\n",
              "    </tr>\n",
              "  </tbody>\n",
              "</table>\n",
              "<p>20197 rows × 2 columns</p>\n",
              "</div>\n",
              "      <button class=\"colab-df-convert\" onclick=\"convertToInteractive('df-698a9b4f-b16c-4e16-b095-123947d7687c')\"\n",
              "              title=\"Convert this dataframe to an interactive table.\"\n",
              "              style=\"display:none;\">\n",
              "        \n",
              "  <svg xmlns=\"http://www.w3.org/2000/svg\" height=\"24px\"viewBox=\"0 0 24 24\"\n",
              "       width=\"24px\">\n",
              "    <path d=\"M0 0h24v24H0V0z\" fill=\"none\"/>\n",
              "    <path d=\"M18.56 5.44l.94 2.06.94-2.06 2.06-.94-2.06-.94-.94-2.06-.94 2.06-2.06.94zm-11 1L8.5 8.5l.94-2.06 2.06-.94-2.06-.94L8.5 2.5l-.94 2.06-2.06.94zm10 10l.94 2.06.94-2.06 2.06-.94-2.06-.94-.94-2.06-.94 2.06-2.06.94z\"/><path d=\"M17.41 7.96l-1.37-1.37c-.4-.4-.92-.59-1.43-.59-.52 0-1.04.2-1.43.59L10.3 9.45l-7.72 7.72c-.78.78-.78 2.05 0 2.83L4 21.41c.39.39.9.59 1.41.59.51 0 1.02-.2 1.41-.59l7.78-7.78 2.81-2.81c.8-.78.8-2.07 0-2.86zM5.41 20L4 18.59l7.72-7.72 1.47 1.35L5.41 20z\"/>\n",
              "  </svg>\n",
              "      </button>\n",
              "      \n",
              "  <style>\n",
              "    .colab-df-container {\n",
              "      display:flex;\n",
              "      flex-wrap:wrap;\n",
              "      gap: 12px;\n",
              "    }\n",
              "\n",
              "    .colab-df-convert {\n",
              "      background-color: #E8F0FE;\n",
              "      border: none;\n",
              "      border-radius: 50%;\n",
              "      cursor: pointer;\n",
              "      display: none;\n",
              "      fill: #1967D2;\n",
              "      height: 32px;\n",
              "      padding: 0 0 0 0;\n",
              "      width: 32px;\n",
              "    }\n",
              "\n",
              "    .colab-df-convert:hover {\n",
              "      background-color: #E2EBFA;\n",
              "      box-shadow: 0px 1px 2px rgba(60, 64, 67, 0.3), 0px 1px 3px 1px rgba(60, 64, 67, 0.15);\n",
              "      fill: #174EA6;\n",
              "    }\n",
              "\n",
              "    [theme=dark] .colab-df-convert {\n",
              "      background-color: #3B4455;\n",
              "      fill: #D2E3FC;\n",
              "    }\n",
              "\n",
              "    [theme=dark] .colab-df-convert:hover {\n",
              "      background-color: #434B5C;\n",
              "      box-shadow: 0px 1px 3px 1px rgba(0, 0, 0, 0.15);\n",
              "      filter: drop-shadow(0px 1px 2px rgba(0, 0, 0, 0.3));\n",
              "      fill: #FFFFFF;\n",
              "    }\n",
              "  </style>\n",
              "\n",
              "      <script>\n",
              "        const buttonEl =\n",
              "          document.querySelector('#df-698a9b4f-b16c-4e16-b095-123947d7687c button.colab-df-convert');\n",
              "        buttonEl.style.display =\n",
              "          google.colab.kernel.accessAllowed ? 'block' : 'none';\n",
              "\n",
              "        async function convertToInteractive(key) {\n",
              "          const element = document.querySelector('#df-698a9b4f-b16c-4e16-b095-123947d7687c');\n",
              "          const dataTable =\n",
              "            await google.colab.kernel.invokeFunction('convertToInteractive',\n",
              "                                                     [key], {});\n",
              "          if (!dataTable) return;\n",
              "\n",
              "          const docLinkHtml = 'Like what you see? Visit the ' +\n",
              "            '<a target=\"_blank\" href=https://colab.research.google.com/notebooks/data_table.ipynb>data table notebook</a>'\n",
              "            + ' to learn more about interactive tables.';\n",
              "          element.innerHTML = '';\n",
              "          dataTable['output_type'] = 'display_data';\n",
              "          await google.colab.output.renderOutput(dataTable, element);\n",
              "          const docLink = document.createElement('div');\n",
              "          docLink.innerHTML = docLinkHtml;\n",
              "          element.appendChild(docLink);\n",
              "        }\n",
              "      </script>\n",
              "    </div>\n",
              "  </div>\n",
              "  "
            ]
          },
          "metadata": {},
          "execution_count": 9
        }
      ]
    },
    {
      "cell_type": "markdown",
      "source": [
        "***ar_preprocessing() Function causes some empty values (\" \"),Pandas will not recognise them because they are not \"null\". To fix this, We'll convert the empty stings to np.nan objects using replace(), and then call dropna() to delete rows with \"null\" values.***"
      ],
      "metadata": {
        "id": "2ta3iz-4HZcu"
      }
    },
    {
      "cell_type": "code",
      "source": [
        "nan_value = float(\"NaN\")\n",
        "data = data.replace(\"\", nan_value)\n",
        "data = data.dropna()"
      ],
      "metadata": {
        "id": "oa3a9y-hdde1"
      },
      "execution_count": 10,
      "outputs": []
    },
    {
      "cell_type": "code",
      "source": [
        "data"
      ],
      "metadata": {
        "colab": {
          "base_uri": "https://localhost:8080/",
          "height": 424
        },
        "id": "rV5KjiSpY-_4",
        "outputId": "7c10996c-ae2d-41a5-acba-6f304e45468c"
      },
      "execution_count": 11,
      "outputs": [
        {
          "output_type": "execute_result",
          "data": {
            "text/plain": [
              "          Word  Label\n",
              "0        الذره      O\n",
              "1           هي      O\n",
              "2         اصغر      O\n",
              "3          جزء      O\n",
              "4           من      O\n",
              "...        ...    ...\n",
              "21193    تشغيل  I-MIS\n",
              "21194     باسم      O\n",
              "21199       في      O\n",
              "21200      طور      O\n",
              "21201  التصميم      O\n",
              "\n",
              "[18961 rows x 2 columns]"
            ],
            "text/html": [
              "\n",
              "  <div id=\"df-3adef4bb-94eb-4a39-8949-77a7c88fdc7a\">\n",
              "    <div class=\"colab-df-container\">\n",
              "      <div>\n",
              "<style scoped>\n",
              "    .dataframe tbody tr th:only-of-type {\n",
              "        vertical-align: middle;\n",
              "    }\n",
              "\n",
              "    .dataframe tbody tr th {\n",
              "        vertical-align: top;\n",
              "    }\n",
              "\n",
              "    .dataframe thead th {\n",
              "        text-align: right;\n",
              "    }\n",
              "</style>\n",
              "<table border=\"1\" class=\"dataframe\">\n",
              "  <thead>\n",
              "    <tr style=\"text-align: right;\">\n",
              "      <th></th>\n",
              "      <th>Word</th>\n",
              "      <th>Label</th>\n",
              "    </tr>\n",
              "  </thead>\n",
              "  <tbody>\n",
              "    <tr>\n",
              "      <th>0</th>\n",
              "      <td>الذره</td>\n",
              "      <td>O</td>\n",
              "    </tr>\n",
              "    <tr>\n",
              "      <th>1</th>\n",
              "      <td>هي</td>\n",
              "      <td>O</td>\n",
              "    </tr>\n",
              "    <tr>\n",
              "      <th>2</th>\n",
              "      <td>اصغر</td>\n",
              "      <td>O</td>\n",
              "    </tr>\n",
              "    <tr>\n",
              "      <th>3</th>\n",
              "      <td>جزء</td>\n",
              "      <td>O</td>\n",
              "    </tr>\n",
              "    <tr>\n",
              "      <th>4</th>\n",
              "      <td>من</td>\n",
              "      <td>O</td>\n",
              "    </tr>\n",
              "    <tr>\n",
              "      <th>...</th>\n",
              "      <td>...</td>\n",
              "      <td>...</td>\n",
              "    </tr>\n",
              "    <tr>\n",
              "      <th>21193</th>\n",
              "      <td>تشغيل</td>\n",
              "      <td>I-MIS</td>\n",
              "    </tr>\n",
              "    <tr>\n",
              "      <th>21194</th>\n",
              "      <td>باسم</td>\n",
              "      <td>O</td>\n",
              "    </tr>\n",
              "    <tr>\n",
              "      <th>21199</th>\n",
              "      <td>في</td>\n",
              "      <td>O</td>\n",
              "    </tr>\n",
              "    <tr>\n",
              "      <th>21200</th>\n",
              "      <td>طور</td>\n",
              "      <td>O</td>\n",
              "    </tr>\n",
              "    <tr>\n",
              "      <th>21201</th>\n",
              "      <td>التصميم</td>\n",
              "      <td>O</td>\n",
              "    </tr>\n",
              "  </tbody>\n",
              "</table>\n",
              "<p>18961 rows × 2 columns</p>\n",
              "</div>\n",
              "      <button class=\"colab-df-convert\" onclick=\"convertToInteractive('df-3adef4bb-94eb-4a39-8949-77a7c88fdc7a')\"\n",
              "              title=\"Convert this dataframe to an interactive table.\"\n",
              "              style=\"display:none;\">\n",
              "        \n",
              "  <svg xmlns=\"http://www.w3.org/2000/svg\" height=\"24px\"viewBox=\"0 0 24 24\"\n",
              "       width=\"24px\">\n",
              "    <path d=\"M0 0h24v24H0V0z\" fill=\"none\"/>\n",
              "    <path d=\"M18.56 5.44l.94 2.06.94-2.06 2.06-.94-2.06-.94-.94-2.06-.94 2.06-2.06.94zm-11 1L8.5 8.5l.94-2.06 2.06-.94-2.06-.94L8.5 2.5l-.94 2.06-2.06.94zm10 10l.94 2.06.94-2.06 2.06-.94-2.06-.94-.94-2.06-.94 2.06-2.06.94z\"/><path d=\"M17.41 7.96l-1.37-1.37c-.4-.4-.92-.59-1.43-.59-.52 0-1.04.2-1.43.59L10.3 9.45l-7.72 7.72c-.78.78-.78 2.05 0 2.83L4 21.41c.39.39.9.59 1.41.59.51 0 1.02-.2 1.41-.59l7.78-7.78 2.81-2.81c.8-.78.8-2.07 0-2.86zM5.41 20L4 18.59l7.72-7.72 1.47 1.35L5.41 20z\"/>\n",
              "  </svg>\n",
              "      </button>\n",
              "      \n",
              "  <style>\n",
              "    .colab-df-container {\n",
              "      display:flex;\n",
              "      flex-wrap:wrap;\n",
              "      gap: 12px;\n",
              "    }\n",
              "\n",
              "    .colab-df-convert {\n",
              "      background-color: #E8F0FE;\n",
              "      border: none;\n",
              "      border-radius: 50%;\n",
              "      cursor: pointer;\n",
              "      display: none;\n",
              "      fill: #1967D2;\n",
              "      height: 32px;\n",
              "      padding: 0 0 0 0;\n",
              "      width: 32px;\n",
              "    }\n",
              "\n",
              "    .colab-df-convert:hover {\n",
              "      background-color: #E2EBFA;\n",
              "      box-shadow: 0px 1px 2px rgba(60, 64, 67, 0.3), 0px 1px 3px 1px rgba(60, 64, 67, 0.15);\n",
              "      fill: #174EA6;\n",
              "    }\n",
              "\n",
              "    [theme=dark] .colab-df-convert {\n",
              "      background-color: #3B4455;\n",
              "      fill: #D2E3FC;\n",
              "    }\n",
              "\n",
              "    [theme=dark] .colab-df-convert:hover {\n",
              "      background-color: #434B5C;\n",
              "      box-shadow: 0px 1px 3px 1px rgba(0, 0, 0, 0.15);\n",
              "      filter: drop-shadow(0px 1px 2px rgba(0, 0, 0, 0.3));\n",
              "      fill: #FFFFFF;\n",
              "    }\n",
              "  </style>\n",
              "\n",
              "      <script>\n",
              "        const buttonEl =\n",
              "          document.querySelector('#df-3adef4bb-94eb-4a39-8949-77a7c88fdc7a button.colab-df-convert');\n",
              "        buttonEl.style.display =\n",
              "          google.colab.kernel.accessAllowed ? 'block' : 'none';\n",
              "\n",
              "        async function convertToInteractive(key) {\n",
              "          const element = document.querySelector('#df-3adef4bb-94eb-4a39-8949-77a7c88fdc7a');\n",
              "          const dataTable =\n",
              "            await google.colab.kernel.invokeFunction('convertToInteractive',\n",
              "                                                     [key], {});\n",
              "          if (!dataTable) return;\n",
              "\n",
              "          const docLinkHtml = 'Like what you see? Visit the ' +\n",
              "            '<a target=\"_blank\" href=https://colab.research.google.com/notebooks/data_table.ipynb>data table notebook</a>'\n",
              "            + ' to learn more about interactive tables.';\n",
              "          element.innerHTML = '';\n",
              "          dataTable['output_type'] = 'display_data';\n",
              "          await google.colab.output.renderOutput(dataTable, element);\n",
              "          const docLink = document.createElement('div');\n",
              "          docLink.innerHTML = docLinkHtml;\n",
              "          element.appendChild(docLink);\n",
              "        }\n",
              "      </script>\n",
              "    </div>\n",
              "  </div>\n",
              "  "
            ]
          },
          "metadata": {},
          "execution_count": 11
        }
      ]
    },
    {
      "cell_type": "code",
      "source": [
        "data.reset_index(drop=True, inplace=True)\n",
        "data"
      ],
      "metadata": {
        "colab": {
          "base_uri": "https://localhost:8080/",
          "height": 424
        },
        "id": "OtNVj3VsgDYy",
        "outputId": "348e8e54-b57a-4995-88f7-035d104a1f12"
      },
      "execution_count": 12,
      "outputs": [
        {
          "output_type": "execute_result",
          "data": {
            "text/plain": [
              "          Word  Label\n",
              "0        الذره      O\n",
              "1           هي      O\n",
              "2         اصغر      O\n",
              "3          جزء      O\n",
              "4           من      O\n",
              "...        ...    ...\n",
              "18956    تشغيل  I-MIS\n",
              "18957     باسم      O\n",
              "18958       في      O\n",
              "18959      طور      O\n",
              "18960  التصميم      O\n",
              "\n",
              "[18961 rows x 2 columns]"
            ],
            "text/html": [
              "\n",
              "  <div id=\"df-64b4e764-192f-46ca-9bdc-199ac78c99c8\">\n",
              "    <div class=\"colab-df-container\">\n",
              "      <div>\n",
              "<style scoped>\n",
              "    .dataframe tbody tr th:only-of-type {\n",
              "        vertical-align: middle;\n",
              "    }\n",
              "\n",
              "    .dataframe tbody tr th {\n",
              "        vertical-align: top;\n",
              "    }\n",
              "\n",
              "    .dataframe thead th {\n",
              "        text-align: right;\n",
              "    }\n",
              "</style>\n",
              "<table border=\"1\" class=\"dataframe\">\n",
              "  <thead>\n",
              "    <tr style=\"text-align: right;\">\n",
              "      <th></th>\n",
              "      <th>Word</th>\n",
              "      <th>Label</th>\n",
              "    </tr>\n",
              "  </thead>\n",
              "  <tbody>\n",
              "    <tr>\n",
              "      <th>0</th>\n",
              "      <td>الذره</td>\n",
              "      <td>O</td>\n",
              "    </tr>\n",
              "    <tr>\n",
              "      <th>1</th>\n",
              "      <td>هي</td>\n",
              "      <td>O</td>\n",
              "    </tr>\n",
              "    <tr>\n",
              "      <th>2</th>\n",
              "      <td>اصغر</td>\n",
              "      <td>O</td>\n",
              "    </tr>\n",
              "    <tr>\n",
              "      <th>3</th>\n",
              "      <td>جزء</td>\n",
              "      <td>O</td>\n",
              "    </tr>\n",
              "    <tr>\n",
              "      <th>4</th>\n",
              "      <td>من</td>\n",
              "      <td>O</td>\n",
              "    </tr>\n",
              "    <tr>\n",
              "      <th>...</th>\n",
              "      <td>...</td>\n",
              "      <td>...</td>\n",
              "    </tr>\n",
              "    <tr>\n",
              "      <th>18956</th>\n",
              "      <td>تشغيل</td>\n",
              "      <td>I-MIS</td>\n",
              "    </tr>\n",
              "    <tr>\n",
              "      <th>18957</th>\n",
              "      <td>باسم</td>\n",
              "      <td>O</td>\n",
              "    </tr>\n",
              "    <tr>\n",
              "      <th>18958</th>\n",
              "      <td>في</td>\n",
              "      <td>O</td>\n",
              "    </tr>\n",
              "    <tr>\n",
              "      <th>18959</th>\n",
              "      <td>طور</td>\n",
              "      <td>O</td>\n",
              "    </tr>\n",
              "    <tr>\n",
              "      <th>18960</th>\n",
              "      <td>التصميم</td>\n",
              "      <td>O</td>\n",
              "    </tr>\n",
              "  </tbody>\n",
              "</table>\n",
              "<p>18961 rows × 2 columns</p>\n",
              "</div>\n",
              "      <button class=\"colab-df-convert\" onclick=\"convertToInteractive('df-64b4e764-192f-46ca-9bdc-199ac78c99c8')\"\n",
              "              title=\"Convert this dataframe to an interactive table.\"\n",
              "              style=\"display:none;\">\n",
              "        \n",
              "  <svg xmlns=\"http://www.w3.org/2000/svg\" height=\"24px\"viewBox=\"0 0 24 24\"\n",
              "       width=\"24px\">\n",
              "    <path d=\"M0 0h24v24H0V0z\" fill=\"none\"/>\n",
              "    <path d=\"M18.56 5.44l.94 2.06.94-2.06 2.06-.94-2.06-.94-.94-2.06-.94 2.06-2.06.94zm-11 1L8.5 8.5l.94-2.06 2.06-.94-2.06-.94L8.5 2.5l-.94 2.06-2.06.94zm10 10l.94 2.06.94-2.06 2.06-.94-2.06-.94-.94-2.06-.94 2.06-2.06.94z\"/><path d=\"M17.41 7.96l-1.37-1.37c-.4-.4-.92-.59-1.43-.59-.52 0-1.04.2-1.43.59L10.3 9.45l-7.72 7.72c-.78.78-.78 2.05 0 2.83L4 21.41c.39.39.9.59 1.41.59.51 0 1.02-.2 1.41-.59l7.78-7.78 2.81-2.81c.8-.78.8-2.07 0-2.86zM5.41 20L4 18.59l7.72-7.72 1.47 1.35L5.41 20z\"/>\n",
              "  </svg>\n",
              "      </button>\n",
              "      \n",
              "  <style>\n",
              "    .colab-df-container {\n",
              "      display:flex;\n",
              "      flex-wrap:wrap;\n",
              "      gap: 12px;\n",
              "    }\n",
              "\n",
              "    .colab-df-convert {\n",
              "      background-color: #E8F0FE;\n",
              "      border: none;\n",
              "      border-radius: 50%;\n",
              "      cursor: pointer;\n",
              "      display: none;\n",
              "      fill: #1967D2;\n",
              "      height: 32px;\n",
              "      padding: 0 0 0 0;\n",
              "      width: 32px;\n",
              "    }\n",
              "\n",
              "    .colab-df-convert:hover {\n",
              "      background-color: #E2EBFA;\n",
              "      box-shadow: 0px 1px 2px rgba(60, 64, 67, 0.3), 0px 1px 3px 1px rgba(60, 64, 67, 0.15);\n",
              "      fill: #174EA6;\n",
              "    }\n",
              "\n",
              "    [theme=dark] .colab-df-convert {\n",
              "      background-color: #3B4455;\n",
              "      fill: #D2E3FC;\n",
              "    }\n",
              "\n",
              "    [theme=dark] .colab-df-convert:hover {\n",
              "      background-color: #434B5C;\n",
              "      box-shadow: 0px 1px 3px 1px rgba(0, 0, 0, 0.15);\n",
              "      filter: drop-shadow(0px 1px 2px rgba(0, 0, 0, 0.3));\n",
              "      fill: #FFFFFF;\n",
              "    }\n",
              "  </style>\n",
              "\n",
              "      <script>\n",
              "        const buttonEl =\n",
              "          document.querySelector('#df-64b4e764-192f-46ca-9bdc-199ac78c99c8 button.colab-df-convert');\n",
              "        buttonEl.style.display =\n",
              "          google.colab.kernel.accessAllowed ? 'block' : 'none';\n",
              "\n",
              "        async function convertToInteractive(key) {\n",
              "          const element = document.querySelector('#df-64b4e764-192f-46ca-9bdc-199ac78c99c8');\n",
              "          const dataTable =\n",
              "            await google.colab.kernel.invokeFunction('convertToInteractive',\n",
              "                                                     [key], {});\n",
              "          if (!dataTable) return;\n",
              "\n",
              "          const docLinkHtml = 'Like what you see? Visit the ' +\n",
              "            '<a target=\"_blank\" href=https://colab.research.google.com/notebooks/data_table.ipynb>data table notebook</a>'\n",
              "            + ' to learn more about interactive tables.';\n",
              "          element.innerHTML = '';\n",
              "          dataTable['output_type'] = 'display_data';\n",
              "          await google.colab.output.renderOutput(dataTable, element);\n",
              "          const docLink = document.createElement('div');\n",
              "          docLink.innerHTML = docLinkHtml;\n",
              "          element.appendChild(docLink);\n",
              "        }\n",
              "      </script>\n",
              "    </div>\n",
              "  </div>\n",
              "  "
            ]
          },
          "metadata": {},
          "execution_count": 12
        }
      ]
    },
    {
      "cell_type": "code",
      "source": [
        "len(data['Word'].values)"
      ],
      "metadata": {
        "colab": {
          "base_uri": "https://localhost:8080/"
        },
        "id": "NVGUIGuv1mFQ",
        "outputId": "37e8a8f3-087e-469a-8f62-3e327b0c3e6d"
      },
      "execution_count": 13,
      "outputs": [
        {
          "output_type": "execute_result",
          "data": {
            "text/plain": [
              "18961"
            ]
          },
          "metadata": {},
          "execution_count": 13
        }
      ]
    },
    {
      "cell_type": "markdown",
      "source": [
        "***Explore Data after cleaning and preprocessing***"
      ],
      "metadata": {
        "id": "jCoJY8nCJ0Jd"
      }
    },
    {
      "cell_type": "code",
      "source": [
        "data.info()"
      ],
      "metadata": {
        "colab": {
          "base_uri": "https://localhost:8080/"
        },
        "outputId": "4605ad8c-7133-48a1-803a-1dfd104fe898",
        "id": "VXxkPVXDJ0Je"
      },
      "execution_count": 14,
      "outputs": [
        {
          "output_type": "stream",
          "name": "stdout",
          "text": [
            "<class 'pandas.core.frame.DataFrame'>\n",
            "RangeIndex: 18961 entries, 0 to 18960\n",
            "Data columns (total 2 columns):\n",
            " #   Column  Non-Null Count  Dtype \n",
            "---  ------  --------------  ----- \n",
            " 0   Word    18961 non-null  object\n",
            " 1   Label   18961 non-null  object\n",
            "dtypes: object(2)\n",
            "memory usage: 296.4+ KB\n"
          ]
        }
      ]
    },
    {
      "cell_type": "code",
      "source": [
        "data.describe()"
      ],
      "metadata": {
        "colab": {
          "base_uri": "https://localhost:8080/",
          "height": 175
        },
        "outputId": "3a9981b3-faef-4387-86ac-e76ef9c592d2",
        "id": "hRLElDnxJ0Jf"
      },
      "execution_count": 15,
      "outputs": [
        {
          "output_type": "execute_result",
          "data": {
            "text/plain": [
              "         Word  Label\n",
              "count   18961  18961\n",
              "unique   6451      9\n",
              "top        في      O\n",
              "freq      606  16290"
            ],
            "text/html": [
              "\n",
              "  <div id=\"df-0c72b687-e68b-476f-894b-6eecdc511dbc\">\n",
              "    <div class=\"colab-df-container\">\n",
              "      <div>\n",
              "<style scoped>\n",
              "    .dataframe tbody tr th:only-of-type {\n",
              "        vertical-align: middle;\n",
              "    }\n",
              "\n",
              "    .dataframe tbody tr th {\n",
              "        vertical-align: top;\n",
              "    }\n",
              "\n",
              "    .dataframe thead th {\n",
              "        text-align: right;\n",
              "    }\n",
              "</style>\n",
              "<table border=\"1\" class=\"dataframe\">\n",
              "  <thead>\n",
              "    <tr style=\"text-align: right;\">\n",
              "      <th></th>\n",
              "      <th>Word</th>\n",
              "      <th>Label</th>\n",
              "    </tr>\n",
              "  </thead>\n",
              "  <tbody>\n",
              "    <tr>\n",
              "      <th>count</th>\n",
              "      <td>18961</td>\n",
              "      <td>18961</td>\n",
              "    </tr>\n",
              "    <tr>\n",
              "      <th>unique</th>\n",
              "      <td>6451</td>\n",
              "      <td>9</td>\n",
              "    </tr>\n",
              "    <tr>\n",
              "      <th>top</th>\n",
              "      <td>في</td>\n",
              "      <td>O</td>\n",
              "    </tr>\n",
              "    <tr>\n",
              "      <th>freq</th>\n",
              "      <td>606</td>\n",
              "      <td>16290</td>\n",
              "    </tr>\n",
              "  </tbody>\n",
              "</table>\n",
              "</div>\n",
              "      <button class=\"colab-df-convert\" onclick=\"convertToInteractive('df-0c72b687-e68b-476f-894b-6eecdc511dbc')\"\n",
              "              title=\"Convert this dataframe to an interactive table.\"\n",
              "              style=\"display:none;\">\n",
              "        \n",
              "  <svg xmlns=\"http://www.w3.org/2000/svg\" height=\"24px\"viewBox=\"0 0 24 24\"\n",
              "       width=\"24px\">\n",
              "    <path d=\"M0 0h24v24H0V0z\" fill=\"none\"/>\n",
              "    <path d=\"M18.56 5.44l.94 2.06.94-2.06 2.06-.94-2.06-.94-.94-2.06-.94 2.06-2.06.94zm-11 1L8.5 8.5l.94-2.06 2.06-.94-2.06-.94L8.5 2.5l-.94 2.06-2.06.94zm10 10l.94 2.06.94-2.06 2.06-.94-2.06-.94-.94-2.06-.94 2.06-2.06.94z\"/><path d=\"M17.41 7.96l-1.37-1.37c-.4-.4-.92-.59-1.43-.59-.52 0-1.04.2-1.43.59L10.3 9.45l-7.72 7.72c-.78.78-.78 2.05 0 2.83L4 21.41c.39.39.9.59 1.41.59.51 0 1.02-.2 1.41-.59l7.78-7.78 2.81-2.81c.8-.78.8-2.07 0-2.86zM5.41 20L4 18.59l7.72-7.72 1.47 1.35L5.41 20z\"/>\n",
              "  </svg>\n",
              "      </button>\n",
              "      \n",
              "  <style>\n",
              "    .colab-df-container {\n",
              "      display:flex;\n",
              "      flex-wrap:wrap;\n",
              "      gap: 12px;\n",
              "    }\n",
              "\n",
              "    .colab-df-convert {\n",
              "      background-color: #E8F0FE;\n",
              "      border: none;\n",
              "      border-radius: 50%;\n",
              "      cursor: pointer;\n",
              "      display: none;\n",
              "      fill: #1967D2;\n",
              "      height: 32px;\n",
              "      padding: 0 0 0 0;\n",
              "      width: 32px;\n",
              "    }\n",
              "\n",
              "    .colab-df-convert:hover {\n",
              "      background-color: #E2EBFA;\n",
              "      box-shadow: 0px 1px 2px rgba(60, 64, 67, 0.3), 0px 1px 3px 1px rgba(60, 64, 67, 0.15);\n",
              "      fill: #174EA6;\n",
              "    }\n",
              "\n",
              "    [theme=dark] .colab-df-convert {\n",
              "      background-color: #3B4455;\n",
              "      fill: #D2E3FC;\n",
              "    }\n",
              "\n",
              "    [theme=dark] .colab-df-convert:hover {\n",
              "      background-color: #434B5C;\n",
              "      box-shadow: 0px 1px 3px 1px rgba(0, 0, 0, 0.15);\n",
              "      filter: drop-shadow(0px 1px 2px rgba(0, 0, 0, 0.3));\n",
              "      fill: #FFFFFF;\n",
              "    }\n",
              "  </style>\n",
              "\n",
              "      <script>\n",
              "        const buttonEl =\n",
              "          document.querySelector('#df-0c72b687-e68b-476f-894b-6eecdc511dbc button.colab-df-convert');\n",
              "        buttonEl.style.display =\n",
              "          google.colab.kernel.accessAllowed ? 'block' : 'none';\n",
              "\n",
              "        async function convertToInteractive(key) {\n",
              "          const element = document.querySelector('#df-0c72b687-e68b-476f-894b-6eecdc511dbc');\n",
              "          const dataTable =\n",
              "            await google.colab.kernel.invokeFunction('convertToInteractive',\n",
              "                                                     [key], {});\n",
              "          if (!dataTable) return;\n",
              "\n",
              "          const docLinkHtml = 'Like what you see? Visit the ' +\n",
              "            '<a target=\"_blank\" href=https://colab.research.google.com/notebooks/data_table.ipynb>data table notebook</a>'\n",
              "            + ' to learn more about interactive tables.';\n",
              "          element.innerHTML = '';\n",
              "          dataTable['output_type'] = 'display_data';\n",
              "          await google.colab.output.renderOutput(dataTable, element);\n",
              "          const docLink = document.createElement('div');\n",
              "          docLink.innerHTML = docLinkHtml;\n",
              "          element.appendChild(docLink);\n",
              "        }\n",
              "      </script>\n",
              "    </div>\n",
              "  </div>\n",
              "  "
            ]
          },
          "metadata": {},
          "execution_count": 15
        }
      ]
    },
    {
      "cell_type": "code",
      "source": [
        "data.Word.value_counts()"
      ],
      "metadata": {
        "colab": {
          "base_uri": "https://localhost:8080/"
        },
        "outputId": "fe9cd8ab-d4aa-435f-8cb8-5f0f3dccb6b9",
        "id": "q66TwPPRJ0Jf"
      },
      "execution_count": 16,
      "outputs": [
        {
          "output_type": "execute_result",
          "data": {
            "text/plain": [
              "في          606\n",
              "من          511\n",
              "و           360\n",
              "علي         255\n",
              "الي         161\n",
              "           ... \n",
              "والعوامل      1\n",
              "وارسلت        1\n",
              "وفجر          1\n",
              "حرث           1\n",
              "ستجد          1\n",
              "Name: Word, Length: 6451, dtype: int64"
            ]
          },
          "metadata": {},
          "execution_count": 16
        }
      ]
    },
    {
      "cell_type": "markdown",
      "source": [
        "# **Data Preparing**"
      ],
      "metadata": {
        "id": "CYuo7_tI1Q5b"
      }
    },
    {
      "cell_type": "markdown",
      "source": [
        "***Encode Words (Tokens)***"
      ],
      "metadata": {
        "id": "VLn5CghbLEFC"
      }
    },
    {
      "cell_type": "code",
      "source": [
        "# prepare tokenizer\n",
        "t = Tokenizer()\n",
        "words = data['Word'].values\n",
        "t.fit_on_texts(words)\n",
        "vocab_size = len(t.word_index) + 1\n",
        "print('vocab_size:\\n',vocab_size)\n",
        "# integer encode the words\n",
        "encoded_words = t.texts_to_sequences(words)\n",
        "print('encoded_words:\\n',encoded_words)\n",
        "\n",
        "# pad documents to a max length of # words\n",
        "max_length = 1\n",
        "padded_words = pad_sequences(encoded_words, maxlen=max_length, padding='post')\n",
        "print('padded_docs:\\n',padded_words)"
      ],
      "metadata": {
        "colab": {
          "base_uri": "https://localhost:8080/"
        },
        "id": "WyP7GWdE1U3G",
        "outputId": "dab87a4e-98d2-4724-cdd4-3371cc54d723"
      },
      "execution_count": 17,
      "outputs": [
        {
          "output_type": "stream",
          "name": "stdout",
          "text": [
            "vocab_size:\n",
            " 6435\n",
            "encoded_words:\n",
            " [[42], [46], [288], [414], [2], [249], [657], [15], [2247], [2248], [658], [415], [249], [659], [888], [514], [168], [5], [660], [1310], [1311], [1312], [169], [1313], [2249], [250], [17], [2250], [182], [661], [2251], [27], [59], [288], [2], [42], [289], [42], [2], [2252], [2], [2253], [1314], [], [60], [], [2254], [224], [102], [515], [889], [662], [225], [1], [890], [289], [68], [891], [29], [2], [892], [515], [889], [3], [663], [1315], [42], [46], [288], [414], [2], [249], [98], [6], [893], [148], [25], [664], [1316], [250], [665], [2255], [69], [1], [226], [2256], [2257], [894], [895], [516], [149], [1317], [52], [345], [3], [103], [896], [39], [1317], [52], [897], [1], [168], [2258], [3], [897], [103], [1], [168], [346], [666], [8], [168], [67], [345], [103], [42], [517], [1318], [2], [2259], [55], [2260], [2261], [2262], [898], [1319], [2263], [52], [251], [252], [3], [52], [2264], [252], [899], [253], [], [2265], [900], [], [3], [48], [52], [667], [33], [249], [2266], [4], [2267], [668], [1320], [27], [669], [39], [901], [670], [42], [3], [27], [2268], [1], [33], [49], [1321], [2269], [901], [3], [27], [671], [1322], [227], [3], [2270], [5], [1323], [2271], [3], [2], [902], [903], [904], [905], [228], [1], [290], [2272], [906], [2273], [3], [2274], [518], [86], [2275], [2276], [2277], [1324], [], [2278], [], [2279], [2280], [2281], [672], [3], [2282], [2283], [2284], [1325], [907], [126], [1326], [2285], [2286], [226], [3], [673], [4], [6], [31], [416], [289], [2], [82], [908], [1327], [], [1328], [29], [907], [127], [2287], [909], [6], [226], [289], [2], [1329], [662], [225], [169], [1330], [910], [519], [82], [69], [1331], [7], [2288], [2289], [1332], [670], [42], [46], [907], [911], [912], [150], [2290], [2291], [4], [1333], [1334], [11], [2292], [1], [913], [1335], [183], [2293], [1], [914], [229], [3], [7], [673], [4], [], [2294], [2295], [2296], [2297], [898], [2298], [55], [229], [520], [4], [1336], [2], [31], [2299], [521], [229], [1337], [2300], [2301], [4], [674], [2302], [1], [522], [31], [2303], [48], [523], [135], [2304], [184], [17], [1338], [2305], [417], [42], [46], [2306], [2307], [899], [39], [2308], [2309], [291], [2], [49], [2310], [2311], [1], [13], [1339], [25], [185], [2312], [292], [2313], [1340], [2314], [2315], [2316], [2317], [186], [2], [22], [2318], [151], [418], [13], [48], [254], [227], [2319], [103], [2320], [42], [419], [13], [2321], [2322], [2323], [227], [2324], [2325], [2326], [1341], [207], [102], [42], [675], [2327], [2328], [228], [2329], [2330], [420], [2331], [2332], [75], [2333], [347], [1342], [2334], [2335], [2336], [912], [1], [913], [915], [2337], [916], [2338], [1343], [49], [348], [1344], [676], [1345], [1346], [31], [4], [1347], [1], [917], [2339], [2340], [2341], [4], [2342], [918], [911], [912], [2343], [1344], [4], [677], [2344], [919], [1346], [2345], [2346], [4], [2347], [911], [2348], [2349], [2350], [914], [229], [67], [6], [187], [], [50], [255], [4], [45], [188], [3], [187], [], [45], [4], [208], [256], [1348], [], [76], [255], [4], [1349], [188], [349], [2351], [55], [229], [2352], [678], [229], [520], [1350], [], [209], [50], [45], [50], [61], [679], [27], [350], [136], [524], [8], [525], [2353], [55], [60], [1], [31], [421], [1350], [45], [], [], [50], [], [], [209], [351], [421], [293], [6], [255], [4], [45], [188], [], [50], [351], [421], [293], [6], [255], [4], [128], [256], [], [187], [189], [920], [], [], [45], [351], [421], [293], [6], [255], [4], [294], [256], [], [187], [526], [920], [], [], [76], [351], [421], [293], [6], [255], [4], [352], [188], [], [187], [1351], [920], [], [349], [1352], [], [55], [60], [50], [2354], [527], [680], [], [55], [60], [45], [2355], [527], [2356], [], [55], [60], [76], [681], [1353], [2357], [], [55], [60], [210], [681], [1353], [2358], [], [55], [60], [129], [681], [525], [921], [], [55], [60], [294], [681], [525], [349], [2359], [6], [251], [1354], [57], [680], [3], [921], [682], [2360], [2361], [353], [680], [528], [187], [121], [529], [104], [45], [188], [2362], [152], [2363], [121], [529], [104], [45], [188], [1348], [189], [529], [104], [45], [], [128], [256], [150], [2364], [2365], [249], [922], [2366], [59], [683], [528], [211], [188], [2367], [190], [60], [1355], [295], [2368], [62], [1], [921], [257], [291], [354], [211], [2369], [527], [684], [2370], [6], [683], [923], [1356], [1320], [230], [2371], [354], [211], [59], [188], [1357], [55], [229], [2372], [61], [1358], [1359], [2], [5], [521], [229], [1337], [61], [1358], [1359], [45], [50], [8], [45], [50], [56], [2373], [227], [924], [2374], [2375], [2376], [1332], [2377], [2378], [925], [926], [136], [355], [356], [2379], [927], [150], [1360], [212], [2380], [1361], [258], [2381], [49], [685], [1361], [62], [2382], [87], [925], [926], [136], [355], [356], [2383], [927], [150], [1360], [2384], [49], [348], [1362], [351], [2385], [355], [1362], [2386], [686], [530], [687], [2387], [31], [188], [1], [42], [1363], [688], [2388], [46], [], [1364], [1365], [150], [2389], [353], [11], [2390], [2391], [1366], [15], [2392], [49], [1345], [2393], [1366], [13], [1367], [22], [2394], [15], [2395], [4], [6], [2396], [2397], [57], [291], [39], [2398], [2399], [6], [2400], [137], [928], [1368], [1], [42], [2401], [6], [2402], [1], [168], [680], [666], [2403], [527], [2404], [137], [26], [1368], [296], [2405], [153], [2406], [928], [1369], [45], [50], [], [2407], [291], [189], [928], [1369], [45], [50], [], [3], [98], [6], [2408], [2409], [2], [689], [5], [522], [130], [2410], [191], [2], [422], [2411], [29], [26], [2412], [4], [674], [2413], [], [2414], [], [67], [4], [674], [2415], [923], [2416], [929], [690], [191], [1370], [130], [2417], [291], [2], [357], [191], [527], [2418], [5], [357], [191], [421], [2419], [62], [1], [691], [39], [98], [530], [930], [42], [1371], [23], [6], [525], [1372], [1373], [2420], [2421], [2422], [2423], [291], [93], [296], [423], [2424], [7], [112], [1], [154], [1374], [1375], [98], [530], [2425], [52], [2426], [2427], [690], [98], [358], [677], [2428], [2429], [42], [2430], [7], [39], [531], [1374], [1375], [170], [259], [931], [131], [692], [2431], [2432], [896], [930], [168], [693], [40], [2433], [2434], [4], [182], [50], [2435], [2436], [138], [2437], [2438], [1376], [61], [2439], [1377], [1], [102], [168], [693], [209], [2440], [2441], [138], [297], [33], [122], [2442], [52], [930], [168], [693], [1378], [1379], [192], [932], [694], [2443], [2444], [82], [251], [252], [2445], [22], [171], [251], [7], [139], [933], [515], [186], [1], [1379], [260], [2446], [256], [2447], [186], [2448], [68], [31], [345], [934], [168], [31], [345], [935], [1380], [2449], [148], [2], [261], [], [212], [2450], [231], [], [3], [33], [424], [2], [261], [39], [2451], [148], [936], [2], [1316], [2452], [683], [666], [935], [153], [184], [1381], [3], [1], [937], [2453], [2454], [27], [935], [153], [184], [1381], [2455], [4], [2456], [1382], [532], [345], [683], [8], [4], [2457], [532], [938], [1383], [3], [2458], [123], [7], [139], [137], [424], [231], [1], [2459], [2460], [425], [2461], [137], [1384], [1], [2462], [658], [695], [2463], [2464], [252], [2], [251], [1], [939], [36], [696], [2465], [1], [424], [231], [359], [126], [2466], [2467], [46], [697], [940], [698], [7], [2468], [2469], [298], [1385], [697], [940], [261], [3], [155], [3], [533], [60], [72], [171], [426], [60], [2470], [225], [534], [2471], [3], [2472], [2473], [940], [261], [3], [155], [], [2], [427], [699], [359], [126], [899], [2474], [2475], [], [2476], [359], [126], [1386], [1387], [126], [], [3], [941], [1388], [], [23], [700], [426], [1376], [50], [3], [941], [1388], [192], [3], [2477], [426], [1389], [3], [701], [2478], [6], [2479], [359], [126], [2480], [27], [2], [113], [2481], [678], [261], [], [], [3], [55], [155], [], [], [7], [1390], [94], [3], [2482], [6], [426], [31], [156], [2], [29], [702], [30], [], [2483], [], [700], [1391], [2484], [942], [360], [122], [426], [42], [700], [697], [688], [261], [3], [155], [2485], [1386], [1387], [126], [697], [688], [261], [3], [155], [1392], [55], [359], [], [], [3], [902], [2486], [6], [2487], [1393], [703], [], [23], [2488], [5], [424], [231], [3], [5], [55], [155], [88], [2489], [345], [27], [2490], [193], [519], [900], [250], [6], [232], [1394], [94], [424], [231], [253], [], [67], [194], [1385], [137], [249], [], [704], [2491], [1], [2492], [126], [1395], [2], [2493], [1], [55], [155], [262], [943], [2494], [75], [944], [1396], [170], [233], [140], [249], [2495], [50], [897], [87], [361], [2496], [33], [249], [2497], [1], [918], [112], [123], [1315], [2498], [130], [213], [55], [27], [1318], [2], [933], [515], [], [892], [], [1392], [353], [55], [27], [2499], [2], [933], [2500], [], [256], [], [130], [1397], [42], [8], [2501], [60], [534], [705], [5], [2502], [130], [2503], [42], [60], [122], [1398], [1314], [1399], [1398], [891], [3], [2504], [705], [5], [1400], [2505], [171], [55], [60], [93], [157], [69], [2], [55], [261], [1401], [1397], [42], [60], [534], [705], [5], [1400], [2506], [171], [55], [261], [93], [157], [69], [2], [55], [60], [39], [263], [123], [1], [918], [428], [429], [430], [], [2507], [82], [251], [1354], [], [3], [1402], [263], [299], [2508], [1403], [1404], [11], [1405], [2], [123], [2509], [2510], [82], [249], [253], [8], [82], [1406], [131], [2511], [1407], [666], [39], [706], [428], [429], [430], [3], [1402], [945], [2512], [131], [1408], [1409], [1407], [1], [1410], [15], [2513], [8], [2514], [11], [2515], [2], [693], [1408], [1409], [1411], [349], [946], [42], [657], [659], [1], [2516], [429], [172], [2517], [52], [60], [1412], [264], [1], [42], [112], [1], [154], [2518], [929], [2519], [1413], [60], [1], [947], [191], [234], [696], [2520], [75], [524], [25], [68], [], [2521], [2522], [231], [], [707], [4], [60], [264], [1], [187], [431], [256], [708], [265], [139], [355], [230], [4], [1384], [657], [948], [1412], [432], [2523], [535], [2524], [433], [2525], [536], [2526], [889], [891], [264], [1], [102], [42], [31], [235], [2], [947], [26], [170], [2527], [2528], [236], [2], [2529], [524], [949], [258], [2530], [2531], [50], [293], [232], [235], [6], [2532], [678], [950], [2], [60], [696], [2533], [2534], [2535], [2536], [525], [7], [2537], [33], [187], [], [98], [530], [1414], [60], [1415], [235], [696], [2538], [], [45], [23], [46], [354], [187], [], [354], [229], [520], [], [2539], [60], [2540], [951], [26], [1416], [2], [68], [709], [361], [187], [952], [15], [148], [60], [59], [235], [708], [48], [2541], [17], [255], [4], [188], [156], [1341], [2542], [947], [26], [432], [709], [59], [6], [951], [191], [60], [1], [524], [1416], [2], [68], [112], [710], [953], [2], [951], [191], [60], [1], [524], [1417], [297], [33], [2543], [1], [687], [300], [235], [191], [2544], [169], [529], [434], [291], [1418], [1], [187], [431], [1419], [435], [2545], [2546], [], [1420], [2547], [2548], [2549], [2550], [26], [52], [2551], [], [260], [60], [264], [1], [235], [26], [431], [1421], [1], [946], [42], [195], [358], [2552], [658], [2553], [122], [123], [7], [139], [137], [55], [60], [1], [235], [26], [431], [], [256], [708], [], [170], [2554], [1], [237], [360], [1], [939], [36], [537], [46], [362], [25], [2555], [1], [939], [36], [1422], [537], [295], [46], [7], [538], [4], [188], [156], [1], [235], [26], [431], [537], [363], [538], [4], [45], [188], [537], [711], [538], [4], [76], [256], [349], [2556], [1423], [665], [2557], [55], [60], [1], [357], [1], [235], [1357], [42], [665], [1424], [1356], [42], [297], [33], [112], [2558], [537], [295], [69], [251], [2559], [2560], [2561], [2562], [2563], [1422], [42], [69], [2564], [], [710], [1], [26], [], [130], [213], [235], [708], [529], [293], [954], [436], [25], [185], [1425], [], [98], [948], [2565], [2566], [11], [82], [2567], [], [1426], [2568], [], [8], [98], [139], [6], [2569], [60], [2], [123], [214], [], [1426], [2570], [], [364], [2571], [60], [52], [123], [2572], [123], [2573], [437], [955], [33], [2574], [657], [2575], [185], [33], [2576], [170], [207], [2577], [956], [2578], [2579], [438], [439], [2580], [2581], [], [], [259], [908], [2582], [2583], [122], [55], [123], [1], [957], [1427], [2], [2584], [2585], [192], [2586], [1423], [536], [171], [957], [39], [266], [122], [55], [123], [87], [98], [6], [213], [39], [266], [3], [33], [39], [2587], [11], [424], [15], [40], [2588], [536], [171], [957], [2589], [2590], [365], [299], [352], [2591], [34], [2592], [260], [42], [2593], [2594], [1], [2595], [1], [2596], [2597], [22], [712], [30], [2598], [416], [2599], [301], [1], [712], [658], [2600], [42], [2601], [2602], [958], [227], [959], [105], [2603], [126], [355], [230], [4], [713], [2], [905], [290], [57], [2604], [30], [926], [1428], [905], [2605], [192], [695], [714], [42], [29], [1429], [1], [356], [914], [229], [3], [702], [136], [126], [3], [88], [1430], [714], [42], [715], [2606], [2607], [1], [135], [440], [3], [135], [539], [28], [716], [717], [2608], [931], [228], [540], [714], [42], [2609], [2610], [2611], [259], [2612], [898], [15], [40], [2613], [1], [13], [2614], [40], [2615], [82], [2616], [62], [40], [2617], [1431], [228], [2618], [4], [123], [956], [896], [170], [259], [1432], [359], [2619], [123], [956], [62], [170], [259], [2620], [960], [669], [718], [2621], [2622], [3], [1432], [359], [2623], [416], [301], [1324], [2], [300], [82], [8], [2624], [234], [25], [185], [1433], [1434], [2625], [141], [31], [2], [961], [3], [2626], [2627], [2628], [2], [135], [962], [70], [441], [2629], [99], [2630], [2631], [42], [106], [2632], [6], [232], [168], [154], [929], [57], [2633], [719], [150], [691], [59], [27], [2634], [1435], [75], [42], [963], [1327], [1], [135], [440], [2635], [6], [226], [289], [2], [82], [433], [83], [212], [1436], [25], [2636], [56], [17], [33], [1437], [2637], [2638], [964], [2639], [7], [32], [673], [4], [6], [226], [98], [6], [1438], [2640], [5], [2641], [288], [915], [33], [142], [32], [42], [541], [194], [288], [414], [1], [226], [56], [1439], [33], [1437], [2642], [5], [6], [42], [675], [289], [2], [965], [136], [126], [442], [1323], [291], [25], [185], [966], [2643], [25], [99], [702], [7], [170], [2644], [56], [720], [22], [2645], [6], [42], [98], [6], [1438], [62], [2646], [2647], [2648], [1], [1440], [300], [68], [2649], [2650], [2651], [515], [1428], [2652], [183], [948], [1441], [1], [913], [6], [42], [289], [2], [965], [136], [942], [542], [302], [961], [40], [2653], [2654], [721], [2655], [42], [94], [], [2656], [40], [1440], [2657], [908], [961], [353], [122], [713], [2], [1331], [183], [967], [4], [1442], [2658], [57], [691], [2659], [443], [1443], [2660], [1435], [702], [136], [126], [659], [888], [514], [42], [5], [660], [1310], [1311], [1312], [169], [722], [910], [968], [135], [440], [23], [40], [969], [1333], [1334], [17], [1338], [2661], [6], [123], [965], [723], [2662], [2663], [1330], [910], [9], [46], [444], [303], [173], [366], [73], [2664], [1], [49], [1444], [158], [1], [114], [56], [2665], [2666], [2667], [1], [356], [290], [1445], [2668], [2669], [724], [113], [970], [526], [70], [441], [215], [158], [1], [1446], [2670], [425], [1], [1447], [1448], [725], [158], [543], [971], [186], [726], [972], [1], [114], [13], [2671], [1], [302], [2672], [955], [182], [1], [523], [970], [189], [70], [441], [2673], [2674], [2675], [2676], [2677], [1], [9], [215], [158], [152], [544], [55], [973], [9], [419], [129], [727], [2678], [445], [2679], [13], [446], [974], [973], [9], [728], [975], [2], [729], [100], [2680], [2681], [2682], [2683], [2684], [365], [414], [2], [58], [545], [4], [1449], [546], [547], [2685], [367], [2], [976], [9], [517], [190], [58], [115], [9], [115], [365], [4], [1450], [730], [977], [731], [80], [978], [2686], [732], [183], [4], [1450], [979], [2687], [28], [216], [1451], [73], [9], [46], [447], [2688], [9], [7], [1452], [86], [2689], [980], [9], [2690], [547], [2691], [9], [9], [58], [368], [1453], [114], [1454], [143], [369], [2692], [86], [143], [1455], [114], [1], [290], [724], [1456], [2693], [2694], [1445], [2695], [2696], [159], [2697], [733], [981], [304], [2698], [2699], [2700], [982], [305], [5], [983], [2701], [1457], [1458], [93], [535], [1459], [2702], [290], [368], [2703], [31], [2704], [25], [290], [2705], [1], [370], [548], [9], [46], [158], [734], [448], [174], [2706], [2707], [2708], [2709], [93], [175], [2], [2710], [2711], [306], [2712], [1], [77], [2], [449], [2713], [58], [1460], [306], [2714], [305], [2715], [306], [984], [57], [371], [735], [985], [371], [735], [38], [371], [735], [2716], [371], [735], [348], [450], [2717], [175], [2], [2718], [1461], [2719], [2720], [2721], [94], [1462], [1463], [372], [451], [1464], [733], [195], [729], [451], [9], [549], [451], [2722], [2723], [451], [9], [1465], [982], [2], [2724], [986], [2725], [987], [2], [988], [306], [1466], [61], [989], [1467], [990], [1468], [1469], [303], [521], [2], [988], [306], [2726], [9], [2727], [2728], [2729], [2730], [225], [2731], [1], [1470], [734], [724], [1456], [733], [2732], [2733], [217], [991], [94], [1471], [158], [990], [56], [2734], [9], [158], [990], [373], [1], [13], [992], [516], [2735], [9], [5], [2736], [736], [34], [70], [441], [8], [69], [62], [2737], [1335], [2738], [1], [2739], [721], [1], [58], [2740], [94], [550], [1472], [2741], [2742], [2743], [194], [366], [73], [737], [1], [114], [32], [158], [116], [1473], [114], [2744], [2745], [1], [2746], [551], [193], [2747], [2748], [58], [1474], [77], [2], [552], [368], [7], [2749], [1], [530], [2750], [2751], [2752], [2753], [721], [2754], [62], [1475], [938], [552], [194], [514], [2755], [4], [2756], [28], [1476], [2757], [67], [2758], [307], [171], [29], [58], [40], [2759], [435], [1], [1473], [114], [2760], [131], [194], [993], [994], [307], [5], [2761], [53], [2762], [28], [107], [552], [1475], [194], [993], [533], [238], [194], [196], [2763], [2764], [995], [738], [176], [2765], [8], [2766], [2767], [2], [552], [7], [1477], [224], [140], [58], [1478], [1], [49], [2], [1479], [73], [9], [], [2768], [2769], [996], [2770], [1480], [2771], [267], [2772], [1481], [994], [1482], [2773], [239], [2774], [1483], [1484], [2775], [2776], [2777], [1485], [73], [308], [997], [9], [46], [366], [158], [1], [49], [2778], [1486], [114], [1444], [73], [2779], [1], [49], [87], [1454], [553], [369], [116], [309], [114], [1487], [2780], [452], [1488], [1], [739], [998], [369], [115], [998], [2781], [453], [5], [135], [962], [184], [70], [441], [1489], [2782], [2783], [2784], [2785], [2786], [2787], [2788], [2789], [2790], [450], [452], [140], [9], [999], [58], [2791], [1], [553], [369], [115], [452], [1488], [1], [1490], [2792], [526], [2793], [1000], [2794], [], [2795], [], [999], [1], [1490], [1472], [2796], [], [1484], [], [28], [554], [2797], [452], [740], [], [2798], [2799], [2800], [], [28], [554], [2801], [452], [740], [], [2802], [], [741], [660], [738], [176], [1485], [999], [1], [369], [252], [2803], [2804], [2805], [2806], [2807], [2808], [28], [548], [304], [742], [268], [140], [], [1483], [], [3], [], [1480], [], [3], [], [997], [], [2809], [1001], [6], [366], [555], [1491], [9], [1], [998], [2810], [2811], [303], [1491], [9], [545], [], [174], [2812], [190], [114], [], [298], [995], [2813], [2814], [737], [2815], [2], [2816], [2817], [2818], [2819], [448], [114], [2820], [2821], [116], [366], [548], [1492], [86], [2822], [553], [369], [7], [310], [1], [267], [1493], [2823], [1], [2824], [32], [2825], [2826], [1], [1002], [970], [189], [70], [441], [2827], [4], [2828], [2829], [2830], [2831], [2832], [2833], [1494], [2834], [367], [13], [1003], [1495], [138], [218], [2835], [540], [9], [1004], [2], [2836], [2837], [2838], [2839], [1496], [2840], [367], [13], [1005], [1495], [138], [725], [2], [143], [454], [1], [556], [1496], [743], [744], [5], [9], [1], [1006], [295], [2841], [744], [725], [262], [20], [1497], [2842], [2843], [2844], [1481], [2845], [1498], [1007], [2846], [2847], [2848], [2849], [1499], [744], [1008], [1500], [1501], [56], [1502], [174], [9], [1009], [2850], [2851], [2852], [1503], [745], [2853], [746], [58], [197], [1504], [1505], [2854], [23], [2855], [1406], [734], [2856], [2857], [115], [11], [1505], [303], [747], [2858], [311], [11], [553], [369], [7], [1492], [748], [1], [548], [115], [540], [73], [9], [1], [135], [1506], [218], [2859], [1507], [1466], [143], [454], [304], [1508], [2860], [724], [2861], [2862], [2863], [1509], [2864], [1510], [2865], [58], [1], [556], [455], [2], [374], [749], [5], [158], [186], [1511], [972], [543], [971], [2866], [1010], [5], [1512], [750], [751], [2867], [2868], [2869], [1513], [2870], [2871], [1011], [2872], [2873], [2874], [1], [444], [971], [456], [93], [1514], [1515], [105], [2], [143], [2875], [1], [1516], [375], [1012], [269], [1013], [376], [15], [269], [1], [302], [752], [2876], [53], [457], [557], [753], [1517], [2877], [377], [61], [2878], [15], [2879], [2880], [2], [1518], [1519], [373], [304], [1], [49], [974], [1520], [455], [2], [1521], [172], [2881], [2882], [927], [2883], [230], [2884], [1521], [2885], [432], [2], [458], [1014], [2886], [2887], [943], [2888], [2889], [2890], [4], [1522], [1015], [2], [1523], [453], [5], [548], [7], [2891], [556], [455], [684], [558], [378], [2892], [453], [5], [378], [2893], [193], [295], [2894], [2895], [1524], [1016], [1017], [2896], [173], [366], [2897], [1], [174], [1525], [363], [1], [754], [747], [1016], [1017], [1018], [307], [5], [2898], [1018], [53], [2899], [257], [711], [298], [1], [754], [2900], [1016], [1017], [1526], [307], [5], [1526], [312], [1527], [28], [9], [2901], [2902], [1], [31], [2903], [2], [2904], [1019], [1020], [1528], [15], [452], [1529], [1], [2905], [2906], [972], [2907], [1], [135], [1530], [2908], [9], [1531], [4], [1532], [454], [1508], [1533], [2909], [987], [141], [2910], [2911], [2], [73], [559], [158], [379], [2912], [2913], [444], [9], [143], [1021], [1], [22], [2914], [2915], [93], [4], [2916], [2], [2917], [269], [1013], [160], [1], [523], [556], [455], [28], [1022], [2918], [2919], [1534], [2920], [2921], [9], [2922], [2923], [70], [6], [945], [104], [1535], [56], [2924], [1], [75], [1023], [2925], [2926], [459], [2927], [219], [127], [217], [1024], [93], [175], [2], [2928], [2929], [20], [1535], [2930], [2931], [2932], [4], [9], [2933], [2934], [1], [154], [1536], [2935], [2936], [2937], [737], [2938], [2939], [950], [159], [2940], [2941], [1537], [2942], [2943], [2944], [15], [2945], [2946], [1], [560], [2947], [2948], [2], [9], [2949], [25], [58], [2950], [4], [2951], [2952], [2], [561], [557], [562], [159], [2953], [1025], [2954], [2], [9], [158], [152], [725], [9], [158], [2955], [2956], [2957], [216], [1026], [304], [2], [9], [1007], [2958], [159], [1538], [2959], [1027], [2960], [2961], [5], [1000], [11], [2962], [1028], [159], [2963], [15], [2964], [557], [562], [159], [1025], [2], [9], [1539], [1537], [2965], [1026], [304], [4], [976], [2966], [2967], [2968], [1540], [1000], [215], [58], [1021], [1541], [1], [556], [1029], [2969], [752], [1029], [2970], [2971], [239], [1029], [34], [2972], [20], [313], [2], [2973], [2974], [9], [2975], [2976], [374], [2977], [1], [553], [2978], [306], [1542], [2979], [1543], [2980], [1], [1027], [372], [143], [1030], [75], [460], [2981], [2982], [61], [380], [1462], [1464], [733], [195], [729], [451], [1463], [372], [23], [1031], [1518], [2983], [2984], [7], [1544], [1545], [295], [381], [1546], [562], [159], [533], [1547], [562], [159], [1548], [1], [2985], [61], [366], [2986], [9], [1032], [314], [1033], [117], [5], [380], [87], [2987], [2988], [2989], [23], [2990], [2991], [376], [1], [2992], [1034], [2993], [2994], [2995], [2996], [4], [2997], [755], [], [], [2998], [2999], [], [87], [2], [1030], [9], [3000], [196], [756], [1549], [7], [3001], [175], [2], [1550], [3002], [379], [], [562], [159], [1025], [3003], [159], [1538], [3004], [1551], [1552], [450], [2], [3005], [1510], [1509], [32], [749], [9], [2], [186], [3006], [3007], [3008], [1553], [23], [746], [118], [3009], [997], [56], [1554], [3010], [5], [3011], [3012], [1010], [1555], [751], [3013], [1556], [3014], [1011], [751], [3015], [3016], [3017], [1], [302], [312], [1551], [1552], [3018], [3019], [1557], [58], [1035], [3020], [172], [1558], [93], [55], [230], [2], [1559], [1036], [56], [1037], [75], [1023], [11], [1560], [1038], [3021], [1039], [3022], [2], [3023], [3024], [304], [1561], [9], [161], [6], [29], [3025], [83], [3026], [9], [2], [3027], [2], [198], [3028], [1035], [1515], [3029], [3030], [3031], [93], [3032], [3033], [3034], [1562], [3035], [1], [1022], [3036], [3037], [52], [3038], [3039], [224], [1563], [1], [375], [1527], [952], [3040], [3041], [7], [3042], [86], [3043], [1], [1564], [3044], [3045], [13], [1565], [3046], [1040], [5], [414], [2], [1511], [3047], [3048], [3049], [9], [1021], [2], [186], [1493], [454], [1], [543], [1566], [1553], [20], [1041], [975], [1550], [3050], [9], [1567], [3051], [3052], [454], [1], [49], [1507], [3053], [268], [140], [994], [1482], [3054], [58], [4], [3055], [3056], [1568], [1562], [1], [267], [62], [194], [32], [315], [1569], [93], [3057], [1570], [2], [1571], [459], [563], [3058], [94], [5], [3059], [316], [56], [3060], [3061], [4], [3062], [564], [1], [58], [3063], [93], [3064], [228], [62], [3065], [3066], [1572], [3067], [3068], [3069], [115], [3070], [748], [2], [1042], [988], [7], [453], [5], [75], [1023], [368], [3071], [1573], [1574], [3072], [1575], [3073], [140], [312], [1576], [121], [3074], [565], [3075], [46], [2], [240], [1577], [3076], [15], [1502], [757], [1578], [3077], [1041], [292], [3078], [375], [1487], [1579], [11], [3079], [3080], [3081], [3082], [11], [1504], [9], [3083], [3084], [7], [3085], [3086], [3087], [3088], [58], [711], [1], [3089], [1566], [20], [1041], [3090], [56], [1557], [1035], [566], [1], [58], [103], [3091], [747], [1], [135], [1530], [184], [448], [27], [212], [3092], [758], [3093], [3094], [3095], [3096], [1580], [567], [1043], [3097], [567], [3098], [567], [3099], [567], [3100], [567], [3101], [56], [3102], [29], [1581], [1582], [1583], [459], [3103], [4], [1027], [1561], [38], [3104], [15], [1584], [73], [9], [3105], [3106], [3107], [3108], [3109], [113], [1044], [759], [295], [], [3110], [1585], [], [1544], [3111], [1586], [1045], [73], [9], [3112], [3113], [3114], [1], [13], [1585], [3115], [1038], [1587], [373], [9], [3116], [2], [3117], [3118], [1], [3119], [], [1588], [], [1589], [158], [3120], [373], [3121], [3122], [557], [3123], [121], [161], [194], [1046], [1494], [3124], [1590], [1], [3125], [], [3126], [], [2], [137], [1047], [3127], [3128], [3129], [985], [4], [58], [52], [3130], [1367], [3131], [1591], [1592], [127], [219], [2], [58], [2], [70], [3132], [3133], [113], [1587], [303], [672], [7], [3134], [2], [546], [729], [1], [1593], [1040], [3135], [1592], [58], [3136], [3137], [3138], [172], [748], [115], [20], [3139], [568], [13], [3140], [1], [1594], [1044], [759], [363], [540], [569], [136], [3141], [3142], [3143], [1590], [3144], [3145], [161], [6], [1038], [568], [382], [3146], [3147], [3148], [5], [3149], [13], [3150], [13], [3151], [3152], [569], [89], [1595], [25], [568], [3153], [58], [1395], [3154], [3155], [3156], [383], [116], [22], [1048], [1049], [20], [3157], [3158], [3159], [3160], [1596], [1570], [2], [3161], [2], [3162], [3163], [2], [3164], [3165], [1514], [58], [456], [1], [216], [1451], [384], [9], [77], [2], [732], [545], [3166], [115], [3167], [183], [143], [1050], [9], [46], [], [9], [115], [3168], [77], [2], [732], [115], [7], [706], [270], [3169], [58], [115], [3170], [3171], [3172], [3173], [3174], [3175], [368], [3176], [3177], [292], [199], [1050], [9], [1597], [461], [3178], [1598], [], [3179], [3180], [3181], [3182], [3183], [3184], [1599], [3185], [3186], [159], [1051], [1600], [3187], [3188], [3189], [3190], [462], [3191], [3192], [3193], [559], [3194], [450], [682], [3195], [8], [3196], [9], [115], [3197], [3198], [196], [3199], [3200], [1601], [3201], [3202], [1], [55], [2], [3203], [3204], [3205], [1602], [1], [3206], [3207], [743], [5], [114], [1603], [1012], [8], [1052], [1604], [443], [1605], [1015], [8], [989], [3208], [150], [1547], [3209], [8], [1606], [1607], [8], [989], [1608], [1455], [114], [8], [3210], [3211], [1609], [8], [760], [8], [3212], [8], [3213], [8], [3214], [8], [3215], [8], [3216], [551], [453], [1610], [995], [8], [3217], [270], [570], [1607], [8], [1486], [3218], [3219], [8], [3220], [1517], [1604], [3221], [1611], [270], [114], [1], [9], [1053], [1612], [199], [1042], [1053], [267], [1601], [1015], [551], [56], [555], [3222], [1], [375], [317], [], [3223], [571], [], [136], [140], [1020], [1528], [23], [3224], [1500], [1501], [377], [3225], [3226], [15], [1007], [2], [9], [3227], [1499], [744], [1], [47], [3228], [761], [377], [], [8], [761], [372], [62], [762], [1], [569], [], [3229], [3230], [1], [3231], [1452], [3232], [3233], [1613], [3234], [3235], [3236], [3237], [3238], [763], [3239], [3240], [1580], [2], [143], [3241], [4], [761], [377], [28], [9], [69], [2], [385], [1052], [3242], [143], [29], [1559], [3243], [1042], [1030], [9], [59], [558], [455], [376], [61], [2], [3244], [1525], [292], [1054], [2], [3245], [9], [292], [214], [1012], [1573], [1574], [15], [3246], [312], [1579], [1576], [121], [13], [1565], [764], [3247], [521], [2], [3248], [292], [57], [1605], [3249], [3250], [3251], [981], [1036], [368], [1533], [1461], [290], [7], [453], [1610], [551], [193], [541], [73], [9], [2], [143], [1055], [734], [373], [3252], [1], [49], [372], [3253], [3254], [3255], [3256], [3257], [1056], [3258], [3259], [1543], [1], [114], [372], [3260], [2], [1614], [306], [1], [9], [99], [3261], [3262], [373], [1], [3263], [372], [1459], [290], [1036], [368], [451], [9], [1465], [3264], [9], [916], [3265], [3266], [3267], [1467], [3268], [1057], [1468], [1469], [303], [521], [2], [1460], [306], [373], [1], [449], [9], [73], [9], [3269], [73], [737], [1], [49], [3270], [3271], [175], [2], [3272], [1615], [1616], [1001], [94], [], [32], [9], [3273], [1447], [1448], [1497], [3274], [3275], [1058], [1], [3276], [298], [116], [78], [1612], [3277], [3278], [3279], [3280], [298], [374], [3281], [987], [199], [712], [3282], [], [57], [572], [3283], [3284], [572], [3285], [3286], [765], [1054], [118], [9], [], [3287], [], [1617], [3288], [3289], [3290], [3291], [1618], [3292], [3293], [1618], [3294], [1617], [3295], [3296], [311], [572], [1059], [758], [292], [3297], [3298], [7], [1619], [86], [9], [1], [49], [3299], [311], [], [1059], [758], [], [8], [1059], [747], [303], [62], [1619], [9], [1], [766], [104], [572], [1620], [7], [746], [3300], [3301], [3302], [517], [212], [104], [3303], [377], [56], [3304], [1621], [15], [1319], [463], [29], [1620], [227], [1622], [3305], [3306], [9], [380], [310], [86], [1024], [712], [1060], [57], [], [9], [3307], [172], [3308], [456], [89], [3309], [3310], [86], [1050], [3311], [228], [1], [3312], [23], [1519], [3313], [183], [3314], [1061], [62], [1], [560], [1051], [1062], [3315], [3316], [1062], [3317], [3318], [1062], [3319], [3320], [28], [3321], [1061], [347], [982], [456], [9], [7], [32], [1], [3322], [977], [731], [3323], [5], [1623], [4], [1449], [546], [547], [456], [1010], [311], [1011], [456], [5], [1624], [], [980], [9], [], [3324], [3325], [1], [3326], [9], [115], [2], [31], [1063], [1554], [732], [1061], [183], [1], [1064], [1065], [748], [545], [3327], [546], [547], [4], [449], [9], [183], [945], [9], [11], [1625], [1040], [676], [448], [767], [2], [3328], [3329], [183], [3330], [318], [1066], [3331], [448], [3332], [1626], [1627], [3333], [311], [767], [172], [2], [925], [3334], [3335], [7], [3336], [11], [370], [1625], [3337], [569], [768], [1586], [3338], [28], [9], [3339], [9], [1067], [3340], [1051], [7], [3341], [9], [11], [3342], [569], [432], [768], [370], [1068], [49], [3343], [769], [1628], [46], [300], [449], [3344], [3345], [224], [73], [9], [3346], [1], [3347], [1599], [2], [3348], [5], [58], [3349], [29], [2], [69], [3350], [1629], [3351], [73], [3352], [978], [1], [73], [9], [55], [2], [1069], [984], [183], [2], [3353], [3354], [573], [3355], [3356], [2], [1069], [2], [370], [3357], [3358], [439], [3359], [3360], [1070], [3361], [270], [58], [3362], [3363], [1071], [1630], [1072], [1631], [3364], [1070], [3365], [1], [560], [1632], [9], [1071], [565], [28], [449], [980], [9], [968], [1073], [758], [292], [3366], [3367], [3368], [3369], [1], [3370], [1064], [57], [3371], [1633], [731], [3372], [3373], [23], [77], [2], [1069], [1634], [3374], [1071], [3375], [770], [1053], [9], [115], [1635], [3376], [3377], [149], [77], [2], [3378], [1634], [3379], [386], [183], [1582], [7], [1636], [1024], [1074], [303], [3380], [1], [449], [9], [347], [464], [4], [73], [9], [73], [308], [682], [9], [115], [1637], [308], [351], [308], [377], [528], [3381], [3382], [1], [31], [3383], [3384], [2], [58], [542], [78], [1638], [973], [9], [1637], [3385], [3386], [270], [1581], [89], [230], [3387], [308], [1], [3388], [432], [3389], [3390], [3391], [3392], [3393], [7], [3394], [353], [3395], [3396], [115], [28], [3397], [893], [308], [377], [3398], [1639], [3399], [7], [3400], [3401], [3402], [3403], [1075], [3404], [3405], [3406], [3407], [573], [3408], [1034], [3409], [61], [3410], [3411], [3412], [1640], [3413], [3414], [3415], [5], [1640], [3416], [3417], [3418], [3419], [1], [3420], [1075], [3421], [9], [3422], [46], [3423], [564], [23], [1641], [3424], [3425], [1639], [1], [3426], [9], [73], [308], [9], [73], [308], [46], [58], [545], [7], [3427], [175], [3428], [1075], [1453], [3429], [5], [114], [1], [9], [115], [1642], [3430], [546], [547], [23], [978], [1072], [1070], [3431], [3432], [4], [58], [3433], [3434], [3435], [3436], [1032], [1632], [9], [1633], [3437], [52], [1064], [23], [3438], [977], [731], [3439], [3440], [1073], [549], [3441], [1073], [3442], [4], [976], [3443], [1631], [1072], [1076], [1643], [200], [574], [1077], [1], [374], [73], [271], [3444], [3445], [114], [6], [99], [2], [1638], [3446], [319], [1644], [1028], [459], [3447], [11], [162], [1645], [], [16], [35], [], [1], [1646], [1647], [1078], [1079], [64], [], [16], [35], [], [3448], [3449], [3450], [3451], [1648], [152], [39], [1649], [1650], [1651], [1652], [1653], [53], [575], [1654], [1655], [1656], [3452], [34], [1080], [90], [269], [16], [207], [215], [4], [144], [1657], [3453], [1052], [684], [558], [1081], [1082], [151], [771], [1083], [151], [267], [62], [3454], [552], [100], [3455], [1658], [1022], [1084], [3456], [15], [975], [1085], [3457], [320], [3458], [772], [3459], [543], [1659], [450], [3460], [3461], [465], [1569], [1658], [8], [3462], [220], [3463], [3464], [3465], [116], [22], [1048], [751], [1660], [33], [384], [29], [200], [3466], [177], [1661], [387], [162], [64], [], [16], [35], [], [3467], [77], [2], [1086], [7], [3468], [94], [], [576], [1087], [1088], [1089], [], [16], [35], [], [576], [3469], [53], [3470], [3471], [1662], [387], [2], [1663], [64], [], [16], [35], [], [3472], [53], [773], [], [16], [35], [], [289], [321], [717], [2], [3473], [1090], [388], [1664], [5], [], [3474], [138], [45], [], [3475], [774], [3476], [1664], [], [3477], [138], [45], [], [365], [190], [466], [571], [1665], [148], [1014], [3478], [], [3479], [138], [45], [], [3480], [3481], [3482], [3483], [577], [319], [467], [3484], [1091], [], [1092], [], [3485], [2], [176], [173], [3486], [2], [3487], [5], [3488], [775], [1093], [3489], [3490], [1094], [3491], [2], [1666], [1093], [87], [1667], [1095], [3492], [3493], [3494], [3495], [775], [1668], [55], [1096], [776], [15], [3496], [], [3497], [], [3498], [365], [466], [571], [15], [3499], [1], [3500], [1647], [1078], [1079], [575], [457], [239], [64], [], [16], [35], [], [11], [3501], [4], [367], [297], [894], [136], [1669], [1097], [2], [1098], [3502], [1670], [3503], [3504], [1671], [148], [1669], [103], [2], [3505], [3506], [3507], [1672], [1097], [2], [1673], [3508], [3509], [775], [3510], [3511], [2], [1099], [755], [1100], [3512], [3513], [1674], [3514], [1665], [3515], [3516], [1675], [3517], [3518], [1676], [1101], [3519], [1102], [1091], [1095], [1676], [253], [262], [3520], [664], [1103], [3521], [1677], [7], [3522], [3523], [3524], [531], [1678], [2], [3525], [3526], [1577], [1670], [1679], [3527], [2], [466], [577], [5], [777], [267], [23], [3528], [387], [3529], [459], [3530], [11], [162], [64], [1], [1564], [1680], [11], [1681], [3531], [1104], [3532], [1], [1662], [156], [1682], [33], [466], [3533], [3534], [3535], [1104], [1], [3536], [7], [93], [177], [64], [], [16], [35], [], [3537], [1097], [2], [1673], [528], [3538], [], [121], [1105], [4], [1106], [3539], [56], [3540], [1683], [3541], [3542], [1684], [1685], [61], [1105], [4], [468], [3543], [5], [1336], [2], [462], [1107], [1686], [1687], [577], [778], [1014], [2], [31], [777], [1108], [544], [969], [468], [3544], [], [129], [138], [], [1688], [1689], [31], [2], [468], [1524], [3545], [], [1690], [138], [], [192], [1688], [1689], [31], [2], [468], [3546], [3547], [], [1691], [138], [], [192], [1692], [3548], [3549], [3550], [1556], [1693], [28], [1034], [1102], [1694], [779], [2], [3551], [322], [8], [719], [1668], [3552], [31], [1108], [], [578], [138], [], [3553], [1108], [2], [29], [1109], [140], [389], [148], [173], [], [263], [3554], [1110], [3555], [3556], [1111], [5], [3557], [1077], [173], [], [257], [1110], [1109], [1417], [7], [1111], [5], [469], [3558], [1695], [173], [], [61], [3559], [15], [3560], [190], [162], [64], [], [16], [35], [], [1679], [5], [771], [3561], [2], [468], [974], [2], [1696], [320], [139], [462], [1697], [1692], [2], [3562], [1693], [1019], [3563], [3564], [462], [1697], [87], [3565], [2], [29], [3566], [1672], [4], [469], [2], [422], [61], [207], [230], [3567], [1090], [1686], [3568], [319], [707], [16], [470], [140], [1520], [3569], [241], [190], [3570], [3571], [1698], [3572], [1112], [1699], [1], [3573], [3574], [3575], [2], [689], [4], [154], [1700], [433], [3576], [4], [154], [466], [571], [1671], [148], [3577], [780], [3578], [200], [2], [422], [3579], [3580], [3581], [1701], [3582], [1702], [3583], [4], [756], [3584], [16], [2], [1113], [3585], [1099], [755], [1100], [3586], [3587], [3588], [297], [1096], [3589], [199], [689], [3590], [3591], [7], [544], [3592], [], [1080], [], [3593], [3594], [4], [469], [3595], [2], [216], [1703], [28], [31], [3596], [263], [3597], [1613], [1102], [1704], [2], [422], [3598], [3599], [319], [745], [1110], [1705], [31], [94], [5], [1020], [3600], [1513], [3601], [3602], [3603], [463], [56], [3604], [1706], [29], [756], [2], [427], [3605], [1347], [3606], [1], [579], [1112], [3607], [756], [3608], [2], [1098], [1707], [3609], [1674], [3610], [3611], [3612], [1708], [3613], [3614], [1099], [755], [1100], [3615], [46], [], [1105], [33], [1709], [4], [469], [319], [2], [777], [771], [528], [3616], [780], [433], [661], [3617], [156], [1114], [3618], [2], [890], [3619], [2], [3620], [3621], [3622], [4], [1522], [2], [1523], [3623], [3624], [1700], [691], [1667], [], [1115], [], [138], [3625], [], [294], [], [138], [56], [1710], [3626], [775], [1093], [3627], [1703], [1704], [3628], [89], [3629], [80], [664], [1103], [1710], [1708], [3630], [1711], [33], [1709], [25], [469], [3631], [3632], [361], [3633], [2], [1712], [5], [200], [3634], [1], [1713], [979], [1714], [173], [1696], [3635], [384], [3636], [983], [1458], [1457], [3637], [322], [2], [370], [3638], [304], [1019], [3639], [3640], [1715], [3641], [1413], [5], [1113], [3642], [195], [1716], [462], [1107], [3643], [3644], [516], [5], [34], [3645], [90], [3646], [138], [173], [384], [77], [2], [3647], [3648], [3649], [220], [5], [3650], [3651], [3652], [6], [3653], [25], [174], [3654], [200], [574], [1077], [4], [27], [46], [16], [272], [3655], [1609], [25], [174], [3656], [3657], [5], [778], [184], [3658], [106], [555], [3659], [207], [200], [574], [1717], [116], [199], [1646], [3660], [1718], [2], [70], [1719], [2], [3661], [269], [1028], [781], [162], [4], [53], [64], [1720], [3662], [16], [35], [1721], [239], [3663], [3664], [2], [29], [3665], [39], [3666], [3667], [29], [176], [1722], [3668], [1], [1723], [3669], [3670], [29], [782], [3671], [3672], [3673], [3674], [701], [1680], [1648], [4], [177], [1661], [387], [39], [1649], [1650], [314], [3675], [3676], [4], [1116], [3677], [3678], [3679], [1652], [1653], [53], [575], [1654], [1655], [1724], [1], [13], [1080], [90], [3680], [3681], [64], [53], [4], [16], [35], [963], [3682], [1725], [162], [64], [16], [35], [3683], [3684], [3685], [199], [100], [3686], [20], [22], [269], [576], [162], [64], [16], [35], [1], [271], [1558], [152], [467], [2], [1117], [3687], [61], [99], [2], [269], [16], [207], [3688], [3689], [215], [4], [144], [1657], [764], [684], [558], [1081], [1082], [151], [771], [1083], [151], [267], [3690], [22], [3691], [3692], [25], [162], [3693], [16], [35], [1], [3694], [580], [177], [64], [16], [35], [106], [781], [], [], [581], [3695], [1726], [15], [3696], [267], [3697], [4], [1726], [3698], [], [1118], [16], [35], [], [], [100], [3699], [2], [582], [3700], [3701], [1727], [387], [], [1039], [671], [33], [1728], [3702], [48], [272], [3703], [3704], [3705], [387], [48], [267], [3706], [387], [365], [1], [3707], [576], [64], [16], [35], [3708], [4], [367], [16], [35], [2], [33], [212], [6], [582], [32], [384], [177], [4], [367], [16], [35], [87], [3709], [75], [582], [1729], [1730], [313], [375], [455], [3710], [3711], [3712], [3713], [726], [269], [1731], [28], [302], [3714], [1119], [273], [15], [3715], [3716], [1120], [3717], [5], [3718], [75], [1086], [3719], [1718], [3720], [6], [3721], [555], [783], [390], [3722], [784], [35], [7], [32], [3723], [3724], [4], [3725], [1], [3726], [218], [3727], [3728], [3729], [3730], [239], [4], [3731], [3732], [555], [239], [1732], [25], [3733], [3734], [463], [3735], [3736], [5], [1085], [577], [3737], [3738], [3739], [3740], [3741], [3742], [3743], [558], [1], [774], [64], [], [16], [35], [], [1729], [3744], [4], [177], [1121], [1731], [16], [35], [62], [3745], [3746], [31], [27], [3747], [2], [3748], [1615], [3749], [3750], [1119], [3751], [3752], [3753], [7], [1122], [32], [3754], [195], [144], [3755], [1733], [144], [100], [1122], [3756], [3757], [3758], [241], [2], [954], [5], [1085], [3759], [3760], [3761], [48], [1734], [1119], [13], [3762], [90], [3763], [3764], [3765], [1084], [273], [1120], [250], [1735], [749], [375], [1079], [4], [53], [1123], [1736], [16], [35], [3766], [3767], [3768], [5], [583], [3769], [1663], [785], [3770], [3771], [749], [375], [5], [162], [1736], [], [16], [35], [], [3772], [3773], [1124], [3774], [583], [160], [13], [3775], [786], [584], [177], [64], [16], [35], [3776], [1737], [1120], [450], [1419], [3777], [1727], [3778], [3779], [787], [3780], [1125], [3781], [3782], [3783], [3784], [3785], [585], [302], [1084], [3786], [566], [4], [144], [319], [3787], [16], [207], [3788], [1738], [4], [29], [1739], [5], [34], [3789], [90], [23], [3790], [535], [1126], [273], [15], [1740], [3791], [3792], [3793], [761], [16], [35], [15], [1740], [106], [3794], [3795], [4], [787], [3796], [784], [3797], [106], [274], [3798], [787], [3799], [2], [580], [177], [64], [16], [35], [465], [3800], [3801], [3802], [3803], [3804], [3805], [3806], [1127], [3807], [1730], [438], [745], [34], [2], [3808], [586], [274], [1741], [177], [64], [16], [35], [113], [75], [460], [3809], [219], [3810], [3811], [3812], [3813], [84], [4], [1086], [3814], [3815], [1], [3816], [34], [3817], [90], [6], [1126], [274], [1741], [177], [64], [16], [35], [3818], [27], [3819], [2], [3820], [3821], [420], [3822], [3823], [3824], [1733], [1128], [420], [3825], [241], [2], [3826], [3827], [6], [3828], [3829], [145], [1], [754], [2], [3830], [195], [1128], [20], [458], [3831], [5], [3832], [], [61], [3833], [136], [176], [], [3834], [241], [3835], [2], [1728], [3836], [3837], [22], [3838], [3839], [27], [3840], [28], [1476], [3841], [3842], [1], [3843], [25], [457], [239], [53], [3844], [3845], [781], [], [3846], [34], [3847], [3848], [3849], [2], [3850], [5], [1129], [3851], [1742], [1743], [4], [53], [575], [1744], [4], [937], [3852], [2], [312], [100], [3853], [5], [580], [64], [16], [35], [3854], [59], [88], [3855], [1745], [3856], [93], [84], [3857], [1746], [3858], [1], [176], [3859], [3860], [3861], [3862], [1746], [3863], [5], [176], [3864], [379], [48], [581], [3865], [144], [3866], [471], [3867], [1555], [3868], [3869], [3870], [3871], [788], [3872], [22], [314], [3873], [144], [3874], [3875], [3876], [3877], [3878], [5], [559], [3879], [3880], [], [3881], [6], [32], [1013], [88], [1747, 1748], [391], [3882], [3883], [3884], [3885], [3886], [1644], [3887], [3888, 33], [3889], [1128], [3890], [3891], [4], [6], [39], [1749], [3892, 1], [1725], [3893], [3894], [1651], [1750], [559], [3895], [3896], [3897], [], [27], [1751, 789], [3898], [3899], [3900], [3901], [1126], [3902], [415], [3903], [3904], [3905], [3906], [1130], [1752], [5], [3907], [1753], [3908], [274], [1534], [1], [726], [1124], [1], [1002], [13], [3909], [90], [3910], [583], [3911], [3912], [1754], [3913], [1732], [1754], [3914], [786], [1578], [467], [4], [177], [64], [16], [35], [3915], [268], [3916], [3917], [241], [5], [144], [3918], [4], [583], [1755], [784], [3919], [3920], [5], [580], [177], [64], [16], [35], [3921], [5], [271], [3922], [1008], [2], [1756], [162], [1123], [53], [1757], [16], [35], [28], [3923], [1087], [1088], [1089], [53], [390], [3924], [53], [162], [1123], [53], [1757], [16], [35], [3925], [390], [3926], [3927], [64], [894], [391], [162], [1645], [16], [35], [3928], [1018], [53], [1131], [1548], [16], [35], [3929], [190], [1132], [33], [566], [3930], [48], [3931], [34], [1758], [90], [4], [302], [752], [1133], [273], [1046], [321], [7], [3932], [1752], [4], [144], [1759], [163], [360], [160], [1], [242], [3933], [3934], [34], [1758], [90], [1760], [17], [1761], [3935], [3936], [194], [32], [88], [1046], [75], [3937], [1], [580], [3938], [173], [2], [1112], [1699], [3939], [64], [], [16], [35], [], [3940], [93], [241], [56], [3941], [2], [1762], [3942], [3943], [713], [106], [3944], [582], [163], [360], [3945], [2], [1761], [3946], [3947], [17], [2], [3948], [1600], [457], [239], [390], [53], [1134], [53], [1571], [61], [2], [3949], [1723], [1724], [61], [15], [1627], [1751], [3950], [1763], [582], [3951], [3952], [272], [3953], [17], [1135], [88], [3954], [3955], [3956, 789], [669], [6], [149], [3957], [3958], [2], [70], [3959], [3960], [3961], [1136], [17], [139], [3962], [1], [29], [3963], [3964], [4], [31], [937], [106], [17], [1135], [3965], [3966], [28], [142], [253], [1764], [144], [3967], [3968], [3969], [587], [184], [1765], [48], [588], [3970], [772], [390], [53], [1131], [53], [773], [3971], [3972], [2], [1756], [773], [3973], [3974], [3975], [20], [1734], [1121], [3976], [3977], [376], [3978], [274], [584], [3979], [1702], [321], [3980], [3981], [3982], [1742], [1743], [1], [1766], [3983], [575], [457], [239], [64], [16], [35], [1], [271], [1767], [1133], [3984], [3985], [1124], [34], [3986], [90], [105], [174], [321], [1427], [52], [3987], [3988], [90], [56], [1584], [390], [53], [1131], [271], [3989], [3990], [416], [3991], [106], [32], [3992], [11], [1133], [273], [3993], [3994], [148], [3995], [3996], [3997], [6], [3998], [566], [4], [3999], [1], [4000], [4001], [4002], [4], [144], [1], [271], [467], [275], [139], [1081], [199], [224], [1094], [4003], [4004], [461], [224], [472], [4005], [4006], [4007], [4008], [4], [4009], [4010], [271], [4011], [200], [316], [1546], [559], [4012], [543], [1659], [1], [1753], [4013], [53], [4014], [273], [56], [274], [584], [468], [765], [1768], [1134], [53], [1769], [1], [4015], [4016], [4017], [61], [765], [380], [1768], [1087], [1088], [1089], [28], [4018], [90], [4019], [4020], [4021], [270], [200], [316], [160], [113], [4022], [4023], [33], [1770], [2], [1762], [1763], [4024], [4025], [4], [4026], [106], [32], [200], [4027], [276], [4028], [106], [4029], [1137], [709], [4030], [4031], [100], [4032], [5], [1109], [4033], [4034], [465], [4035], [2], [1137], [790], [461], [4036], [2], [1106], [764], [1134], [53], [1769], [588], [773], [53], [4037], [53], [1138], [4038], [207], [472], [577], [20], [6], [4039], [190], [1137], [4040], [1094], [4041], [585], [13], [4042], [90], [1771], [190], [467], [4], [177], [64], [16], [35], [1772], [4043], [27], [4044], [1770], [786], [584], [461], [61], [461], [15], [1529], [391], [4045], [1], [233], [], [4046], [], [195], [4047], [1773], [13], [4048], [90], [106], [1774], [391], [1138], [461], [431], [1775], [321], [2], [198], [4], [144], [1759], [4049], [217], [17], [16], [4050], [1583], [391], [4051], [29], [321], [1], [4052], [5], [271], [34], [4053], [90], [1118], [], [56], [1748], [391], [1138], [34], [4054], [90], [1132], [566], [15], [274], [4055], [1], [472], [319], [48], [4056], [1776], [4057], [273], [34], [4058], [90], [23], [1777], [4059], [2], [198], [4], [787], [4060], [4061], [4062], [784], [4063], [1776], [273], [4064], [1], [1778], [472], [571], [2], [4065], [1715], [4066], [4067], [4068], [4069], [94], [4], [4070], [1118], [], [6], [144], [39], [1139], [5], [4071], [4072], [], [4073], [701], [4074], [465], [4075], [4], [472], [4076], [1078], [1401], [588], [4077], [1], [302], [752], [273], [4078], [4079], [159], [390], [53], [457], [4080], [1779], [15], [516], [307], [5], [4081], [53], [4082], [1779], [23], [141], [1572], [774], [162], [64], [16], [35], [1], [13], [4083], [90], [1772], [27], [4084], [2], [4085], [472], [106], [4086], [1103], [1780], [1549], [1065], [1687], [4087], [1707], [1122], [4088], [4], [144], [2], [1098], [253], [4089], [4090], [4091], [4092], [1755], [4093], [1032], [4], [583], [4094], [1773], [541], [29], [321], [46], [4095], [423], [4096], [1140], [73], [64], [16], [35], [1781], [1141], [4097], [4098], [4099], [1], [4100], [4101], [4102], [1782], [1140], [174], [576], [64], [4103], [], [16], [35], [], [1781], [4104], [4105], [4106], [4107], [6], [15], [141], [4108], [312], [4109], [159], [1783], [391], [4110], [1141], [1784], [53], [1785], [53], [4111], [53], [4112], [4113], [53], [4114], [4115], [1606], [15], [588], [1], [13], [4116], [90], [4117], [1129], [20], [1121], [312], [1785], [772], [4118], [774], [162], [64], [16], [35], [1775], [16], [467], [4], [154], [1786], [4119], [4120], [4121], [62], [59], [16], [1739], [380], [56], [4122], [791], [1], [13], [4123], [90], [4124], [4125], [1043], [53], [1783], [4126], [4127], [90], [106], [17], [4128], [195], [1716], [462], [1107], [2], [422], [4129], [466], [4130], [429], [4131], [4132], [62], [1771], [4133], [4134], [1714], [15], [212], [4135], [1666], [764], [469], [224], [200], [4], [154], [4136], [4137], [4138], [4139], [1787], [1106], [2], [689], [1780], [1677], [4140], [4141], [1788], [62], [274], [312], [1043], [1784], [1787], [4142], [4143], [1701], [2], [1096], [1788], [4144], [268], [174], [4145], [61], [13], [4146], [90], [4147], [29], [321], [4], [144], [319], [48], [1660], [33], [296], [4148], [4149], [4], [200], [574], [316], [448], [716], [1789], [33], [4150], [1], [29], [1429], [200], [574], [316], [542], [4151], [4152], [981], [1], [1766], [4153], [4154], [1790], [316], [4155], [4156], [473], [1790], [316], [1], [73], [271], [316], [4157], [1675], [4158], [4159], [4160], [4161], [4162], [741], [4163], [75], [4164], [1629], [46], [119], [474], [4165], [4166], [4167], [4168], [4], [4169], [121], [69], [2], [4170], [792], [23], [2], [4171], [6], [4172], [95], [4173], [20], [34], [2], [272], [475], [1142], [198], [61], [2], [4174], [1143], [117], [16], [237], [2], [4175], [4176], [33], [4177], [670], [1144], [4178], [1141], [4179], [15], [17], [117], [11], [4180], [1], [364], [4181], [121], [1594], [4182], [2], [135], [766], [21], [14], [59], [12], [37], [476], [4183], [477], [238], [1145], [1], [4184], [119], [21], [1791], [21], [14], [728], [275], [2], [1125], [1], [1146], [3], [37], [4185], [3], [277], [4186], [1792], [21], [14], [2], [392], [4187], [1147], [4188], [299], [1148], [323], [5], [1063], [324], [131], [1793], [1794], [4189], [476], [4190], [4191], [1149], [718], [201], [238], [1125], [7], [4192], [21], [14], [106], [1684], [1737], [1795], [4193], [16], [89], [1343], [1], [1796], [120], [1145], [1624], [1797], [48], [157], [117], [4], [4194], [4195], [2], [1798], [1150], [52], [4196], [4197], [1151], [4198], [4199], [4200], [1799], [393], [4201], [16], [4202], [31], [4203], [49], [192], [1800], [793], [476], [4204], [477], [4205], [1152], [4206], [946], [51], [122], [1153], [1145], [275], [4207], [4208], [4209], [4], [357], [394], [794], [4210], [589], [21], [14], [2], [325], [382], [1801], [14], [4211], [1154], [4212], [39], [1155], [4213], [793], [1154], [4214], [250], [6], [1113], [7], [4215], [326], [4216], [25], [1156], [4217], [4218], [4219], [4220], [1], [137], [142], [430], [1], [6], [1636], [3], [4221], [4222], [590], [7], [310], [4223], [40], [395], [77], [2], [396], [120], [21], [14], [250], [310], [77], [2], [4224], [1802], [202], [1803], [477], [4], [1804], [193], [4225], [670], [51], [4226], [5], [43], [193], [795], [470], [1805], [478], [8], [4227], [4228], [5], [396], [252], [5], [1150], [4229], [2], [479], [4230], [5], [1806], [232], [327], [8], [1157], [8], [4231], [1807], [320], [314], [98], [4232], [417], [327], [950], [59], [278], [2], [327], [103], [4233], [396], [589], [278], [2], [70], [4234], [796], [234], [4235], [396], [4236], [2], [70], [1158], [4237], [236], [797], [1808], [119], [21], [1], [1159], [4238], [2], [1047], [1160], [1809], [12], [37], [476], [1810], [1811], [4239], [479], [1812], [4240], [2], [4241], [4242], [1161], [4243], [4244], [1812], [1], [1146], [4245], [4246], [325], [11], [4247], [470], [236], [328], [1], [233], [12], [178], [21], [192], [2], [4248], [25], [185], [233], [329], [4249], [4250], [12], [323], [480], [4251], [4252], [4253], [214], [48], [4254], [12], [178], [11], [523], [4255], [1813], [4256], [32], [192], [31], [698], [1814], [120], [21], [88], [4257], [4258], [68], [4259], [22], [142], [83], [1162], [149], [102], [4260], [120], [21], [296], [32], [149], [1815], [39], [4261], [1], [1816], [1163], [102], [], [265], [746], [262], [20], [118], [1164], [], [967], [4], [30], [4262], [72], [33], [4263], [4264], [4265], [225], [902], [1817], [535], [68], [14], [1], [29], [4266], [13], [798], [236], [277], [102], [131], [4267], [4268], [4269], [279], [330], [381], [4270], [1], [591], [4271], [1], [4272], [1], [481], [475], [330], [1818], [4], [4273], [4274], [61], [85], [4275], [120], [37], [1165], [1147], [4276], [1819], [4277], [1820], [4278], [1], [4279], [240], [324], [178], [72], [1820], [83], [592], [593], [1795], [1821], [1818], [217], [1822], [279], [1823], [4280], [152], [1], [481], [17], [2], [4281], [300], [1166], [117], [4282], [4283], [4284], [21], [14], [62], [32], [149], [4285], [87], [120], [37], [103], [1824], [1825], [4286], [21], [14], [72], [20], [22], [594], [4287], [4288], [1167], [57], [4289], [1399], [12], [21], [14], [435], [4], [1826], [4290], [1827], [330], [4291], [68], [14], [1828], [4292], [1168], [11], [595], [21], [1829], [203], [393], [1163], [12], [37], [1595], [4293], [4294], [132], [27], [671], [330], [1830], [364], [277], [68], [80], [1831], [595], [131], [57], [21], [89], [1536], [], [277], [68], [14], [661], [1004], [2], [119], [21], [], [260], [799], [4295], [131], [4296], [29], [698], [11], [1793], [470], [4], [154], [4297], [14], [119], [21], [17], [4298], [5], [482], [12], [37], [1165], [1147], [3], [1169], [236], [95], [16], [1], [1832], [3], [40], [1833], [77], [2], [331], [7], [4299], [4300], [178], [57], [1834], [554], [3], [1835], [3], [1], [1002], [4301], [32], [31], [698], [1836], [596], [1170], [1837], [68], [3], [1169], [236], [95], [4], [328], [15], [597], [262], [20], [118], [1164], [3], [72], [903], [29], [68], [313], [598], [2], [427], [4302], [3], [20], [313], [1838], [2], [236], [95], [1], [1164], [594], [68], [14], [429], [1167], [25], [119], [21], [72], [4303], [4304], [4], [12], [476], [4305], [4306], [95], [4], [1152], [68], [14], [1171], [11], [21], [3], [1839], [4307], [68], [14], [3], [329], [119], [21], [1840], [12], [37], [476], [353], [4308], [800], [715], [67], [595], [169], [430], [4309], [241], [1172], [4310], [14], [12], [178], [4311], [15], [255], [4], [1713], [1841], [3], [202], [214], [2], [1835], [3], [936], [3], [72], [1], [1842], [4312], [4313], [119], [21], [3], [1049], [797], [1808], [4314], [140], [21], [14], [4], [51], [171], [1], [1842], [14], [362], [25], [102], [12], [37], [80], [531], [329], [21], [1843], [367], [2], [51], [4315], [1844], [68], [14], [4316], [4317], [192], [4318], [5], [21], [4319], [241], [1845], [1846], [51], [4320], [1], [119], [21], [4321], [149], [77], [2], [1847], [1846], [1848], [15], [4322], [51], [1], [4323], [2], [70], [4324], [94], [4325], [15], [4326], [152], [51], [72], [4327], [4328], [17], [4329], [15], [801], [27], [52], [119], [14], [4330], [21], [250], [6], [14], [4331], [68], [7], [98], [6], [133], [4332], [4333], [2], [164], [21], [105], [332], [27], [52], [14], [1801], [27], [4334], [12], [4335], [4336], [331], [1849], [7], [4337], [67], [599], [1], [22], [142], [130], [141], [330], [4338], [14], [1], [99], [163], [17], [1173], [1174], [1175], [179], [3], [39], [98], [4339], [1850], [161], [2], [113], [12], [1826], [433], [380], [1173], [77], [2], [4340], [1851], [48], [182], [795], [132], [1], [394], [802], [4341], [311], [262], [4342], [779], [243], [4343], [1642], [4344], [1791], [12], [21], [14], [728], [275], [2], [564], [3], [4345], [48], [182], [795], [1], [69], [1852], [4346], [217], [1424], [2], [280], [1853], [152], [3], [4347], [3], [280], [244], [4348], [4349], [3], [4350], [152], [250], [157], [2], [4351], [1854], [12], [4352], [1855], [4353], [1], [21], [14], [62], [6], [237], [172], [2], [4354], [244], [1856], [2], [3], [4355], [3], [1405], [540], [4356], [3], [8], [967], [4], [21], [14], [171], [12], [21], [14], [803], [300], [4357], [4358], [67], [274], [1800], [667], [1857], [260], [4359], [1858], [1370], [4360], [234], [1396], [2], [4361], [6], [4362], [4363], [4], [4364], [4365], [1859], [4366], [33], [423], [4367], [1860], [4368], [21], [14], [257], [1857], [1860], [949], [534], [4369], [769], [1861], [4370], [949], [4371], [68], [14], [62], [383], [2], [439], [600], [586], [182], [4372], [4], [713], [2], [392], [214], [1], [29], [754], [4373], [1831], [14], [4374], [1811], [1862], [4375], [600], [183], [225], [429], [4376], [62], [182], [1173], [779], [600], [1127], [78], [7], [4377], [175], [2], [392], [214], [25], [4378], [72], [1176], [4379], [14], [1863], [1], [280], [779], [600], [7], [39], [397], [1489], [4380], [4], [233], [280], [139], [4381], [244], [4382], [4383], [1144], [25], [1156], [280], [139], [4], [14], [57], [175], [2], [4384], [432], [893], [21], [14], [4385], [4386], [564], [1177], [4387], [62], [182], [263], [152], [107], [1864], [8], [396], [1865], [281], [4], [1178], [193], [57], [1178], [67], [1149], [669], [4388], [906], [1151], [4389], [1151], [4390], [586], [1851], [322], [7], [1866], [4], [1174], [1635], [52], [241], [118], [394], [538], [68], [14], [4], [31], [4391], [264], [1], [67], [12], [37], [1498], [4392], [4393], [4394], [156], [52], [4395], [1167], [3], [1797], [311], [593], [68], [4396], [4397], [4398], [2], [1867], [479], [258], [350], [4399], [4400], [7], [1111], [5], [4401], [4402], [23], [434], [1868], [473], [601], [4403], [1867], [243], [1836], [5], [4404], [662], [4405], [2], [769], [4406], [601], [21], [14], [12], [4407], [4408], [1869], [4], [1179], [69], [392], [122], [1869], [322], [4409], [719], [531], [1870], [383], [1], [21], [14], [475], [21], [14], [1871], [89], [804], [398], [37], [4410], [72], [4411], [1872], [3], [4412], [3], [4413], [602], [323], [4414], [4415], [4416], [2], [603], [333], [4417], [1872], [3], [483], [604], [4], [4418], [3], [4419], [157], [21], [14], [153], [143], [392], [1873], [299], [799], [4420], [3], [324], [1874], [4421], [3], [394], [1372], [802], [1875], [21], [14], [], [5], [1063], [793], [12], [4422], [], [87], [398], [37], [4423], [1325], [1], [4424], [1876], [1877], [4425], [1878], [1166], [4426], [17], [4427], [4428], [1879], [602], [21], [14], [3], [2], [888], [4429], [1166], [4430], [], [4431], [45], [], [563], [4432], [4433], [193], [2], [21], [14], [1695], [2], [1355], [1828], [32], [133], [87], [602], [21], [14], [4434], [4435], [21], [14], [1], [313], [1880], [5], [4436], [169], [4437], [2], [1881], [7], [1882], [1168], [268], [1], [1883], [4438], [133], [68], [14], [4], [1884], [172], [2], [4439], [1885], [1148], [1174], [1881], [4440], [4441], [1149], [960], [297], [4442], [1150], [52], [394], [802], [4443], [1630], [2], [61], [722], [800], [4444], [2], [4445], [4446], [4447], [4448], [83], [592], [21], [14], [1154], [4449], [1886], [4450], [4451], [72], [1], [1006], [484], [1887], [4452], [425], [1], [33], [4453], [1888], [21], [14], [4454], [4455], [52], [324], [805], [806], [4456], [4457], [479], [794], [1180], [4458], [1889], [4459], [4460], [1890], [4461], [1891], [417], [213], [12], [4462], [800], [807], [4463], [376], [4464], [4465], [4466], [380], [2], [1892], [4467], [1893], [5], [1161], [4468], [1181], [4469], [4470], [325], [1849], [1889], [968], [4471], [4472], [4473], [4474], [21], [14], [717], [4475], [5], [605], [2], [318], [202], [672], [217], [485], [51], [4476], [1894], [2], [202], [386], [161], [27], [4477], [94], [4478], [1182], [4479], [173], [6], [21], [14], [39], [1322], [1895], [4480], [1183], [89], [4481], [4482], [29], [4483], [122], [1896], [57], [4484], [4485], [1897], [603], [4486], [4487], [1], [203], [21], [14], [296], [39], [4488], [790], [414], [2], [75], [202], [238], [4489], [51], [157], [21], [14], [1898], [4], [4490], [3], [398], [4491], [1], [107], [394], [3], [398], [334], [808], [149], [77], [2], [4492], [7], [4493], [51], [2], [6], [213], [12], [334], [808], [], [238], [1899], [21], [14], [11], [324], [131], [2], [1148], [323], [4494], [4495], [259], [21], [14], [398], [37], [1900], [435], [1682], [22], [21], [14], [4496], [542], [313], [1880], [1], [203], [1806], [4497], [1895], [4498], [4499], [4500], [1855], [4501], [1184], [4502], [570], [21], [14], [89], [1901], [4503], [398], [37], [1900], [606], [68], [14], [4504], [2], [237], [4505], [2], [51], [3], [4506], [1185], [809], [31], [809], [170], [4507], [3], [4508], [1850], [3], [4509], [2], [70], [1719], [8], [318], [8], [799], [4510], [4511], [4512], [2], [325], [3], [603], [3], [1902], [4513], [51], [305], [4514], [1186], [3], [127], [1799], [810], [170], [482], [396], [4515], [193], [94], [280], [107], [4516], [243], [8], [4517], [51], [4518], [234], [8], [1187], [234], [8], [603], [196], [1903], [807], [305], [1904], [1873], [3], [1172], [692], [179], [1161], [430], [132], [706], [149], [69], [2], [4519], [809], [21], [14], [224], [49], [170], [4520], [89], [4521], [3], [4522], [2], [4523], [4524], [184], [809], [4525], [4526], [3], [4527], [1905], [4528], [4529], [692], [1471], [68], [14], [107], [4530], [382], [3], [331], [4531], [187], [12], [4532], [1434], [3], [237], [4533], [334], [805], [4534], [596], [57], [4535], [201], [67], [3], [4536], [11], [736], [325], [3], [4537], [4538], [2], [4539], [805], [5], [4540], [3], [1834], [554], [3], [107], [202], [1056], [1906], [4541], [4542], [4543], [5], [4544], [21], [14], [17], [1907], [1058], [1], [667], [811], [21], [14], [4545], [4546], [4547], [3], [4548], [69], [2], [324], [1183], [3], [1908], [8], [718], [4549], [3], [7], [4550], [69], [1909], [415], [4551], [27], [464], [4], [811], [21], [14], [1479], [57], [4552], [4553], [59], [667], [21], [14], [3], [936], [2], [1896], [325], [382], [4554], [477], [83], [4555], [4556], [1910], [4557], [7], [4558], [169], [4559], [3], [1909], [4560], [4561], [2], [812], [21], [14], [113], [1006], [4562], [4563], [89], [4564], [161], [6], [77], [2], [318], [600], [83], [813], [1862], [1001], [152], [3], [22], [4565], [182], [83], [1875], [1911], [275], [4566], [4567], [605], [4568], [605], [1188], [1189], [14], [257], [25], [185], [1912], [1913], [1117], [4569], [318], [4570], [1914], [904], [1807], [325], [4571], [4572], [477], [991], [356], [4573], [4574], [4575], [4576], [1898], [4], [146], [234], [7], [1915], [477], [217], [1155], [4577], [1], [4578], [4579], [186], [810], [4580], [1190], [2], [4581], [445], [4582], [4583], [4584], [1856], [8], [280], [4585], [4586], [4587], [21], [14], [4588], [382], [428], [1], [4589], [8], [164], [4590], [4591], [4592], [960], [4593], [4594], [8], [4595], [4596], [62], [263], [1], [739], [454], [672], [1009], [799], [811], [14], [7], [428], [27], [260], [4597], [675], [1916], [605], [1188], [4598], [4599], [4600], [139], [4601], [2], [806], [4602], [1189], [14], [1], [4603], [484], [161], [6], [77], [2], [396], [83], [813], [4604], [4605], [4606], [4607], [1371], [299], [607], [393], [1841], [98], [475], [21], [14], [132], [296], [77], [2], [1158], [895], [4608], [25], [4609], [814], [1810], [161], [581], [563], [4610], [479], [4611], [1917], [57], [4612], [1191], [8], [1918], [554], [397], [1], [21], [14], [77], [2], [603], [252], [3], [704], [39], [4613], [5], [357], [75], [264], [1], [324], [1183], [3], [1908], [8], [718], [320], [4614], [479], [23], [39], [397], [1], [21], [14], [790], [1919], [2], [4615], [386], [3], [7], [1920], [4], [4616], [1921], [4617], [27], [1922], [20], [4618], [4619], [4], [1923], [392], [3], [1798], [561], [1924], [12], [95], [4620], [386], [7], [813], [605], [1189], [14], [1925], [428], [4], [12], [4621], [4622], [320], [1886], [2], [1926], [4623], [23], [813], [244], [1927], [2], [4624], [4625], [386], [112], [1913], [4626], [1192], [1186], [280], [1829], [4627], [1193], [4628], [4629], [4630], [596], [26], [30], [46], [26], [7], [1194], [381], [608], [8], [4631], [4632], [126], [531], [26], [30], [539], [], [2], [26], [4633], [1009], [227], [4634], [5], [26], [30], [1928], [4635], [39], [4636], [1195], [1039], [4637], [4638], [4639], [224], [4640], [26], [30], [59], [1929], [604], [1809], [108], [4641], [4642], [4643], [4644], [4645], [1930], [564], [2], [4646], [275], [399], [423], [5], [4647], [298], [275], [1931], [2], [23], [207], [165], [296], [75], [1929], [4648], [4649], [142], [23], [6], [245], [79], [4650], [1931], [919], [423], [5], [4651], [4652], [298], [1932], [2], [4653], [1542], [1], [4654], [52], [4655], [4656], [1933], [1196], [4], [1934], [425], [1], [4657], [257], [4658], [30], [4659], [4660], [1935], [4661], [1936], [4662], [4663], [2], [246], [609], [399], [79], [6], [83], [592], [4664], [1114], [4665], [1], [1937], [1938], [4666], [4667], [1939], [4668], [2], [355], [399], [79], [4], [595], [4669], [4670], [333], [4671], [39], [4672], [139], [4673], [4674], [1], [4675], [1378], [815], [1940], [1941], [445], [4676], [4677], [1474], [4678], [1942], [130], [1943], [4679], [191], [1944], [388], [179], [539], [610], [], [1391], [], [], [50], [610], [], [4680], [232], [1197], [1945], [2], [4681], [4682], [1946], [79], [], [], [4683], [39], [1942], [161], [130], [388], [815], [5], [419], [1947], [610], [], [1948], [815], [814], [4684], [163], [], [4685], [1949], [1717], [195], [1950], [39], [4686], [25], [45], [610], [4687], [4688], [1950], [388], [385], [610], [67], [1948], [815], [1940], [4], [1949], [932], [163], [4689], [246], [609], [333], [282], [79], [1951], [395], [611], [4690], [30], [1952], [1953], [1954], [246], [1955], [816], [7], [133], [4691], [4692], [4693], [8], [817], [4694], [30], [388], [76], [4695], [232], [1197], [1198], [1956], [], [], [486], [419], [4696], [1945], [818], [487], [1199], [232], [1197], [1198], [1956], [1955], [816], [4697], [72], [29], [1957], [719], [225], [2], [399], [79], [88], [112], [4698], [8], [88], [4699], [1], [1937], [1938], [39], [4700], [139], [436], [122], [216], [612], [7], [488], [26], [30], [489], [26], [283], [133], [4], [1930], [2], [75], [246], [609], [4701], [1], [4702], [4703], [4704], [136], [334], [176], [4705], [25], [241], [56], [1958], [1959], [1960], [4706], [586], [4707], [716], [48], [4708], [33], [399], [8], [4709], [5], [357], [1961], [399], [490], [436], [4710], [227], [132], [1200], [26], [30], [25], [185], [1962], [79], [819], [2], [282], [79], [15], [613], [190], [82], [24], [4711], [892], [4712], [4713], [723], [4714], [4715], [5], [491], [1], [1411], [4716], [199], [4717], [1201], [614], [4718], [26], [283], [4719], [1200], [611], [2], [108], [30], [4720], [1], [246], [609], [7], [1963], [25], [1202], [443], [246], [1964], [4721], [150], [27], [485], [227], [4722], [820], [4], [26], [25], [4723], [4724], [1962], [79], [7], [4725], [132], [1], [4726], [265], [1963], [25], [4727], [4728], [1838], [541], [204], [1203], [30], [4729], [2], [204], [1203], [816], [1965], [4730], [260], [1966], [400], [4731], [7], [1967], [1], [4732], [165], [1204], [1], [204], [26], [30], [182], [4733], [1968], [15], [4734], [190], [245], [397], [1968], [231], [15], [1139], [5], [1205], [4735], [4736], [2], [399], [231], [61], [1390], [2], [1969], [2], [1117], [4737], [1970], [2], [763], [1970], [2], [1971], [1972], [100], [1969], [2], [4738], [388], [5], [4739], [1095], [160], [4740], [4741], [1], [1206], [4742], [1065], [2], [4743], [4744], [126], [4745], [79], [1967], [190], [1973], [333], [608], [82], [24], [4746], [155], [4747], [29], [26], [816], [4748], [1], [4749], [763], [1], [4750], [1974], [5], [821], [196], [822], [780], [4751], [491], [151], [4752], [492], [1975], [100], [4753], [33], [400], [923], [614], [1201], [], [151], [4754], [822], [1976], [], [4], [1207], [4755], [4756], [4757], [1824], [400], [4758], [4759], [493], [401], [1184], [705], [26], [1965], [5], [191], [4760], [4], [493], [29], [401], [4761], [493], [4762], [11], [493], [1208], [1977], [4763], [493], [1208], [1977], [], [], [1978], [4764], [4765], [4], [4766], [1843], [4767], [2], [1208], [26], [283], [32], [99], [315], [1200], [1944], [1], [49], [4768], [1], [13], [4769], [215], [1], [332], [1979], [1980], [129], [4770], [1198], [130], [1981], [227], [5], [1918], [26], [30], [2], [107], [251], [4771], [3], [494], [4772], [108], [30], [24], [823], [1954], [4773], [4774], [668], [4775], [4776], [4777], [2], [1982], [4778], [4779], [245], [1], [154], [1186], [2], [615], [24], [598], [270], [447], [165], [15], [59], [362], [25], [1209], [172], [4780], [1127], [4781], [196], [1205], [4782], [], [151], [824], [1983], [2], [4783], [], [695], [282], [79], [86], [402], [491], [4784], [763], [4785], [400], [780], [614], [15], [1984], [1207], [401], [7], [4786], [4787], [1985], [695], [4788], [1210], [37], [165], [25], [185], [924], [615], [4789], [1], [447], [165], [2], [221], [4790], [7], [1943], [155], [4791], [4792], [40], [4793], [55], [155], [1], [165], [665], [4794], [1210], [608], [4795], [24], [105], [99], [74], [205], [88], [4796], [13], [4797], [1], [4798], [1986], [489], [4799], [825], [30], [105], [4800], [24], [490], [215], [226], [4801], [4802], [155], [1373], [84], [4803], [1987], [1767], [1988], [494], [4804], [1], [572], [1989], [126], [465], [1162], [4805], [4806], [2], [165], [1932], [100], [1990], [439], [193], [2], [108], [1], [31], [826], [49], [402], [26], [283], [4807], [1], [1991], [245], [4808], [4809], [28], [4810], [795], [245], [79], [1], [154], [487], [24], [823], [48], [76], [], [1992], [96], [4811], [4812], [2], [84], [4813], [150], [1993], [2], [108], [464], [268], [180], [84], [495], [], [67], [84], [827], [], [24], [59], [226], [1994], [1814], [4814], [30], [4815], [4816], [4817], [2], [4818], [4819], [2], [334], [176], [8], [25], [185], [4820], [2], [4821], [176], [4822], [6], [221], [24], [263], [89], [1995], [1], [826], [49], [72], [1919], [463], [179], [397], [89], [374], [4823], [1211], [613], [82], [234], [2], [24], [1], [4824], [4825], [4826], [4827], [79], [1996], [1212], [1], [1614], [30], [4828], [4829], [1], [687], [4830], [4831], [205], [3], [4832], [25], [22], [1213], [1195], [28], [4833], [4834], [1997], [1], [282], [4835], [4836], [361], [282], [79], [1], [278], [4837], [1760], [170], [259], [944], [2], [24], [96], [], [8], [494], [4838], [], [4839], [900], [46], [123], [196], [137], [403], [231], [296], [678], [370], [2], [155], [955], [24], [96], [4840], [1998], [4841], [1999], [4842], [4843], [4844], [464], [26], [1], [1383], [4845], [1211], [613], [102], [168], [2], [24], [96], [534], [2000], [4846], [8], [378], [663], [1211], [706], [5], [4847], [82], [131], [2], [24], [96], [4848], [86], [75], [155], [217], [1705], [4849], [123], [214], [690], [1194], [663], [131], [314], [4850], [1214], [79], [161], [581], [4851], [27], [4852], [2], [82], [24], [96], [517], [593], [417], [1958], [29], [1202], [4853], [2001], [4854], [2], [1982], [253], [8], [27], [212], [4855], [2002], [169], [6], [31], [4856], [168], [2], [24], [490], [384], [4857], [82], [179], [2], [24], [96], [4858], [4], [964], [80], [112], [123], [214], [4859], [2], [24], [1177], [1414], [4860], [231], [346], [616], [788], [682], [4861], [964], [195], [4862], [4863], [2003], [84], [495], [46], [1991], [2], [108], [2004], [30], [7], [606], [1], [828], [617], [247], [4864], [3], [1215], [3], [568], [1045], [3], [750], [3], [829], [3], [2005], [402], [1216], [283], [4865], [84], [827], [830], [1], [4866], [84], [4867], [5], [821], [2006], [614], [1897], [401], [402], [611], [2], [4868], [150], [803], [496], [335], [24], [1994], [4869], [24], [490], [4], [307], [209], [497], [], [2], [346], [96], [61], [1394], [2007], [919], [4870], [76], [], [346], [616], [39], [2007], [2008], [490], [4871], [618], [148], [45], [129], [76], [129], [], [346], [96], [1313], [1999], [1], [180], [84], [495], [7], [133], [4872], [617], [247], [80], [180], [84], [498], [7], [133], [1], [829], [488], [24], [490], [28], [687], [1217], [803], [4873], [165], [79], [104], [2009], [4874], [2], [24], [823], [5], [492], [1218], [], [4875], [74], [156], [2010], [79], [587], [13], [581], [17], [117], [1980], [4876], [932], [4877], [4878], [496], [24], [4879], [4880], [221], [1219], [24], [1], [4881], [2], [221], [4882], [4883], [307], [24], [96], [1], [24], [2], [4884], [], [5], [151], [1218], [], [4885], [800], [1], [108], [30], [62], [98], [4886], [221], [24], [96], [4887], [1220], [131], [276], [4888], [1221], [619], [335], [24], [4889], [4890], [2004], [39], [2011], [4891], [942], [1222], [1890], [496], [69], [2], [4892], [], [820], [4], [668], [2001], [4893], [2008], [1223], [2012], [1911], [4894], [225], [4895], [1], [2013], [1989], [30], [171], [24], [1201], [4896], [148], [307], [275], [2], [24], [96], [4897], [4898], [4899], [4900], [], [823], [], [1223], [2011], [333], [4901], [335], [24], [1], [108], [126], [381], [2014], [23], [260], [107], [82], [24], [], [419], [50], [], [2], [620], [24], [], [4902], [4903], [489], [345], [198], [59], [494], [15], [4904], [4905], [1403], [4906], [4907], [79], [4908], [24], [8], [494], [2012], [1220], [234], [4909], [4910], [133], [4], [112], [426], [2002], [150], [4911], [117], [4], [4912], [226], [30], [4913], [4914], [1214], [2015], [4915], [4916], [79], [4917], [293], [496], [24], [561], [1431], [585], [621], [4918], [825], [30], [1986], [4919], [622], [806], [2016], [2017], [24], [5], [4920], [1219], [24], [23], [4921], [113], [4922], [593], [4923], [346], [96], [4924], [4925], [69], [2], [664], [82], [4926], [24], [4927], [29], [1202], [1], [127], [4928], [4929], [958], [24], [96], [4930], [463], [825], [30], [1], [750], [4931], [4932], [4933], [1979], [15], [4934], [5], [622], [496], [24], [1220], [1221], [619], [4935], [4936], [604], [819], [2], [806], [2016], [150], [27], [4937], [4938], [443], [2018], [4939], [24], [4940], [1219], [24], [4941], [1], [1681], [1591], [1224], [1477], [435], [172], [4942], [4943], [1221], [619], [4944], [82], [24], [4945], [2], [82], [24], [96], [4946], [4947], [24], [96], [4948], [4949], [1711], [443], [2018], [488], [4950], [24], [1], [2019], [4951], [4952], [4953], [979], [986], [622], [4954], [4955], [4956], [1], [1593], [4957], [4958], [4959], [4960], [4961], [7], [17], [1129], [4962], [70], [4963], [4964], [13], [798], [293], [1854], [622], [1217], [4965], [4966], [24], [2017], [1621], [5], [821], [3], [4967], [1433], [4968], [16], [4969], [82], [24], [96], [265], [4970], [4971], [4972], [4973], [443], [4974], [1430], [1], [2020], [730], [13], [385], [4975], [464], [4], [180], [282], [79], [1], [828], [617], [247], [180], [84], [495], [2021], [180], [84], [498], [1], [829], [4976], [495], [59], [84], [827], [15], [623], [1], [108], [247], [830], [4977], [1153], [155], [4978], [4979], [4980], [1974], [5], [821], [1996], [22], [1], [1209], [172], [1], [154], [4981], [4982], [544], [4983], [129], [4984], [1091], [208], [4985], [519], [1209], [165], [196], [1205], [2], [1971], [1972], [4986], [824], [1983], [4987], [822], [400], [5], [151], [4988], [822], [1976], [361], [1], [492], [491], [151], [4989], [492], [1975], [1830], [33], [400], [4990], [1207], [401], [7], [4991], [4992], [1216], [283], [4993], [84], [827], [803], [496], [335], [24], [4994], [52], [4995], [], [5], [1218], [], [1992], [96], [4996], [4997], [2], [108], [1575], [1879], [4998], [495], [2022], [74], [84], [4999], [], [], [23], [84], [15], [5000], [113], [447], [165], [5001], [25], [401], [5002], [84], [5003], [], [], [623], [84], [5004], [5005], [5006], [15], [1984], [401], [707], [4], [180], [282], [79], [1], [829], [180], [84], [23], [117], [84], [498], [830], [5007], [1420], [5008], [61], [1352], [498], [1418], [1], [84], [498], [5009], [1153], [5010], [1], [1214], [1998], [2015], [150], [1993], [2], [108], [5011], [335], [346], [5012], [586], [1995], [707], [4], [29], [108], [5013], [180], [5014], [5015], [520], [], [831], [26], [30], [831], [26], [30], [1805], [170], [5016], [4], [364], [5017], [204], [26], [30], [5018], [89], [5019], [2], [70], [107], [612], [7], [1915], [29], [108], [2023], [1], [5020], [29], [612], [1], [831], [26], [30], [4], [5021], [46], [246], [30], [2024], [7], [39], [98], [474], [5022], [624], [106], [236], [77], [2], [612], [57], [2025], [1045], [1], [474], [5023], [423], [5], [5024], [625], [5025], [831], [26], [30], [1049], [20], [5026], [769], [5027], [5028], [4], [176], [238], [958], [395], [26], [283], [5029], [204], [1216], [7], [133], [5030], [2026], [265], [2027], [5031], [5032], [2], [818], [487], [1199], [15], [5033], [89], [1901], [492], [1973], [4], [176], [2028], [5034], [5035], [49], [79], [5036], [374], [26], [1060], [1], [591], [5037], [247], [2], [917], [5038], [74], [1225], [5039], [489], [611], [832], [5040], [1], [67], [5041], [205], [8], [812], [1960], [30], [2021], [108], [30], [2029], [7], [5042], [5043], [335], [24], [616], [5044], [1503], [210], [], [2], [24], [96], [5045], [5046], [1389], [2030], [24], [96], [613], [5], [5047], [3], [1194], [620], [2], [26], [1], [154], [491], [5048], [2], [833], [7], [2031], [5049], [214], [5050], [5051], [5052], [5053], [5054], [52], [615], [245], [5055], [107], [833], [5056], [1212], [728], [2032], [480], [133], [4], [608], [5057], [123], [72], [20], [5058], [8], [458], [2], [37], [165], [1844], [82], [24], [96], [5059], [169], [2032], [5060], [2033], [5], [615], [335], [228], [72], [74], [1225], [1925], [4], [608], [82], [24], [616], [270], [615], [245], [276], [663], [5061], [435], [5062], [333], [300], [400], [830], [1], [165], [1421], [1], [5063], [1364], [5064], [1116], [833], [820], [4], [282], [5065], [2], [168], [24], [616], [5066], [668], [205], [5067], [5068], [26], [5069], [5070], [2], [833], [7], [2031], [5071], [2030], [131], [2], [24], [349], [3], [165], [1225], [98], [5072], [959], [832], [2033], [5], [474], [5073], [2010], [149], [180], [2034], [173], [2035], [2], [180], [26], [5074], [1], [5075], [491], [335], [710], [2], [24], [2006], [1217], [], [539], [], [2], [], [4], [834], [2], [6], [5076], [2], [108], [5077], [1478], [488], [5078], [], [2], [5079], [26], [1139], [447], [74], [626], [5080], [3], [5081], [2], [84], [498], [8], [5082], [5083], [2036], [5084], [282], [3], [1226], [180], [626], [1227], [87], [5], [5085], [2], [1987], [8], [5086], [5087], [5088], [2036], [2], [447], [165], [2003], [626], [488], [5089], [5090], [5091], [416], [8], [395], [944], [609], [2], [427], [2037], [5092], [1568], [3], [29], [108], [288], [2], [180], [26], [3], [397], [5093], [2], [29], [108], [133], [1], [5094], [726], [1928], [5095], [2], [427], [626], [5096], [5], [5097], [5098], [108], [30, 789], [314], [5099], [420], [26], [30], [5100], [1068], [49], [5101], [2], [2038], [], [2], [26], [5102], [298], [5103], [418], [], [2], [5104], [1068], [332], [404], [3], [1215], [2039], [4], [2009], [], [2], [2040], [2], [611], [2], [26], [30], [80], [2005], [3], [5105], [3], [5106], [3], [5107], [3], [2020], [730], [3], [2025], [3], [5108], [3], [5109], [3], [2041], [5110], [4], [26], [30], [5111], [5112], [2040], [2], [26], [171], [620], [245], [79], [5113], [402], [620], [172], [2], [26], [283], [710], [953], [2], [620], [817], [8], [2042], [2043], [402], [137], [1957], [5114], [156], [2], [24], [434], [1966], [191], [1985], [186], [2], [2044], [2], [5115], [2042], [8], [2044], [5116], [2], [817], [5117], [2045], [5118], [186], [953], [2], [5119], [26], [30], [3], [39], [2000], [5120], [1964], [1], [1410], [5121], [818], [487], [1199], [8], [487], [5122], [8], [818], [487], [5123], [7], [5124], [5125], [5126], [5127], [5128], [5129], [5130], [3], [5131], [245], [79], [], [24], [], [5132], [3], [5133], [1196], [16], [5134], [80], [5135], [817], [2026], [1952], [5136], [5137], [30], [402], [26], [5138], [662], [2], [176], [1953], [1951], [1203], [7], [1866], [4], [26], [2045], [8], [191], [5139], [72], [259], [26], [30], [5140], [395], [246], [196], [5141], [604], [415], [5142], [245], [79], [5143], [1], [5144], [5145], [1933], [5146], [3], [5147], [5148], [2024], [5149], [492], [5150], [20], [22], [98], [5151], [5152], [1939], [5153], [24], [1223], [7], [83], [613], [20], [5154], [2], [198], [5155], [5156], [8], [1], [395], [825], [30], [3], [107], [251], [264], [1], [246], [57], [494], [196], [5157], [275], [5158], [4], [22], [587], [736], [716], [314], [397], [12], [5159], [5160], [2], [29], [246], [72], [1055], [2034], [30], [1], [216], [826], [49], [133], [4], [5161], [2046], [1628], [1935], [75], [5162], [56], [5163], [108], [30], [5164], [5165], [238], [1135], [5166], [15], [801], [1], [315], [26], [30], [1], [5167], [5168], [13], [5169], [258], [720], [5], [5170], [5171], [5172], [106], [720], [5], [5173], [835], [5174], [5175], [1596], [5176], [1946], [15], [5177], [5178], [4], [5179], [5180], [4], [834], [2], [5181], [425], [1195], [30], [5182], [5183], [5], [26], [30], [5184], [2], [5185], [4], [5186], [5187], [5188], [489], [26], [283], [56], [5189], [5190], [5191], [247], [5192], [499], [5193], [2047], [5194], [922], [25], [5195], [984], [7], [5196], [1026], [252], [1], [5197], [48], [13], [5198], [750], [], [117], [86], [211], [74], [205], [500], [132], [405], [352], [74], [406], [336], [5199], [74], [198], [568], [], [117], [86], [5200], [74], [205], [500], [132], [405], [50], [74], [406], [336], [45], [5201], [2019], [], [117], [86], [499], [74], [205], [500], [132], [405], [128], [74], [406], [336], [5202], [74], [1215], [], [117], [86], [5203], [74], [205], [500], [132], [405], [45], [74], [406], [336], [352], [74], [5204], [], [117], [86], [835], [74], [205], [500], [132], [405], [208], [74], [406], [336], [1115], [74], [2041], [], [117], [86], [836], [74], [205], [406], [336], [837], [74], [828], [617], [247], [], [117], [86], [5205], [74], [205], [500], [132], [405], [50], [74], [406], [336], [835], [74], [62], [5206], [612], [336], [151], [385], [74], [205], [220], [5], [27], [5207], [48], [13], [5208], [19], [838], [8], [19], [8], [839], [5209], [147], [248], [1228], [2048], [5210], [1], [1159], [5211], [2049], [1], [10], [1], [91], [624], [840], [5212], [18], [10], [38], [627], [841], [2], [145], [5213], [10], [5214], [2050], [288], [407], [1], [174], [166], [842], [843], [175], [2], [2051], [94], [], [41], [36], [1229], [219], [2052], [337], [38], [458], [219], [2052], [5215], [2053], [1230], [65], [63], [47], [458], [219], [147], [5216], [5217], [772], [3], [376], [238], [5218], [3], [5219], [322], [3], [5220], [5221], [3], [5222], [3], [87], [1611], [39], [1231], [27], [59], [5223], [5224], [1], [19], [5225], [172], [225], [1114], [5226], [31], [27], [408], [1], [1912], [844], [3], [5227], [31], [2054], [3], [5228], [1232], [1], [77], [2], [5229], [5230], [5231], [2055], [23], [1232], [89], [230], [284], [845], [130], [5232], [739], [5233], [248], [78], [1], [5234], [826], [49], [194], [5235], [5236], [5237], [5238], [5239], [1], [49], [846], [460], [3], [89], [5240], [5241], [5], [5242], [147], [5243], [846], [460], [130], [5244], [6], [1231], [25], [5245], [27], [8], [5246], [25], [5247], [147], [2056], [1227], [5], [2057], [847], [5248], [6], [1231], [471], [72], [130], [213], [5249], [25], [5250], [2056], [39], [1227], [790], [107], [5251], [8], [5252], [5253], [5254], [57], [5255], [5256], [19], [848], [8], [62], [5257], [6], [5258], [16], [5259], [101], [5260], [5261], [32], [309], [5262], [19], [2], [5263], [2058], [18], [409], [2059], [66], [152], [17], [1], [410], [5264], [5265], [2060], [10], [17], [5266], [5267], [376], [1], [2051], [7], [5268], [5269], [1], [69], [2], [745], [501], [484], [23], [141], [5270], [5271], [1233], [38], [3], [628], [41], [502], [7], [5272], [25], [1778], [54], [1234], [501], [1], [22], [142], [250], [5273], [844], [1], [338], [2061], [63], [47], [378], [219], [], [503], [1235], [385], [5274], [], [1230], [36], [38], [378], [219], [], [503], [5275], [845], [1236], [], [157], [19], [5276], [5277], [38], [629], [10], [20], [5278], [2062], [625], [5279], [1237], [5280], [1067], [5281], [5282], [5283], [11], [18], [10], [542], [22], [1048], [61], [2062], [3], [407], [549], [770], [18], [10], [104], [2063], [5284], [5], [18], [10], [3], [2064], [19], [4], [5285], [285], [1], [13], [849], [40], [630], [19], [848], [5286], [1], [5287], [18], [10], [105], [850], [544], [2], [2065], [5288], [222], [5289], [5290], [28], [99], [284], [152], [254], [6], [1238], [5291], [66], [1], [1003], [44], [504], [768], [29], [2066], [5292], [5293], [604], [7], [5294], [841], [851], [40], [5295], [852], [163], [770], [5296], [54], [1], [5297], [5298], [2], [13], [631], [23], [17], [5299], [124], [18], [10], [2], [5300], [1], [5301], [27], [485], [286], [2067], [2068], [5302], [839], [5303], [1539], [18], [409], [1], [2069], [5304], [19], [339], [1891], [116], [309], [23], [2013], [19], [632], [770], [5305], [72], [5306], [853], [633], [5307], [18], [10], [854], [43], [5308], [1], [962], [2], [1876], [855], [18], [10], [11], [124], [19], [625], [2060], [10], [199], [5309], [417], [99], [43], [19], [1], [502], [32], [1], [410], [5310], [28], [137], [339], [5311], [19], [1], [2070], [2071], [5312], [5313], [5314], [5315], [28], [1506], [2], [1239], [5316], [1240], [1241], [19], [5317], [1], [723], [1005], [1], [44], [287], [105], [99], [5318], [5319], [776], [28], [837], [2], [1239], [125], [19], [505], [1], [410], [5320], [2072], [206], [841], [1321], [2], [2065], [499], [179], [6], [5321], [109], [104], [630], [242], [43], [1], [502], [285], [2073], [5322], [4], [110], [36], [38], [842], [5323], [832], [5324], [2074], [147], [5325], [1], [284], [631], [2075], [222], [19], [5326], [44], [1], [36], [92], [242], [43], [506], [778], [43], [80], [1], [97], [91], [81], [634], [92], [66], [2076], [2064], [19], [1], [22], [109], [5], [5327], [5328], [38], [5329], [5330], [220], [5331], [2077], [2078], [5], [18], [5332], [157], [19], [5333], [1], [91], [23], [5334], [679], [1004], [1058], [2], [2079], [286], [2067], [5335], [23], [17], [2080], [941], [5336], [5337], [5338], [2081], [5339], [222], [839], [776], [1], [502], [856], [1690], [44], [125], [197], [440], [66], [506], [1143], [66], [80], [81], [1], [41], [97], [91], [2082], [92], [66], [156], [80], [81], [1], [65], [63], [47], [134], [78], [208], [111], [92], [128], [43], [72], [101], [83], [5340], [67], [41], [1], [22], [109], [40], [635], [2068], [5341], [19], [442], [5342], [819], [471], [286], [2083], [2084], [636], [340], [215], [502], [285], [384], [837], [145], [67], [934], [6], [5343], [111], [232], [124], [1], [36], [5344], [44], [5345], [340], [19], [1], [216], [111], [54], [36], [206], [19], [6], [1238], [1242], [66], [506], [824], [66], [222], [1], [97], [91], [438], [111], [92], [66], [156], [842], [18], [10], [1], [22], [109], [110], [36], [38], [28], [523], [109], [5346], [340], [5], [5347], [70], [309], [109], [855], [18], [10], [1243], [110], [41], [36], [38], [11], [287], [1243], [110], [97], [91], [1], [41], [337], [38], [206], [19], [6], [1238], [458], [43], [1], [634], [23], [1], [99], [44], [1244], [101], [857], [858], [80], [254], [338], [4], [287], [1363], [43], [486], [66], [105], [5348], [121], [1], [22], [109], [23], [17], [1245], [4], [54], [286], [348], [5349], [5350], [222], [19], [1], [36], [38], [418], [44], [92], [93], [294], [43], [506], [578], [66], [80], [81], [1], [41], [97], [91], [81], [44], [156], [179], [28], [41], [65], [63], [47], [134], [78], [81], [211], [44], [92], [505], [206], [101], [5351], [104], [110], [65], [63], [4], [677], [145], [5352], [1101], [859], [5353], [5354], [5355], [5356], [86], [1246], [19], [129], [278], [147], [1], [49], [2085], [507], [5357], [18], [10], [1], [41], [97], [49], [2086], [206], [954], [5], [266], [341], [218], [1116], [208], [1329], [2087], [841], [685], [5358], [860], [5], [19], [15], [254], [5359], [5360], [2], [5361], [145], [5362], [201], [5363], [1247], [5364], [861], [1377], [1], [22], [2088], [862], [19], [104], [110], [278], [147], [1], [75], [339], [105], [1245], [4], [54], [286], [685], [5365], [5366], [206], [19], [630], [824], [66], [1], [1092], [44], [504], [862], [686], [104], [110], [5367], [407], [36], [38], [222], [1], [41], [97], [91], [634], [28], [41], [65], [63], [47], [134], [78], [208], [111], [92], [76], [43], [19], [1641], [5368], [1], [91], [3], [47], [157], [140], [19], [848], [679], [5369], [5370], [502], [285], [1230], [65], [63], [47], [5371], [679], [5372], [1415], [124], [5373], [18], [10], [23], [5374], [19], [863], [5375], [47], [676], [23], [781], [471], [5376], [286], [625], [5377], [91], [182], [278], [1248], [1], [47], [2], [832], [1678], [5378], [17], [1245], [4], [124], [18], [10], [38], [5379], [1249], [864], [222], [19], [1], [36], [38], [5380], [44], [92], [93], [499], [66], [506], [211], [66], [80], [81], [1], [41], [97], [91], [210], [111], [257], [1], [41], [65], [63], [47], [134], [78], [81], [856], [836], [44], [92], [93], [294], [43], [862], [104], [110], [407], [65], [63], [47], [5381], [253], [20], [2089], [101], [4], [145], [2090], [854], [43], [23], [5382], [630], [5383], [5384], [125], [31], [2], [5385], [5386], [5387], [19], [848], [43], [339], [5388], [2091], [5389], [5390], [5391], [5392], [6], [5393], [1243], [110], [36], [38], [11], [637], [97], [91], [105], [18], [10], [59], [637], [36], [80], [18], [409], [637], [97], [91], [1], [41], [337], [285], [215], [339], [295], [1], [2069], [23], [853], [633], [5394], [1250], [859], [858], [92], [2092], [1247], [5395], [5396], [5397], [28], [44], [638], [7], [2093], [4], [1251], [5398], [2094], [101], [2095], [2096], [125], [19], [5399], [1], [22], [633], [5400], [5401], [104], [110], [337], [257], [1], [36], [38], [106], [81], [19], [1115], [44], [92], [1143], [66], [80], [81], [1], [41], [65], [63], [47], [578], [44], [92], [497], [43], [862], [19], [104], [110], [407], [36], [38], [2076], [1], [628], [110], [36], [38], [1241], [19], [22], [109], [2097], [6], [213], [147], [121], [1], [47], [676], [56], [81], [1], [36], [38], [856], [418], [44], [92], [197], [352], [66], [5402], [101], [1], [22], [109], [371], [1351], [80], [81], [1], [97], [91], [128], [111], [92], [128], [43], [87], [80], [1], [41], [65], [63], [47], [134], [78], [578], [44], [92], [197], [128], [43], [1130], [18], [10], [5], [266], [341], [2098], [11], [145], [5403], [348], [5404], [19], [2099], [130], [2087], [2100], [5405], [5406], [598], [5407], [839], [776], [5408], [1], [410], [5409], [5410], [5411], [865], [206], [1720], [159], [5412], [630], [66], [338], [1184], [5413], [19], [65], [63], [47], [5414], [5415], [1], [5416], [3], [86], [1232], [19], [1], [860], [5417], [3], [1252], [371], [189], [70], [1213], [109], [855], [18], [10], [637], [65], [63], [47], [11], [5418], [685], [637], [97], [332], [404], [1], [41], [337], [404], [206], [101], [2], [5419], [854], [43], [858], [222], [19], [1], [41], [65], [38], [835], [44], [125], [197], [2038], [66], [506], [211], [43], [222], [1], [97], [634], [80], [81], [1], [41], [65], [63], [47], [134], [78], [578], [44], [92], [242], [43], [2101], [11], [844], [110], [65], [38], [105], [22], [103], [284], [5420], [19], [5421], [121], [2102], [1237], [220], [5], [635], [286], [38], [1249], [864], [2], [70], [473], [2078], [1914], [1246], [19], [5422], [278], [147], [1], [49], [2085], [507], [19], [5423], [5424], [20], [5425], [579], [597], [93], [19], [5426], [5427], [4], [137], [1906], [5428], [5429], [66], [1], [31], [634], [192], [83], [592], [5430], [6], [5431], [579], [5432], [361], [93], [5433], [5434], [2], [5435], [189], [23], [157], [19], [5436], [5437], [4], [101], [56], [659], [22], [5], [1706], [5438], [1253], [3], [300], [5439], [741], [2103], [31], [2], [1237], [5440], [864], [220], [5], [5441], [5442], [2102], [5443], [5444], [383], [1], [22], [588], [286], [1254], [2104], [5445], [18], [10], [5446], [5447], [1249], [864], [2098], [18], [10], [11], [639], [1], [41], [337], [38], [105], [640], [121], [4], [1251], [5448], [201], [206], [639], [2], [338], [857], [858], [80], [1], [640], [638], [254], [101], [5449], [639], [2095], [2096], [125], [31], [2], [19], [2105], [1255], [43], [339], [92], [19], [211], [66], [1], [418], [44], [504], [1], [36], [80], [125], [128], [43], [1], [1229], [43], [1], [97], [91], [23], [1130], [5], [266], [341], [2106], [101], [532], [18], [409], [80], [1], [65], [63], [47], [81], [19], [242], [111], [92], [505], [179], [2107], [22], [1246], [19], [5450], [278], [147], [1], [49], [2], [70], [5451], [2081], [3], [87], [299], [1884], [5452], [2055], [2074], [866], [47], [32], [5453], [5454], [6], [213], [109], [766], [5455], [5456], [5457], [420], [516], [19], [5], [19], [807], [72], [11], [635], [2104], [5458], [1253], [561], [157], [19], [169], [5459], [4], [2099], [23], [125], [1], [36], [38], [242], [43], [1], [2108], [44], [504], [222], [1], [65], [63], [47], [134], [78], [294], [111], [125], [197], [210], [43], [5460], [19], [5461], [2109], [18], [10], [5462], [23], [1031], [5], [2110], [1], [22], [109], [381], [44], [844], [867], [287], [5463], [25], [1256], [856], [438], [1924], [222], [2111], [44], [1], [36], [2101], [197], [129], [43], [179], [80], [81], [1], [97], [91], [44], [156], [179], [5464], [1229], [111], [1], [65], [63], [47], [92], [197], [505], [179], [465], [1257], [18], [10], [67], [41], [1], [22], [109], [1777], [636], [340], [163], [131], [5465], [18], [10], [23], [5466], [18], [10], [1], [5467], [5468], [206], [340], [6], [991], [2], [19], [147], [5469], [23], [17], [5470], [219], [5471], [5472], [5473], [5474], [92], [19], [497], [43], [215], [1258], [225], [23], [125], [1], [410], [287], [640], [638], [15], [853], [1], [2089], [101], [857], [486], [2112], [56], [81], [1], [36], [38], [418], [44], [5475], [5476], [101], [4], [110], [36], [20], [2113], [378], [579], [80], [1], [65], [63], [47], [125], [129], [43], [1], [497], [111], [504], [19], [236], [2114], [2115], [5477], [110], [36], [38], [485], [19], [2114], [5478], [1], [253], [28], [5479], [5480], [23], [5481], [5482], [5483], [5484], [5485], [890], [5486], [297], [834], [2], [5487], [1], [5488], [161], [182], [27], [671], [5489], [4], [5490], [7], [5491], [1], [175], [2], [508], [70], [1213], [109], [40], [635], [2084], [340], [2116], [348], [2117], [2118], [23], [855], [18], [10], [11], [5492], [1], [41], [337], [38], [105], [99], [640], [4], [1251], [996], [2119], [2106], [101], [22], [633], [5493], [166], [5494], [859], [486], [39], [2054], [28], [640], [638], [1031], [18], [5], [5495], [5496], [2120], [43], [5497], [257], [1], [36], [81], [19], [1092], [44], [125], [197], [1349], [66], [92], [129], [43], [1], [208], [111], [504], [1], [65], [63], [47], [2073], [101], [4], [110], [36], [1545], [363], [4], [1259], [722], [18], [10], [145], [2090], [1], [41], [337], [38], [206], [101], [2], [338], [846], [341], [104], [333], [128], [129], [28], [36], [38], [81], [19], [48], [272], [1003], [44], [125], [197], [440], [43], [28], [97], [91], [81], [44], [156], [125], [197], [76], [43], [28], [41], [65], [63], [47], [134], [78], [81], [129], [111], [125], [197], [76], [43], [5498], [33], [109], [635], [348], [2117], [2118], [2116], [38], [5499], [1260], [819], [471], [3], [113], [33], [109], [5500], [254], [19], [5501], [354], [5502], [5503], [5504], [618], [19], [407], [18], [10], [549], [121], [104], [2063], [66], [103], [1261], [], [2121], [342], [992], [18], [10], [], [124], [10], [343], [134], [78], [], [59], [124], [248], [1228], [5505], [2048], [365], [1], [444], [285], [10], [5506], [13], [641], [840], [54], [1], [36], [38], [442], [5507], [863], [124], [248], [1228], [1], [135], [1262], [56], [2094], [868], [38], [5508], [5509], [163], [], [354], [869], [5510], [184], [163], [97], [760], [91], [5511], [869], [5512], [5513], [1], [65], [63], [47], [28], [1242], [342], [5514], [17], [18], [10], [153], [782], [2122], [5515], [1067], [134], [78], [], [507], [], [61], [87], [153], [509], [352], [2086], [5516], [1], [47], [624], [40], [5517], [5518], [5519], [1263], [1264], [54], [840], [216], [5520], [642], [1], [223], [510], [344], [1], [444], [10], [629], [10], [1941], [25], [77], [2], [1263], [1], [49], [793], [5521], [509], [166], [], [], [5522], [5523], [166], [5524], [5525], [5526], [1], [1602], [166], [116], [5527], [13], [641], [28], [2123], [1265], [385], [5528], [507], [54], [38], [1266], [278], [145], [1], [135], [1262], [1792], [18], [10], [186], [145], [2], [23], [5529], [5530], [160], [445], [714], [1608], [5531], [870], [759], [591], [5532], [13], [511], [301], [589], [132], [5533], [145], [1], [49], [445], [5534], [5535], [5536], [73], [10], [4], [248], [78], [25], [185], [2124], [5537], [374], [5538], [2125], [563], [2], [5539], [591], [5540], [2], [5541], [5542], [124], [1], [58], [13], [1339], [1622], [124], [5543], [134], [78], [5544], [5545], [860], [5546], [31], [2126], [153], [1], [560], [519], [5547], [1], [10], [28], [13], [5548], [5549], [54], [5], [5550], [5551], [], [1082], [871], [2127], [10], [134], [78], [1083], [871], [2127], [10], [5552], [5553], [54], [952], [163], [131], [13], [641], [5554], [124], [10], [134], [78], [765], [132], [2128], [10], [160], [1], [128], [1588], [641], [218], [378], [501], [2], [1796], [67], [13], [5555], [254], [54], [5556], [1136], [2129], [2130], [41], [2131], [2132], [160], [20], [338], [4], [2133], [2134], [1], [266], [97], [91], [206], [54], [5557], [4], [110], [341], [587], [778], [503], [872], [], [23], [32], [46], [341], [5558], [642], [5559], [1136], [], [105], [166], [2], [782], [2122], [5560], [38], [134], [78], [1], [210], [1239], [5561], [23], [57], [54], [5562], [5563], [5564], [5565], [4], [5566], [2135], [332], [38], [28], [13], [2136], [627], [54], [5567], [5568], [258], [350], [20], [6], [17], [54], [5569], [2], [753], [5570], [5571], [5572], [223], [389], [28], [13], [1589], [40], [1146], [5573], [54], [618], [118], [18], [10], [2], [70], [760], [91], [2077], [526], [184], [23], [1267], [110], [18], [265], [738], [], [5574], [], [1233], [1], [13], [5575], [236], [36], [38], [134], [78], [56], [1922], [18], [10], [5576], [48], [103], [44], [1], [5577], [433], [1244], [103], [44], [532], [2133], [2134], [1], [5578], [5579], [690], [1244], [101], [5580], [5581], [56], [5582], [5583], [5584], [5585], [287], [5586], [1340], [360], [18], [10], [1252], [99], [41], [65], [1], [2137], [284], [5587], [5588], [1], [109], [922], [2129], [2138], [163], [131], [618], [99], [124], [1257], [41], [36], [2053], [4], [1259], [116], [1816], [5589], [510], [344], [1266], [2139], [2140], [10], [1], [13], [2141], [915], [5590], [40], [474], [5591], [873], [5592], [1268], [874], [875], [20], [6], [5593], [238], [1044], [5594], [285], [1813], [2], [13], [1269], [5595], [344], [5596], [11], [2142], [2], [5597], [5598], [2], [422], [199], [5599], [5600], [270], [91], [741], [5601], [5602], [11], [1270], [201], [411], [5603], [5604], [285], [5605], [5606], [349], [112], [99], [124], [5607], [5608], [1], [124], [156], [28], [99], [579], [201], [411], [2143], [54], [41], [36], [711], [1], [2137], [20], [2113], [5609], [2123], [792], [842], [201], [411], [110], [5610], [2144], [1159], [632], [20], [1765], [5611], [5612], [166], [343], [18], [10], [5613], [876], [67], [41], [2], [13], [1236], [1735], [166], [5614], [4], [876], [41], [36], [436], [1047], [963], [5615], [996], [5616], [561], [5617], [5618], [54], [5619], [1774], [5620], [4], [876], [5621], [105], [4], [5622], [29], [2145], [286], [5623], [636], [340], [220], [5], [573], [127], [863], [147], [877], [636], [5624], [5625], [5626], [2], [5627], [1101], [5628], [220], [5], [122], [2146], [1248], [5629], [1271], [1540], [5630], [5631], [2147], [493], [5632], [851], [220], [5], [5633], [1272], [5634], [38], [1273], [2097], [1], [876], [36], [309], [18], [10], [83], [1162], [5635], [2107], [2148], [4], [5636], [5637], [145], [287], [1], [5638], [643], [5639], [857], [2], [5640], [5641], [3], [122], [2146], [72], [54], [5642], [1], [1923], [508], [320], [532], [5643], [54], [851], [1685], [1516], [109], [130], [5644], [101], [1], [5645], [643], [854], [43], [486], [2112], [1], [5646], [5647], [141], [166], [343], [5648], [76], [2142], [5649], [2], [5650], [730], [1104], [5651], [5652], [5653], [5654], [5655], [5656], [2149], [5657], [1247], [2125], [83], [5658], [5659], [5660], [34], [1], [644], [142], [254], [166], [1274], [5661], [2], [5662], [25], [5663], [5664], [5665], [1698], [2150], [218], [2151], [363], [878], [1275], [5666], [5667], [1], [444], [5668], [5669], [28], [2058], [2152], [5670], [1], [29], [339], [1076], [265], [5671], [139], [6], [5672], [128], [43], [5673], [52], [1250], [265], [5674], [2145], [643], [6], [5675], [5676], [2153], [5677], [5678], [15], [5679], [2109], [5680], [5681], [20], [6], [2143], [1276], [1], [1277], [484], [5682], [2154], [339], [1076], [76], [76], [20], [644], [878], [5683], [11], [65], [2155], [5684], [1], [2156], [404], [11], [5685], [5686], [258], [5687], [5688], [5689], [875], [343], [72], [122], [5690], [2157], [6], [5691], [1258], [638], [5692], [861], [189], [5693], [2154], [76], [45], [20], [5694], [28], [181], [317], [5695], [28], [363], [5696], [5697], [2158], [5698], [5699], [5700], [2159], [2100], [5701], [5702], [5703], [248], [2], [1142], [5704], [1278], [5705], [66], [1257], [1], [341], [20], [184], [5706], [1764], [1279], [5707], [5708], [5709], [322], [7], [5710], [94], [5711], [701], [861], [5712], [768], [309], [1280], [189], [2157], [5713], [6], [5714], [4], [983], [2160], [1281], [66], [5715], [189], [195], [644], [141], [5716], [636], [340], [5717], [5718], [1272], [5719], [2153], [5720], [258], [720], [27], [16], [5721], [4], [2070], [2071], [1817], [94], [66], [5722], [121], [28], [103], [5723], [141], [5724], [1260], [5725], [5726], [1278], [141], [1563], [5727], [5728], [5729], [1921, 789], [], [5730], [5731], [1279], [2], [341], [1264], [1], [5732], [5733], [20], [644], [5734], [573], [5735], [4], [36], [5736], [5737], [5738], [320], [20], [5739], [2], [97], [557], [4], [5740], [18], [5741], [1], [196], [142], [645], [5742], [5743], [5744], [2], [866], [18], [10], [5745], [5746], [2], [5747], [220], [5], [5748], [1282], [1255], [5], [5749], [5750], [217], [485], [54], [5751], [2115], [1888], [5752], [5753], [5754], [1], [2111], [2], [342], [2161], [5755], [643], [6], [1531], [4], [1532], [36], [852], [163], [20], [6], [5756], [31], [2162], [379], [2], [44], [54], [5757], [4], [6], [5758], [5759], [46], [2162], [5760], [32], [111], [5761], [5762], [5763], [5764], [5765], [508], [83], [5766], [1279], [161], [70], [5767], [5768], [5769], [215], [5770], [5771], [5772], [5773], [2148], [4], [646], [5774], [834], [6], [5775], [1248], [646], [5776], [125], [76], [43], [872], [1], [410], [10], [161], [6], [866], [10], [32], [5777], [5778], [5779], [5780], [5781], [865], [5782], [4], [5783], [2], [76], [209], [5], [210], [76], [878], [1275], [2163], [5784], [5785], [5786], [242], [342], [17], [5787], [2], [5788], [114], [5789], [1], [174], [248], [78], [2164], [700], [101], [5790], [5791], [1192], [5792], [5793], [1283], [508], [1738], [2082], [5794], [343], [5795], [16], [5796], [409], [5797], [644], [109], [5798], [5799], [2149], [5800], [5801], [1], [409], [1132], [4], [2152], [6], [840], [2156], [1274], [1], [5802], [5803], [2165], [11], [646], [1277], [5804], [32], [5805], [5806], [2166], [788], [1033], [166], [343], [5807], [45], [50], [867], [18], [409], [314], [1033], [54], [1274], [5808], [4], [5809], [646], [1978], [865], [105], [5810], [36], [1], [622], [5811], [5812], [2165], [72], [239], [5813], [6], [5814], [5815], [1], [5816], [5817], [585], [137], [1277], [434], [122], [5818], [1281], [66], [1276], [875], [343], [5819], [5820], [1272], [646], [1961], [2167], [5821], [865], [1365], [2168], [18], [10], [5822], [2163], [5823], [484], [499], [342], [511], [2126], [895], [5824], [10], [878], [1275], [2151], [484], [10], [5825], [63], [5826], [639], [5827], [5828], [5829], [1182], [5830], [5831], [218], [1691], [723], [853], [1280], [121], [5832], [639], [50], [209], [1192], [2167], [4], [5833], [2169], [76], [209], [1280], [189], [5834], [175], [20], [2110], [407], [36], [38], [629], [10], [5835], [122], [5836], [218], [2103], [1282], [1255], [2158], [2170], [17], [18], [10], [136], [614], [72], [38], [851], [1273], [17], [5837], [5838], [103], [2164], [6], [1241], [5839], [753], [1282], [5840], [141], [1281], [66], [1276], [15], [5841], [5842], [2166], [1], [5843], [643], [5844], [5845], [5846], [5847], [2147], [5848], [859], [36], [189], [5849], [1273], [5850], [5851], [1], [1278], [5852], [417], [36], [5853], [420], [18], [10], [1722], [2155], [8], [5854], [62], [5855], [5856], [20], [2135], [166], [1], [13], [641], [17], [54], [623], [107], [1256], [5857], [1], [10], [5858], [508], [48], [627], [852], [223], [17], [757], [223], [1], [13], [2136], [5859], [54], [2080], [2171], [111], [7], [5860], [4], [1745], [587], [153], [184], [792], [218], [75], [460], [627], [54], [1284], [89], [5861], [105], [181], [5862], [5863], [419], [208], [694], [5864], [199], [100], [627], [54], [852], [223], [5865], [351], [223], [2172], [23], [40], [5866], [1], [499], [342], [916], [5867], [867], [5868], [1271], [2170], [28], [33], [181], [15], [5869], [5870], [837], [1878], [1285], [5871], [124], [18], [10], [2130], [41], [65], [218], [77], [2], [5872], [585], [13], [2141], [40], [5873], [510], [344], [2139], [875], [258], [5874], [6], [223], [2172], [661], [2173], [5875], [166], [786], [584], [223], [198], [442], [1169], [5876], [2], [207], [181], [317], [1], [352], [1265], [5877], [873], [317], [15], [350], [132], [223], [510], [344], [258], [83], [5878], [33], [740], [161], [13], [5879], [2059], [44], [2093], [1], [181], [32], [52], [18], [10], [5880], [1254], [5881], [1], [5882], [1286], [181], [265], [1037], [2174], [54], [343], [1283], [5883], [105], [99], [66], [1], [181], [2], [1287], [147], [18], [10], [5884], [5885], [5886], [1288], [647], [40], [5887], [89], [5888], [1750], [648], [2], [5889], [694], [1285], [20], [5890], [13], [1269], [218], [313], [598], [40], [5891], [483], [1288], [536], [5892], [7], [40], [2014], [647], [28], [284], [5893], [40], [5894], [483], [5895], [647], [20], [1156], [1934], [753], [1852], [169], [5896], [86], [160], [5897], [5898], [332], [404], [7], [673], [6], [112], [1256], [2175], [5899], [1626], [1936], [5900], [5901], [5902], [5903], [847], [112], [2175], [2171], [2176], [2177], [5904], [1261], [647], [17], [5905], [5906], [736], [5907], [847], [388], [5], [483], [717], [647], [173], [2178], [5908], [160], [13], [1236], [986], [2079], [5909], [40], [5910], [5911], [199], [143], [5912], [5913], [181], [5914], [5915], [2179], [223], [510], [344], [1380], [2], [508], [5916], [909], [266], [97], [49], [13], [1057], [5917], [41], [5918], [47], [13], [2180], [297], [357], [1263], [2179], [5919], [41], [65], [63], [47], [503], [5920], [3], [2181], [3], [5921], [311], [40], [1190], [181], [5922], [266], [65], [63], [47], [13], [5923], [624], [40], [5924], [1289], [181], [2], [70], [332], [404], [134], [78], [2], [1289], [438], [573], [5], [522], [1289], [5925], [5926], [136], [140], [181], [2182], [1], [242], [342], [877], [40], [1286], [223], [198], [1], [73], [18], [10], [1268], [442], [5927], [5928], [143], [649], [15], [5929], [5930], [5931], [2], [1142], [1], [174], [18], [10], [61], [1270], [201], [411], [150], [181], [623], [1172], [2183], [54], [3], [87], [5932], [111], [5933], [18], [10], [3], [111], [18], [10], [5934], [442], [1286], [181], [5935], [44], [867], [124], [5936], [201], [5937], [985], [5938], [5939], [5940], [1250], [1], [99], [266], [5941], [65], [63], [47], [13], [5942], [5943], [633], [2174], [18], [10], [1283], [5944], [125], [43], [101], [31], [2], [5945], [1260], [5946], [5947], [], [505], [], [2159], [5948], [], [505], [], [5949], [5950], [873], [589], [132], [299], [73], [18], [10], [1268], [5951], [347], [2183], [54], [1643], [1597], [1512], [58], [10], [1], [560], [519], [5952], [873], [5953], [5954], [5955], [129], [694], [1285], [5956], [2119], [5957], [408], [403], [167], [648], [649], [1290], [5958], [11], [18], [10], [23], [81], [5959], [44], [11], [54], [121], [52], [503], [1160], [3], [845], [5960], [5961], [5962], [2184], [23], [81], [5963], [44], [11], [18], [10], [403], [167], [648], [5964], [410], [1290], [11], [5965], [1291], [5966], [5967], [23], [81], [2185], [44], [11], [18], [10], [5968], [783], [5969], [44], [2186], [1254], [5970], [2072], [69], [649], [1290], [11], [5971], [381], [5972], [2128], [10], [1270], [201], [411], [59], [69], [649], [1292], [1233], [104], [2185], [632], [1], [216], [2187], [642], [160], [113], [460], [2], [1269], [5], [2180], [5973], [201], [411], [783], [5974], [1], [5975], [44], [1], [41], [63], [47], [5976], [959], [598], [5977], [649], [1292], [2138], [48], [5978], [19], [838], [], [147], [18], [10], [533], [], [1], [13], [1877], [301], [201], [411], [408], [17], [403], [167], [648], [866], [18], [10], [1292], [1], [41], [36], [1293], [160], [5979], [5980], [5981], [18], [10], [1291], [59], [19], [838], [2144], [5982], [43], [868], [1293], [3], [1947], [632], [1], [216], [2187], [642], [5983], [5984], [18], [10], [25], [522], [5985], [5986], [1284], [5987], [344], [20], [5988], [317], [17], [5989], [5990], [113], [938], [111], [97], [760], [91], [13], [877], [624], [5991], [1288], [1284], [510], [344], [46], [2178], [5992], [3], [1210], [5993], [5994], [2140], [10], [1], [284], [511], [2121], [17], [5995], [5996], [61], [1623], [52], [216], [5997], [248], [78], [1264], [629], [10], [408], [77], [2], [2066], [412], [5998], [338], [868], [1293], [5999], [163], [], [1], [284], [6000], [], [301], [338], [868], [1294], [872], [2120], [501], [1], [6001], [113], [503], [], [6002], [3], [6003], [], [186], [333], [6004], [16], [2], [70], [145], [287], [173], [], [6005], [287], [6006], [6007], [2092], [], [629], [10], [408], [403], [167], [1], [628], [6008], [6009], [], [65], [63], [47], [], [6010], [219], [301], [408], [403], [167], [1], [81], [535], [1786], [2088], [104], [], [1242], [], [163], [6011], [549], [6012], [63], [47], [59], [19], [838], [6013], [632], [6014], [408], [533], [403], [167], [1], [6015], [2061], [63], [47], [1294], [872], [160], [113], [836], [792], [2], [13], [6016], [48], [6017], [6018], [6019], [727], [6020], [], [69], [2], [6021], [727], [6022], [6023], [727], [6024], [6025], [], [7], [6026], [2188], [6027], [6028], [2105], [2], [145], [6029], [1271], [5], [18], [10], [284], [2047], [541], [522], [6030], [6031], [147], [1], [174], [248], [78], [1871], [2050], [18], [10], [6032], [1204], [285], [23], [1252], [517], [237], [6033], [41], [2132], [301], [589], [2], [69], [1204], [6034], [1], [248], [78], [759], [23], [254], [628], [27], [237], [836], [41], [2186], [1266], [1], [371], [526], [1054], [2], [23], [628], [2176], [2177], [642], [20], [6], [17], [121], [6035], [721], [28], [783], [539], [1265], [385], [40], [1190], [18], [10], [863], [145], [1], [135], [1262], [2], [70], [507], [301], [40], [6036], [6037], [507], [2182], [13], [446], [6038], [166], [1], [277], [860], [1], [49], [220], [5], [22], [6039], [10], [255], [6040], [4], [6041], [6042], [2], [332], [404], [], [], [361], [22], [113], [2189], [111], [41], [63], [47], [160], [6043], [6044], [438], [219], [4], [1259], [1182], [538], [4], [1253], [459], [6045], [11], [54], [41], [8], [69], [103], [1261], [], [440], [342], [992], [2057], [551], [25], [12], [178], [2190], [6], [12], [37], [2190], [269], [6046], [4], [127], [324], [37], [6047], [2], [12], [37], [3], [847], [6048], [437], [27], [6049], [686], [6050], [323], [116], [309], [1295], [1], [6051], [3], [48], [272], [645], [6052], [1], [828], [617], [247], [130], [6053], [146], [6054], [6055], [874], [850], [1296], [], [1], [95], [11], [674], [482], [12], [178], [], [], [6056], [192], [12], [2191], [3], [6057], [437], [3], [17], [22], [2168], [146], [2], [427], [37], [315], [358], [2192], [234], [6], [315], [95], [2193], [46], [362], [25], [879], [2194], [5], [1224], [6058], [3], [6059], [148], [6060], [25], [185], [2150], [6061], [362], [25], [6062], [3], [1902], [924], [6063], [3], [428], [27], [32], [1206], [1441], [6064], [3], [2195], [1905], [3], [415], [32], [263], [179], [1], [244], [322], [3], [1], [870], [3], [436], [122], [1295], [1], [305], [483], [120], [178], [4], [6065], [648], [2], [599], [791], [1], [137], [142], [3], [483], [4], [473], [3], [2196], [69], [2], [364], [437], [262], [212], [118], [8], [6066], [6067], [2197], [6068], [1], [240], [51], [116], [481], [3], [88], [40], [6069], [3], [6070], [11], [142], [3], [87], [743], [1], [51], [6071], [2198], [6072], [2191], [3], [1997], [1], [1560], [67], [599], [788], [98], [880], [5], [203], [393], [2199], [32], [8], [881], [715], [233], [140], [677], [393], [6073], [1], [6074], [6075], [51], [11], [514], [6076], [518], [148], [262], [212], [118], [], [6077], [364], [880], [], [6078], [20], [22], [6079], [204], [95], [565], [118], [8], [3], [46], [288], [6080], [2], [6081], [3], [6082], [2195], [536], [6083], [6084], [3], [6085], [6086], [11], [812], [931], [6087], [243], [2200], [75], [7], [1981], [204], [95], [437], [276], [6088], [6089], [6090], [3], [704], [6091], [25], [2201], [794], [7], [6092], [1802], [1144], [2], [4], [6093], [2], [1055], [6094], [3], [415], [2202], [6095], [2201], [794], [25], [204], [95], [2], [119], [34], [2181], [6096], [6097], [151], [66], [198], [3], [6098], [6099], [6100], [146], [6101], [1], [13], [6102], [6103], [1926], [1858], [243], [2], [146], [3], [2], [299], [22], [12], [37], [3], [88], [2203], [1], [6104], [48], [1832], [3], [1], [34], [6105], [138], [141], [153], [6106], [2204], [1297], [20], [127], [6107], [57], [240], [2189], [4], [12], [6108], [233], [51], [276], [1187], [6109], [3], [6110], [4], [51], [127], [882], [6111], [2035], [1], [650], [3], [69], [1959], [3], [742], [16], [140], [3], [22], [1168], [4], [315], [358], [2192], [497], [6112], [470], [6], [740], [1721], [2], [6113], [514], [5], [1], [6114], [2], [153], [6115], [1297], [100], [6116], [660], [2], [5], [17], [2205], [1298], [1299], [141], [1821], [621], [6117], [796], [389], [1300], [651], [1301], [95], [211], [3], [6118], [1298], [1299], [3], [2204], [1297], [1], [474], [233], [12], [37], [796], [281], [4], [75], [1206], [100], [6119], [6120], [25], [12], [37], [34], [6121], [20], [883], [626], [6122], [6123], [4], [], [820], [4], [85], [2], [51], [3], [32], [870], [3], [244], [2039], [843], [4], [226], [652], [6124], [12], [178], [3], [17], [2023], [520], [1], [1157], [2202], [51], [6125], [6126], [6127], [52], [], [3], [6128], [83], [2028], [2206], [2], [880], [1294], [2131], [1], [356], [570], [243], [1], [22], [142], [3], [88], [17], [22], [1907], [6129], [1], [1861], [6130], [15], [801], [1], [51], [276], [2124], [3], [6131], [870], [3], [1158], [6132], [252], [3], [903], [1927], [2207], [904], [57], [128], [6133], [6134], [2037], [3], [221], [326], [652], [6], [12], [152], [355], [230], [1], [12], [3], [3], [1839], [1], [12], [32], [591], [6135], [6136], [6137], [247], [88], [6138], [4], [6139], [128], [3], [171], [221], [326], [652], [32], [1170], [106], [2161], [6140], [277], [51], [5], [6141], [230], [3], [884], [85], [], [], [50], [2049], [2091], [2208], [478], [3], [6142], [6143], [3], [32], [1694], [6144], [204], [95], [3], [1], [34], [6145], [594], [3], [86], [127], [1442], [3], [164], [6146], [94], [], [71], [], [2209], [6147], [51], [4], [6148], [11], [601], [71], [], [6149], [2210], [6150], [71], [], [1060], [25], [1180], [11], [71], [], [621], [389], [2211], [202], [796], [6151], [71], [2212], [6152], [], [3], [15], [6153], [6154], [6155], [6156], [247], [381], [309], [1295], [1], [277], [3], [812], [767], [243], [29], [1443], [3], [6157], [347], [2213], [12], [2214], [850], [217], [485], [2027], [6158], [843], [885], [264], [272], [48], [34], [511], [46], [], [3], [6159], [1567], [1342], [1066], [8], [1], [194], [32], [153], [1847], [1616], [1], [482], [767], [243], [20], [22], [1222], [2213], [364], [688], [12], [178], [4], [69], [2], [879], [69], [1910], [3], [46], [362], [25], [6160], [6161], [51], [3], [6162], [2], [879], [5], [103], [480], [39], [213], [149], [6163], [1823], [326], [2215], [2], [198], [6164], [1899], [51], [11], [595], [6165], [15], [6166], [16], [3], [2], [909], [653], [6167], [3], [112], [6168], [179], [5], [1425], [], [50], [621], [480], [1988], [164], [3], [1193], [51], [6169], [11], [240], [653], [651], [1301], [95], [347], [45], [233], [164], [699], [331], [3], [6170], [1180], [1], [315], [95], [76], [233], [27], [2216], [1301], [95], [2], [164], [57], [], [473], [601], [3], [1193], [2217], [], [6171], [15], [6172], [1298], [1299], [17], [6173], [6174], [95], [211], [6175], [592], [2218], [6176], [51], [4], [315], [358], [193], [57], [208], [2108], [2160], [6177], [379], [762], [6178], [6179], [103], [2218], [6180], [1066], [4], [67], [879], [742], [16], [3], [901], [1234], [501], [1883], [232], [164], [6181], [12], [1181], [6182], [1296], [], [116], [13], [1057], [3], [195], [6183], [85], [12], [323], [645], [6184], [486], [6185], [2219], [51], [3], [83], [1920], [221], [326], [6186], [843], [100], [6187], [85], [6188], [1789], [], [50], [45], [76], [3], [2220], [11], [146], [310], [], [2221], [210], [3], [6189], [118], [34], [1302], [3], [22], [6190], [31], [6191], [6192], [3], [3], [85], [2], [1328], [590], [127], [329], [1258], [3], [3], [3], [6193], [2222], [3], [3], [12], [198], [6194], [11], [601], [6195], [3], [203], [654], [3], [87], [699], [331], [4], [394], [7], [133], [1300], [11], [305], [280], [6196], [412], [3], [2203], [], [2223], [1864], [48], [45], [20], [2224], [146], [34], [798], [1], [13], [849], [40], [6197], [146], [3], [906], [785], [6198], [12], [37], [5], [146], [7], [645], [1], [327], [6199], [651], [5], [6], [6200], [6201], [107], [416], [518], [86], [6202], [2225], [386], [3], [785], [1267], [6203], [120], [5], [146], [1], [34], [631], [3], [6204], [3], [221], [326], [652], [5], [146], [1], [34], [1240], [3], [149], [1179], [52], [3], [224], [1287], [31], [6205], [1], [6206], [6207], [6208], [13], [1303], [32], [1226], [885], [264], [1], [49], [88], [141], [6209], [6210], [2207], [89], [804], [4], [1], [2226], [2], [135], [766], [32], [88], [6211], [6212], [2], [323], [6213], [383], [3], [2022], [210], [3], [3], [2197], [169], [6214], [67], [6215], [1870], [383], [3], [17], [22], [1436], [6216], [232], [2227], [6217], [6218], [1056], [1], [1304], [327], [886], [2228], [6219], [4], [154], [1305], [6220], [8], [2229], [869], [2], [29], [6221], [412], [], [50], [], [655], [50], [], [45], [76], [210], [129], [99], [1304], [2230], [2231], [6222], [1], [85], [360], [6223], [268], [32], [2], [413], [3], [17], [140], [328], [8], [3], [59], [1155], [6224], [607], [12], [37], [722], [6225], [2188], [884], [6226], [6227], [167], [34], [1306], [3], [871], [655], [50], [3], [32], [1845], [2], [1307], [6], [67], [621], [6228], [281], [4], [656], [6229], [6230], [1], [33], [1307], [167], [213], [6231], [281], [4], [67], [85], [1170], [3], [103], [327], [379], [48], [34], [877], [17], [655], [50], [446], [6232], [146], [1404], [34], [2232], [6233], [2233], [699], [3], [1892], [2234], [6234], [6235], [6236], [6237], [6238], [52], [331], [3], [202], [6239], [1], [481], [715], [6240], [11], [6241], [310], [6242], [6243], [167], [8], [15], [17], [6244], [2], [3], [17], [6245], [6246], [2043], [1163], [12], [6247], [120], [40], [883], [34], [1302], [3], [17], [103], [327], [436], [6248], [167], [34], [849], [3], [15], [2235], [16], [89], [804], [3], [17], [2], [2236], [75], [512], [11], [513], [655], [50], [8], [2224], [27], [597], [118], [50], [1], [13], [1306], [310], [107], [244], [6249], [6250], [6251], [871], [413], [202], [1803], [8], [3], [22], [6252], [2237], [6253], [], [11], [1], [395], [1], [1304], [6254], [6255], [], [120], [37], [318], [57], [], [71], [71], [71], [71], [8], [], [], [71], [71], [71], [71], [100], [6256], [20], [22], [3], [3], [6257], [29], [6258], [12], [37], [50], [34], [2238], [15], [2235], [4], [2229], [89], [804], [3], [169], [33], [51], [32], [379], [77], [2], [1074], [412], [57], [], [71], [3], [59], [6259], [869], [362], [25], [3], [46], [237], [329], [6260], [1], [207], [203], [393], [654], [8], [], [], [1], [34], [1306], [310], [], [3], [11], [107], [244], [214], [6261], [6262], [757], [8], [1916], [6263], [6264], [3], [17], [22], [6265], [2237], [6266], [413], [15], [594], [6267], [20], [6268], [1], [358], [20], [313], [6269], [1], [13], [1303], [3], [1], [6270], [6271], [1287], [1], [570], [204], [95], [2], [6272], [6273], [2], [777], [6274], [3], [6275], [76], [211], [3], [27], [6276], [6277], [2239], [1], [6278], [2231], [2240], [1], [356], [1308], [886], [12], [262], [597], [118], [8], [2], [509], [33], [54], [6279], [127], [318], [2], [1712], [94], [], [71], [71], [71], [71], [71], [17], [6280], [782], [6281], [244], [322], [1], [570], [1853], [6282], [120], [3], [87], [244], [6283], [6284], [1188], [1], [12], [3], [27], [6285], [471], [2], [478], [32], [149], [127], [1470], [6286], [93], [1848], [6287], [886], [2241], [139], [3], [94], [], [71], [203], [334], [808], [2241], [71], [329], [1893], [71], [331], [654], [71], [164], [969], [2210], [6288], [3], [6289], [71], [473], [51], [3], [40], [6290], [2230], [54], [1], [358], [886], [2228], [120], [37], [8], [27], [350], [153], [2236], [29], [2240], [240], [3], [2196], [203], [334], [805], [654], [6291], [8], [], [], [276], [3], [3], [3], [3], [46], [203], [334], [808], [881], [1990], [656], [2212], [15], [6292], [34], [2232], [3], [237], [329], [7], [6293], [6294], [475], [20], [22], [276], [3], [1], [13], [631], [6295], [2239], [3], [1], [413], [360], [6296], [118], [3], [6297], [943], [3], [52], [124], [1598], [464], [268], [470], [801], [6], [6298], [2206], [785], [2225], [386], [120], [3], [6299], [1267], [6300], [2], [146], [1], [34], [631], [6301], [513], [167], [2075], [6302], [512], [412], [120], [8], [50], [34], [1240], [1], [34], [2242], [6303], [413], [11], [1840], [27], [350], [3], [6304], [2221], [6305], [590], [363], [2], [1305], [512], [412], [120], [8], [45], [], [1235], [], [1], [34], [1235], [3], [1], [85], [6306], [845], [40], [1308], [512], [11], [6307], [28], [34], [446], [40], [883], [1305], [512], [412], [120], [6308], [127], [1863], [1], [590], [814], [3], [59], [6309], [128], [655], [50], [446], [263], [6310], [1541], [1382], [656], [33], [513], [167], [39], [112], [6311], [5], [221], [326], [652], [276], [], [2243], [12], [389], [6312], [59], [6313], [167], [120], [2222], [651], [6314], [178], [7], [742], [268], [], [6315], [], [67], [7], [6316], [323], [1], [481], [17], [2216], [602], [3], [22], [116], [13], [1303], [5], [2242], [100], [1], [6317], [703], [40], [6318], [1904], [214], [2220], [11], [237], [277], [12], [3], [1307], [1291], [], [116], [446], [5], [511], [], [59], [45], [76], [3], [887], [1196], [4], [513], [651], [148], [2], [550], [113], [501], [2226], [884], [146], [12], [37], [389], [350], [6319], [11], [62], [6320], [2], [70], [100], [6321], [11], [146], [874], [1296], [], [6322], [85], [210], [8], [], [], [34], [1302], [3], [884], [2208], [85], [12], [37], [118], [1794], [762], [3], [6323], [6324], [6], [6325], [4], [3], [437], [489], [3], [277], [33], [51], [317], [11], [6326], [6327], [1], [650], [151], [15], [157], [2214], [3], [1177], [6328], [850], [3], [594], [85], [45], [209], [34], [849], [3], [7], [692], [85], [129], [209], [1171], [4], [204], [95], [3], [7], [133], [1300], [3], [6329], [1037], [1393], [52], [], [3], [6330], [95], [1], [119], [934], [6], [31], [27], [6331], [85], [45], [209], [7], [6332], [2], [478], [83], [6333], [67], [882], [2], [7], [1887], [1], [478], [703], [20], [85], [45], [128], [1439], [354], [590], [703], [618], [497], [3], [20], [22], [208], [3], [242], [3], [294], [1326], [1], [31], [85], [228], [6334], [11], [885], [814], [2], [11], [305], [6335], [228], [596], [1], [137], [142], [1176], [112], [6336], [2], [202], [382], [2], [8], [2], [3], [1176], [112], [2], [917], [675], [32], [606], [203], [599], [881], [1185], [6337], [4], [6338], [3], [3], [32], [606], [116], [210], [209], [3], [48], [208], [3], [6339], [5], [12], [87], [100], [6340], [1], [242], [6341], [3], [20], [22], [2209], [203], [1], [12], [294], [5], [6342], [654], [347], [260], [2223], [127], [439], [2], [885], [1], [31], [327], [120], [94], [], [50], [85], [281], [4], [204], [3], [46], [565], [656], [653], [1224], [15], [6343], [656], [2046], [45], [85], [], [], [281], [4], [6344], [518], [7], [488], [6345], [653], [619], [3], [463], [], [1175], [3], [6346], [3], [6347], [], [], [3], [6348], [], [76], [85], [], [], [281], [4], [6349], [2217], [2193], [196], [1005], [143], [27], [1], [1656], [6], [85], [12], [37], [85], [6350], [887], [6351], [2], [550], [4], [1191], [], [48], [29], [6352], [34], [511], [], [50], [128], [8], [6353], [], [1], [22], [1179], [52], [797], [2244], [3], [279], [330], [], [116], [883], [3], [20], [22], [100], [157], [2], [2169], [4], [31], [2227], [1309], [1859], [164], [1171], [4], [203], [12], [445], [512], [6354], [3], [48], [482], [12], [37], [2215], [62], [6355], [1815], [116], [6356], [3], [2], [6357], [6358], [7], [645], [6359], [1917], [100], [6360], [1212], [11], [142], [48], [1747], [6361], [27], [597], [118], [119], [3], [12], [37], [6362], [1], [34], [1160], [6363], [797], [2244], [2205], [625], [1], [119], [8], [], [], [3], [], [4], [739], [6364], [6365], [3], [738], [13], [3], [83], [6366], [686], [153], [], [136], [6367], [413], [6368], [6369], [413], [325], [382], [8], [3], [17], [861], [2233], [59], [482], [164], [430], [480], [593], [6370], [3], [393], [1], [305], [67], [882], [112], [6371], [11], [6372], [328], [3], [88], [1868], [328], [5], [127], [1446], [], [709], [], [1309], [2211], [3], [1157], [164], [6373], [810], [2184], [], [1309], [405], [12], [37], [133], [16], [31], [202], [874], [2219], [328], [3], [171], [55], [811], [6374], [4], [6375], [1090], [17], [383], [3], [6376], [33], [51], [1181], [106], [6377], [6378], [4], [6], [213], [12], [178], [1165], [602], [48], [34], [2238], [17], [509], [119], [88], [6379], [2], [240], [175], [2], [202], [3], [331], [1865], [281], [4], [12], [6380], [3], [72], [83], [1749], [88], [6381], [20], [2], [240], [102], [51], [3], [563], [6382], [95], [1], [102], [596], [1185], [3], [83], [6383], [20], [1222], [6384], [1008], [175], [2], [142], [3], [6385], [238], [2198], [6386], [6387], [887], [966], [12], [117], [846], [68], [757], [20], [6388], [2], [550], [4], [1191], [107], [2234], [606], [272], [1], [77], [2], [392], [3], [1], [12], [320], [2], [75], [1074], [4], [6389], [6390], [3], [102], [14], [1], [13], [798], [17], [1744], [6391], [762], [279], [330], [88], [6392], [2], [240], [102], [12], [37], [3], [7], [993], [20], [22], [3], [6393], [22], [6], [279], [17], [623], [12], [15], [141], [6394], [1819], [6395], [1782], [1140], [2083], [3], [17], [12], [1894], [353], [2], [221], [1833], [3], [17], [6396], [6], [434], [153], [6397], [6398], [67], [882], [4], [6399], [217], [1822], [279], [330], [15], [17], [6400], [966], [107], [6401], [2243], [102], [12], [37], [228], [1882], [279], [29], [68], [480], [112], [6402], [2173], [6403], [11], [513], [167], [3], [17], [88], [6404], [85], [2], [33], [513], [20], [6405], [1], [650], [1], [481], [17], [279], [434], [1825], [2], [113], [12], [117], [4], [243], [32], [102], [12], [178], [6406], [281], [4], [2194], [6407], [117], [6408], [1175], [3], [704], [272], [6409], [4], [6], [133], [4], [1226], [439], [6410], [653], [619], [57], [3], [3], [], [887], [880], [4], [550], [6411], [2], [22], [8], [], [1827], [279], [6412], [6413], [3], [164], [119], [791], [1683], [3], [6414], [11], [509], [328], [40], [6415], [102], [6416], [119], [8], [], [], [7], [6417], [6418], [326], [3], [1308], [6419], [6], [85], [12], [37], [2029], [1885], [], [71], [102], [51], [71], [607], [810], [50], [607], [6420], [2199], [], [2245], [45], [607], [599], [881], [], [2245], [3], [71], [164], [3], [329], [8], [], [], [149], [478], [425], [2], [12], [37], [1234], [1804], [3], [318], [193], [57], [], [3], [3], [3], [3], [3], [88], [475], [1], [37], [1178], [243], [2200], [3], [1], [107], [1874], [6421], [802], [3], [398], [37], [389], [6422], [1], [1903], [807], [20], [1152], [3], [6423], [1187], [518], [3], [565], [118], [8], [791], [11], [102], [12], [37], [3], [157], [6424], [6425], [102], [6426], [3], [59], [27], [212], [118], [3], [33], [370], [25], [259], [12], [6427], [164], [1603], [51], [317], [15], [6428], [1], [2246], [650], [31], [6429], [1837], [68], [2], [240], [3], [509], [119], [2], [6430], [33], [328], [6431], [317], [6432], [743], [4], [6433], [6434], [12], [37], [118], [1], [2246], [650]]\n",
            "padded_docs:\n",
            " [[  42]\n",
            " [  46]\n",
            " [ 288]\n",
            " ...\n",
            " [   1]\n",
            " [2246]\n",
            " [ 650]]\n"
          ]
        }
      ]
    },
    {
      "cell_type": "markdown",
      "source": [
        "***Encode Labels***"
      ],
      "metadata": {
        "id": "OAA_T_teLKLw"
      }
    },
    {
      "cell_type": "code",
      "source": [
        "labels = data['Label'].values\n",
        "label_encoder = preprocessing.LabelEncoder()\n",
        "encoded_labels = label_encoder.fit_transform(labels)\n",
        "print('Unique encoded_labels:\\n',np.unique(encoded_labels))"
      ],
      "metadata": {
        "id": "pWW_fgrd88ID",
        "colab": {
          "base_uri": "https://localhost:8080/"
        },
        "outputId": "a659993e-e204-4019-d172-ce3bd3701317"
      },
      "execution_count": 18,
      "outputs": [
        {
          "output_type": "stream",
          "name": "stdout",
          "text": [
            "Unique encoded_labels:\n",
            " [0 1 2 3 4 5 6 7 8]\n"
          ]
        }
      ]
    },
    {
      "cell_type": "markdown",
      "source": [
        "# **Split data**"
      ],
      "metadata": {
        "id": "xVFnqxzEP8-K"
      }
    },
    {
      "cell_type": "code",
      "source": [
        "X_train, X_test, Y_train, Y_test = train_test_split(padded_words, encoded_labels, test_size = 0.10, random_state = 42)\n",
        "print(X_train.shape,Y_train.shape)\n",
        "print(X_test.shape,Y_test.shape)"
      ],
      "metadata": {
        "colab": {
          "base_uri": "https://localhost:8080/"
        },
        "id": "JemsU6q8P8-L",
        "outputId": "e4b1a76a-85c4-4f72-f2e8-24b55a74f1b3"
      },
      "execution_count": 19,
      "outputs": [
        {
          "output_type": "stream",
          "name": "stdout",
          "text": [
            "(17064, 1) (17064,)\n",
            "(1897, 1) (1897,)\n"
          ]
        }
      ]
    },
    {
      "cell_type": "markdown",
      "source": [
        "# **Word2vec Model**"
      ],
      "metadata": {
        "id": "yH5RHPg2lIEM"
      }
    },
    {
      "cell_type": "markdown",
      "source": [
        "**Download model zip file, unzip it**"
      ],
      "metadata": {
        "id": "T9GnLWrdvViJ"
      }
    },
    {
      "cell_type": "code",
      "source": [
        "# !wget https://bakrianoo.ewr1.vultrobjects.com/aravec/full_grams_sg_300_wiki.zip\n",
        "# !unzip \"/content/full_grams_sg_300_wiki.zip\" -d \"/content/\""
      ],
      "metadata": {
        "id": "IcLJiI8AlTDO"
      },
      "execution_count": 20,
      "outputs": []
    },
    {
      "cell_type": "markdown",
      "source": [
        "**Load Model**"
      ],
      "metadata": {
        "id": "zf7zBgBkvlXt"
      }
    },
    {
      "cell_type": "code",
      "source": [
        "w2v_model = KeyedVectors.load('/content/full_grams_sg_300_wiki.mdl')"
      ],
      "metadata": {
        "id": "X8hwYxXil_4p"
      },
      "execution_count": 21,
      "outputs": []
    },
    {
      "cell_type": "markdown",
      "source": [
        "***662,109 words with 300 dimensions represent every word.***"
      ],
      "metadata": {
        "id": "z7CC1Th6MARq"
      }
    },
    {
      "cell_type": "code",
      "source": [
        "w2v_model.wv.vectors.shape"
      ],
      "metadata": {
        "colab": {
          "base_uri": "https://localhost:8080/"
        },
        "id": "EuSu_mWE2gY0",
        "outputId": "f5f9ab77-3806-4621-e2dc-07702ad679b2"
      },
      "execution_count": 22,
      "outputs": [
        {
          "output_type": "execute_result",
          "data": {
            "text/plain": [
              "(662109, 300)"
            ]
          },
          "metadata": {},
          "execution_count": 22
        }
      ]
    },
    {
      "cell_type": "markdown",
      "source": [
        "***load the whole embedding into memory***\n"
      ],
      "metadata": {
        "id": "hLLT5VL9MQN0"
      }
    },
    {
      "cell_type": "code",
      "source": [
        "w2v_embeddings_index={}\n",
        "TOTAL_EMBEDDING_DIM=300\n",
        "\n",
        "for word in w2v_model.wv.vocab:\n",
        "    w2v_embeddings_index[word] = w2v_model[word]\n",
        "    \n",
        "print('Loaded %s word vectors.'% len(w2v_embeddings_index))"
      ],
      "metadata": {
        "colab": {
          "base_uri": "https://localhost:8080/"
        },
        "id": "zn_qIE0T4JXJ",
        "outputId": "e5ba6543-486d-4c0c-8acc-084f3349e709"
      },
      "execution_count": 23,
      "outputs": [
        {
          "output_type": "stream",
          "name": "stderr",
          "text": [
            "/usr/local/lib/python3.7/dist-packages/ipykernel_launcher.py:5: DeprecationWarning: Call to deprecated `__getitem__` (Method will be removed in 4.0.0, use self.wv.__getitem__() instead).\n",
            "  \"\"\"\n"
          ]
        },
        {
          "output_type": "stream",
          "name": "stdout",
          "text": [
            "Loaded 662109 word vectors.\n"
          ]
        }
      ]
    },
    {
      "cell_type": "markdown",
      "source": [
        "***create a weight matrix for words in corpus***"
      ],
      "metadata": {
        "id": "hQ8Tgn2FMaXe"
      }
    },
    {
      "cell_type": "code",
      "source": [
        "embedding_matrix = np.zeros((vocab_size, TOTAL_EMBEDDING_DIM))\n",
        "\n",
        "for word, i in t.word_index.items():\n",
        "    embedding_vector = w2v_embeddings_index.get(word)\n",
        "    if embedding_vector is not None:\n",
        "        embedding_matrix[i] = embedding_vector\n",
        "        \n",
        "print('Embedding Matrix shape:', embedding_matrix.shape)"
      ],
      "metadata": {
        "colab": {
          "base_uri": "https://localhost:8080/"
        },
        "id": "4PxSx4uq4c1p",
        "outputId": "2df142fa-0a51-4d5d-c061-8c2f31b4d552"
      },
      "execution_count": 24,
      "outputs": [
        {
          "output_type": "stream",
          "name": "stdout",
          "text": [
            "Embedding Matrix shape: (6435, 300)\n"
          ]
        }
      ]
    },
    {
      "cell_type": "code",
      "source": [
        "embedding_layer = tf.keras.layers.Embedding(vocab_size, TOTAL_EMBEDDING_DIM, weights=[embedding_matrix], input_length=1, trainable=False)"
      ],
      "metadata": {
        "id": "cWxEowmBuorX"
      },
      "execution_count": 25,
      "outputs": []
    },
    {
      "cell_type": "markdown",
      "source": [
        "# **LSTM**"
      ],
      "metadata": {
        "id": "Z8IP5Z7P24h7"
      }
    },
    {
      "cell_type": "markdown",
      "source": [
        "***define model***"
      ],
      "metadata": {
        "id": "5DNK9PKCM3OO"
      }
    },
    {
      "cell_type": "code",
      "source": [
        "input_placeholder= tf.keras.Input(shape=(1,), dtype='int32')\n",
        "input_embedding = embedding_layer(input_placeholder)\n",
        "lstm= tf.keras.layers.LSTM(units=10, activation='relu')(input_embedding)\n",
        "preds = tf.keras.layers.Dense(9, activation='softmax', name = 'activation')(lstm)\n",
        "model = tf.keras.models.Model(inputs=input_placeholder, outputs=preds)"
      ],
      "metadata": {
        "id": "3S27hCvivxKo"
      },
      "execution_count": 26,
      "outputs": []
    },
    {
      "cell_type": "markdown",
      "source": [
        "***Note:  'categorical_crossentropy' works on one-hot encoded target, while 'sparse_categorical_crossentropy' works on integer target.\n",
        "So, we'll compile with 'sparse_categorical_crossentropy'***"
      ],
      "metadata": {
        "id": "VuzLqgwUBKeH"
      }
    },
    {
      "cell_type": "markdown",
      "source": [
        "***compile model***\n"
      ],
      "metadata": {
        "id": "IXM3yS87M7V8"
      }
    },
    {
      "cell_type": "code",
      "source": [
        "model.compile(loss='sparse_categorical_crossentropy', optimizer=tf.keras.optimizers.Adam(\n",
        "    lr=0.001, beta_1=0.9, beta_2=0.999), metrics=['accuracy'])"
      ],
      "metadata": {
        "colab": {
          "base_uri": "https://localhost:8080/"
        },
        "id": "V-KDm4-k3Fdx",
        "outputId": "e53fad63-395c-4d4f-96e9-88ee6582954c"
      },
      "execution_count": 27,
      "outputs": [
        {
          "output_type": "stream",
          "name": "stderr",
          "text": [
            "/usr/local/lib/python3.7/dist-packages/keras/optimizer_v2/adam.py:105: UserWarning: The `lr` argument is deprecated, use `learning_rate` instead.\n",
            "  super(Adam, self).__init__(name, **kwargs)\n"
          ]
        }
      ]
    },
    {
      "cell_type": "markdown",
      "source": [
        "***summarize model***\n"
      ],
      "metadata": {
        "id": "kgt4XX50NERG"
      }
    },
    {
      "cell_type": "code",
      "source": [
        "print(model.summary())"
      ],
      "metadata": {
        "colab": {
          "base_uri": "https://localhost:8080/"
        },
        "id": "YERY8saB8h4o",
        "outputId": "4779c62a-d132-49d1-c5e1-996841ce9d4c"
      },
      "execution_count": 28,
      "outputs": [
        {
          "output_type": "stream",
          "name": "stdout",
          "text": [
            "Model: \"model\"\n",
            "_________________________________________________________________\n",
            " Layer (type)                Output Shape              Param #   \n",
            "=================================================================\n",
            " input_1 (InputLayer)        [(None, 1)]               0         \n",
            "                                                                 \n",
            " embedding (Embedding)       (None, 1, 300)            1930500   \n",
            "                                                                 \n",
            " lstm (LSTM)                 (None, 10)                12440     \n",
            "                                                                 \n",
            " activation (Dense)          (None, 9)                 99        \n",
            "                                                                 \n",
            "=================================================================\n",
            "Total params: 1,943,039\n",
            "Trainable params: 12,539\n",
            "Non-trainable params: 1,930,500\n",
            "_________________________________________________________________\n",
            "None\n"
          ]
        }
      ]
    },
    {
      "cell_type": "markdown",
      "source": [
        "***fit model***"
      ],
      "metadata": {
        "id": "b7EnkF00NJcH"
      }
    },
    {
      "cell_type": "code",
      "source": [
        "epochs = 30\n",
        "batch_size = 64\n",
        "\n",
        "history = model.fit(X_train, Y_train, epochs=epochs, batch_size=batch_size,validation_split=0.1,callbacks=[EarlyStopping(monitor='val_loss', patience=3, min_delta=0.0001)])"
      ],
      "metadata": {
        "id": "QxNKLbzG8n4n",
        "colab": {
          "base_uri": "https://localhost:8080/"
        },
        "outputId": "655fd366-0868-4703-af9d-83ba239f3609"
      },
      "execution_count": 29,
      "outputs": [
        {
          "output_type": "stream",
          "name": "stdout",
          "text": [
            "Epoch 1/30\n",
            "240/240 [==============================] - 5s 7ms/step - loss: 1.0576 - accuracy: 0.8123 - val_loss: 0.5743 - val_accuracy: 0.8758\n",
            "Epoch 2/30\n",
            "240/240 [==============================] - 1s 6ms/step - loss: 0.5055 - accuracy: 0.8945 - val_loss: 0.4613 - val_accuracy: 0.9022\n",
            "Epoch 3/30\n",
            "240/240 [==============================] - 1s 6ms/step - loss: 0.4311 - accuracy: 0.9079 - val_loss: 0.4186 - val_accuracy: 0.9080\n",
            "Epoch 4/30\n",
            "240/240 [==============================] - 1s 6ms/step - loss: 0.3890 - accuracy: 0.9126 - val_loss: 0.3923 - val_accuracy: 0.9098\n",
            "Epoch 5/30\n",
            "240/240 [==============================] - 1s 3ms/step - loss: 0.3558 - accuracy: 0.9171 - val_loss: 0.3719 - val_accuracy: 0.9086\n",
            "Epoch 6/30\n",
            "240/240 [==============================] - 1s 3ms/step - loss: 0.3271 - accuracy: 0.9211 - val_loss: 0.3551 - val_accuracy: 0.9074\n",
            "Epoch 7/30\n",
            "240/240 [==============================] - 1s 3ms/step - loss: 0.3023 - accuracy: 0.9236 - val_loss: 0.3419 - val_accuracy: 0.9086\n",
            "Epoch 8/30\n",
            "240/240 [==============================] - 1s 3ms/step - loss: 0.2805 - accuracy: 0.9267 - val_loss: 0.3289 - val_accuracy: 0.9110\n",
            "Epoch 9/30\n",
            "240/240 [==============================] - 1s 3ms/step - loss: 0.2621 - accuracy: 0.9290 - val_loss: 0.3221 - val_accuracy: 0.9063\n",
            "Epoch 10/30\n",
            "240/240 [==============================] - 1s 3ms/step - loss: 0.2475 - accuracy: 0.9316 - val_loss: 0.3142 - val_accuracy: 0.9110\n",
            "Epoch 11/30\n",
            "240/240 [==============================] - 1s 3ms/step - loss: 0.2351 - accuracy: 0.9334 - val_loss: 0.3089 - val_accuracy: 0.9086\n",
            "Epoch 12/30\n",
            "240/240 [==============================] - 1s 3ms/step - loss: 0.2260 - accuracy: 0.9363 - val_loss: 0.3067 - val_accuracy: 0.9069\n",
            "Epoch 13/30\n",
            "240/240 [==============================] - 1s 3ms/step - loss: 0.2185 - accuracy: 0.9368 - val_loss: 0.3047 - val_accuracy: 0.9080\n",
            "Epoch 14/30\n",
            "240/240 [==============================] - 1s 3ms/step - loss: 0.2120 - accuracy: 0.9369 - val_loss: 0.3043 - val_accuracy: 0.9069\n",
            "Epoch 15/30\n",
            "240/240 [==============================] - 1s 3ms/step - loss: 0.2072 - accuracy: 0.9387 - val_loss: 0.3015 - val_accuracy: 0.9080\n",
            "Epoch 16/30\n",
            "240/240 [==============================] - 1s 3ms/step - loss: 0.2018 - accuracy: 0.9397 - val_loss: 0.3002 - val_accuracy: 0.9110\n",
            "Epoch 17/30\n",
            "240/240 [==============================] - 1s 3ms/step - loss: 0.1981 - accuracy: 0.9407 - val_loss: 0.2991 - val_accuracy: 0.9121\n",
            "Epoch 18/30\n",
            "240/240 [==============================] - 1s 3ms/step - loss: 0.1946 - accuracy: 0.9406 - val_loss: 0.3010 - val_accuracy: 0.9133\n",
            "Epoch 19/30\n",
            "240/240 [==============================] - 1s 3ms/step - loss: 0.1908 - accuracy: 0.9416 - val_loss: 0.3023 - val_accuracy: 0.9028\n",
            "Epoch 20/30\n",
            "240/240 [==============================] - 1s 3ms/step - loss: 0.1874 - accuracy: 0.9431 - val_loss: 0.3011 - val_accuracy: 0.9098\n"
          ]
        }
      ]
    },
    {
      "cell_type": "markdown",
      "source": [
        "# **Model Evaluation**"
      ],
      "metadata": {
        "id": "AbwN-NScQ34C"
      }
    },
    {
      "cell_type": "code",
      "source": [
        "loss, accuracy = model.evaluate(X_test, Y_test, verbose=0)\n",
        "print('Loss: %f \\nAccuracy: %f' % (loss, accuracy))"
      ],
      "metadata": {
        "colab": {
          "base_uri": "https://localhost:8080/"
        },
        "id": "AL97eVMhCOG9",
        "outputId": "7d744619-4a98-4103-c86f-5a1969fe4140"
      },
      "execution_count": 30,
      "outputs": [
        {
          "output_type": "stream",
          "name": "stdout",
          "text": [
            "Loss: 0.243008 \n",
            "Accuracy: 0.930944\n"
          ]
        }
      ]
    },
    {
      "cell_type": "code",
      "source": [
        "plt.title('Loss')\n",
        "plt.plot(history.history['loss'], label='train')\n",
        "plt.plot(history.history['val_loss'], label='test')\n",
        "plt.legend()\n",
        "plt.show();"
      ],
      "metadata": {
        "colab": {
          "base_uri": "https://localhost:8080/",
          "height": 281
        },
        "id": "ChcK7UJHUnm3",
        "outputId": "cdcb6043-53f6-478d-8afb-55eb8cbcb062"
      },
      "execution_count": 31,
      "outputs": [
        {
          "output_type": "display_data",
          "data": {
            "text/plain": [
              "<Figure size 432x288 with 1 Axes>"
            ],
            "image/png": "[encoded data removed]"
          },
          "metadata": {
            "needs_background": "light"
          }
        }
      ]
    },
    {
      "cell_type": "code",
      "source": [
        "history.history"
      ],
      "metadata": {
        "colab": {
          "base_uri": "https://localhost:8080/"
        },
        "id": "sL8ZDf2DYQgr",
        "outputId": "46f5511b-6ec4-4fc4-9e23-b4740a6f9517"
      },
      "execution_count": 32,
      "outputs": [
        {
          "output_type": "execute_result",
          "data": {
            "text/plain": [
              "{'accuracy': [0.8122680187225342,\n",
              "  0.8945106267929077,\n",
              "  0.9079247117042542,\n",
              "  0.9126131534576416,\n",
              "  0.9171062111854553,\n",
              "  0.9210783243179321,\n",
              "  0.9236178994178772,\n",
              "  0.9266783595085144,\n",
              "  0.9290226101875305,\n",
              "  0.9315621256828308,\n",
              "  0.93338543176651,\n",
              "  0.9362505674362183,\n",
              "  0.9368366003036499,\n",
              "  0.9369017481803894,\n",
              "  0.9387249946594238,\n",
              "  0.9397017359733582,\n",
              "  0.9406785368919373,\n",
              "  0.9406133890151978,\n",
              "  0.9415901303291321,\n",
              "  0.9430878162384033],\n",
              " 'loss': [1.057598352432251,\n",
              "  0.5055028200149536,\n",
              "  0.43114468455314636,\n",
              "  0.3890385031700134,\n",
              "  0.3557899296283722,\n",
              "  0.3271094560623169,\n",
              "  0.30226245522499084,\n",
              "  0.2804730534553528,\n",
              "  0.26208215951919556,\n",
              "  0.24749153852462769,\n",
              "  0.235091432929039,\n",
              "  0.22602801024913788,\n",
              "  0.21847717463970184,\n",
              "  0.21200701594352722,\n",
              "  0.20720839500427246,\n",
              "  0.20176061987876892,\n",
              "  0.19811904430389404,\n",
              "  0.19458192586898804,\n",
              "  0.1908450722694397,\n",
              "  0.1873825639486313],\n",
              " 'val_accuracy': [0.8758054971694946,\n",
              "  0.902167558670044,\n",
              "  0.9080258011817932,\n",
              "  0.9097832441329956,\n",
              "  0.9086115956306458,\n",
              "  0.9074399471282959,\n",
              "  0.9086115956306458,\n",
              "  0.9109548926353455,\n",
              "  0.906268298625946,\n",
              "  0.9109548926353455,\n",
              "  0.9086115956306458,\n",
              "  0.9068541526794434,\n",
              "  0.9080258011817932,\n",
              "  0.9068541526794434,\n",
              "  0.9080258011817932,\n",
              "  0.9109548926353455,\n",
              "  0.9121265411376953,\n",
              "  0.9132981896400452,\n",
              "  0.9027533531188965,\n",
              "  0.9097832441329956],\n",
              " 'val_loss': [0.5743431448936462,\n",
              "  0.461345911026001,\n",
              "  0.4185956120491028,\n",
              "  0.39226090908050537,\n",
              "  0.3718886971473694,\n",
              "  0.35506901144981384,\n",
              "  0.3418795168399811,\n",
              "  0.32893919944763184,\n",
              "  0.32212868332862854,\n",
              "  0.3142426609992981,\n",
              "  0.3089023232460022,\n",
              "  0.30669254064559937,\n",
              "  0.30474424362182617,\n",
              "  0.3043309152126312,\n",
              "  0.3015455901622772,\n",
              "  0.300157368183136,\n",
              "  0.2990645468235016,\n",
              "  0.30096369981765747,\n",
              "  0.30227234959602356,\n",
              "  0.3011089265346527]}"
            ]
          },
          "metadata": {},
          "execution_count": 32
        }
      ]
    },
    {
      "cell_type": "code",
      "source": [
        "plt.title('Accuracy')\n",
        "plt.plot(history.history['accuracy'], label='train')\n",
        "plt.plot(history.history['val_accuracy'], label='test')\n",
        "plt.legend()\n",
        "plt.show();"
      ],
      "metadata": {
        "id": "etM12KmXUrqM",
        "colab": {
          "base_uri": "https://localhost:8080/",
          "height": 281
        },
        "outputId": "f6affd90-f7f4-445a-fab5-38713e28c355"
      },
      "execution_count": 33,
      "outputs": [
        {
          "output_type": "display_data",
          "data": {
            "text/plain": [
              "<Figure size 432x288 with 1 Axes>"
            ],
            "image/png": "[encoded data removed]"
          },
          "metadata": {
            "needs_background": "light"
          }
        }
      ]
    },
    {
      "cell_type": "markdown",
      "source": [
        "# **Testing**"
      ],
      "metadata": {
        "id": "tHDNOOE4raRP"
      }
    },
    {
      "cell_type": "code",
      "source": [
        "input_text = ['رونالدو لاعب في نادي مانشستر يونايتد']\n",
        "seq = t.texts_to_sequences(input_text)\n",
        "\n",
        "labels = np.unique(labels)\n",
        "for encoded_word in seq[0]:\n",
        "    print('Word: ', t.index_word[encoded_word])\n",
        "    pred = model.predict([encoded_word])\n",
        "    print('\\nPredictions probability for each class: \\n', pred)\n",
        "    print('\\nPredicted Class: ', labels[np.argmax(pred)])\n",
        "    print('\\n***************************\\n')\n"
      ],
      "metadata": {
        "colab": {
          "base_uri": "https://localhost:8080/"
        },
        "id": "H3vAQqZlYLyI",
        "outputId": "e5139d18-90f6-478d-b653-1138ce3a30ec"
      },
      "execution_count": 34,
      "outputs": [
        {
          "output_type": "stream",
          "name": "stdout",
          "text": [
            "Word:  رونالدو\n",
            "\n",
            "Predictions probability for each class: \n",
            " [[6.2490911e-03 2.1239633e-05 3.7301951e-03 7.1184760e-01 2.7533497e-03\n",
            "  7.4077706e-04 1.6986320e-04 2.7434221e-01 1.4563392e-04]]\n",
            "\n",
            "Predicted Class:  B-PER\n",
            "\n",
            "***************************\n",
            "\n",
            "Word:  لاعب\n",
            "\n",
            "Predictions probability for each class: \n",
            " [[1.28803458e-05 5.50209297e-05 2.84630572e-04 4.15634349e-05\n",
            "  1.33548965e-05 5.09788151e-05 1.21390431e-05 5.04447053e-05\n",
            "  9.99478996e-01]]\n",
            "\n",
            "Predicted Class:  O\n",
            "\n",
            "***************************\n",
            "\n",
            "Word:  في\n",
            "\n",
            "Predictions probability for each class: \n",
            " [[3.8262697e-05 2.3748606e-05 1.0638003e-05 1.4398799e-04 1.8926448e-04\n",
            "  1.3366078e-04 2.5006619e-05 1.1938981e-04 9.9931610e-01]]\n",
            "\n",
            "Predicted Class:  O\n",
            "\n",
            "***************************\n",
            "\n",
            "Word:  نادي\n",
            "\n",
            "Predictions probability for each class: \n",
            " [[1.7421192e-03 4.9323854e-03 5.5308628e-01 4.6089533e-04 2.2777903e-03\n",
            "  1.0229316e-02 7.2687745e-02 6.7667384e-04 3.5390675e-01]]\n",
            "\n",
            "Predicted Class:  B-ORG\n",
            "\n",
            "***************************\n",
            "\n",
            "Word:  مانشستر\n",
            "\n",
            "Predictions probability for each class: \n",
            " [[8.97004664e-01 1.51949225e-05 5.83964996e-02 5.33987442e-03\n",
            "  2.21754108e-02 4.99578100e-03 5.90185914e-03 5.95250307e-03\n",
            "  2.18214118e-04]]\n",
            "\n",
            "Predicted Class:  B-LOC\n",
            "\n",
            "***************************\n",
            "\n",
            "Word:  يونايتد\n",
            "\n",
            "Predictions probability for each class: \n",
            " [[4.3421297e-04 1.8910223e-04 2.2603443e-02 5.7092821e-04 5.2120717e-04\n",
            "  1.3645402e-03 9.4906390e-01 2.2108506e-02 3.1441147e-03]]\n",
            "\n",
            "Predicted Class:  I-ORG\n",
            "\n",
            "***************************\n",
            "\n"
          ]
        }
      ]
    }
  ]
}