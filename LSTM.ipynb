{
  "nbformat": 4,
  "nbformat_minor": 0,
  "metadata": {
    "colab": {
      "name": "LSTM.ipynb",
      "provenance": [],
      "collapsed_sections": []
    },
    "kernelspec": {
      "name": "python3",
      "display_name": "Python 3"
    },
    "language_info": {
      "name": "python"
    }
  },
  "cells": [
    {
      "cell_type": "markdown",
      "source": [
        "# Import Libraries"
      ],
      "metadata": {
        "id": "6bu-PRCsVG6u"
      }
    },
    {
      "cell_type": "code",
      "execution_count": null,
      "metadata": {
        "id": "rTGcz3sV807Q"
      },
      "outputs": [],
      "source": [
        "import numpy as np\n",
        "import pandas as pd\n",
        "import matplotlib.pyplot as plt\n",
        "import tensorflow as tf\n",
        "from keras.preprocessing.text import Tokenizer\n",
        "from keras.preprocessing.sequence import pad_sequences\n",
        "from keras.callbacks import EarlyStopping \n",
        "import gensim\n",
        "from gensim.models import KeyedVectors\n",
        "from gensim.models import word2vec\n",
        "from preprocessing import ar_preprocessing\n",
        "from sklearn.model_selection import train_test_split\n",
        "from sklearn import preprocessing"
      ]
    },
    {
      "cell_type": "markdown",
      "source": [
        "# **Read Data**"
      ],
      "metadata": {
        "id": "VeKbK-YZVKVy"
      }
    },
    {
      "cell_type": "markdown",
      "source": [
        "***Convert txt file to csv***"
      ],
      "metadata": {
        "id": "ZN131yJdV0Xs"
      }
    },
    {
      "cell_type": "code",
      "source": [
        "data = pd.read_csv('all.dev.features.txt', sep=' ')\n",
        "  \n",
        "data.to_csv('all.dev.features.csv', index = None)"
      ],
      "metadata": {
        "id": "rmBG4npKT4J2"
      },
      "execution_count": null,
      "outputs": []
    },
    {
      "cell_type": "markdown",
      "source": [
        "***As Documentaion say, data columns represnts the following info:***\n",
        "\n",
        "\n",
        "0. Token (T1,T2,...Tn-1, Tn)\n",
        "1. T1\n",
        "2. Tn\n",
        "3. T1,T2\n",
        "4. Tn-1,Tn\n",
        "5. T1,T2,T3\n",
        "6. Tn-2,Tn-1,Tn\n",
        "7. T2,T3\n",
        "8. Tn-2,Tn-1\n",
        "9. T2,T3,T4\n",
        "10. Tn-3,Tn-2,Tn-1\n",
        "11. T3,T4\n",
        "12. Tn-4,Tn-3\n",
        "13. token length\n",
        "14. is the word's gloss translation capitalized?\n",
        "15. POS\n",
        "16. case\n",
        "17. aspect\n",
        "18. number\n",
        "19. person\n",
        "20. gender\n",
        "21. state\n",
        "22. normalized spelling (romanized)\n",
        "23. is there a mada analysis\n",
        "24. is the word Arabic UTF-8 (vs. Latin)\n",
        "25. is base form same as the normalized form\n",
        "26. Wikipedia: is this a hyperlink or regular text (noisy; turned off)\n",
        "27. Wikipedia dict: noisy (noisy; turned off)\n",
        "28. is the token utf-8 or ascii (noisy; turned off)\n",
        "29. does the term have any vowels (noisy; turned off)\n",
        "30. is the token in Wiki NE dict\n",
        "31. is curr+next token in Wiki NE dict\n",
        "32. is curr+prev token in Wiki NE dict\n",
        "33. is the token in Wiki non-NE dict\n",
        "34. is curr+next token in Wiki non-NE dict\n",
        "35. is curr+prev token in Wiki non-NE dict\n",
        "36. class\n",
        "\n",
        "\n",
        "***So we'll choose the following columns (0, 24, 36) that represent (token, is arabic ?, class).***"
      ],
      "metadata": {
        "id": "mEBr0y_olAWj"
      }
    },
    {
      "cell_type": "code",
      "source": [
        "data = pd.read_csv(\"all.dev.features.csv\", delimiter='\\t', header=None, usecols=[0, 24, 36])\n",
        "data.rename(columns={0:'Word', 24:'Arabic', 36:'Label'}, inplace=True)\n",
        "data"
      ],
      "metadata": {
        "colab": {
          "base_uri": "https://localhost:8080/",
          "height": 424
        },
        "id": "jQS0COBT-ShC",
        "outputId": "e531c6f7-2f45-479c-ac95-671315837cd4"
      },
      "execution_count": null,
      "outputs": [
        {
          "output_type": "execute_result",
          "data": {
            "text/plain": [
              "          Word  Arabic  Label\n",
              "0        الذرة     1.0      O\n",
              "1           هي     1.0      O\n",
              "2         أصغر     1.0      O\n",
              "3          جزء     1.0      O\n",
              "4           من     1.0      O\n",
              "...        ...     ...    ...\n",
              "21198      BSD     0.0  I-MIS\n",
              "21199       في     1.0      O\n",
              "21200      طور     1.0      O\n",
              "21201  التصميم     1.0      O\n",
              "21202        .     1.0      O\n",
              "\n",
              "[21203 rows x 3 columns]"
            ],
            "text/html": [
              "\n",
              "  <div id=\"df-7fb1994b-85bc-469f-8464-4f34d9ad2e15\">\n",
              "    <div class=\"colab-df-container\">\n",
              "      <div>\n",
              "<style scoped>\n",
              "    .dataframe tbody tr th:only-of-type {\n",
              "        vertical-align: middle;\n",
              "    }\n",
              "\n",
              "    .dataframe tbody tr th {\n",
              "        vertical-align: top;\n",
              "    }\n",
              "\n",
              "    .dataframe thead th {\n",
              "        text-align: right;\n",
              "    }\n",
              "</style>\n",
              "<table border=\"1\" class=\"dataframe\">\n",
              "  <thead>\n",
              "    <tr style=\"text-align: right;\">\n",
              "      <th></th>\n",
              "      <th>Word</th>\n",
              "      <th>Arabic</th>\n",
              "      <th>Label</th>\n",
              "    </tr>\n",
              "  </thead>\n",
              "  <tbody>\n",
              "    <tr>\n",
              "      <th>0</th>\n",
              "      <td>الذرة</td>\n",
              "      <td>1.0</td>\n",
              "      <td>O</td>\n",
              "    </tr>\n",
              "    <tr>\n",
              "      <th>1</th>\n",
              "      <td>هي</td>\n",
              "      <td>1.0</td>\n",
              "      <td>O</td>\n",
              "    </tr>\n",
              "    <tr>\n",
              "      <th>2</th>\n",
              "      <td>أصغر</td>\n",
              "      <td>1.0</td>\n",
              "      <td>O</td>\n",
              "    </tr>\n",
              "    <tr>\n",
              "      <th>3</th>\n",
              "      <td>جزء</td>\n",
              "      <td>1.0</td>\n",
              "      <td>O</td>\n",
              "    </tr>\n",
              "    <tr>\n",
              "      <th>4</th>\n",
              "      <td>من</td>\n",
              "      <td>1.0</td>\n",
              "      <td>O</td>\n",
              "    </tr>\n",
              "    <tr>\n",
              "      <th>...</th>\n",
              "      <td>...</td>\n",
              "      <td>...</td>\n",
              "      <td>...</td>\n",
              "    </tr>\n",
              "    <tr>\n",
              "      <th>21198</th>\n",
              "      <td>BSD</td>\n",
              "      <td>0.0</td>\n",
              "      <td>I-MIS</td>\n",
              "    </tr>\n",
              "    <tr>\n",
              "      <th>21199</th>\n",
              "      <td>في</td>\n",
              "      <td>1.0</td>\n",
              "      <td>O</td>\n",
              "    </tr>\n",
              "    <tr>\n",
              "      <th>21200</th>\n",
              "      <td>طور</td>\n",
              "      <td>1.0</td>\n",
              "      <td>O</td>\n",
              "    </tr>\n",
              "    <tr>\n",
              "      <th>21201</th>\n",
              "      <td>التصميم</td>\n",
              "      <td>1.0</td>\n",
              "      <td>O</td>\n",
              "    </tr>\n",
              "    <tr>\n",
              "      <th>21202</th>\n",
              "      <td>.</td>\n",
              "      <td>1.0</td>\n",
              "      <td>O</td>\n",
              "    </tr>\n",
              "  </tbody>\n",
              "</table>\n",
              "<p>21203 rows × 3 columns</p>\n",
              "</div>\n",
              "      <button class=\"colab-df-convert\" onclick=\"convertToInteractive('df-7fb1994b-85bc-469f-8464-4f34d9ad2e15')\"\n",
              "              title=\"Convert this dataframe to an interactive table.\"\n",
              "              style=\"display:none;\">\n",
              "        \n",
              "  <svg xmlns=\"http://www.w3.org/2000/svg\" height=\"24px\"viewBox=\"0 0 24 24\"\n",
              "       width=\"24px\">\n",
              "    <path d=\"M0 0h24v24H0V0z\" fill=\"none\"/>\n",
              "    <path d=\"M18.56 5.44l.94 2.06.94-2.06 2.06-.94-2.06-.94-.94-2.06-.94 2.06-2.06.94zm-11 1L8.5 8.5l.94-2.06 2.06-.94-2.06-.94L8.5 2.5l-.94 2.06-2.06.94zm10 10l.94 2.06.94-2.06 2.06-.94-2.06-.94-.94-2.06-.94 2.06-2.06.94z\"/><path d=\"M17.41 7.96l-1.37-1.37c-.4-.4-.92-.59-1.43-.59-.52 0-1.04.2-1.43.59L10.3 9.45l-7.72 7.72c-.78.78-.78 2.05 0 2.83L4 21.41c.39.39.9.59 1.41.59.51 0 1.02-.2 1.41-.59l7.78-7.78 2.81-2.81c.8-.78.8-2.07 0-2.86zM5.41 20L4 18.59l7.72-7.72 1.47 1.35L5.41 20z\"/>\n",
              "  </svg>\n",
              "      </button>\n",
              "      \n",
              "  <style>\n",
              "    .colab-df-container {\n",
              "      display:flex;\n",
              "      flex-wrap:wrap;\n",
              "      gap: 12px;\n",
              "    }\n",
              "\n",
              "    .colab-df-convert {\n",
              "      background-color: #E8F0FE;\n",
              "      border: none;\n",
              "      border-radius: 50%;\n",
              "      cursor: pointer;\n",
              "      display: none;\n",
              "      fill: #1967D2;\n",
              "      height: 32px;\n",
              "      padding: 0 0 0 0;\n",
              "      width: 32px;\n",
              "    }\n",
              "\n",
              "    .colab-df-convert:hover {\n",
              "      background-color: #E2EBFA;\n",
              "      box-shadow: 0px 1px 2px rgba(60, 64, 67, 0.3), 0px 1px 3px 1px rgba(60, 64, 67, 0.15);\n",
              "      fill: #174EA6;\n",
              "    }\n",
              "\n",
              "    [theme=dark] .colab-df-convert {\n",
              "      background-color: #3B4455;\n",
              "      fill: #D2E3FC;\n",
              "    }\n",
              "\n",
              "    [theme=dark] .colab-df-convert:hover {\n",
              "      background-color: #434B5C;\n",
              "      box-shadow: 0px 1px 3px 1px rgba(0, 0, 0, 0.15);\n",
              "      filter: drop-shadow(0px 1px 2px rgba(0, 0, 0, 0.3));\n",
              "      fill: #FFFFFF;\n",
              "    }\n",
              "  </style>\n",
              "\n",
              "      <script>\n",
              "        const buttonEl =\n",
              "          document.querySelector('#df-7fb1994b-85bc-469f-8464-4f34d9ad2e15 button.colab-df-convert');\n",
              "        buttonEl.style.display =\n",
              "          google.colab.kernel.accessAllowed ? 'block' : 'none';\n",
              "\n",
              "        async function convertToInteractive(key) {\n",
              "          const element = document.querySelector('#df-7fb1994b-85bc-469f-8464-4f34d9ad2e15');\n",
              "          const dataTable =\n",
              "            await google.colab.kernel.invokeFunction('convertToInteractive',\n",
              "                                                     [key], {});\n",
              "          if (!dataTable) return;\n",
              "\n",
              "          const docLinkHtml = 'Like what you see? Visit the ' +\n",
              "            '<a target=\"_blank\" href=https://colab.research.google.com/notebooks/data_table.ipynb>data table notebook</a>'\n",
              "            + ' to learn more about interactive tables.';\n",
              "          element.innerHTML = '';\n",
              "          dataTable['output_type'] = 'display_data';\n",
              "          await google.colab.output.renderOutput(dataTable, element);\n",
              "          const docLink = document.createElement('div');\n",
              "          docLink.innerHTML = docLinkHtml;\n",
              "          element.appendChild(docLink);\n",
              "        }\n",
              "      </script>\n",
              "    </div>\n",
              "  </div>\n",
              "  "
            ]
          },
          "metadata": {},
          "execution_count": 3
        }
      ]
    },
    {
      "cell_type": "markdown",
      "source": [
        "# **Explore Data**"
      ],
      "metadata": {
        "id": "-V24GQZ_7Gbf"
      }
    },
    {
      "cell_type": "code",
      "source": [
        "data.info()"
      ],
      "metadata": {
        "colab": {
          "base_uri": "https://localhost:8080/"
        },
        "id": "kUkPSK497IuK",
        "outputId": "cd25c8a0-67da-4cb2-ccaf-cc08f9897207"
      },
      "execution_count": null,
      "outputs": [
        {
          "output_type": "stream",
          "name": "stdout",
          "text": [
            "<class 'pandas.core.frame.DataFrame'>\n",
            "RangeIndex: 21203 entries, 0 to 21202\n",
            "Data columns (total 3 columns):\n",
            " #   Column  Non-Null Count  Dtype  \n",
            "---  ------  --------------  -----  \n",
            " 0   Word    21203 non-null  object \n",
            " 1   Arabic  20992 non-null  float64\n",
            " 2   Label   20992 non-null  object \n",
            "dtypes: float64(1), object(2)\n",
            "memory usage: 497.1+ KB\n"
          ]
        }
      ]
    },
    {
      "cell_type": "code",
      "source": [
        "data.drop('Arabic', axis=1).describe()"
      ],
      "metadata": {
        "colab": {
          "base_uri": "https://localhost:8080/",
          "height": 175
        },
        "id": "GPV3DI-K7M-2",
        "outputId": "3f34623a-0fd6-4685-b545-7930b2931db5"
      },
      "execution_count": null,
      "outputs": [
        {
          "output_type": "execute_result",
          "data": {
            "text/plain": [
              "         Word  Label\n",
              "count   21203  20992\n",
              "unique   6927      9\n",
              "top         .      O\n",
              "freq      609  17641"
            ],
            "text/html": [
              "\n",
              "  <div id=\"df-31d0d57f-a957-4064-8649-32ba50c4c72b\">\n",
              "    <div class=\"colab-df-container\">\n",
              "      <div>\n",
              "<style scoped>\n",
              "    .dataframe tbody tr th:only-of-type {\n",
              "        vertical-align: middle;\n",
              "    }\n",
              "\n",
              "    .dataframe tbody tr th {\n",
              "        vertical-align: top;\n",
              "    }\n",
              "\n",
              "    .dataframe thead th {\n",
              "        text-align: right;\n",
              "    }\n",
              "</style>\n",
              "<table border=\"1\" class=\"dataframe\">\n",
              "  <thead>\n",
              "    <tr style=\"text-align: right;\">\n",
              "      <th></th>\n",
              "      <th>Word</th>\n",
              "      <th>Label</th>\n",
              "    </tr>\n",
              "  </thead>\n",
              "  <tbody>\n",
              "    <tr>\n",
              "      <th>count</th>\n",
              "      <td>21203</td>\n",
              "      <td>20992</td>\n",
              "    </tr>\n",
              "    <tr>\n",
              "      <th>unique</th>\n",
              "      <td>6927</td>\n",
              "      <td>9</td>\n",
              "    </tr>\n",
              "    <tr>\n",
              "      <th>top</th>\n",
              "      <td>.</td>\n",
              "      <td>O</td>\n",
              "    </tr>\n",
              "    <tr>\n",
              "      <th>freq</th>\n",
              "      <td>609</td>\n",
              "      <td>17641</td>\n",
              "    </tr>\n",
              "  </tbody>\n",
              "</table>\n",
              "</div>\n",
              "      <button class=\"colab-df-convert\" onclick=\"convertToInteractive('df-31d0d57f-a957-4064-8649-32ba50c4c72b')\"\n",
              "              title=\"Convert this dataframe to an interactive table.\"\n",
              "              style=\"display:none;\">\n",
              "        \n",
              "  <svg xmlns=\"http://www.w3.org/2000/svg\" height=\"24px\"viewBox=\"0 0 24 24\"\n",
              "       width=\"24px\">\n",
              "    <path d=\"M0 0h24v24H0V0z\" fill=\"none\"/>\n",
              "    <path d=\"M18.56 5.44l.94 2.06.94-2.06 2.06-.94-2.06-.94-.94-2.06-.94 2.06-2.06.94zm-11 1L8.5 8.5l.94-2.06 2.06-.94-2.06-.94L8.5 2.5l-.94 2.06-2.06.94zm10 10l.94 2.06.94-2.06 2.06-.94-2.06-.94-.94-2.06-.94 2.06-2.06.94z\"/><path d=\"M17.41 7.96l-1.37-1.37c-.4-.4-.92-.59-1.43-.59-.52 0-1.04.2-1.43.59L10.3 9.45l-7.72 7.72c-.78.78-.78 2.05 0 2.83L4 21.41c.39.39.9.59 1.41.59.51 0 1.02-.2 1.41-.59l7.78-7.78 2.81-2.81c.8-.78.8-2.07 0-2.86zM5.41 20L4 18.59l7.72-7.72 1.47 1.35L5.41 20z\"/>\n",
              "  </svg>\n",
              "      </button>\n",
              "      \n",
              "  <style>\n",
              "    .colab-df-container {\n",
              "      display:flex;\n",
              "      flex-wrap:wrap;\n",
              "      gap: 12px;\n",
              "    }\n",
              "\n",
              "    .colab-df-convert {\n",
              "      background-color: #E8F0FE;\n",
              "      border: none;\n",
              "      border-radius: 50%;\n",
              "      cursor: pointer;\n",
              "      display: none;\n",
              "      fill: #1967D2;\n",
              "      height: 32px;\n",
              "      padding: 0 0 0 0;\n",
              "      width: 32px;\n",
              "    }\n",
              "\n",
              "    .colab-df-convert:hover {\n",
              "      background-color: #E2EBFA;\n",
              "      box-shadow: 0px 1px 2px rgba(60, 64, 67, 0.3), 0px 1px 3px 1px rgba(60, 64, 67, 0.15);\n",
              "      fill: #174EA6;\n",
              "    }\n",
              "\n",
              "    [theme=dark] .colab-df-convert {\n",
              "      background-color: #3B4455;\n",
              "      fill: #D2E3FC;\n",
              "    }\n",
              "\n",
              "    [theme=dark] .colab-df-convert:hover {\n",
              "      background-color: #434B5C;\n",
              "      box-shadow: 0px 1px 3px 1px rgba(0, 0, 0, 0.15);\n",
              "      filter: drop-shadow(0px 1px 2px rgba(0, 0, 0, 0.3));\n",
              "      fill: #FFFFFF;\n",
              "    }\n",
              "  </style>\n",
              "\n",
              "      <script>\n",
              "        const buttonEl =\n",
              "          document.querySelector('#df-31d0d57f-a957-4064-8649-32ba50c4c72b button.colab-df-convert');\n",
              "        buttonEl.style.display =\n",
              "          google.colab.kernel.accessAllowed ? 'block' : 'none';\n",
              "\n",
              "        async function convertToInteractive(key) {\n",
              "          const element = document.querySelector('#df-31d0d57f-a957-4064-8649-32ba50c4c72b');\n",
              "          const dataTable =\n",
              "            await google.colab.kernel.invokeFunction('convertToInteractive',\n",
              "                                                     [key], {});\n",
              "          if (!dataTable) return;\n",
              "\n",
              "          const docLinkHtml = 'Like what you see? Visit the ' +\n",
              "            '<a target=\"_blank\" href=https://colab.research.google.com/notebooks/data_table.ipynb>data table notebook</a>'\n",
              "            + ' to learn more about interactive tables.';\n",
              "          element.innerHTML = '';\n",
              "          dataTable['output_type'] = 'display_data';\n",
              "          await google.colab.output.renderOutput(dataTable, element);\n",
              "          const docLink = document.createElement('div');\n",
              "          docLink.innerHTML = docLinkHtml;\n",
              "          element.appendChild(docLink);\n",
              "        }\n",
              "      </script>\n",
              "    </div>\n",
              "  </div>\n",
              "  "
            ]
          },
          "metadata": {},
          "execution_count": 5
        }
      ]
    },
    {
      "cell_type": "code",
      "source": [
        "data.Word.value_counts()"
      ],
      "metadata": {
        "colab": {
          "base_uri": "https://localhost:8080/"
        },
        "id": "Kytcn5tM7pN_",
        "outputId": "e89ca9c8-e2ed-48a3-9930-01937df82c51"
      },
      "execution_count": null,
      "outputs": [
        {
          "output_type": "execute_result",
          "data": {
            "text/plain": [
              ".        609\n",
              "في       606\n",
              "من       511\n",
              "،        453\n",
              "و        360\n",
              "        ... \n",
              "حساس       1\n",
              "تشبع       1\n",
              "للحد       1\n",
              "أقسام      1\n",
              "ستجد       1\n",
              "Name: Word, Length: 6927, dtype: int64"
            ]
          },
          "metadata": {},
          "execution_count": 6
        }
      ]
    },
    {
      "cell_type": "markdown",
      "source": [
        "# **Data Cleaning**"
      ],
      "metadata": {
        "id": "pfDmrrERc_9q"
      }
    },
    {
      "cell_type": "markdown",
      "source": [
        "***Remove Non Arabic words***"
      ],
      "metadata": {
        "id": "wxVVUmSDkpk9"
      }
    },
    {
      "cell_type": "code",
      "source": [
        "data = data[data['Arabic'] == 1]\n",
        "data"
      ],
      "metadata": {
        "colab": {
          "base_uri": "https://localhost:8080/",
          "height": 424
        },
        "id": "GTQB4Yp4ieEi",
        "outputId": "108c289c-0480-48eb-e83b-bcbb3835b43e"
      },
      "execution_count": null,
      "outputs": [
        {
          "output_type": "execute_result",
          "data": {
            "text/plain": [
              "          Word  Arabic  Label\n",
              "0        الذرة     1.0      O\n",
              "1           هي     1.0      O\n",
              "2         أصغر     1.0      O\n",
              "3          جزء     1.0      O\n",
              "4           من     1.0      O\n",
              "...        ...     ...    ...\n",
              "21197        /     1.0  I-MIS\n",
              "21199       في     1.0      O\n",
              "21200      طور     1.0      O\n",
              "21201  التصميم     1.0      O\n",
              "21202        .     1.0      O\n",
              "\n",
              "[20197 rows x 3 columns]"
            ],
            "text/html": [
              "\n",
              "  <div id=\"df-8184733b-4b95-42f0-885b-fa4e3a03b5ea\">\n",
              "    <div class=\"colab-df-container\">\n",
              "      <div>\n",
              "<style scoped>\n",
              "    .dataframe tbody tr th:only-of-type {\n",
              "        vertical-align: middle;\n",
              "    }\n",
              "\n",
              "    .dataframe tbody tr th {\n",
              "        vertical-align: top;\n",
              "    }\n",
              "\n",
              "    .dataframe thead th {\n",
              "        text-align: right;\n",
              "    }\n",
              "</style>\n",
              "<table border=\"1\" class=\"dataframe\">\n",
              "  <thead>\n",
              "    <tr style=\"text-align: right;\">\n",
              "      <th></th>\n",
              "      <th>Word</th>\n",
              "      <th>Arabic</th>\n",
              "      <th>Label</th>\n",
              "    </tr>\n",
              "  </thead>\n",
              "  <tbody>\n",
              "    <tr>\n",
              "      <th>0</th>\n",
              "      <td>الذرة</td>\n",
              "      <td>1.0</td>\n",
              "      <td>O</td>\n",
              "    </tr>\n",
              "    <tr>\n",
              "      <th>1</th>\n",
              "      <td>هي</td>\n",
              "      <td>1.0</td>\n",
              "      <td>O</td>\n",
              "    </tr>\n",
              "    <tr>\n",
              "      <th>2</th>\n",
              "      <td>أصغر</td>\n",
              "      <td>1.0</td>\n",
              "      <td>O</td>\n",
              "    </tr>\n",
              "    <tr>\n",
              "      <th>3</th>\n",
              "      <td>جزء</td>\n",
              "      <td>1.0</td>\n",
              "      <td>O</td>\n",
              "    </tr>\n",
              "    <tr>\n",
              "      <th>4</th>\n",
              "      <td>من</td>\n",
              "      <td>1.0</td>\n",
              "      <td>O</td>\n",
              "    </tr>\n",
              "    <tr>\n",
              "      <th>...</th>\n",
              "      <td>...</td>\n",
              "      <td>...</td>\n",
              "      <td>...</td>\n",
              "    </tr>\n",
              "    <tr>\n",
              "      <th>21197</th>\n",
              "      <td>/</td>\n",
              "      <td>1.0</td>\n",
              "      <td>I-MIS</td>\n",
              "    </tr>\n",
              "    <tr>\n",
              "      <th>21199</th>\n",
              "      <td>في</td>\n",
              "      <td>1.0</td>\n",
              "      <td>O</td>\n",
              "    </tr>\n",
              "    <tr>\n",
              "      <th>21200</th>\n",
              "      <td>طور</td>\n",
              "      <td>1.0</td>\n",
              "      <td>O</td>\n",
              "    </tr>\n",
              "    <tr>\n",
              "      <th>21201</th>\n",
              "      <td>التصميم</td>\n",
              "      <td>1.0</td>\n",
              "      <td>O</td>\n",
              "    </tr>\n",
              "    <tr>\n",
              "      <th>21202</th>\n",
              "      <td>.</td>\n",
              "      <td>1.0</td>\n",
              "      <td>O</td>\n",
              "    </tr>\n",
              "  </tbody>\n",
              "</table>\n",
              "<p>20197 rows × 3 columns</p>\n",
              "</div>\n",
              "      <button class=\"colab-df-convert\" onclick=\"convertToInteractive('df-8184733b-4b95-42f0-885b-fa4e3a03b5ea')\"\n",
              "              title=\"Convert this dataframe to an interactive table.\"\n",
              "              style=\"display:none;\">\n",
              "        \n",
              "  <svg xmlns=\"http://www.w3.org/2000/svg\" height=\"24px\"viewBox=\"0 0 24 24\"\n",
              "       width=\"24px\">\n",
              "    <path d=\"M0 0h24v24H0V0z\" fill=\"none\"/>\n",
              "    <path d=\"M18.56 5.44l.94 2.06.94-2.06 2.06-.94-2.06-.94-.94-2.06-.94 2.06-2.06.94zm-11 1L8.5 8.5l.94-2.06 2.06-.94-2.06-.94L8.5 2.5l-.94 2.06-2.06.94zm10 10l.94 2.06.94-2.06 2.06-.94-2.06-.94-.94-2.06-.94 2.06-2.06.94z\"/><path d=\"M17.41 7.96l-1.37-1.37c-.4-.4-.92-.59-1.43-.59-.52 0-1.04.2-1.43.59L10.3 9.45l-7.72 7.72c-.78.78-.78 2.05 0 2.83L4 21.41c.39.39.9.59 1.41.59.51 0 1.02-.2 1.41-.59l7.78-7.78 2.81-2.81c.8-.78.8-2.07 0-2.86zM5.41 20L4 18.59l7.72-7.72 1.47 1.35L5.41 20z\"/>\n",
              "  </svg>\n",
              "      </button>\n",
              "      \n",
              "  <style>\n",
              "    .colab-df-container {\n",
              "      display:flex;\n",
              "      flex-wrap:wrap;\n",
              "      gap: 12px;\n",
              "    }\n",
              "\n",
              "    .colab-df-convert {\n",
              "      background-color: #E8F0FE;\n",
              "      border: none;\n",
              "      border-radius: 50%;\n",
              "      cursor: pointer;\n",
              "      display: none;\n",
              "      fill: #1967D2;\n",
              "      height: 32px;\n",
              "      padding: 0 0 0 0;\n",
              "      width: 32px;\n",
              "    }\n",
              "\n",
              "    .colab-df-convert:hover {\n",
              "      background-color: #E2EBFA;\n",
              "      box-shadow: 0px 1px 2px rgba(60, 64, 67, 0.3), 0px 1px 3px 1px rgba(60, 64, 67, 0.15);\n",
              "      fill: #174EA6;\n",
              "    }\n",
              "\n",
              "    [theme=dark] .colab-df-convert {\n",
              "      background-color: #3B4455;\n",
              "      fill: #D2E3FC;\n",
              "    }\n",
              "\n",
              "    [theme=dark] .colab-df-convert:hover {\n",
              "      background-color: #434B5C;\n",
              "      box-shadow: 0px 1px 3px 1px rgba(0, 0, 0, 0.15);\n",
              "      filter: drop-shadow(0px 1px 2px rgba(0, 0, 0, 0.3));\n",
              "      fill: #FFFFFF;\n",
              "    }\n",
              "  </style>\n",
              "\n",
              "      <script>\n",
              "        const buttonEl =\n",
              "          document.querySelector('#df-8184733b-4b95-42f0-885b-fa4e3a03b5ea button.colab-df-convert');\n",
              "        buttonEl.style.display =\n",
              "          google.colab.kernel.accessAllowed ? 'block' : 'none';\n",
              "\n",
              "        async function convertToInteractive(key) {\n",
              "          const element = document.querySelector('#df-8184733b-4b95-42f0-885b-fa4e3a03b5ea');\n",
              "          const dataTable =\n",
              "            await google.colab.kernel.invokeFunction('convertToInteractive',\n",
              "                                                     [key], {});\n",
              "          if (!dataTable) return;\n",
              "\n",
              "          const docLinkHtml = 'Like what you see? Visit the ' +\n",
              "            '<a target=\"_blank\" href=https://colab.research.google.com/notebooks/data_table.ipynb>data table notebook</a>'\n",
              "            + ' to learn more about interactive tables.';\n",
              "          element.innerHTML = '';\n",
              "          dataTable['output_type'] = 'display_data';\n",
              "          await google.colab.output.renderOutput(dataTable, element);\n",
              "          const docLink = document.createElement('div');\n",
              "          docLink.innerHTML = docLinkHtml;\n",
              "          element.appendChild(docLink);\n",
              "        }\n",
              "      </script>\n",
              "    </div>\n",
              "  </div>\n",
              "  "
            ]
          },
          "metadata": {},
          "execution_count": 7
        }
      ]
    },
    {
      "cell_type": "markdown",
      "source": [
        "***We used 'Arabic' column to identify Non Arabic words and delelete them.So, now we don't need it.***"
      ],
      "metadata": {
        "id": "6Pa5AKSqIvjo"
      }
    },
    {
      "cell_type": "markdown",
      "source": [
        "***Drop Arabic Column***"
      ],
      "metadata": {
        "id": "ctxHSg6cm1t-"
      }
    },
    {
      "cell_type": "code",
      "source": [
        "data = data.drop(['Arabic'], axis=1)\n",
        "data"
      ],
      "metadata": {
        "colab": {
          "base_uri": "https://localhost:8080/",
          "height": 424
        },
        "id": "Tha_AVEtm1JL",
        "outputId": "30d54147-f3e1-4fee-c768-8fe9824b7325"
      },
      "execution_count": null,
      "outputs": [
        {
          "output_type": "execute_result",
          "data": {
            "text/plain": [
              "          Word  Label\n",
              "0        الذرة      O\n",
              "1           هي      O\n",
              "2         أصغر      O\n",
              "3          جزء      O\n",
              "4           من      O\n",
              "...        ...    ...\n",
              "21197        /  I-MIS\n",
              "21199       في      O\n",
              "21200      طور      O\n",
              "21201  التصميم      O\n",
              "21202        .      O\n",
              "\n",
              "[20197 rows x 2 columns]"
            ],
            "text/html": [
              "\n",
              "  <div id=\"df-3fb44685-6e33-48e5-818d-8fd90adb5ba8\">\n",
              "    <div class=\"colab-df-container\">\n",
              "      <div>\n",
              "<style scoped>\n",
              "    .dataframe tbody tr th:only-of-type {\n",
              "        vertical-align: middle;\n",
              "    }\n",
              "\n",
              "    .dataframe tbody tr th {\n",
              "        vertical-align: top;\n",
              "    }\n",
              "\n",
              "    .dataframe thead th {\n",
              "        text-align: right;\n",
              "    }\n",
              "</style>\n",
              "<table border=\"1\" class=\"dataframe\">\n",
              "  <thead>\n",
              "    <tr style=\"text-align: right;\">\n",
              "      <th></th>\n",
              "      <th>Word</th>\n",
              "      <th>Label</th>\n",
              "    </tr>\n",
              "  </thead>\n",
              "  <tbody>\n",
              "    <tr>\n",
              "      <th>0</th>\n",
              "      <td>الذرة</td>\n",
              "      <td>O</td>\n",
              "    </tr>\n",
              "    <tr>\n",
              "      <th>1</th>\n",
              "      <td>هي</td>\n",
              "      <td>O</td>\n",
              "    </tr>\n",
              "    <tr>\n",
              "      <th>2</th>\n",
              "      <td>أصغر</td>\n",
              "      <td>O</td>\n",
              "    </tr>\n",
              "    <tr>\n",
              "      <th>3</th>\n",
              "      <td>جزء</td>\n",
              "      <td>O</td>\n",
              "    </tr>\n",
              "    <tr>\n",
              "      <th>4</th>\n",
              "      <td>من</td>\n",
              "      <td>O</td>\n",
              "    </tr>\n",
              "    <tr>\n",
              "      <th>...</th>\n",
              "      <td>...</td>\n",
              "      <td>...</td>\n",
              "    </tr>\n",
              "    <tr>\n",
              "      <th>21197</th>\n",
              "      <td>/</td>\n",
              "      <td>I-MIS</td>\n",
              "    </tr>\n",
              "    <tr>\n",
              "      <th>21199</th>\n",
              "      <td>في</td>\n",
              "      <td>O</td>\n",
              "    </tr>\n",
              "    <tr>\n",
              "      <th>21200</th>\n",
              "      <td>طور</td>\n",
              "      <td>O</td>\n",
              "    </tr>\n",
              "    <tr>\n",
              "      <th>21201</th>\n",
              "      <td>التصميم</td>\n",
              "      <td>O</td>\n",
              "    </tr>\n",
              "    <tr>\n",
              "      <th>21202</th>\n",
              "      <td>.</td>\n",
              "      <td>O</td>\n",
              "    </tr>\n",
              "  </tbody>\n",
              "</table>\n",
              "<p>20197 rows × 2 columns</p>\n",
              "</div>\n",
              "      <button class=\"colab-df-convert\" onclick=\"convertToInteractive('df-3fb44685-6e33-48e5-818d-8fd90adb5ba8')\"\n",
              "              title=\"Convert this dataframe to an interactive table.\"\n",
              "              style=\"display:none;\">\n",
              "        \n",
              "  <svg xmlns=\"http://www.w3.org/2000/svg\" height=\"24px\"viewBox=\"0 0 24 24\"\n",
              "       width=\"24px\">\n",
              "    <path d=\"M0 0h24v24H0V0z\" fill=\"none\"/>\n",
              "    <path d=\"M18.56 5.44l.94 2.06.94-2.06 2.06-.94-2.06-.94-.94-2.06-.94 2.06-2.06.94zm-11 1L8.5 8.5l.94-2.06 2.06-.94-2.06-.94L8.5 2.5l-.94 2.06-2.06.94zm10 10l.94 2.06.94-2.06 2.06-.94-2.06-.94-.94-2.06-.94 2.06-2.06.94z\"/><path d=\"M17.41 7.96l-1.37-1.37c-.4-.4-.92-.59-1.43-.59-.52 0-1.04.2-1.43.59L10.3 9.45l-7.72 7.72c-.78.78-.78 2.05 0 2.83L4 21.41c.39.39.9.59 1.41.59.51 0 1.02-.2 1.41-.59l7.78-7.78 2.81-2.81c.8-.78.8-2.07 0-2.86zM5.41 20L4 18.59l7.72-7.72 1.47 1.35L5.41 20z\"/>\n",
              "  </svg>\n",
              "      </button>\n",
              "      \n",
              "  <style>\n",
              "    .colab-df-container {\n",
              "      display:flex;\n",
              "      flex-wrap:wrap;\n",
              "      gap: 12px;\n",
              "    }\n",
              "\n",
              "    .colab-df-convert {\n",
              "      background-color: #E8F0FE;\n",
              "      border: none;\n",
              "      border-radius: 50%;\n",
              "      cursor: pointer;\n",
              "      display: none;\n",
              "      fill: #1967D2;\n",
              "      height: 32px;\n",
              "      padding: 0 0 0 0;\n",
              "      width: 32px;\n",
              "    }\n",
              "\n",
              "    .colab-df-convert:hover {\n",
              "      background-color: #E2EBFA;\n",
              "      box-shadow: 0px 1px 2px rgba(60, 64, 67, 0.3), 0px 1px 3px 1px rgba(60, 64, 67, 0.15);\n",
              "      fill: #174EA6;\n",
              "    }\n",
              "\n",
              "    [theme=dark] .colab-df-convert {\n",
              "      background-color: #3B4455;\n",
              "      fill: #D2E3FC;\n",
              "    }\n",
              "\n",
              "    [theme=dark] .colab-df-convert:hover {\n",
              "      background-color: #434B5C;\n",
              "      box-shadow: 0px 1px 3px 1px rgba(0, 0, 0, 0.15);\n",
              "      filter: drop-shadow(0px 1px 2px rgba(0, 0, 0, 0.3));\n",
              "      fill: #FFFFFF;\n",
              "    }\n",
              "  </style>\n",
              "\n",
              "      <script>\n",
              "        const buttonEl =\n",
              "          document.querySelector('#df-3fb44685-6e33-48e5-818d-8fd90adb5ba8 button.colab-df-convert');\n",
              "        buttonEl.style.display =\n",
              "          google.colab.kernel.accessAllowed ? 'block' : 'none';\n",
              "\n",
              "        async function convertToInteractive(key) {\n",
              "          const element = document.querySelector('#df-3fb44685-6e33-48e5-818d-8fd90adb5ba8');\n",
              "          const dataTable =\n",
              "            await google.colab.kernel.invokeFunction('convertToInteractive',\n",
              "                                                     [key], {});\n",
              "          if (!dataTable) return;\n",
              "\n",
              "          const docLinkHtml = 'Like what you see? Visit the ' +\n",
              "            '<a target=\"_blank\" href=https://colab.research.google.com/notebooks/data_table.ipynb>data table notebook</a>'\n",
              "            + ' to learn more about interactive tables.';\n",
              "          element.innerHTML = '';\n",
              "          dataTable['output_type'] = 'display_data';\n",
              "          await google.colab.output.renderOutput(dataTable, element);\n",
              "          const docLink = document.createElement('div');\n",
              "          docLink.innerHTML = docLinkHtml;\n",
              "          element.appendChild(docLink);\n",
              "        }\n",
              "      </script>\n",
              "    </div>\n",
              "  </div>\n",
              "  "
            ]
          },
          "metadata": {},
          "execution_count": 8
        }
      ]
    },
    {
      "cell_type": "markdown",
      "source": [
        "# **Data Preprocessing**"
      ],
      "metadata": {
        "id": "RFz_wdEGJNBb"
      }
    },
    {
      "cell_type": "markdown",
      "source": [
        "***Preprocess Arabic Words***"
      ],
      "metadata": {
        "id": "SY0TDOVGwgB_"
      }
    },
    {
      "cell_type": "code",
      "source": [
        "data['Word'] = data['Word'].apply(ar_preprocessing)\n",
        "data"
      ],
      "metadata": {
        "id": "5HiWEnHcdwz1",
        "colab": {
          "base_uri": "https://localhost:8080/",
          "height": 424
        },
        "outputId": "c4fec962-dc9b-419b-b137-f45a7be82670"
      },
      "execution_count": null,
      "outputs": [
        {
          "output_type": "execute_result",
          "data": {
            "text/plain": [
              "          Word  Label\n",
              "0        الذره      O\n",
              "1           هي      O\n",
              "2         اصغر      O\n",
              "3          جزء      O\n",
              "4           من      O\n",
              "...        ...    ...\n",
              "21197           I-MIS\n",
              "21199       في      O\n",
              "21200      طور      O\n",
              "21201  التصميم      O\n",
              "21202               O\n",
              "\n",
              "[20197 rows x 2 columns]"
            ],
            "text/html": [
              "\n",
              "  <div id=\"df-befee8bb-814f-44cb-b418-d6fd03b1680b\">\n",
              "    <div class=\"colab-df-container\">\n",
              "      <div>\n",
              "<style scoped>\n",
              "    .dataframe tbody tr th:only-of-type {\n",
              "        vertical-align: middle;\n",
              "    }\n",
              "\n",
              "    .dataframe tbody tr th {\n",
              "        vertical-align: top;\n",
              "    }\n",
              "\n",
              "    .dataframe thead th {\n",
              "        text-align: right;\n",
              "    }\n",
              "</style>\n",
              "<table border=\"1\" class=\"dataframe\">\n",
              "  <thead>\n",
              "    <tr style=\"text-align: right;\">\n",
              "      <th></th>\n",
              "      <th>Word</th>\n",
              "      <th>Label</th>\n",
              "    </tr>\n",
              "  </thead>\n",
              "  <tbody>\n",
              "    <tr>\n",
              "      <th>0</th>\n",
              "      <td>الذره</td>\n",
              "      <td>O</td>\n",
              "    </tr>\n",
              "    <tr>\n",
              "      <th>1</th>\n",
              "      <td>هي</td>\n",
              "      <td>O</td>\n",
              "    </tr>\n",
              "    <tr>\n",
              "      <th>2</th>\n",
              "      <td>اصغر</td>\n",
              "      <td>O</td>\n",
              "    </tr>\n",
              "    <tr>\n",
              "      <th>3</th>\n",
              "      <td>جزء</td>\n",
              "      <td>O</td>\n",
              "    </tr>\n",
              "    <tr>\n",
              "      <th>4</th>\n",
              "      <td>من</td>\n",
              "      <td>O</td>\n",
              "    </tr>\n",
              "    <tr>\n",
              "      <th>...</th>\n",
              "      <td>...</td>\n",
              "      <td>...</td>\n",
              "    </tr>\n",
              "    <tr>\n",
              "      <th>21197</th>\n",
              "      <td></td>\n",
              "      <td>I-MIS</td>\n",
              "    </tr>\n",
              "    <tr>\n",
              "      <th>21199</th>\n",
              "      <td>في</td>\n",
              "      <td>O</td>\n",
              "    </tr>\n",
              "    <tr>\n",
              "      <th>21200</th>\n",
              "      <td>طور</td>\n",
              "      <td>O</td>\n",
              "    </tr>\n",
              "    <tr>\n",
              "      <th>21201</th>\n",
              "      <td>التصميم</td>\n",
              "      <td>O</td>\n",
              "    </tr>\n",
              "    <tr>\n",
              "      <th>21202</th>\n",
              "      <td></td>\n",
              "      <td>O</td>\n",
              "    </tr>\n",
              "  </tbody>\n",
              "</table>\n",
              "<p>20197 rows × 2 columns</p>\n",
              "</div>\n",
              "      <button class=\"colab-df-convert\" onclick=\"convertToInteractive('df-befee8bb-814f-44cb-b418-d6fd03b1680b')\"\n",
              "              title=\"Convert this dataframe to an interactive table.\"\n",
              "              style=\"display:none;\">\n",
              "        \n",
              "  <svg xmlns=\"http://www.w3.org/2000/svg\" height=\"24px\"viewBox=\"0 0 24 24\"\n",
              "       width=\"24px\">\n",
              "    <path d=\"M0 0h24v24H0V0z\" fill=\"none\"/>\n",
              "    <path d=\"M18.56 5.44l.94 2.06.94-2.06 2.06-.94-2.06-.94-.94-2.06-.94 2.06-2.06.94zm-11 1L8.5 8.5l.94-2.06 2.06-.94-2.06-.94L8.5 2.5l-.94 2.06-2.06.94zm10 10l.94 2.06.94-2.06 2.06-.94-2.06-.94-.94-2.06-.94 2.06-2.06.94z\"/><path d=\"M17.41 7.96l-1.37-1.37c-.4-.4-.92-.59-1.43-.59-.52 0-1.04.2-1.43.59L10.3 9.45l-7.72 7.72c-.78.78-.78 2.05 0 2.83L4 21.41c.39.39.9.59 1.41.59.51 0 1.02-.2 1.41-.59l7.78-7.78 2.81-2.81c.8-.78.8-2.07 0-2.86zM5.41 20L4 18.59l7.72-7.72 1.47 1.35L5.41 20z\"/>\n",
              "  </svg>\n",
              "      </button>\n",
              "      \n",
              "  <style>\n",
              "    .colab-df-container {\n",
              "      display:flex;\n",
              "      flex-wrap:wrap;\n",
              "      gap: 12px;\n",
              "    }\n",
              "\n",
              "    .colab-df-convert {\n",
              "      background-color: #E8F0FE;\n",
              "      border: none;\n",
              "      border-radius: 50%;\n",
              "      cursor: pointer;\n",
              "      display: none;\n",
              "      fill: #1967D2;\n",
              "      height: 32px;\n",
              "      padding: 0 0 0 0;\n",
              "      width: 32px;\n",
              "    }\n",
              "\n",
              "    .colab-df-convert:hover {\n",
              "      background-color: #E2EBFA;\n",
              "      box-shadow: 0px 1px 2px rgba(60, 64, 67, 0.3), 0px 1px 3px 1px rgba(60, 64, 67, 0.15);\n",
              "      fill: #174EA6;\n",
              "    }\n",
              "\n",
              "    [theme=dark] .colab-df-convert {\n",
              "      background-color: #3B4455;\n",
              "      fill: #D2E3FC;\n",
              "    }\n",
              "\n",
              "    [theme=dark] .colab-df-convert:hover {\n",
              "      background-color: #434B5C;\n",
              "      box-shadow: 0px 1px 3px 1px rgba(0, 0, 0, 0.15);\n",
              "      filter: drop-shadow(0px 1px 2px rgba(0, 0, 0, 0.3));\n",
              "      fill: #FFFFFF;\n",
              "    }\n",
              "  </style>\n",
              "\n",
              "      <script>\n",
              "        const buttonEl =\n",
              "          document.querySelector('#df-befee8bb-814f-44cb-b418-d6fd03b1680b button.colab-df-convert');\n",
              "        buttonEl.style.display =\n",
              "          google.colab.kernel.accessAllowed ? 'block' : 'none';\n",
              "\n",
              "        async function convertToInteractive(key) {\n",
              "          const element = document.querySelector('#df-befee8bb-814f-44cb-b418-d6fd03b1680b');\n",
              "          const dataTable =\n",
              "            await google.colab.kernel.invokeFunction('convertToInteractive',\n",
              "                                                     [key], {});\n",
              "          if (!dataTable) return;\n",
              "\n",
              "          const docLinkHtml = 'Like what you see? Visit the ' +\n",
              "            '<a target=\"_blank\" href=https://colab.research.google.com/notebooks/data_table.ipynb>data table notebook</a>'\n",
              "            + ' to learn more about interactive tables.';\n",
              "          element.innerHTML = '';\n",
              "          dataTable['output_type'] = 'display_data';\n",
              "          await google.colab.output.renderOutput(dataTable, element);\n",
              "          const docLink = document.createElement('div');\n",
              "          docLink.innerHTML = docLinkHtml;\n",
              "          element.appendChild(docLink);\n",
              "        }\n",
              "      </script>\n",
              "    </div>\n",
              "  </div>\n",
              "  "
            ]
          },
          "metadata": {},
          "execution_count": 9
        }
      ]
    },
    {
      "cell_type": "markdown",
      "source": [
        "***ar_preprocessing() Function causes some empty values (\" \"),Pandas will not recognise them because they are not \"null\". To fix this, We'll convert the empty stings to np.nan objects using replace(), and then call dropna() to delete rows with \"null\" values.***"
      ],
      "metadata": {
        "id": "2ta3iz-4HZcu"
      }
    },
    {
      "cell_type": "code",
      "source": [
        "nan_value = float(\"NaN\")\n",
        "data = data.replace(\"\", nan_value)\n",
        "data = data.dropna()"
      ],
      "metadata": {
        "id": "oa3a9y-hdde1"
      },
      "execution_count": null,
      "outputs": []
    },
    {
      "cell_type": "code",
      "source": [
        "data"
      ],
      "metadata": {
        "colab": {
          "base_uri": "https://localhost:8080/",
          "height": 424
        },
        "id": "rV5KjiSpY-_4",
        "outputId": "05ab9549-529a-4965-d7a8-09d9f3ffaf5e"
      },
      "execution_count": null,
      "outputs": [
        {
          "output_type": "execute_result",
          "data": {
            "text/plain": [
              "          Word  Label\n",
              "0        الذره      O\n",
              "1           هي      O\n",
              "2         اصغر      O\n",
              "3          جزء      O\n",
              "4           من      O\n",
              "...        ...    ...\n",
              "21193    تشغيل  I-MIS\n",
              "21194     باسم      O\n",
              "21199       في      O\n",
              "21200      طور      O\n",
              "21201  التصميم      O\n",
              "\n",
              "[18022 rows x 2 columns]"
            ],
            "text/html": [
              "\n",
              "  <div id=\"df-e26fc10f-03fb-4c74-afa3-7d7e2c12b12b\">\n",
              "    <div class=\"colab-df-container\">\n",
              "      <div>\n",
              "<style scoped>\n",
              "    .dataframe tbody tr th:only-of-type {\n",
              "        vertical-align: middle;\n",
              "    }\n",
              "\n",
              "    .dataframe tbody tr th {\n",
              "        vertical-align: top;\n",
              "    }\n",
              "\n",
              "    .dataframe thead th {\n",
              "        text-align: right;\n",
              "    }\n",
              "</style>\n",
              "<table border=\"1\" class=\"dataframe\">\n",
              "  <thead>\n",
              "    <tr style=\"text-align: right;\">\n",
              "      <th></th>\n",
              "      <th>Word</th>\n",
              "      <th>Label</th>\n",
              "    </tr>\n",
              "  </thead>\n",
              "  <tbody>\n",
              "    <tr>\n",
              "      <th>0</th>\n",
              "      <td>الذره</td>\n",
              "      <td>O</td>\n",
              "    </tr>\n",
              "    <tr>\n",
              "      <th>1</th>\n",
              "      <td>هي</td>\n",
              "      <td>O</td>\n",
              "    </tr>\n",
              "    <tr>\n",
              "      <th>2</th>\n",
              "      <td>اصغر</td>\n",
              "      <td>O</td>\n",
              "    </tr>\n",
              "    <tr>\n",
              "      <th>3</th>\n",
              "      <td>جزء</td>\n",
              "      <td>O</td>\n",
              "    </tr>\n",
              "    <tr>\n",
              "      <th>4</th>\n",
              "      <td>من</td>\n",
              "      <td>O</td>\n",
              "    </tr>\n",
              "    <tr>\n",
              "      <th>...</th>\n",
              "      <td>...</td>\n",
              "      <td>...</td>\n",
              "    </tr>\n",
              "    <tr>\n",
              "      <th>21193</th>\n",
              "      <td>تشغيل</td>\n",
              "      <td>I-MIS</td>\n",
              "    </tr>\n",
              "    <tr>\n",
              "      <th>21194</th>\n",
              "      <td>باسم</td>\n",
              "      <td>O</td>\n",
              "    </tr>\n",
              "    <tr>\n",
              "      <th>21199</th>\n",
              "      <td>في</td>\n",
              "      <td>O</td>\n",
              "    </tr>\n",
              "    <tr>\n",
              "      <th>21200</th>\n",
              "      <td>طور</td>\n",
              "      <td>O</td>\n",
              "    </tr>\n",
              "    <tr>\n",
              "      <th>21201</th>\n",
              "      <td>التصميم</td>\n",
              "      <td>O</td>\n",
              "    </tr>\n",
              "  </tbody>\n",
              "</table>\n",
              "<p>18022 rows × 2 columns</p>\n",
              "</div>\n",
              "      <button class=\"colab-df-convert\" onclick=\"convertToInteractive('df-e26fc10f-03fb-4c74-afa3-7d7e2c12b12b')\"\n",
              "              title=\"Convert this dataframe to an interactive table.\"\n",
              "              style=\"display:none;\">\n",
              "        \n",
              "  <svg xmlns=\"http://www.w3.org/2000/svg\" height=\"24px\"viewBox=\"0 0 24 24\"\n",
              "       width=\"24px\">\n",
              "    <path d=\"M0 0h24v24H0V0z\" fill=\"none\"/>\n",
              "    <path d=\"M18.56 5.44l.94 2.06.94-2.06 2.06-.94-2.06-.94-.94-2.06-.94 2.06-2.06.94zm-11 1L8.5 8.5l.94-2.06 2.06-.94-2.06-.94L8.5 2.5l-.94 2.06-2.06.94zm10 10l.94 2.06.94-2.06 2.06-.94-2.06-.94-.94-2.06-.94 2.06-2.06.94z\"/><path d=\"M17.41 7.96l-1.37-1.37c-.4-.4-.92-.59-1.43-.59-.52 0-1.04.2-1.43.59L10.3 9.45l-7.72 7.72c-.78.78-.78 2.05 0 2.83L4 21.41c.39.39.9.59 1.41.59.51 0 1.02-.2 1.41-.59l7.78-7.78 2.81-2.81c.8-.78.8-2.07 0-2.86zM5.41 20L4 18.59l7.72-7.72 1.47 1.35L5.41 20z\"/>\n",
              "  </svg>\n",
              "      </button>\n",
              "      \n",
              "  <style>\n",
              "    .colab-df-container {\n",
              "      display:flex;\n",
              "      flex-wrap:wrap;\n",
              "      gap: 12px;\n",
              "    }\n",
              "\n",
              "    .colab-df-convert {\n",
              "      background-color: #E8F0FE;\n",
              "      border: none;\n",
              "      border-radius: 50%;\n",
              "      cursor: pointer;\n",
              "      display: none;\n",
              "      fill: #1967D2;\n",
              "      height: 32px;\n",
              "      padding: 0 0 0 0;\n",
              "      width: 32px;\n",
              "    }\n",
              "\n",
              "    .colab-df-convert:hover {\n",
              "      background-color: #E2EBFA;\n",
              "      box-shadow: 0px 1px 2px rgba(60, 64, 67, 0.3), 0px 1px 3px 1px rgba(60, 64, 67, 0.15);\n",
              "      fill: #174EA6;\n",
              "    }\n",
              "\n",
              "    [theme=dark] .colab-df-convert {\n",
              "      background-color: #3B4455;\n",
              "      fill: #D2E3FC;\n",
              "    }\n",
              "\n",
              "    [theme=dark] .colab-df-convert:hover {\n",
              "      background-color: #434B5C;\n",
              "      box-shadow: 0px 1px 3px 1px rgba(0, 0, 0, 0.15);\n",
              "      filter: drop-shadow(0px 1px 2px rgba(0, 0, 0, 0.3));\n",
              "      fill: #FFFFFF;\n",
              "    }\n",
              "  </style>\n",
              "\n",
              "      <script>\n",
              "        const buttonEl =\n",
              "          document.querySelector('#df-e26fc10f-03fb-4c74-afa3-7d7e2c12b12b button.colab-df-convert');\n",
              "        buttonEl.style.display =\n",
              "          google.colab.kernel.accessAllowed ? 'block' : 'none';\n",
              "\n",
              "        async function convertToInteractive(key) {\n",
              "          const element = document.querySelector('#df-e26fc10f-03fb-4c74-afa3-7d7e2c12b12b');\n",
              "          const dataTable =\n",
              "            await google.colab.kernel.invokeFunction('convertToInteractive',\n",
              "                                                     [key], {});\n",
              "          if (!dataTable) return;\n",
              "\n",
              "          const docLinkHtml = 'Like what you see? Visit the ' +\n",
              "            '<a target=\"_blank\" href=https://colab.research.google.com/notebooks/data_table.ipynb>data table notebook</a>'\n",
              "            + ' to learn more about interactive tables.';\n",
              "          element.innerHTML = '';\n",
              "          dataTable['output_type'] = 'display_data';\n",
              "          await google.colab.output.renderOutput(dataTable, element);\n",
              "          const docLink = document.createElement('div');\n",
              "          docLink.innerHTML = docLinkHtml;\n",
              "          element.appendChild(docLink);\n",
              "        }\n",
              "      </script>\n",
              "    </div>\n",
              "  </div>\n",
              "  "
            ]
          },
          "metadata": {},
          "execution_count": 11
        }
      ]
    },
    {
      "cell_type": "code",
      "source": [
        "data.reset_index(drop=True, inplace=True)\n",
        "data"
      ],
      "metadata": {
        "colab": {
          "base_uri": "https://localhost:8080/",
          "height": 424
        },
        "id": "OtNVj3VsgDYy",
        "outputId": "c92cc864-b14e-4f77-a16e-a1aa80c7f00f"
      },
      "execution_count": null,
      "outputs": [
        {
          "output_type": "execute_result",
          "data": {
            "text/plain": [
              "          Word  Label\n",
              "0        الذره      O\n",
              "1           هي      O\n",
              "2         اصغر      O\n",
              "3          جزء      O\n",
              "4           من      O\n",
              "...        ...    ...\n",
              "18017    تشغيل  I-MIS\n",
              "18018     باسم      O\n",
              "18019       في      O\n",
              "18020      طور      O\n",
              "18021  التصميم      O\n",
              "\n",
              "[18022 rows x 2 columns]"
            ],
            "text/html": [
              "\n",
              "  <div id=\"df-a5108942-f70e-47c9-a1af-4cf2b02a7fe4\">\n",
              "    <div class=\"colab-df-container\">\n",
              "      <div>\n",
              "<style scoped>\n",
              "    .dataframe tbody tr th:only-of-type {\n",
              "        vertical-align: middle;\n",
              "    }\n",
              "\n",
              "    .dataframe tbody tr th {\n",
              "        vertical-align: top;\n",
              "    }\n",
              "\n",
              "    .dataframe thead th {\n",
              "        text-align: right;\n",
              "    }\n",
              "</style>\n",
              "<table border=\"1\" class=\"dataframe\">\n",
              "  <thead>\n",
              "    <tr style=\"text-align: right;\">\n",
              "      <th></th>\n",
              "      <th>Word</th>\n",
              "      <th>Label</th>\n",
              "    </tr>\n",
              "  </thead>\n",
              "  <tbody>\n",
              "    <tr>\n",
              "      <th>0</th>\n",
              "      <td>الذره</td>\n",
              "      <td>O</td>\n",
              "    </tr>\n",
              "    <tr>\n",
              "      <th>1</th>\n",
              "      <td>هي</td>\n",
              "      <td>O</td>\n",
              "    </tr>\n",
              "    <tr>\n",
              "      <th>2</th>\n",
              "      <td>اصغر</td>\n",
              "      <td>O</td>\n",
              "    </tr>\n",
              "    <tr>\n",
              "      <th>3</th>\n",
              "      <td>جزء</td>\n",
              "      <td>O</td>\n",
              "    </tr>\n",
              "    <tr>\n",
              "      <th>4</th>\n",
              "      <td>من</td>\n",
              "      <td>O</td>\n",
              "    </tr>\n",
              "    <tr>\n",
              "      <th>...</th>\n",
              "      <td>...</td>\n",
              "      <td>...</td>\n",
              "    </tr>\n",
              "    <tr>\n",
              "      <th>18017</th>\n",
              "      <td>تشغيل</td>\n",
              "      <td>I-MIS</td>\n",
              "    </tr>\n",
              "    <tr>\n",
              "      <th>18018</th>\n",
              "      <td>باسم</td>\n",
              "      <td>O</td>\n",
              "    </tr>\n",
              "    <tr>\n",
              "      <th>18019</th>\n",
              "      <td>في</td>\n",
              "      <td>O</td>\n",
              "    </tr>\n",
              "    <tr>\n",
              "      <th>18020</th>\n",
              "      <td>طور</td>\n",
              "      <td>O</td>\n",
              "    </tr>\n",
              "    <tr>\n",
              "      <th>18021</th>\n",
              "      <td>التصميم</td>\n",
              "      <td>O</td>\n",
              "    </tr>\n",
              "  </tbody>\n",
              "</table>\n",
              "<p>18022 rows × 2 columns</p>\n",
              "</div>\n",
              "      <button class=\"colab-df-convert\" onclick=\"convertToInteractive('df-a5108942-f70e-47c9-a1af-4cf2b02a7fe4')\"\n",
              "              title=\"Convert this dataframe to an interactive table.\"\n",
              "              style=\"display:none;\">\n",
              "        \n",
              "  <svg xmlns=\"http://www.w3.org/2000/svg\" height=\"24px\"viewBox=\"0 0 24 24\"\n",
              "       width=\"24px\">\n",
              "    <path d=\"M0 0h24v24H0V0z\" fill=\"none\"/>\n",
              "    <path d=\"M18.56 5.44l.94 2.06.94-2.06 2.06-.94-2.06-.94-.94-2.06-.94 2.06-2.06.94zm-11 1L8.5 8.5l.94-2.06 2.06-.94-2.06-.94L8.5 2.5l-.94 2.06-2.06.94zm10 10l.94 2.06.94-2.06 2.06-.94-2.06-.94-.94-2.06-.94 2.06-2.06.94z\"/><path d=\"M17.41 7.96l-1.37-1.37c-.4-.4-.92-.59-1.43-.59-.52 0-1.04.2-1.43.59L10.3 9.45l-7.72 7.72c-.78.78-.78 2.05 0 2.83L4 21.41c.39.39.9.59 1.41.59.51 0 1.02-.2 1.41-.59l7.78-7.78 2.81-2.81c.8-.78.8-2.07 0-2.86zM5.41 20L4 18.59l7.72-7.72 1.47 1.35L5.41 20z\"/>\n",
              "  </svg>\n",
              "      </button>\n",
              "      \n",
              "  <style>\n",
              "    .colab-df-container {\n",
              "      display:flex;\n",
              "      flex-wrap:wrap;\n",
              "      gap: 12px;\n",
              "    }\n",
              "\n",
              "    .colab-df-convert {\n",
              "      background-color: #E8F0FE;\n",
              "      border: none;\n",
              "      border-radius: 50%;\n",
              "      cursor: pointer;\n",
              "      display: none;\n",
              "      fill: #1967D2;\n",
              "      height: 32px;\n",
              "      padding: 0 0 0 0;\n",
              "      width: 32px;\n",
              "    }\n",
              "\n",
              "    .colab-df-convert:hover {\n",
              "      background-color: #E2EBFA;\n",
              "      box-shadow: 0px 1px 2px rgba(60, 64, 67, 0.3), 0px 1px 3px 1px rgba(60, 64, 67, 0.15);\n",
              "      fill: #174EA6;\n",
              "    }\n",
              "\n",
              "    [theme=dark] .colab-df-convert {\n",
              "      background-color: #3B4455;\n",
              "      fill: #D2E3FC;\n",
              "    }\n",
              "\n",
              "    [theme=dark] .colab-df-convert:hover {\n",
              "      background-color: #434B5C;\n",
              "      box-shadow: 0px 1px 3px 1px rgba(0, 0, 0, 0.15);\n",
              "      filter: drop-shadow(0px 1px 2px rgba(0, 0, 0, 0.3));\n",
              "      fill: #FFFFFF;\n",
              "    }\n",
              "  </style>\n",
              "\n",
              "      <script>\n",
              "        const buttonEl =\n",
              "          document.querySelector('#df-a5108942-f70e-47c9-a1af-4cf2b02a7fe4 button.colab-df-convert');\n",
              "        buttonEl.style.display =\n",
              "          google.colab.kernel.accessAllowed ? 'block' : 'none';\n",
              "\n",
              "        async function convertToInteractive(key) {\n",
              "          const element = document.querySelector('#df-a5108942-f70e-47c9-a1af-4cf2b02a7fe4');\n",
              "          const dataTable =\n",
              "            await google.colab.kernel.invokeFunction('convertToInteractive',\n",
              "                                                     [key], {});\n",
              "          if (!dataTable) return;\n",
              "\n",
              "          const docLinkHtml = 'Like what you see? Visit the ' +\n",
              "            '<a target=\"_blank\" href=https://colab.research.google.com/notebooks/data_table.ipynb>data table notebook</a>'\n",
              "            + ' to learn more about interactive tables.';\n",
              "          element.innerHTML = '';\n",
              "          dataTable['output_type'] = 'display_data';\n",
              "          await google.colab.output.renderOutput(dataTable, element);\n",
              "          const docLink = document.createElement('div');\n",
              "          docLink.innerHTML = docLinkHtml;\n",
              "          element.appendChild(docLink);\n",
              "        }\n",
              "      </script>\n",
              "    </div>\n",
              "  </div>\n",
              "  "
            ]
          },
          "metadata": {},
          "execution_count": 12
        }
      ]
    },
    {
      "cell_type": "code",
      "source": [
        "len(data['Word'].values)"
      ],
      "metadata": {
        "colab": {
          "base_uri": "https://localhost:8080/"
        },
        "id": "NVGUIGuv1mFQ",
        "outputId": "a91da03b-68c6-45df-a2d4-26ae3cd7a661"
      },
      "execution_count": null,
      "outputs": [
        {
          "output_type": "execute_result",
          "data": {
            "text/plain": [
              "18022"
            ]
          },
          "metadata": {},
          "execution_count": 13
        }
      ]
    },
    {
      "cell_type": "markdown",
      "source": [
        "***Explore Data after cleaning and preprocessing***"
      ],
      "metadata": {
        "id": "jCoJY8nCJ0Jd"
      }
    },
    {
      "cell_type": "code",
      "source": [
        "data.info()"
      ],
      "metadata": {
        "colab": {
          "base_uri": "https://localhost:8080/"
        },
        "outputId": "9fbaddb5-35ec-427b-a409-f856695c1a36",
        "id": "VXxkPVXDJ0Je"
      },
      "execution_count": null,
      "outputs": [
        {
          "output_type": "stream",
          "name": "stdout",
          "text": [
            "<class 'pandas.core.frame.DataFrame'>\n",
            "RangeIndex: 18022 entries, 0 to 18021\n",
            "Data columns (total 2 columns):\n",
            " #   Column  Non-Null Count  Dtype \n",
            "---  ------  --------------  ----- \n",
            " 0   Word    18022 non-null  object\n",
            " 1   Label   18022 non-null  object\n",
            "dtypes: object(2)\n",
            "memory usage: 281.7+ KB\n"
          ]
        }
      ]
    },
    {
      "cell_type": "code",
      "source": [
        "data.describe()"
      ],
      "metadata": {
        "colab": {
          "base_uri": "https://localhost:8080/",
          "height": 175
        },
        "outputId": "7a2a0e66-ef5a-4e43-ab0f-7dfe01402589",
        "id": "hRLElDnxJ0Jf"
      },
      "execution_count": null,
      "outputs": [
        {
          "output_type": "execute_result",
          "data": {
            "text/plain": [
              "         Word  Label\n",
              "count   18022  18022\n",
              "unique   6215      9\n",
              "top        في      O\n",
              "freq      606  15405"
            ],
            "text/html": [
              "\n",
              "  <div id=\"df-a6919bac-4e8f-415b-b61b-e82b00acd638\">\n",
              "    <div class=\"colab-df-container\">\n",
              "      <div>\n",
              "<style scoped>\n",
              "    .dataframe tbody tr th:only-of-type {\n",
              "        vertical-align: middle;\n",
              "    }\n",
              "\n",
              "    .dataframe tbody tr th {\n",
              "        vertical-align: top;\n",
              "    }\n",
              "\n",
              "    .dataframe thead th {\n",
              "        text-align: right;\n",
              "    }\n",
              "</style>\n",
              "<table border=\"1\" class=\"dataframe\">\n",
              "  <thead>\n",
              "    <tr style=\"text-align: right;\">\n",
              "      <th></th>\n",
              "      <th>Word</th>\n",
              "      <th>Label</th>\n",
              "    </tr>\n",
              "  </thead>\n",
              "  <tbody>\n",
              "    <tr>\n",
              "      <th>count</th>\n",
              "      <td>18022</td>\n",
              "      <td>18022</td>\n",
              "    </tr>\n",
              "    <tr>\n",
              "      <th>unique</th>\n",
              "      <td>6215</td>\n",
              "      <td>9</td>\n",
              "    </tr>\n",
              "    <tr>\n",
              "      <th>top</th>\n",
              "      <td>في</td>\n",
              "      <td>O</td>\n",
              "    </tr>\n",
              "    <tr>\n",
              "      <th>freq</th>\n",
              "      <td>606</td>\n",
              "      <td>15405</td>\n",
              "    </tr>\n",
              "  </tbody>\n",
              "</table>\n",
              "</div>\n",
              "      <button class=\"colab-df-convert\" onclick=\"convertToInteractive('df-a6919bac-4e8f-415b-b61b-e82b00acd638')\"\n",
              "              title=\"Convert this dataframe to an interactive table.\"\n",
              "              style=\"display:none;\">\n",
              "        \n",
              "  <svg xmlns=\"http://www.w3.org/2000/svg\" height=\"24px\"viewBox=\"0 0 24 24\"\n",
              "       width=\"24px\">\n",
              "    <path d=\"M0 0h24v24H0V0z\" fill=\"none\"/>\n",
              "    <path d=\"M18.56 5.44l.94 2.06.94-2.06 2.06-.94-2.06-.94-.94-2.06-.94 2.06-2.06.94zm-11 1L8.5 8.5l.94-2.06 2.06-.94-2.06-.94L8.5 2.5l-.94 2.06-2.06.94zm10 10l.94 2.06.94-2.06 2.06-.94-2.06-.94-.94-2.06-.94 2.06-2.06.94z\"/><path d=\"M17.41 7.96l-1.37-1.37c-.4-.4-.92-.59-1.43-.59-.52 0-1.04.2-1.43.59L10.3 9.45l-7.72 7.72c-.78.78-.78 2.05 0 2.83L4 21.41c.39.39.9.59 1.41.59.51 0 1.02-.2 1.41-.59l7.78-7.78 2.81-2.81c.8-.78.8-2.07 0-2.86zM5.41 20L4 18.59l7.72-7.72 1.47 1.35L5.41 20z\"/>\n",
              "  </svg>\n",
              "      </button>\n",
              "      \n",
              "  <style>\n",
              "    .colab-df-container {\n",
              "      display:flex;\n",
              "      flex-wrap:wrap;\n",
              "      gap: 12px;\n",
              "    }\n",
              "\n",
              "    .colab-df-convert {\n",
              "      background-color: #E8F0FE;\n",
              "      border: none;\n",
              "      border-radius: 50%;\n",
              "      cursor: pointer;\n",
              "      display: none;\n",
              "      fill: #1967D2;\n",
              "      height: 32px;\n",
              "      padding: 0 0 0 0;\n",
              "      width: 32px;\n",
              "    }\n",
              "\n",
              "    .colab-df-convert:hover {\n",
              "      background-color: #E2EBFA;\n",
              "      box-shadow: 0px 1px 2px rgba(60, 64, 67, 0.3), 0px 1px 3px 1px rgba(60, 64, 67, 0.15);\n",
              "      fill: #174EA6;\n",
              "    }\n",
              "\n",
              "    [theme=dark] .colab-df-convert {\n",
              "      background-color: #3B4455;\n",
              "      fill: #D2E3FC;\n",
              "    }\n",
              "\n",
              "    [theme=dark] .colab-df-convert:hover {\n",
              "      background-color: #434B5C;\n",
              "      box-shadow: 0px 1px 3px 1px rgba(0, 0, 0, 0.15);\n",
              "      filter: drop-shadow(0px 1px 2px rgba(0, 0, 0, 0.3));\n",
              "      fill: #FFFFFF;\n",
              "    }\n",
              "  </style>\n",
              "\n",
              "      <script>\n",
              "        const buttonEl =\n",
              "          document.querySelector('#df-a6919bac-4e8f-415b-b61b-e82b00acd638 button.colab-df-convert');\n",
              "        buttonEl.style.display =\n",
              "          google.colab.kernel.accessAllowed ? 'block' : 'none';\n",
              "\n",
              "        async function convertToInteractive(key) {\n",
              "          const element = document.querySelector('#df-a6919bac-4e8f-415b-b61b-e82b00acd638');\n",
              "          const dataTable =\n",
              "            await google.colab.kernel.invokeFunction('convertToInteractive',\n",
              "                                                     [key], {});\n",
              "          if (!dataTable) return;\n",
              "\n",
              "          const docLinkHtml = 'Like what you see? Visit the ' +\n",
              "            '<a target=\"_blank\" href=https://colab.research.google.com/notebooks/data_table.ipynb>data table notebook</a>'\n",
              "            + ' to learn more about interactive tables.';\n",
              "          element.innerHTML = '';\n",
              "          dataTable['output_type'] = 'display_data';\n",
              "          await google.colab.output.renderOutput(dataTable, element);\n",
              "          const docLink = document.createElement('div');\n",
              "          docLink.innerHTML = docLinkHtml;\n",
              "          element.appendChild(docLink);\n",
              "        }\n",
              "      </script>\n",
              "    </div>\n",
              "  </div>\n",
              "  "
            ]
          },
          "metadata": {},
          "execution_count": 15
        }
      ]
    },
    {
      "cell_type": "code",
      "source": [
        "data.Word.value_counts()"
      ],
      "metadata": {
        "colab": {
          "base_uri": "https://localhost:8080/"
        },
        "outputId": "7ecf91c5-5b9c-4d83-c9e6-9e200cdaa137",
        "id": "q66TwPPRJ0Jf"
      },
      "execution_count": null,
      "outputs": [
        {
          "output_type": "execute_result",
          "data": {
            "text/plain": [
              "في        606\n",
              "من        511\n",
              "و         366\n",
              "علي       255\n",
              "الي       161\n",
              "         ... \n",
              "وجدناه      1\n",
              "الشرطه      1\n",
              "عامل        1\n",
              "فذكر        1\n",
              "ستجد        1\n",
              "Name: Word, Length: 6215, dtype: int64"
            ]
          },
          "metadata": {},
          "execution_count": 16
        }
      ]
    },
    {
      "cell_type": "markdown",
      "source": [
        "# **Data Preparing**"
      ],
      "metadata": {
        "id": "CYuo7_tI1Q5b"
      }
    },
    {
      "cell_type": "markdown",
      "source": [
        "***Encode Words (Tokens)***"
      ],
      "metadata": {
        "id": "VLn5CghbLEFC"
      }
    },
    {
      "cell_type": "code",
      "source": [
        "# prepare tokenizer\n",
        "t = Tokenizer()\n",
        "words = data['Word'].values\n",
        "t.fit_on_texts(words)\n",
        "vocab_size = len(t.word_index) + 1\n",
        "print('vocab_size:\\n',vocab_size)\n",
        "# integer encode the words\n",
        "encoded_words = t.texts_to_sequences(words)\n",
        "print('encoded_words:\\n',encoded_words)\n",
        "\n",
        "# pad documents to a max length of # words\n",
        "max_length = 1\n",
        "padded_words = pad_sequences(encoded_words, maxlen=max_length, padding='post')\n",
        "print('padded_docs:\\n',padded_words)"
      ],
      "metadata": {
        "colab": {
          "base_uri": "https://localhost:8080/"
        },
        "id": "WyP7GWdE1U3G",
        "outputId": "f3e16502-bb9e-4102-f927-c23a9fdf814c"
      },
      "execution_count": null,
      "outputs": [
        {
          "output_type": "stream",
          "name": "stdout",
          "text": [
            "vocab_size:\n",
            " 6212\n",
            "encoded_words:\n",
            " [[42], [45], [277], [400], [2], [239], [632], [15], [2161], [2162], [633], [401], [239], [634], [854], [494], [162], [5], [635], [1254], [1255], [1256], [163], [1257], [2163], [240], [17], [2164], [176], [636], [2165], [27], [57], [277], [2], [42], [278], [42], [2], [2166], [2], [2167], [1258], [58], [2168], [214], [99], [495], [855], [637], [215], [1], [856], [278], [66], [857], [29], [2], [858], [495], [855], [3], [638], [1259], [42], [45], [277], [400], [2], [239], [95], [6], [859], [142], [25], [639], [1260], [240], [640], [2169], [67], [1], [216], [2170], [2171], [860], [861], [496], [143], [1261], [50], [333], [3], [100], [862], [39], [1261], [50], [863], [1], [162], [2172], [3], [863], [100], [1], [162], [334], [641], [8], [162], [65], [333], [100], [42], [497], [1262], [2], [2173], [53], [2174], [2175], [2176], [864], [1263], [2177], [50], [241], [242], [3], [50], [2178], [242], [865], [243], [2179], [866], [3], [47], [50], [642], [33], [239], [2180], [4], [2181], [643], [1264], [27], [644], [39], [867], [645], [42], [3], [27], [2182], [1], [33], [48], [1265], [2183], [867], [3], [27], [646], [1266], [217], [3], [2184], [5], [1267], [2185], [3], [2], [868], [869], [870], [871], [218], [1], [279], [2186], [872], [2187], [3], [2188], [498], [84], [2189], [2190], [2191], [1268], [2192], [2193], [2194], [2195], [647], [3], [2196], [2197], [2198], [1269], [873], [122], [1270], [2199], [2200], [216], [3], [648], [4], [6], [31], [402], [278], [2], [80], [874], [1271], [1272], [29], [873], [123], [2201], [875], [6], [216], [278], [2], [1273], [637], [215], [163], [1274], [876], [499], [80], [67], [1275], [7], [2202], [2203], [1276], [645], [42], [45], [873], [877], [878], [144], [2204], [2205], [4], [1277], [1278], [11], [2206], [1], [879], [1279], [177], [2207], [1], [880], [219], [3], [7], [648], [4], [2208], [2209], [2210], [2211], [864], [2212], [53], [219], [500], [4], [1280], [2], [31], [2213], [501], [219], [1281], [2214], [2215], [4], [649], [2216], [1], [502], [31], [2217], [47], [503], [129], [2218], [178], [17], [1282], [2219], [403], [42], [45], [2220], [2221], [865], [39], [2222], [2223], [280], [2], [48], [2224], [2225], [1], [12], [25], [179], [2226], [281], [2227], [1283], [2228], [2229], [2230], [2231], [180], [2], [22], [2232], [145], [12], [47], [244], [217], [2233], [100], [2234], [42], [404], [12], [2235], [2236], [217], [2237], [2238], [2239], [1284], [201], [99], [42], [650], [2240], [2241], [218], [2242], [2243], [405], [2244], [2245], [73], [2246], [335], [1285], [2247], [2248], [2249], [878], [1], [879], [881], [2250], [1286], [48], [336], [1287], [651], [1288], [1289], [31], [4], [1290], [1], [882], [2251], [2252], [2253], [4], [2254], [883], [877], [878], [2255], [1287], [4], [652], [2256], [884], [1289], [2257], [2258], [4], [2259], [877], [2260], [2261], [2262], [880], [219], [65], [6], [181], [], [245], [4], [182], [3], [181], [], [4], [246], [1291], [], [245], [4], [182], [337], [2263], [53], [219], [2264], [653], [219], [500], [1292], [], [59], [654], [27], [338], [130], [504], [8], [505], [2265], [53], [58], [1], [31], [406], [1292], [], [339], [406], [282], [6], [245], [4], [182], [], [339], [406], [282], [6], [245], [4], [246], [181], [183], [885], [], [339], [406], [282], [6], [245], [4], [246], [181], [506], [885], [], [339], [406], [282], [6], [245], [4], [182], [181], [1293], [885], [337], [1294], [53], [58], [2266], [507], [655], [53], [58], [2267], [507], [2268], [53], [58], [656], [1295], [2269], [53], [58], [656], [1295], [2270], [53], [58], [656], [505], [886], [53], [58], [656], [505], [337], [2271], [6], [241], [1296], [55], [655], [3], [886], [657], [2272], [2273], [340], [655], [508], [181], [117], [509], [85], [182], [2274], [146], [2275], [117], [509], [85], [182], [1291], [183], [509], [85], [246], [144], [2276], [2277], [239], [887], [2278], [57], [658], [508], [182], [2279], [184], [58], [1297], [283], [2280], [60], [1], [886], [247], [280], [341], [2281], [507], [659], [2282], [6], [658], [888], [1298], [1264], [220], [2283], [341], [57], [182], [1299], [53], [219], [2284], [59], [1300], [1301], [2], [5], [501], [219], [1281], [59], [1300], [1301], [8], [54], [2285], [217], [889], [2286], [2287], [2288], [1276], [2289], [2290], [890], [891], [130], [342], [343], [2291], [892], [144], [1302], [202], [2292], [1303], [248], [2293], [48], [660], [1303], [60], [2294], [86], [890], [891], [130], [342], [343], [2295], [892], [144], [1302], [2296], [48], [336], [1304], [339], [2297], [342], [1304], [2298], [661], [510], [662], [2299], [31], [182], [1], [42], [1305], [663], [2300], [45], [1306], [1307], [144], [2301], [340], [11], [2302], [2303], [1308], [15], [2304], [48], [1288], [2305], [1308], [12], [22], [2306], [15], [2307], [4], [6], [2308], [2309], [55], [280], [39], [2310], [2311], [6], [2312], [131], [893], [1309], [1], [42], [2313], [6], [2314], [1], [162], [655], [641], [2315], [507], [2316], [131], [26], [1309], [284], [2317], [147], [2318], [893], [1310], [], [2319], [280], [183], [893], [1310], [], [3], [95], [6], [2320], [2321], [2], [664], [5], [502], [124], [2322], [185], [2], [407], [2323], [29], [26], [2324], [4], [649], [2325], [2326], [65], [4], [649], [2327], [888], [2328], [894], [665], [185], [1311], [124], [2329], [280], [2], [344], [185], [507], [2330], [5], [344], [185], [406], [2331], [60], [1], [666], [39], [95], [510], [895], [42], [1312], [23], [6], [505], [1313], [1314], [2332], [2333], [2334], [2335], [280], [91], [284], [408], [2336], [7], [108], [1], [148], [1315], [1316], [95], [510], [2337], [50], [2338], [2339], [665], [95], [345], [652], [2340], [2341], [42], [2342], [7], [39], [511], [1315], [1316], [164], [249], [896], [125], [667], [2343], [2344], [862], [895], [162], [668], [40], [2345], [2346], [4], [176], [669], [1317], [132], [2347], [2348], [1318], [59], [2349], [1319], [1], [99], [162], [668], [669], [1317], [132], [285], [33], [118], [2350], [50], [895], [162], [668], [1320], [1321], [186], [2351], [2352], [80], [241], [242], [2353], [22], [165], [241], [7], [133], [897], [495], [180], [1], [1321], [250], [2354], [246], [2355], [180], [2356], [66], [31], [333], [898], [162], [31], [333], [899], [1322], [2357], [142], [2], [251], [202], [2358], [221], [3], [33], [409], [2], [251], [39], [2359], [142], [900], [2], [1260], [2360], [658], [641], [899], [147], [178], [1323], [3], [1], [901], [2361], [2362], [27], [899], [147], [178], [1323], [2363], [4], [2364], [1324], [512], [333], [658], [8], [4], [2365], [512], [902], [1325], [3], [2366], [119], [7], [133], [131], [409], [221], [1], [2367], [2368], [410], [2369], [131], [1326], [1], [2370], [633], [670], [2371], [2372], [242], [2], [241], [1], [903], [36], [671], [2373], [1], [409], [221], [346], [122], [2374], [2375], [45], [672], [904], [673], [7], [2376], [2377], [286], [1327], [672], [904], [251], [3], [149], [3], [513], [58], [70], [165], [411], [58], [2378], [215], [514], [2379], [3], [2380], [2381], [904], [251], [3], [149], [2], [412], [674], [346], [122], [865], [2382], [2383], [2384], [346], [122], [1328], [1329], [122], [3], [905], [1330], [23], [675], [411], [1318], [3], [905], [1330], [186], [3], [2385], [411], [1331], [3], [676], [2386], [6], [2387], [346], [122], [2388], [27], [2], [109], [2389], [653], [251], [3], [53], [149], [7], [1332], [92], [3], [2390], [6], [411], [31], [150], [2], [29], [677], [30], [2391], [675], [1333], [2392], [906], [347], [118], [411], [42], [675], [672], [663], [251], [3], [149], [2393], [1328], [1329], [122], [672], [663], [251], [3], [149], [1334], [53], [346], [3], [868], [2394], [6], [2395], [1335], [678], [23], [2396], [5], [409], [221], [3], [5], [53], [149], [87], [2397], [333], [27], [2398], [187], [499], [866], [240], [6], [222], [1336], [92], [409], [221], [243], [65], [188], [1327], [131], [239], [679], [2399], [1], [2400], [122], [1337], [2], [2401], [1], [53], [149], [252], [907], [2402], [73], [908], [1338], [164], [223], [134], [239], [2403], [863], [86], [348], [2404], [33], [239], [2405], [1], [883], [108], [119], [1259], [2406], [124], [203], [53], [27], [1262], [2], [897], [495], [858], [1334], [340], [53], [27], [2407], [2], [897], [2408], [246], [124], [1339], [42], [8], [2409], [58], [514], [680], [5], [2410], [124], [2411], [42], [58], [118], [1340], [1258], [1341], [1340], [857], [3], [2412], [680], [5], [1342], [2413], [165], [53], [58], [91], [151], [67], [2], [53], [251], [1343], [1339], [42], [58], [514], [680], [5], [1342], [2414], [165], [53], [251], [91], [151], [67], [2], [53], [58], [39], [253], [119], [1], [883], [413], [414], [415], [2415], [80], [241], [1296], [3], [1344], [253], [287], [2416], [1345], [1346], [11], [1347], [2], [119], [2417], [2418], [80], [239], [243], [8], [80], [1348], [125], [2419], [1349], [641], [39], [681], [413], [414], [415], [3], [1344], [909], [2420], [125], [1350], [1351], [1349], [1], [1352], [15], [2421], [8], [2422], [11], [2423], [2], [668], [1350], [1351], [1353], [337], [910], [42], [632], [634], [1], [2424], [414], [166], [2425], [50], [58], [1354], [254], [1], [42], [108], [1], [148], [2426], [894], [2427], [1355], [58], [1], [911], [185], [224], [671], [2428], [73], [504], [25], [66], [2429], [2430], [221], [682], [4], [58], [254], [1], [181], [416], [246], [683], [255], [133], [342], [220], [4], [1326], [632], [912], [1354], [417], [2431], [515], [2432], [418], [2433], [516], [2434], [855], [857], [254], [1], [99], [42], [31], [225], [2], [911], [26], [164], [2435], [2436], [226], [2], [2437], [504], [913], [248], [2438], [2439], [282], [222], [225], [6], [2440], [653], [914], [2], [58], [671], [2441], [2442], [2443], [2444], [505], [7], [2445], [33], [181], [95], [510], [1356], [58], [1357], [225], [671], [2446], [23], [45], [341], [181], [341], [219], [500], [2447], [58], [2448], [915], [26], [1358], [2], [66], [684], [348], [181], [916], [15], [142], [58], [57], [225], [683], [47], [2449], [17], [245], [4], [182], [150], [1284], [2450], [911], [26], [417], [684], [57], [6], [915], [185], [58], [1], [504], [1358], [2], [66], [108], [685], [917], [2], [915], [185], [58], [1], [504], [1359], [285], [33], [2451], [1], [662], [288], [225], [185], [2452], [163], [509], [419], [280], [1360], [1], [181], [416], [1361], [420], [2453], [2454], [1362], [2455], [2456], [2457], [2458], [26], [50], [2459], [250], [58], [254], [1], [225], [26], [416], [1363], [1], [910], [42], [189], [345], [2460], [633], [2461], [118], [119], [7], [133], [131], [53], [58], [1], [225], [26], [416], [246], [683], [164], [2462], [1], [227], [347], [1], [903], [36], [517], [45], [349], [25], [2463], [1], [903], [36], [1364], [517], [283], [45], [7], [518], [4], [182], [150], [1], [225], [26], [416], [517], [350], [518], [4], [182], [517], [686], [518], [4], [246], [337], [2464], [1365], [640], [2465], [53], [58], [1], [344], [1], [225], [1299], [42], [640], [1366], [1298], [42], [285], [33], [108], [2466], [517], [283], [67], [241], [2467], [2468], [2469], [2470], [2471], [1364], [42], [67], [2472], [685], [1], [26], [124], [203], [225], [683], [509], [282], [918], [421], [25], [179], [1367], [95], [912], [2473], [2474], [11], [80], [2475], [1368], [2476], [8], [95], [133], [6], [2477], [58], [2], [119], [204], [1368], [2478], [351], [2479], [58], [50], [119], [2480], [119], [2481], [422], [919], [33], [2482], [632], [2483], [179], [33], [2484], [164], [201], [2485], [920], [2486], [2487], [423], [424], [2488], [2489], [249], [874], [2490], [2491], [118], [53], [119], [1], [921], [1369], [2], [669], [669], [186], [2492], [1365], [516], [165], [921], [39], [256], [118], [53], [119], [86], [95], [6], [203], [39], [256], [3], [33], [39], [2493], [11], [409], [15], [40], [2494], [516], [165], [921], [2495], [2496], [352], [287], [2497], [34], [2498], [250], [42], [2499], [2500], [1], [2501], [1], [2502], [2503], [22], [687], [30], [2504], [402], [2505], [289], [1], [687], [633], [2506], [42], [2507], [2508], [922], [217], [923], [101], [2509], [122], [342], [220], [4], [688], [2], [871], [279], [55], [2510], [30], [891], [1370], [871], [2511], [186], [670], [689], [42], [29], [1371], [1], [343], [880], [219], [3], [677], [130], [122], [3], [87], [1372], [689], [42], [690], [2512], [2513], [1], [129], [3], [129], [28], [691], [692], [2514], [896], [218], [519], [689], [42], [2515], [2516], [2517], [249], [2518], [864], [15], [40], [2519], [1], [12], [40], [2520], [80], [2521], [60], [40], [2522], [1373], [218], [2523], [4], [119], [920], [862], [164], [249], [1374], [346], [2524], [119], [920], [60], [164], [249], [2525], [924], [644], [693], [2526], [2527], [3], [1374], [346], [2528], [402], [289], [1268], [2], [288], [80], [8], [2529], [224], [25], [179], [1375], [1376], [2530], [135], [31], [2], [925], [3], [2531], [2532], [2533], [2], [129], [926], [68], [425], [2534], [96], [2535], [2536], [42], [102], [2537], [6], [222], [162], [148], [894], [55], [2538], [694], [144], [666], [57], [27], [2539], [1377], [73], [42], [927], [1271], [1], [129], [2540], [6], [216], [278], [2], [80], [418], [81], [202], [1378], [25], [2541], [54], [17], [33], [1379], [2542], [2543], [928], [2544], [7], [32], [648], [4], [6], [216], [95], [6], [1380], [2545], [5], [2546], [277], [881], [33], [136], [32], [42], [520], [188], [277], [400], [1], [216], [54], [1381], [33], [1379], [2547], [5], [6], [42], [650], [278], [2], [929], [130], [122], [426], [1267], [280], [25], [179], [930], [2548], [25], [96], [677], [7], [164], [2549], [54], [695], [22], [2550], [6], [42], [95], [6], [1380], [60], [2551], [2552], [2553], [1], [1382], [288], [66], [2554], [2555], [2556], [495], [1370], [2557], [177], [912], [1383], [1], [879], [6], [42], [278], [2], [929], [130], [906], [521], [290], [925], [40], [2558], [2559], [696], [2560], [42], [92], [2561], [40], [1382], [2562], [874], [925], [340], [118], [688], [2], [1275], [177], [931], [4], [1384], [2563], [55], [666], [2564], [427], [1385], [2565], [1377], [677], [130], [122], [634], [854], [494], [42], [5], [635], [1254], [1255], [1256], [163], [697], [876], [932], [129], [23], [40], [933], [1277], [1278], [17], [1282], [2566], [6], [119], [929], [698], [2567], [2568], [1274], [876], [9], [45], [428], [291], [167], [353], [71], [2569], [1], [48], [1386], [152], [1], [110], [54], [2570], [2571], [2572], [1], [343], [279], [1387], [2573], [2574], [699], [109], [934], [506], [68], [425], [205], [152], [1], [1388], [2575], [410], [1], [1389], [1390], [700], [152], [522], [935], [180], [701], [936], [1], [110], [12], [1], [290], [2576], [919], [176], [1], [503], [934], [183], [68], [425], [2577], [2578], [2579], [2580], [2581], [1], [9], [205], [152], [146], [523], [53], [937], [9], [404], [702], [2582], [429], [2583], [12], [938], [937], [9], [703], [939], [2], [704], [97], [2584], [2585], [2586], [2587], [2588], [352], [400], [2], [56], [524], [4], [1391], [525], [526], [2589], [354], [2], [940], [9], [497], [184], [56], [111], [9], [111], [352], [4], [1392], [705], [941], [706], [78], [942], [2590], [707], [177], [4], [1392], [943], [2591], [28], [206], [1393], [71], [9], [45], [430], [2592], [9], [7], [1394], [84], [2593], [944], [9], [2594], [526], [2595], [9], [9], [56], [355], [1395], [110], [1396], [137], [356], [2596], [84], [137], [1397], [110], [1], [279], [699], [1398], [2597], [2598], [1387], [2599], [2600], [153], [2601], [708], [945], [292], [2602], [2603], [2604], [946], [293], [5], [947], [2605], [1399], [1400], [91], [515], [1401], [2606], [279], [355], [2607], [31], [2608], [25], [279], [2609], [1], [357], [527], [9], [45], [152], [709], [431], [168], [2610], [2611], [2612], [2613], [91], [169], [2], [2614], [2615], [294], [2616], [1], [74], [2], [432], [2617], [56], [1402], [294], [2618], [293], [2619], [294], [948], [55], [358], [710], [949], [358], [710], [38], [358], [710], [2620], [358], [710], [336], [433], [2621], [169], [2], [2622], [1403], [2623], [2624], [2625], [92], [1404], [1405], [359], [434], [1406], [708], [189], [704], [434], [9], [528], [434], [2626], [2627], [434], [9], [1407], [946], [2], [2628], [950], [2629], [951], [2], [952], [294], [1408], [59], [953], [1409], [954], [1410], [1411], [291], [501], [2], [952], [294], [2630], [9], [2631], [2632], [2633], [2634], [215], [2635], [1], [1412], [709], [699], [1398], [708], [2636], [2637], [207], [955], [92], [1413], [152], [954], [54], [2638], [9], [152], [954], [360], [1], [12], [496], [2639], [9], [5], [2640], [711], [34], [68], [425], [8], [67], [60], [2641], [1279], [2642], [1], [2643], [696], [1], [56], [2644], [92], [529], [1414], [2645], [2646], [2647], [188], [353], [71], [712], [1], [110], [32], [152], [112], [1415], [110], [2648], [2649], [1], [2650], [530], [187], [2651], [2652], [56], [1416], [74], [2], [531], [355], [7], [2653], [1], [510], [2654], [2655], [2656], [2657], [696], [2658], [60], [1417], [902], [531], [188], [494], [2659], [4], [2660], [28], [1418], [2661], [65], [2662], [295], [165], [29], [56], [40], [2663], [420], [1], [1415], [110], [2664], [125], [188], [956], [957], [295], [5], [2665], [51], [2666], [28], [103], [531], [1417], [188], [956], [513], [228], [188], [190], [2667], [2668], [958], [713], [170], [2669], [8], [2670], [2671], [2], [531], [7], [1419], [214], [134], [56], [1420], [1], [48], [2], [1421], [71], [9], [2672], [2673], [959], [2674], [1422], [2675], [257], [2676], [1423], [957], [1424], [2677], [229], [2678], [1425], [1426], [2679], [2680], [2681], [1427], [71], [296], [960], [9], [45], [353], [152], [1], [48], [2682], [1428], [110], [1386], [71], [2683], [1], [48], [86], [1396], [532], [356], [112], [297], [110], [1429], [2684], [435], [1430], [1], [714], [961], [356], [111], [961], [2685], [436], [5], [129], [926], [178], [68], [425], [1431], [2686], [2687], [2688], [2689], [2690], [2691], [2692], [2693], [2694], [433], [435], [134], [9], [962], [56], [2695], [1], [532], [356], [111], [435], [1430], [1], [1432], [2696], [506], [2697], [963], [2698], [2699], [962], [1], [1432], [1414], [2700], [1426], [28], [533], [2701], [435], [715], [2702], [2703], [2704], [28], [533], [2705], [435], [715], [2706], [716], [635], [713], [170], [1427], [962], [1], [356], [242], [2707], [2708], [2709], [2710], [2711], [2712], [28], [527], [292], [717], [258], [134], [1425], [3], [1422], [3], [960], [2713], [964], [6], [353], [534], [1433], [9], [1], [961], [2714], [2715], [291], [1433], [9], [524], [168], [2716], [184], [110], [286], [958], [2717], [2718], [712], [2719], [2], [2720], [2721], [2722], [2723], [431], [110], [2724], [2725], [112], [353], [527], [1434], [84], [2726], [532], [356], [7], [298], [1], [257], [1435], [2727], [1], [2728], [32], [2729], [2730], [1], [965], [934], [183], [68], [425], [2731], [4], [2732], [2733], [2734], [2735], [2736], [2737], [1436], [2738], [354], [12], [1437], [132], [208], [2739], [519], [9], [966], [2], [2740], [2741], [2742], [2743], [1438], [2744], [354], [12], [1437], [132], [700], [2], [137], [437], [1], [535], [1438], [718], [719], [5], [9], [1], [967], [283], [2745], [719], [700], [252], [20], [1439], [2746], [2747], [2748], [1423], [2749], [1440], [968], [2750], [2751], [2752], [2753], [1441], [719], [969], [1442], [1443], [54], [1444], [168], [9], [970], [2754], [2755], [2756], [1445], [720], [2757], [721], [56], [191], [1446], [1447], [2758], [23], [2759], [1348], [709], [2760], [2761], [111], [11], [1447], [291], [722], [2762], [299], [11], [532], [356], [7], [1434], [723], [1], [527], [111], [519], [71], [9], [1], [129], [1448], [208], [2763], [1449], [1408], [137], [437], [292], [1450], [2764], [699], [2765], [2766], [2767], [1451], [2768], [1452], [2769], [56], [1], [535], [438], [2], [361], [724], [5], [152], [180], [1453], [936], [522], [935], [2770], [971], [5], [1454], [725], [726], [2771], [2772], [2773], [1455], [2774], [2775], [972], [2776], [2777], [2778], [1], [428], [935], [439], [91], [1456], [1457], [101], [2], [137], [2779], [1], [1458], [362], [973], [259], [974], [363], [15], [259], [1], [290], [727], [2780], [51], [440], [536], [728], [1459], [2781], [364], [59], [2782], [15], [2783], [2784], [2], [1460], [1461], [360], [292], [1], [48], [938], [1462], [438], [2], [1463], [166], [2785], [2786], [892], [2787], [220], [2788], [1463], [2789], [417], [2], [441], [975], [2790], [2791], [907], [2792], [2793], [2794], [4], [1464], [976], [2], [1465], [436], [5], [527], [7], [2795], [535], [438], [659], [537], [365], [2796], [436], [5], [365], [2797], [187], [283], [2798], [2799], [1466], [977], [978], [2800], [167], [353], [2801], [1], [168], [1467], [350], [1], [729], [722], [977], [978], [979], [295], [5], [2802], [979], [51], [2803], [247], [686], [286], [1], [729], [2804], [977], [978], [1468], [295], [5], [1468], [300], [1469], [28], [9], [2805], [2806], [1], [31], [2807], [2], [2808], [980], [981], [1470], [15], [435], [1471], [1], [2809], [2810], [936], [2811], [1], [129], [1472], [2812], [9], [1473], [4], [1474], [437], [1450], [1475], [2813], [951], [135], [2814], [2815], [2], [71], [538], [152], [366], [2816], [2817], [428], [9], [137], [982], [1], [22], [2818], [2819], [91], [4], [2820], [2], [2821], [259], [974], [154], [1], [503], [535], [438], [28], [983], [2822], [2823], [1476], [2824], [2825], [9], [2826], [2827], [68], [6], [909], [85], [1477], [54], [2828], [1], [73], [984], [2829], [2830], [442], [2831], [209], [123], [207], [985], [91], [169], [2], [2832], [2833], [20], [1477], [2834], [2835], [2836], [4], [9], [2837], [2838], [1], [148], [1478], [2839], [2840], [2841], [712], [2842], [2843], [914], [153], [2844], [2845], [1479], [2846], [2847], [2848], [15], [2849], [2850], [1], [539], [2851], [2852], [2], [9], [2853], [25], [56], [2854], [4], [2855], [2856], [2], [540], [536], [541], [153], [2857], [986], [2858], [2], [9], [152], [146], [700], [9], [152], [2859], [2860], [2861], [206], [987], [292], [2], [9], [968], [2862], [153], [1480], [2863], [988], [2864], [2865], [5], [963], [11], [2866], [989], [153], [2867], [15], [2868], [536], [541], [153], [986], [2], [9], [1481], [1479], [2869], [987], [292], [4], [940], [2870], [2871], [2872], [1482], [963], [205], [56], [982], [1483], [1], [535], [990], [2873], [727], [990], [2874], [2875], [229], [990], [34], [20], [301], [2], [2876], [2877], [9], [2878], [2879], [361], [2880], [1], [532], [2881], [294], [1484], [2882], [1485], [2883], [1], [988], [359], [137], [991], [73], [443], [2884], [2885], [59], [367], [1404], [1406], [708], [189], [704], [434], [1405], [359], [23], [992], [1460], [2886], [2887], [7], [1486], [1487], [283], [368], [1488], [541], [153], [513], [1489], [541], [153], [1490], [1], [2888], [59], [353], [2889], [9], [993], [302], [994], [113], [5], [367], [86], [2890], [2891], [2892], [23], [2893], [2894], [363], [1], [2895], [995], [2896], [2897], [2898], [2899], [4], [2900], [730], [2901], [86], [2], [991], [9], [2902], [190], [731], [1491], [7], [2903], [169], [2], [1492], [2904], [366], [541], [153], [986], [2905], [153], [1480], [2906], [1493], [1494], [433], [2], [2907], [1452], [1451], [32], [724], [9], [2], [180], [2908], [2909], [2910], [1495], [23], [721], [114], [2911], [960], [54], [1496], [2912], [5], [2913], [2914], [971], [1497], [726], [2915], [1498], [2916], [972], [726], [2917], [2918], [2919], [1], [290], [300], [1493], [1494], [2920], [2921], [1499], [56], [996], [2922], [166], [1500], [91], [53], [220], [2], [1501], [997], [54], [998], [73], [984], [11], [1502], [999], [2923], [1000], [2924], [2], [2925], [2926], [292], [1503], [9], [155], [6], [29], [2927], [81], [2928], [9], [2], [2929], [2], [192], [2930], [996], [1457], [2931], [2932], [2933], [91], [2934], [2935], [2936], [1504], [2937], [1], [983], [2938], [2939], [50], [2940], [2941], [214], [1505], [1], [362], [1469], [916], [2942], [2943], [7], [2944], [84], [2945], [1], [1506], [2946], [2947], [12], [2948], [1001], [5], [400], [2], [1453], [2949], [2950], [2951], [9], [982], [2], [180], [1435], [437], [1], [522], [1507], [1495], [20], [1002], [939], [1492], [2952], [9], [1508], [2953], [2954], [437], [1], [48], [1449], [2955], [258], [134], [957], [1424], [2956], [56], [4], [2957], [2958], [1509], [1504], [1], [257], [60], [188], [32], [303], [1510], [91], [2959], [1511], [2], [1512], [442], [542], [2960], [92], [5], [2961], [304], [54], [2962], [2963], [4], [2964], [543], [1], [56], [2965], [91], [2966], [218], [60], [2967], [2968], [1513], [2969], [2970], [2971], [111], [2972], [723], [2], [1003], [952], [7], [436], [5], [73], [984], [355], [2973], [1514], [1515], [2974], [1516], [2975], [134], [300], [1517], [117], [2976], [544], [2977], [45], [2], [230], [1518], [2978], [15], [1444], [732], [1519], [2979], [1002], [281], [2980], [362], [1429], [1520], [11], [2981], [2982], [2983], [2984], [11], [1446], [9], [2985], [2986], [7], [2987], [2988], [2989], [2990], [56], [686], [1], [2991], [1507], [20], [1002], [2992], [54], [1499], [996], [545], [1], [56], [100], [2993], [722], [1], [129], [1472], [178], [431], [27], [202], [2994], [733], [2995], [2996], [2997], [2998], [1521], [546], [1004], [2999], [546], [3000], [546], [3001], [546], [3002], [546], [3003], [54], [3004], [29], [1522], [1523], [1524], [442], [3005], [4], [988], [1503], [38], [3006], [15], [1525], [71], [9], [3007], [3008], [3009], [3010], [3011], [109], [1005], [734], [283], [1486], [3012], [1526], [1006], [71], [9], [3013], [3014], [3015], [1], [12], [3016], [999], [1527], [360], [9], [3017], [2], [3018], [3019], [1], [3020], [1528], [152], [3021], [360], [3022], [3023], [536], [3024], [117], [155], [188], [1007], [1436], [3025], [1529], [1], [3026], [3027], [2], [131], [1008], [3028], [3029], [3030], [949], [4], [56], [50], [3031], [1530], [1531], [123], [209], [2], [56], [2], [68], [3032], [3033], [109], [1527], [291], [647], [7], [3034], [2], [525], [704], [1], [1532], [1001], [3035], [1531], [56], [3036], [3037], [3038], [166], [723], [111], [20], [3039], [547], [12], [1], [1533], [1005], [734], [350], [519], [548], [130], [3040], [3041], [3042], [1529], [3043], [3044], [155], [6], [999], [547], [369], [3045], [3046], [3047], [5], [3048], [12], [12], [3049], [548], [88], [1534], [25], [547], [3050], [56], [1337], [3051], [3052], [3053], [370], [112], [22], [1009], [1010], [20], [3054], [3055], [3056], [3057], [1535], [1511], [2], [3058], [2], [3059], [3060], [2], [3061], [3062], [1456], [56], [439], [1], [206], [1393], [371], [9], [74], [2], [707], [524], [3063], [111], [3064], [177], [137], [1011], [9], [45], [9], [111], [3065], [74], [2], [707], [111], [7], [681], [260], [3066], [56], [111], [3067], [3068], [3069], [3070], [3071], [3072], [355], [3073], [3074], [281], [193], [1011], [9], [1536], [444], [3075], [1537], [3076], [3077], [3078], [3079], [3080], [3081], [1538], [3082], [3083], [153], [1012], [1539], [3084], [3085], [3086], [3087], [445], [3088], [3089], [3090], [538], [3091], [433], [657], [3092], [8], [3093], [9], [111], [3094], [3095], [190], [3096], [3097], [1540], [3098], [3099], [1], [53], [2], [3100], [3101], [3102], [1541], [1], [3103], [3104], [718], [5], [110], [1542], [973], [8], [1013], [1543], [427], [1544], [976], [8], [953], [3105], [144], [1489], [3106], [8], [1545], [1546], [8], [953], [1547], [1397], [110], [8], [3107], [3108], [1548], [8], [735], [8], [3109], [8], [3110], [8], [3111], [8], [3112], [8], [3113], [530], [436], [1549], [958], [8], [3114], [260], [549], [1546], [8], [1428], [3115], [3116], [8], [3117], [1459], [1543], [3118], [1550], [260], [110], [1], [9], [1014], [1551], [193], [1003], [1014], [257], [1540], [976], [530], [54], [534], [3119], [1], [362], [305], [3120], [550], [130], [134], [981], [1470], [23], [3121], [1442], [1443], [364], [3122], [3123], [15], [968], [2], [9], [3124], [1441], [719], [1], [46], [3125], [736], [364], [8], [736], [359], [60], [737], [1], [548], [3126], [3127], [1], [3128], [1394], [3129], [3130], [1552], [3131], [3132], [3133], [3134], [3135], [738], [3136], [3137], [1521], [2], [137], [3138], [4], [736], [364], [28], [9], [67], [2], [1013], [3139], [137], [29], [1501], [3140], [1003], [991], [9], [57], [537], [438], [363], [59], [2], [3141], [1467], [281], [1015], [2], [3142], [9], [281], [204], [973], [1514], [1515], [15], [3143], [300], [1520], [1517], [117], [12], [739], [3144], [501], [2], [3145], [281], [55], [1544], [3146], [3147], [3148], [945], [997], [355], [1475], [1403], [279], [7], [436], [1549], [530], [187], [520], [71], [9], [2], [137], [1016], [709], [360], [3149], [1], [48], [359], [3150], [3151], [3152], [3153], [3154], [1017], [3155], [3156], [1485], [1], [110], [359], [3157], [2], [1553], [294], [1], [9], [96], [3158], [3159], [360], [1], [3160], [359], [1401], [279], [997], [355], [434], [9], [1407], [3161], [9], [3162], [3163], [3164], [1409], [3165], [1410], [1411], [291], [501], [2], [1402], [294], [360], [1], [432], [9], [71], [9], [3166], [71], [712], [1], [48], [3167], [3168], [169], [2], [3169], [1554], [1555], [964], [92], [32], [9], [3170], [1389], [1390], [1439], [3171], [3172], [1018], [1], [3173], [286], [112], [75], [1551], [3174], [3175], [3176], [3177], [286], [361], [3178], [951], [193], [687], [3179], [55], [551], [3180], [3181], [551], [3182], [3183], [740], [1015], [114], [9], [3184], [1556], [3185], [3186], [3187], [3188], [1557], [3189], [3190], [1557], [3191], [1556], [3192], [3193], [299], [551], [1019], [733], [281], [3194], [3195], [7], [1558], [84], [9], [1], [48], [3196], [299], [1019], [733], [8], [1019], [722], [291], [60], [1558], [9], [1], [741], [85], [551], [1559], [7], [721], [3197], [3198], [3199], [497], [202], [85], [3200], [364], [54], [3201], [1560], [15], [1263], [446], [29], [1559], [217], [1561], [3202], [3203], [9], [367], [298], [84], [985], [687], [1020], [55], [9], [3204], [166], [3205], [439], [88], [3206], [3207], [84], [1011], [3208], [218], [1], [3209], [23], [1461], [3210], [177], [3211], [1021], [60], [1], [539], [1012], [1022], [3212], [3213], [1022], [3214], [3215], [1022], [3216], [3217], [28], [3218], [1021], [335], [946], [439], [9], [7], [32], [1], [3219], [941], [706], [3220], [5], [1562], [4], [1391], [525], [526], [439], [971], [299], [972], [439], [5], [1563], [944], [9], [3221], [3222], [1], [3223], [9], [111], [2], [31], [1023], [1496], [707], [1021], [177], [1], [1024], [1025], [723], [524], [3224], [525], [526], [4], [432], [9], [177], [909], [9], [11], [1564], [1001], [651], [431], [742], [2], [3225], [3226], [177], [3227], [306], [1026], [3228], [431], [3229], [1565], [1566], [3230], [299], [742], [166], [2], [890], [3231], [3232], [7], [3233], [11], [357], [1564], [3234], [548], [743], [1526], [3235], [28], [9], [3236], [9], [1027], [3237], [1012], [7], [3238], [9], [11], [3239], [548], [417], [743], [357], [1028], [48], [3240], [744], [1567], [45], [288], [432], [3241], [3242], [214], [71], [9], [3243], [1], [3244], [1538], [2], [3245], [5], [56], [3246], [29], [2], [67], [3247], [1568], [3248], [71], [3249], [942], [1], [71], [9], [53], [2], [1029], [948], [177], [2], [3250], [3251], [552], [3252], [3253], [2], [1029], [2], [357], [3254], [3255], [424], [3256], [3257], [1030], [3258], [260], [56], [3259], [3260], [1031], [1569], [1032], [1570], [3261], [1030], [3262], [1], [539], [1571], [9], [1031], [544], [28], [432], [944], [9], [932], [1033], [733], [281], [3263], [3264], [3265], [3266], [1], [3267], [1024], [55], [3268], [1572], [706], [3269], [3270], [23], [74], [2], [1029], [1573], [3271], [1031], [3272], [745], [1014], [9], [111], [1574], [3273], [3274], [143], [74], [2], [3275], [1573], [3276], [372], [177], [1523], [7], [1575], [985], [1034], [291], [3277], [1], [432], [9], [335], [447], [4], [71], [9], [71], [296], [657], [9], [111], [1576], [296], [339], [296], [364], [508], [3278], [3279], [1], [31], [3280], [3281], [2], [56], [521], [75], [1577], [937], [9], [1576], [3282], [3283], [260], [1522], [88], [220], [3284], [296], [1], [3285], [417], [3286], [3287], [3288], [3289], [3290], [7], [3291], [340], [3292], [3293], [111], [28], [3294], [859], [296], [364], [3295], [1578], [3296], [7], [3297], [3298], [3299], [3300], [1035], [3301], [3302], [3303], [3304], [552], [3305], [995], [3306], [59], [3307], [3308], [3309], [1579], [3310], [3311], [3312], [5], [1579], [3313], [3314], [3315], [3316], [1], [3317], [1035], [3318], [9], [3319], [45], [3320], [543], [23], [1580], [3321], [3322], [1578], [1], [3323], [9], [71], [296], [9], [71], [296], [45], [56], [524], [7], [3324], [169], [3325], [1035], [1395], [3326], [5], [110], [1], [9], [111], [1581], [3327], [525], [526], [23], [942], [1032], [1030], [3328], [3329], [4], [56], [3330], [3331], [3332], [3333], [993], [1571], [9], [1572], [3334], [50], [1024], [23], [3335], [941], [706], [3336], [3337], [1033], [528], [3338], [1033], [3339], [4], [940], [3340], [1570], [1032], [1036], [1582], [194], [553], [1037], [1], [361], [71], [261], [3341], [3342], [110], [6], [96], [2], [1577], [3343], [307], [1583], [989], [442], [3344], [11], [156], [1584], [16], [35], [1], [1585], [1586], [1038], [1039], [62], [16], [35], [3345], [3346], [3347], [3348], [1587], [146], [39], [1588], [1589], [1590], [1591], [1592], [51], [554], [1593], [1594], [1595], [3349], [34], [76], [259], [16], [201], [205], [4], [138], [1596], [3350], [1013], [659], [537], [1040], [1041], [145], [746], [1042], [145], [257], [60], [3351], [531], [97], [3352], [1597], [983], [1043], [3353], [15], [939], [1044], [3354], [308], [3355], [747], [3356], [522], [1598], [433], [3357], [3358], [448], [1510], [1597], [8], [3359], [210], [3360], [3361], [3362], [112], [22], [1009], [726], [1599], [33], [371], [29], [194], [3363], [171], [1600], [373], [156], [62], [16], [35], [3364], [74], [2], [1045], [7], [3365], [92], [555], [1046], [1047], [1048], [16], [35], [555], [3366], [51], [3367], [3368], [1601], [373], [2], [1602], [62], [16], [35], [3369], [51], [748], [16], [35], [278], [309], [692], [2], [3370], [1049], [374], [1603], [5], [132], [3371], [749], [3372], [1603], [132], [352], [184], [449], [550], [1604], [142], [975], [3373], [132], [3374], [3375], [3376], [3377], [556], [307], [450], [3378], [1050], [3379], [2], [170], [167], [3380], [2], [3381], [5], [3382], [750], [1051], [3383], [3384], [1052], [3385], [2], [1605], [1051], [86], [1606], [1053], [3386], [3387], [3388], [3389], [750], [1607], [53], [1054], [751], [15], [3390], [3391], [352], [449], [550], [15], [3392], [1], [3393], [1586], [1038], [1039], [554], [440], [229], [62], [16], [35], [11], [3394], [4], [354], [285], [860], [130], [1608], [1055], [2], [1056], [3395], [1609], [3396], [3397], [1610], [142], [1608], [100], [2], [3398], [3399], [3400], [1611], [1055], [2], [1612], [3401], [3402], [750], [3403], [3404], [2], [1057], [730], [1058], [3405], [3406], [1613], [3407], [1604], [3408], [3409], [1614], [3410], [3411], [1615], [1059], [3412], [1060], [1050], [1053], [1615], [243], [252], [3413], [639], [1061], [3414], [1616], [7], [3415], [3416], [3417], [511], [1617], [2], [3418], [3419], [1518], [1609], [1618], [3420], [2], [449], [556], [5], [752], [257], [23], [3421], [373], [3422], [442], [3423], [11], [156], [62], [1], [1506], [1619], [11], [1620], [3424], [1062], [3425], [1], [1601], [150], [1621], [33], [449], [3426], [3427], [3428], [1062], [1], [3429], [7], [91], [171], [62], [16], [35], [3430], [1055], [2], [1612], [508], [3431], [117], [1063], [4], [1064], [3432], [54], [3433], [1622], [3434], [3435], [1623], [1624], [59], [1063], [4], [451], [3436], [5], [1280], [2], [445], [1065], [1625], [1626], [556], [753], [975], [2], [31], [752], [1066], [523], [933], [451], [3437], [132], [1627], [1628], [31], [2], [451], [1466], [3438], [132], [186], [1627], [1628], [31], [2], [451], [3439], [3440], [132], [186], [1629], [3441], [3442], [3443], [1498], [1630], [28], [995], [1060], [1631], [754], [2], [3444], [310], [8], [694], [1607], [3445], [31], [1066], [132], [3446], [1066], [2], [29], [1067], [134], [375], [142], [167], [253], [3447], [1068], [3448], [3449], [1069], [5], [3450], [1037], [167], [247], [1068], [1067], [1359], [7], [1069], [5], [452], [3451], [1632], [167], [59], [3452], [15], [3453], [184], [156], [62], [16], [35], [1618], [5], [746], [3454], [2], [451], [938], [2], [1633], [308], [133], [445], [1634], [1629], [2], [3455], [1630], [980], [3456], [3457], [445], [1634], [86], [3458], [2], [29], [3459], [1611], [4], [452], [2], [407], [59], [201], [220], [3460], [1049], [1625], [3461], [307], [682], [16], [453], [134], [1462], [3462], [231], [184], [3463], [3464], [1635], [3465], [1070], [1636], [1], [3466], [3467], [3468], [2], [664], [4], [148], [1637], [418], [3469], [4], [148], [449], [550], [1610], [142], [3470], [755], [3471], [194], [2], [407], [3472], [3473], [3474], [1638], [3475], [1639], [3476], [4], [731], [3477], [16], [2], [1071], [3478], [1057], [730], [1058], [3479], [3480], [3481], [285], [1054], [3482], [193], [664], [3483], [3484], [7], [523], [3485], [3486], [3487], [4], [452], [3488], [2], [206], [1640], [28], [31], [3489], [253], [3490], [1552], [1060], [1641], [2], [407], [3491], [3492], [307], [720], [1068], [1642], [31], [92], [5], [981], [3493], [1455], [3494], [3495], [3496], [446], [54], [3497], [1643], [29], [731], [2], [412], [3498], [1290], [3499], [1], [557], [1070], [3500], [731], [3501], [2], [1056], [1644], [3502], [1613], [3503], [3504], [3505], [1645], [3506], [3507], [1057], [730], [1058], [3508], [45], [1063], [33], [1646], [4], [452], [307], [2], [752], [746], [508], [3509], [755], [418], [636], [3510], [150], [1072], [3511], [2], [856], [3512], [2], [3513], [3514], [3515], [4], [1464], [2], [1465], [3516], [3517], [1637], [666], [1606], [132], [3518], [132], [54], [1647], [3519], [750], [1051], [3520], [1640], [1641], [3521], [88], [3522], [78], [639], [1061], [1647], [1645], [3523], [1648], [33], [1646], [25], [452], [3524], [3525], [348], [3526], [2], [1649], [5], [194], [3527], [1], [1650], [943], [1651], [167], [1633], [3528], [371], [3529], [947], [1400], [1399], [3530], [310], [2], [357], [3531], [292], [980], [3532], [3533], [1652], [3534], [1355], [5], [1071], [3535], [189], [1653], [445], [1065], [3536], [3537], [496], [5], [34], [76], [132], [167], [371], [74], [2], [3538], [3539], [3540], [210], [5], [3541], [3542], [3543], [6], [3544], [25], [168], [3545], [194], [553], [1037], [4], [27], [45], [16], [262], [3546], [1548], [25], [168], [3547], [3548], [5], [753], [178], [3549], [102], [534], [3550], [201], [194], [553], [1654], [112], [193], [1585], [3551], [1655], [2], [68], [1656], [2], [3552], [259], [989], [756], [156], [4], [51], [62], [1657], [3553], [16], [35], [1658], [229], [3554], [3555], [2], [29], [3556], [39], [3557], [3558], [29], [170], [1659], [3559], [1], [1660], [3560], [3561], [29], [757], [3562], [3563], [3564], [3565], [676], [1619], [1587], [4], [171], [1600], [373], [39], [1588], [1589], [302], [3566], [3567], [4], [1073], [3568], [3569], [3570], [1591], [1592], [51], [554], [1593], [1594], [1661], [1], [12], [76], [3571], [3572], [62], [51], [4], [16], [35], [927], [3573], [1662], [156], [62], [16], [35], [3574], [3575], [3576], [193], [97], [3577], [20], [22], [259], [555], [156], [62], [16], [35], [1], [261], [1500], [146], [450], [2], [1074], [3578], [59], [96], [2], [259], [16], [201], [3579], [3580], [205], [4], [138], [1596], [739], [659], [537], [1040], [1041], [145], [746], [1042], [145], [257], [3581], [22], [3582], [3583], [25], [156], [3584], [16], [35], [1], [3585], [558], [171], [62], [16], [35], [102], [756], [559], [3586], [1663], [15], [3587], [257], [3588], [4], [1663], [3589], [1075], [16], [35], [97], [3590], [2], [560], [3591], [3592], [1664], [373], [1000], [646], [33], [1665], [3593], [47], [262], [3594], [3595], [3596], [373], [47], [257], [3597], [373], [352], [1], [3598], [555], [62], [16], [35], [3599], [4], [354], [16], [35], [2], [33], [202], [6], [560], [32], [371], [171], [4], [354], [16], [35], [86], [3600], [73], [560], [1666], [1667], [301], [362], [438], [3601], [3602], [76], [3603], [701], [259], [1668], [28], [290], [3604], [1076], [263], [15], [3605], [3606], [1077], [3607], [5], [3608], [73], [1045], [3609], [1655], [3610], [6], [3611], [534], [561], [376], [3612], [758], [35], [7], [32], [3613], [3614], [4], [3615], [1], [3616], [208], [3617], [3618], [3619], [3620], [229], [4], [3621], [3622], [534], [229], [1669], [25], [3623], [3624], [446], [3625], [3626], [5], [1044], [556], [3627], [3628], [3629], [3630], [3631], [3632], [3633], [537], [1], [749], [62], [16], [35], [1666], [3634], [4], [171], [1078], [1668], [16], [35], [60], [3635], [3636], [31], [27], [3637], [2], [3638], [1554], [3639], [3640], [1076], [3641], [3642], [3643], [7], [1079], [32], [3644], [189], [138], [3645], [1670], [138], [97], [1079], [3646], [3647], [3648], [231], [2], [918], [5], [1044], [3649], [3650], [3651], [47], [1671], [1076], [12], [76], [3652], [3653], [3654], [1043], [263], [1077], [240], [1672], [724], [362], [1039], [4], [51], [1080], [1673], [16], [35], [3655], [3656], [3657], [5], [562], [3658], [1602], [759], [3659], [3660], [724], [362], [5], [156], [1673], [16], [35], [3661], [3662], [1081], [3663], [562], [154], [12], [76], [760], [563], [171], [62], [16], [35], [3664], [1674], [1077], [433], [1361], [3665], [1664], [3666], [3667], [761], [3668], [1082], [3669], [3670], [3671], [3672], [3673], [564], [290], [1043], [3674], [545], [4], [138], [307], [3675], [16], [201], [3676], [1675], [4], [29], [1676], [5], [34], [76], [23], [3677], [515], [1083], [263], [15], [1677], [3678], [3679], [3680], [736], [16], [35], [15], [1677], [102], [3681], [3682], [4], [761], [3683], [758], [3684], [102], [264], [3685], [761], [3686], [2], [558], [171], [62], [16], [35], [448], [3687], [3688], [3689], [3690], [3691], [3692], [3693], [1084], [3694], [1667], [423], [720], [34], [2], [3695], [565], [264], [1678], [171], [62], [16], [35], [109], [73], [443], [3696], [209], [3697], [3698], [3699], [3700], [82], [4], [1045], [3701], [3702], [1], [3703], [34], [76], [6], [1083], [264], [1678], [171], [62], [16], [35], [3704], [27], [3705], [2], [3706], [3707], [405], [3708], [3709], [3710], [1670], [1085], [405], [3711], [231], [2], [3712], [3713], [6], [3714], [3715], [139], [1], [729], [2], [3716], [189], [1085], [20], [441], [3717], [5], [3718], [59], [3719], [130], [170], [3720], [231], [3721], [2], [1665], [3722], [3723], [22], [3724], [3725], [27], [3726], [28], [1418], [3727], [3728], [1], [3729], [25], [440], [229], [51], [3730], [3731], [756], [3732], [34], [76], [3733], [3734], [2], [3735], [5], [1086], [3736], [1679], [1680], [4], [51], [554], [1681], [4], [901], [3737], [2], [300], [97], [3738], [5], [558], [62], [16], [35], [3739], [57], [87], [3740], [1682], [3741], [91], [82], [3742], [1683], [3743], [1], [170], [3744], [3745], [3746], [3747], [1683], [3748], [5], [170], [3749], [366], [47], [559], [3750], [138], [3751], [454], [3752], [1497], [3753], [3754], [3755], [3756], [762], [3757], [22], [302], [3758], [138], [3759], [3760], [3761], [3762], [3763], [5], [538], [3764], [3765], [3766], [6], [32], [974], [87], [1684, 1685], [377], [3767], [3768], [3769], [3770], [3771], [1583], [3772], [3773, 33], [3774], [1085], [3775], [3776], [4], [6], [39], [1686], [3777, 1], [1662], [3778], [3779], [1590], [1687], [538], [3780], [3781], [3782], [27], [1688, 763], [3783], [3784], [3785], [3786], [1083], [3787], [401], [3788], [3789], [3790], [3791], [1087], [1689], [5], [3792], [1690], [3793], [264], [1476], [1], [701], [1081], [1], [965], [12], [76], [3794], [562], [3795], [3796], [1691], [3797], [1669], [1691], [3798], [760], [1519], [450], [4], [171], [62], [16], [35], [3799], [258], [3800], [3801], [231], [5], [138], [3802], [4], [562], [1692], [758], [3803], [3804], [5], [558], [171], [62], [16], [35], [3805], [5], [261], [3806], [969], [2], [1693], [156], [1080], [51], [1694], [16], [35], [28], [3807], [1046], [1047], [1048], [51], [376], [3808], [51], [156], [1080], [51], [1694], [16], [35], [3809], [376], [3810], [3811], [62], [860], [377], [156], [1584], [16], [35], [3812], [979], [51], [1088], [1490], [16], [35], [3813], [184], [1089], [33], [545], [3814], [47], [3815], [34], [76], [4], [290], [727], [1090], [263], [1007], [309], [7], [3816], [1689], [4], [138], [1695], [157], [347], [154], [1], [3817], [3818], [34], [76], [1696], [17], [1697], [3819], [3820], [188], [32], [87], [1007], [73], [3821], [1], [558], [3822], [167], [2], [1070], [1636], [3823], [62], [16], [35], [3824], [91], [231], [54], [3825], [2], [1698], [3826], [3827], [688], [102], [3828], [560], [157], [347], [3829], [2], [1697], [3830], [3831], [17], [2], [3832], [1539], [440], [229], [376], [51], [1091], [51], [1512], [59], [2], [3833], [1660], [1661], [59], [15], [1566], [1688], [3834], [1699], [560], [3835], [3836], [262], [3837], [17], [1092], [87], [3838], [3839], [3840, 763], [644], [6], [143], [3841], [3842], [2], [68], [3843], [3844], [3845], [1093], [17], [133], [3846], [1], [29], [3847], [3848], [4], [31], [901], [102], [17], [1092], [3849], [3850], [28], [136], [243], [1700], [138], [3851], [3852], [3853], [566], [178], [1701], [47], [567], [3854], [747], [376], [51], [1088], [51], [748], [3855], [3856], [2], [1693], [748], [3857], [3858], [3859], [20], [1671], [1078], [3860], [3861], [363], [3862], [264], [563], [3863], [1639], [309], [3864], [3865], [3866], [1679], [1680], [1], [1702], [3867], [554], [440], [229], [62], [16], [35], [1], [261], [1703], [1090], [3868], [3869], [1081], [34], [76], [101], [168], [309], [1369], [50], [76], [54], [1525], [376], [51], [1088], [261], [3870], [3871], [402], [3872], [102], [32], [3873], [11], [1090], [263], [3874], [3875], [142], [3876], [3877], [3878], [6], [3879], [545], [4], [3880], [1], [3881], [3882], [3883], [4], [138], [1], [261], [450], [265], [133], [1040], [193], [214], [1052], [3884], [3885], [444], [214], [455], [3886], [3887], [3888], [3889], [4], [3890], [3891], [261], [3892], [194], [304], [1488], [538], [3893], [522], [1598], [1], [1690], [3894], [51], [3895], [263], [54], [264], [563], [451], [740], [1704], [1091], [51], [1705], [1], [3896], [3897], [3898], [59], [740], [367], [1704], [1046], [1047], [1048], [28], [12], [76], [3899], [3900], [3901], [260], [194], [304], [154], [109], [3902], [3903], [33], [1706], [2], [1698], [1699], [3904], [3905], [4], [3906], [102], [32], [194], [3907], [266], [3908], [102], [3909], [1094], [684], [3910], [3911], [97], [3912], [5], [1067], [3913], [3914], [448], [3915], [2], [1094], [764], [444], [3916], [2], [1064], [739], [1091], [51], [1705], [567], [748], [51], [3917], [51], [1095], [3918], [201], [455], [556], [20], [6], [3919], [184], [1094], [3920], [1052], [3921], [564], [12], [76], [1707], [184], [450], [4], [171], [62], [16], [35], [1708], [3922], [27], [3923], [1706], [760], [563], [444], [59], [444], [15], [1471], [377], [3924], [1], [223], [3925], [189], [3926], [1709], [12], [76], [102], [1710], [377], [1095], [444], [416], [1711], [309], [2], [192], [4], [138], [1695], [3927], [207], [17], [16], [3928], [1524], [377], [3929], [29], [309], [1], [3930], [5], [261], [34], [76], [1075], [54], [1685], [377], [1095], [34], [76], [1089], [545], [15], [264], [3931], [1], [455], [307], [47], [3932], [1712], [3933], [263], [34], [76], [23], [1713], [3934], [2], [192], [4], [761], [3935], [3936], [3937], [758], [3938], [1712], [263], [3939], [1], [1714], [455], [550], [2], [3940], [1652], [3941], [3942], [3943], [3944], [92], [4], [3945], [1075], [6], [138], [39], [1096], [5], [3946], [3947], [3948], [676], [3949], [448], [3950], [4], [455], [3951], [1038], [1343], [567], [3952], [1], [290], [727], [263], [3953], [3954], [153], [376], [51], [440], [3955], [1715], [15], [496], [295], [5], [3956], [51], [3957], [1715], [23], [135], [1513], [749], [156], [62], [16], [35], [1], [12], [76], [1708], [27], [3958], [2], [3959], [455], [102], [3960], [1061], [1716], [1491], [1025], [1626], [3961], [1644], [1079], [3962], [4], [138], [2], [1056], [243], [3963], [3964], [3965], [3966], [1692], [3967], [993], [4], [562], [3968], [1709], [520], [29], [309], [45], [3969], [408], [3970], [1097], [71], [62], [16], [35], [1717], [1098], [3971], [3972], [1718], [1], [3973], [3974], [3975], [1719], [1097], [168], [555], [62], [3976], [16], [35], [1717], [3977], [3978], [1718], [3979], [6], [15], [135], [3980], [300], [3981], [153], [1720], [377], [3982], [1098], [1721], [51], [1722], [51], [3983], [51], [3984], [3985], [51], [3986], [3987], [1545], [15], [567], [1], [12], [76], [3988], [1086], [20], [1078], [300], [1722], [747], [3989], [749], [156], [62], [16], [35], [1711], [16], [450], [4], [148], [1723], [3990], [3991], [3992], [60], [57], [16], [1676], [367], [54], [3993], [765], [1], [12], [76], [3994], [3995], [1004], [51], [1720], [3996], [76], [102], [17], [3997], [189], [1653], [445], [1065], [2], [407], [3998], [449], [3999], [414], [4000], [4001], [60], [1707], [4002], [4003], [1651], [15], [202], [4004], [1605], [739], [452], [214], [194], [4], [148], [4005], [4006], [4007], [4008], [1724], [1064], [2], [664], [1716], [1616], [4009], [4010], [1725], [60], [264], [300], [1004], [1721], [1724], [4011], [4012], [1638], [2], [1054], [1725], [4013], [258], [168], [4014], [59], [12], [76], [4015], [29], [309], [4], [138], [307], [47], [1599], [33], [284], [4016], [4017], [4], [194], [553], [304], [431], [691], [1726], [33], [4018], [1], [29], [1371], [194], [553], [304], [521], [4019], [4020], [945], [1], [1702], [4021], [4022], [1727], [304], [4023], [4024], [456], [1727], [304], [1], [71], [261], [304], [4025], [1614], [4026], [4027], [4028], [4029], [4030], [716], [4031], [73], [4032], [1568], [45], [115], [457], [4033], [4034], [4035], [4036], [4], [4037], [117], [67], [2], [766], [23], [2], [4038], [6], [4039], [93], [4040], [20], [34], [2], [262], [458], [1099], [192], [59], [2], [4041], [113], [16], [227], [2], [4042], [4043], [33], [4044], [645], [1100], [4045], [1098], [4046], [15], [17], [113], [11], [4047], [1], [351], [4048], [117], [1533], [4049], [2], [129], [741], [21], [14], [57], [13], [37], [459], [4050], [460], [228], [1101], [1], [4051], [115], [21], [1728], [21], [14], [703], [265], [2], [1082], [1], [1102], [3], [37], [4052], [3], [267], [4053], [1729], [21], [14], [2], [378], [4054], [1103], [4055], [287], [1104], [311], [5], [1023], [312], [125], [1730], [1731], [4056], [459], [4057], [4058], [1105], [693], [195], [228], [1082], [7], [4059], [21], [14], [102], [1623], [1674], [1732], [4060], [16], [88], [1286], [1], [1733], [116], [1101], [1563], [1734], [47], [151], [113], [4], [4061], [4062], [2], [1735], [1106], [50], [4063], [4064], [1107], [4065], [4066], [4067], [1736], [379], [4068], [16], [4069], [31], [4070], [48], [186], [1737], [767], [459], [4071], [460], [4072], [1108], [4073], [910], [49], [118], [1109], [1101], [265], [4074], [4075], [4076], [4], [344], [380], [768], [4077], [568], [21], [14], [2], [313], [369], [1738], [14], [4078], [1110], [4079], [39], [1111], [4080], [767], [1110], [4081], [240], [6], [1071], [7], [4082], [314], [4083], [25], [1112], [4084], [4085], [4086], [4087], [1], [131], [136], [415], [1], [6], [1575], [3], [4088], [4089], [569], [7], [298], [4090], [40], [381], [74], [2], [382], [116], [21], [14], [240], [298], [74], [2], [4091], [1739], [196], [1740], [460], [4], [1741], [187], [4092], [645], [49], [4093], [5], [43], [187], [769], [453], [1742], [461], [8], [4094], [4095], [5], [382], [242], [5], [1106], [4096], [2], [462], [4097], [5], [1743], [222], [315], [8], [1113], [8], [4098], [1744], [308], [302], [95], [4099], [403], [315], [914], [57], [268], [2], [315], [100], [4100], [382], [568], [268], [2], [68], [4101], [770], [224], [4102], [382], [4103], [2], [68], [1114], [4104], [226], [771], [1745], [115], [21], [1], [4105], [2], [1008], [1746], [13], [37], [459], [1747], [1748], [4106], [462], [1749], [4107], [2], [4108], [4109], [1115], [4110], [4111], [1749], [1], [1102], [4112], [4113], [313], [11], [4114], [453], [226], [316], [1], [223], [13], [172], [21], [186], [2], [4115], [25], [179], [223], [317], [4116], [4117], [13], [311], [463], [4118], [4119], [4120], [204], [47], [4121], [13], [172], [11], [503], [4122], [1750], [4123], [32], [186], [31], [673], [1751], [116], [21], [87], [4124], [4125], [66], [4126], [22], [136], [81], [1116], [143], [99], [4127], [116], [21], [284], [32], [143], [1752], [39], [4128], [1], [1753], [1117], [99], [255], [721], [252], [20], [114], [1118], [931], [4], [30], [4129], [70], [33], [4130], [4131], [4132], [215], [868], [1754], [515], [66], [14], [1], [29], [4133], [12], [226], [267], [99], [125], [4134], [4135], [4136], [269], [318], [368], [4137], [1], [570], [4138], [1], [4139], [1], [464], [458], [318], [1755], [4], [4140], [4141], [59], [83], [4142], [116], [37], [1119], [1103], [4143], [1756], [4144], [1757], [4145], [1], [4146], [230], [312], [172], [70], [1757], [81], [571], [572], [1732], [1758], [1755], [207], [1759], [269], [1760], [4147], [146], [1], [464], [17], [2], [4148], [288], [1120], [113], [4149], [4150], [4151], [21], [14], [60], [32], [143], [4152], [86], [116], [37], [100], [1761], [1762], [4153], [21], [14], [70], [20], [22], [573], [4154], [4155], [1121], [55], [4156], [1341], [13], [21], [14], [420], [4], [1763], [4157], [1764], [318], [4158], [66], [14], [1765], [4159], [1122], [11], [574], [21], [1766], [197], [379], [1117], [13], [37], [1534], [4160], [4161], [126], [27], [646], [318], [1767], [351], [267], [66], [78], [1768], [574], [125], [55], [21], [88], [1478], [267], [66], [14], [636], [966], [2], [115], [21], [250], [772], [4162], [125], [4163], [29], [673], [11], [1730], [453], [4], [148], [4164], [14], [115], [21], [17], [4165], [5], [465], [13], [37], [1119], [1103], [3], [1123], [226], [93], [16], [1], [3], [40], [1769], [74], [2], [319], [7], [4166], [4167], [172], [55], [1770], [533], [3], [1771], [3], [1], [965], [4168], [32], [31], [673], [1772], [575], [1124], [1773], [66], [3], [1123], [226], [93], [4], [316], [15], [576], [252], [20], [114], [1118], [3], [70], [869], [29], [66], [301], [577], [2], [412], [4169], [3], [20], [301], [1774], [2], [226], [93], [1], [1118], [573], [66], [14], [414], [1121], [25], [115], [21], [70], [4170], [4171], [4], [13], [459], [4172], [4173], [93], [4], [1108], [66], [14], [1125], [11], [21], [3], [1775], [4174], [66], [14], [3], [317], [115], [21], [1776], [13], [37], [459], [340], [4175], [773], [690], [65], [574], [163], [415], [4176], [231], [1126], [4177], [14], [13], [172], [4178], [15], [245], [4], [1650], [1777], [3], [196], [204], [2], [1771], [3], [900], [3], [70], [1], [1778], [4179], [4180], [115], [21], [3], [1010], [771], [1745], [4181], [134], [21], [14], [4], [49], [165], [1], [1778], [14], [349], [25], [99], [13], [37], [78], [511], [317], [21], [1779], [354], [2], [49], [4182], [1780], [66], [14], [4183], [4184], [186], [4185], [5], [21], [4186], [231], [1781], [1782], [49], [4187], [1], [115], [21], [4188], [143], [74], [2], [1783], [1782], [1784], [15], [4189], [49], [1], [4190], [2], [68], [4191], [92], [4192], [15], [4193], [146], [49], [70], [4194], [4195], [17], [4196], [15], [774], [27], [50], [115], [14], [4197], [21], [240], [6], [14], [4198], [66], [7], [95], [6], [127], [4199], [4200], [2], [158], [21], [101], [320], [27], [50], [14], [1738], [27], [4201], [13], [4202], [4203], [319], [1785], [7], [4204], [65], [578], [1], [22], [136], [124], [135], [318], [4205], [14], [1], [96], [157], [17], [1127], [1128], [173], [3], [39], [95], [4206], [1786], [155], [2], [109], [13], [1763], [418], [367], [1127], [74], [2], [4207], [1787], [47], [176], [769], [126], [1], [380], [775], [4208], [299], [252], [4209], [754], [232], [4210], [1581], [4211], [1728], [13], [21], [14], [703], [265], [2], [543], [3], [4212], [47], [176], [769], [1], [67], [1788], [4213], [207], [1366], [2], [270], [1789], [146], [3], [4214], [3], [270], [233], [4215], [4216], [3], [4217], [146], [240], [151], [2], [4218], [1790], [13], [4219], [1791], [4220], [1], [21], [14], [60], [6], [227], [166], [2], [4221], [233], [1792], [2], [3], [4222], [3], [1347], [519], [4223], [3], [8], [931], [4], [21], [14], [165], [13], [21], [14], [776], [288], [4224], [4225], [65], [264], [1737], [642], [1793], [250], [4226], [1794], [1311], [4227], [224], [1338], [2], [4228], [6], [4229], [4230], [4], [4231], [4232], [1795], [4233], [33], [408], [4234], [1796], [4235], [21], [14], [247], [1793], [1796], [913], [514], [4236], [744], [1797], [4237], [913], [4238], [66], [14], [60], [370], [2], [424], [579], [565], [176], [4239], [4], [688], [2], [378], [204], [1], [29], [729], [4240], [1768], [14], [4241], [1748], [1798], [4242], [579], [177], [215], [414], [4243], [60], [176], [1127], [754], [579], [1084], [75], [7], [4244], [169], [2], [378], [204], [25], [4245], [70], [1129], [4246], [14], [1799], [1], [270], [754], [579], [7], [39], [383], [1431], [4247], [4], [223], [270], [133], [4248], [233], [4249], [4250], [1100], [25], [1112], [270], [133], [4], [14], [55], [169], [2], [4251], [417], [859], [21], [14], [4252], [4253], [543], [1130], [4254], [60], [176], [253], [146], [103], [1800], [8], [382], [1801], [271], [4], [1131], [187], [55], [1131], [65], [1105], [644], [4255], [872], [1107], [4256], [1107], [4257], [565], [1787], [310], [7], [1802], [4], [1128], [1574], [50], [231], [114], [380], [518], [66], [14], [4], [31], [4258], [254], [1], [65], [13], [37], [1440], [4259], [4260], [4261], [150], [50], [4262], [1121], [3], [1734], [299], [572], [66], [4263], [4264], [4265], [2], [1803], [462], [248], [338], [4266], [4267], [7], [1069], [5], [4268], [4269], [23], [419], [1804], [456], [580], [4270], [1803], [232], [1772], [5], [4271], [637], [4272], [2], [744], [4273], [580], [21], [14], [13], [4274], [4275], [1805], [4], [1132], [67], [378], [118], [1805], [310], [4276], [694], [511], [1806], [370], [1], [21], [14], [458], [21], [14], [1807], [88], [777], [384], [37], [4277], [70], [4278], [1808], [3], [4279], [3], [4280], [581], [311], [4281], [4282], [4283], [2], [582], [321], [4284], [1808], [3], [466], [583], [4], [4285], [3], [4286], [151], [21], [14], [147], [137], [378], [1809], [287], [772], [4287], [3], [312], [1810], [4288], [3], [380], [1313], [775], [1811], [21], [14], [5], [1023], [767], [13], [4289], [86], [384], [37], [4290], [1269], [1], [4291], [1812], [4292], [1120], [4293], [17], [4294], [4295], [1813], [581], [21], [14], [3], [2], [854], [4296], [1120], [542], [4297], [4298], [187], [2], [21], [14], [1632], [2], [1297], [1765], [32], [127], [86], [581], [21], [14], [4299], [4300], [21], [14], [1], [301], [1814], [5], [4301], [163], [2], [1815], [7], [1816], [1122], [258], [1], [1817], [4302], [127], [66], [14], [4], [1818], [166], [2], [4303], [1819], [1104], [1128], [1815], [4304], [4305], [1105], [924], [285], [4306], [1106], [50], [380], [775], [4307], [1569], [2], [59], [697], [773], [4308], [2], [4309], [4310], [4311], [4312], [81], [571], [21], [14], [1110], [4313], [1820], [4314], [4315], [70], [1], [967], [467], [1821], [4316], [410], [1], [33], [4317], [1822], [21], [14], [4318], [4319], [50], [312], [778], [779], [4320], [4321], [462], [768], [1133], [4322], [1823], [4323], [4324], [1824], [4325], [1825], [403], [203], [13], [4326], [773], [780], [4327], [363], [4328], [4329], [4330], [367], [2], [1826], [4331], [1827], [5], [1115], [4332], [1134], [4333], [4334], [313], [1785], [1823], [932], [4335], [4336], [4337], [4338], [21], [14], [692], [4339], [5], [584], [2], [306], [196], [647], [207], [468], [49], [4340], [1828], [2], [196], [372], [155], [27], [4341], [92], [4342], [1135], [4343], [167], [6], [21], [14], [39], [1266], [1829], [4344], [1136], [88], [4345], [4346], [29], [4347], [118], [1830], [55], [4348], [4349], [1831], [582], [4350], [4351], [1], [197], [21], [14], [284], [39], [4352], [764], [400], [2], [73], [196], [228], [4353], [49], [151], [21], [14], [1832], [4], [4354], [3], [384], [4355], [1], [103], [380], [3], [384], [322], [781], [143], [74], [2], [4356], [7], [4357], [49], [2], [6], [203], [13], [322], [781], [228], [1833], [21], [14], [11], [312], [125], [2], [1104], [311], [4358], [4359], [249], [21], [14], [384], [37], [1834], [420], [1621], [22], [21], [14], [4360], [521], [301], [1814], [1], [197], [1743], [4361], [1829], [4362], [4363], [4364], [1791], [4365], [1137], [4366], [549], [21], [14], [88], [1835], [4367], [384], [37], [1834], [585], [66], [14], [4368], [2], [227], [4369], [2], [49], [3], [4370], [1138], [782], [31], [782], [164], [4371], [3], [4372], [1786], [3], [4373], [2], [68], [1656], [8], [306], [8], [772], [4374], [4375], [4376], [2], [313], [3], [582], [3], [1836], [4377], [49], [293], [4378], [1139], [3], [123], [1736], [783], [164], [465], [382], [4379], [187], [92], [270], [103], [4380], [232], [8], [4381], [49], [4382], [224], [8], [1140], [224], [8], [582], [190], [1837], [780], [293], [1838], [1809], [3], [1126], [667], [173], [1115], [415], [126], [681], [143], [67], [2], [4383], [782], [21], [14], [214], [48], [164], [4384], [88], [4385], [3], [4386], [2], [4387], [4388], [178], [782], [4389], [4390], [3], [4391], [1839], [4392], [4393], [667], [1413], [66], [14], [103], [4394], [369], [3], [319], [4395], [181], [13], [4396], [1376], [3], [227], [4397], [322], [778], [4398], [575], [55], [4399], [195], [65], [3], [4400], [11], [711], [313], [3], [4401], [4402], [2], [4403], [778], [5], [4404], [3], [1770], [533], [3], [103], [196], [1017], [1840], [4405], [4406], [4407], [5], [4408], [21], [14], [17], [1841], [1018], [1], [642], [784], [21], [14], [4409], [4410], [4411], [3], [4412], [67], [2], [312], [1136], [3], [1842], [8], [693], [4413], [3], [7], [4414], [67], [1843], [401], [4415], [27], [447], [4], [784], [21], [14], [1421], [55], [4416], [4417], [57], [642], [21], [14], [3], [900], [2], [1830], [313], [369], [4418], [460], [81], [4419], [4420], [1844], [4421], [7], [4422], [163], [4423], [3], [1843], [4424], [4425], [2], [785], [21], [14], [109], [967], [4426], [4427], [88], [4428], [155], [6], [74], [2], [306], [579], [81], [786], [1798], [964], [146], [3], [22], [4429], [176], [81], [1811], [1845], [265], [4430], [4431], [584], [4432], [584], [1141], [1142], [14], [247], [25], [179], [1846], [1847], [1074], [4433], [306], [4434], [1848], [870], [1744], [313], [4435], [4436], [460], [955], [343], [4437], [4438], [4439], [4440], [1832], [4], [140], [224], [7], [1849], [460], [207], [1111], [4441], [1], [4442], [4443], [180], [783], [4444], [1143], [2], [4445], [429], [4446], [4447], [4448], [1792], [8], [270], [4449], [4450], [4451], [21], [14], [4452], [369], [413], [1], [4453], [8], [158], [4454], [4455], [4456], [924], [4457], [4458], [8], [4459], [4460], [60], [253], [1], [714], [437], [647], [970], [772], [784], [14], [7], [413], [27], [250], [4461], [650], [1850], [584], [1141], [4462], [4463], [4464], [133], [4465], [2], [779], [4466], [1142], [14], [1], [4467], [467], [155], [6], [74], [2], [382], [81], [786], [4468], [4469], [4470], [4471], [1312], [287], [586], [379], [1777], [95], [458], [21], [14], [126], [284], [74], [2], [1114], [861], [4472], [25], [4473], [787], [1747], [155], [559], [542], [4474], [462], [4475], [1851], [55], [4476], [1144], [8], [1852], [533], [383], [1], [21], [14], [74], [2], [582], [242], [3], [679], [39], [4477], [5], [344], [73], [254], [1], [312], [1136], [3], [1842], [8], [693], [308], [4478], [462], [23], [39], [383], [1], [21], [14], [764], [1853], [2], [4479], [372], [3], [7], [1854], [4], [4480], [1855], [4481], [27], [1856], [20], [4482], [4483], [4], [1857], [378], [3], [1735], [540], [1858], [13], [93], [4484], [372], [7], [786], [584], [1142], [14], [1859], [413], [4], [13], [4485], [4486], [308], [1820], [2], [1860], [4487], [23], [786], [233], [1861], [2], [4488], [4489], [372], [108], [1847], [4490], [1145], [1139], [270], [1766], [4491], [1146], [4492], [4493], [4494], [575], [26], [30], [45], [26], [7], [1147], [368], [587], [8], [4495], [4496], [122], [511], [26], [30], [2], [26], [4497], [970], [217], [4498], [5], [26], [30], [1862], [4499], [39], [4500], [1148], [1000], [4501], [4502], [4503], [214], [4504], [26], [30], [57], [1863], [583], [1746], [104], [4505], [4506], [4507], [4508], [4509], [1864], [543], [2], [4510], [265], [385], [408], [5], [4511], [286], [265], [1865], [2], [23], [201], [159], [284], [73], [1863], [4512], [4513], [136], [23], [6], [234], [77], [4514], [1865], [884], [408], [5], [4515], [4516], [286], [1866], [2], [4517], [1484], [1], [4518], [50], [4519], [4520], [1867], [1149], [4], [1868], [410], [1], [4521], [247], [4522], [30], [4523], [4524], [1869], [4525], [1870], [4526], [4527], [2], [235], [588], [385], [77], [6], [81], [571], [4528], [1072], [4529], [1], [1871], [1872], [4530], [4531], [1873], [4532], [2], [342], [385], [77], [4], [574], [4533], [4534], [321], [4535], [39], [4536], [133], [4537], [4538], [1], [4539], [1320], [788], [1874], [1875], [429], [4540], [4541], [1416], [4542], [1876], [124], [1877], [4543], [185], [1878], [374], [173], [589], [1333], [589], [], [4544], [222], [1150], [1879], [2], [4545], [4546], [1880], [77], [], [4547], [39], [1876], [155], [124], [374], [788], [5], [404], [589], [1881], [788], [787], [157], [4548], [1882], [1654], [189], [1883], [39], [4549], [25], [589], [4550], [4551], [1883], [374], [589], [65], [1881], [788], [1874], [4], [1882], [157], [4552], [235], [588], [321], [272], [77], [1884], [381], [590], [4553], [30], [1885], [1886], [1887], [235], [1888], [789], [7], [127], [4554], [4555], [4556], [8], [790], [4557], [30], [374], [4558], [222], [1150], [1151], [1889], [469], [404], [1879], [791], [470], [1152], [222], [1150], [1151], [1889], [1888], [789], [4559], [70], [29], [1890], [694], [215], [2], [385], [77], [87], [108], [4560], [8], [87], [4561], [1], [1871], [1872], [39], [4562], [133], [421], [118], [206], [591], [7], [471], [26], [30], [472], [26], [273], [127], [4], [1864], [2], [73], [235], [588], [4563], [1], [4564], [4565], [4566], [130], [322], [170], [4567], [25], [231], [54], [1891], [1892], [1893], [4568], [565], [4569], [691], [47], [4570], [33], [385], [8], [4571], [5], [344], [1894], [385], [473], [421], [4572], [217], [126], [1153], [26], [30], [25], [179], [1895], [77], [792], [2], [272], [77], [15], [592], [184], [80], [24], [4573], [858], [4574], [4575], [698], [4576], [4577], [5], [474], [1], [1353], [4578], [193], [4579], [1154], [593], [4580], [26], [273], [4581], [1153], [590], [2], [104], [30], [4582], [1], [235], [588], [7], [1896], [25], [1155], [427], [235], [1897], [4583], [144], [27], [468], [217], [4584], [793], [4], [26], [25], [4585], [4586], [1895], [77], [7], [4587], [126], [1], [4588], [255], [1896], [25], [4589], [4590], [1774], [520], [198], [1156], [30], [4591], [2], [198], [1156], [789], [1898], [4592], [250], [1899], [386], [4593], [7], [1900], [1], [4594], [159], [1157], [1], [198], [26], [30], [176], [4595], [1901], [15], [4596], [184], [234], [383], [1901], [221], [15], [1096], [5], [1158], [4597], [4598], [2], [385], [221], [59], [1332], [2], [1902], [2], [1074], [4599], [1903], [2], [738], [1903], [2], [1904], [1905], [97], [1902], [2], [4600], [374], [5], [4601], [1053], [154], [4602], [4603], [1], [1159], [4604], [1025], [2], [4605], [4606], [122], [4607], [77], [1900], [184], [1906], [321], [587], [80], [24], [4608], [149], [4609], [29], [26], [789], [4610], [1], [4611], [738], [1], [4612], [1907], [5], [794], [190], [795], [755], [4613], [474], [145], [475], [1908], [97], [4614], [33], [386], [888], [593], [1154], [145], [795], [1909], [4], [1160], [4615], [4616], [4617], [1761], [386], [4618], [4619], [476], [387], [1137], [680], [26], [1898], [5], [185], [4620], [4], [476], [29], [387], [4621], [476], [4622], [11], [476], [1161], [1910], [4623], [476], [1161], [1910], [1911], [4624], [4625], [4], [4626], [1779], [4627], [2], [1161], [26], [273], [32], [96], [303], [1153], [1878], [1], [48], [4628], [1], [12], [205], [1], [320], [1912], [1913], [4629], [1151], [124], [1914], [217], [5], [1852], [26], [30], [2], [103], [241], [4630], [3], [477], [4631], [104], [30], [24], [796], [1887], [4632], [4633], [643], [4634], [4635], [4636], [2], [1915], [4637], [4638], [234], [1], [148], [1139], [2], [594], [24], [577], [260], [430], [159], [15], [57], [349], [25], [1162], [166], [4639], [1084], [4640], [190], [1158], [4641], [145], [1916], [2], [4642], [670], [272], [77], [84], [388], [474], [4643], [738], [4644], [386], [755], [593], [15], [1917], [1160], [387], [7], [4645], [4646], [1918], [670], [4647], [1163], [37], [159], [25], [179], [889], [594], [4648], [1], [430], [159], [2], [211], [4649], [7], [1877], [149], [4650], [4651], [40], [4652], [53], [149], [1], [159], [640], [4653], [1163], [587], [4654], [24], [101], [96], [72], [199], [87], [4655], [12], [1], [4656], [1919], [472], [4657], [797], [30], [101], [4658], [24], [473], [205], [216], [4659], [4660], [149], [1314], [82], [4661], [1920], [1703], [1921], [477], [4662], [1], [551], [1922], [122], [448], [1116], [4663], [4664], [2], [159], [1866], [97], [1923], [424], [187], [2], [104], [1], [31], [798], [48], [388], [26], [273], [4665], [1], [1924], [234], [4666], [4667], [28], [4668], [769], [234], [77], [1], [148], [470], [24], [796], [47], [1925], [4669], [4670], [2], [82], [4671], [144], [1926], [2], [104], [447], [258], [174], [82], [478], [65], [82], [799], [24], [57], [216], [1927], [1751], [4672], [30], [4673], [4674], [4675], [2], [4676], [4677], [2], [322], [170], [8], [25], [179], [4678], [2], [4679], [170], [4680], [6], [211], [24], [253], [88], [1928], [1], [798], [48], [70], [1853], [446], [173], [383], [88], [361], [4681], [1164], [592], [80], [224], [2], [24], [1], [4682], [4683], [4684], [4685], [77], [1929], [1165], [1], [1553], [30], [4686], [4687], [1], [662], [4688], [4689], [199], [3], [4690], [25], [22], [1166], [1148], [28], [4691], [4692], [1930], [1], [272], [4693], [4694], [348], [272], [77], [1], [268], [4695], [1696], [164], [249], [908], [2], [24], [8], [477], [4696], [866], [45], [119], [190], [131], [389], [221], [284], [653], [357], [2], [149], [919], [24], [4697], [1931], [4698], [1932], [4699], [4700], [4701], [447], [26], [1], [1325], [4702], [1164], [592], [99], [162], [2], [24], [514], [1933], [4703], [8], [365], [638], [1164], [681], [5], [4704], [80], [125], [2], [24], [4705], [84], [73], [149], [207], [1642], [4706], [119], [204], [665], [1147], [638], [125], [302], [4707], [1167], [77], [155], [559], [4708], [27], [4709], [2], [80], [24], [497], [572], [403], [1891], [29], [1155], [4710], [1934], [4711], [2], [1915], [243], [8], [27], [202], [4712], [1935], [163], [6], [31], [4713], [162], [2], [24], [473], [371], [4714], [80], [173], [2], [24], [4715], [4], [928], [78], [108], [119], [204], [561], [2], [24], [1130], [1356], [4716], [221], [334], [762], [657], [4717], [928], [189], [4718], [4719], [1936], [82], [478], [45], [1924], [2], [104], [1937], [30], [7], [585], [1], [800], [595], [236], [4720], [3], [1168], [3], [547], [1006], [3], [725], [3], [801], [3], [1938], [388], [1169], [273], [4721], [82], [799], [802], [1], [4722], [82], [4723], [5], [794], [1939], [593], [1831], [387], [388], [590], [2], [4724], [144], [776], [479], [323], [24], [1927], [4725], [24], [473], [4], [295], [2], [334], [59], [1336], [1940], [884], [334], [39], [1940], [1941], [473], [4726], [596], [142], [334], [1257], [1932], [1], [174], [82], [478], [7], [127], [4727], [595], [236], [78], [174], [82], [480], [7], [127], [1], [801], [471], [24], [473], [28], [662], [1170], [776], [4728], [159], [77], [85], [4729], [2], [24], [796], [5], [475], [3], [4730], [72], [150], [1942], [77], [566], [12], [559], [17], [113], [1913], [4731], [4732], [4733], [479], [24], [4734], [4735], [211], [1171], [24], [1], [4736], [2], [211], [4737], [4738], [295], [24], [1], [24], [2], [3], [5], [145], [3], [4739], [773], [1], [104], [30], [60], [95], [4740], [211], [24], [4741], [1172], [125], [266], [4742], [1173], [597], [323], [24], [4743], [4744], [1937], [39], [1943], [4745], [906], [1174], [1824], [479], [67], [2], [793], [4], [643], [1934], [4746], [1941], [1175], [1944], [1845], [4747], [215], [4748], [1], [1945], [1922], [30], [165], [24], [1154], [4749], [142], [295], [265], [2], [24], [4750], [4751], [4752], [4753], [796], [1175], [1943], [321], [4754], [323], [24], [1], [104], [122], [368], [1946], [23], [250], [103], [80], [24], [404], [2], [598], [24], [4755], [4756], [472], [333], [192], [57], [477], [15], [4757], [4758], [1345], [4759], [4760], [77], [4761], [24], [8], [477], [1944], [1172], [224], [4762], [4763], [127], [4], [108], [411], [1935], [144], [4764], [113], [4], [4765], [216], [30], [4766], [4767], [1167], [1947], [4768], [4769], [77], [4770], [282], [479], [24], [540], [1373], [564], [599], [4771], [797], [30], [1919], [4772], [600], [779], [1948], [1949], [24], [5], [4773], [1171], [24], [23], [4774], [109], [4775], [572], [4776], [334], [4777], [4778], [67], [2], [639], [80], [4779], [24], [4780], [29], [1155], [1], [123], [4781], [4782], [922], [24], [4783], [446], [797], [30], [1], [725], [4784], [4785], [4786], [1912], [15], [4787], [5], [600], [479], [24], [1172], [1173], [597], [4788], [4789], [583], [792], [2], [779], [1948], [144], [27], [4790], [4791], [427], [1950], [4792], [24], [4793], [1171], [24], [4794], [1], [1620], [1530], [1176], [1419], [420], [166], [4795], [4796], [1173], [597], [4797], [80], [24], [4798], [2], [80], [24], [4799], [4800], [24], [4801], [4802], [1648], [427], [1950], [471], [4803], [24], [1], [1951], [4804], [4805], [4806], [943], [950], [600], [4807], [4808], [4809], [1], [1532], [4810], [4811], [4812], [4813], [4814], [7], [17], [1086], [4815], [68], [4816], [4817], [12], [282], [1790], [600], [1170], [4818], [4819], [24], [1949], [1560], [5], [794], [3], [4820], [1375], [4821], [16], [4822], [80], [24], [255], [4823], [4824], [4825], [4826], [427], [4827], [1372], [1], [1952], [705], [12], [4828], [447], [4], [174], [272], [77], [1], [800], [595], [236], [174], [82], [478], [1953], [174], [82], [480], [1], [801], [4829], [478], [57], [82], [799], [15], [601], [1], [104], [236], [802], [4830], [1109], [149], [4831], [4832], [4833], [1907], [5], [794], [1929], [22], [1], [1162], [166], [1], [148], [4834], [4835], [523], [4836], [4837], [1050], [4838], [499], [1162], [159], [190], [1158], [2], [1904], [1905], [4839], [1916], [4840], [795], [386], [5], [145], [795], [1909], [348], [1], [475], [474], [145], [475], [1908], [1767], [33], [386], [4841], [1160], [387], [7], [4842], [4843], [1169], [273], [4844], [82], [799], [776], [479], [323], [24], [4845], [50], [3], [5], [3], [1925], [4846], [4847], [2], [104], [1516], [1813], [4848], [478], [1954], [72], [82], [4849], [23], [82], [15], [4850], [109], [430], [159], [4851], [25], [387], [4852], [82], [4853], [601], [82], [4854], [4855], [4856], [15], [1917], [387], [682], [4], [174], [272], [77], [1], [801], [174], [82], [23], [113], [82], [480], [802], [4857], [1362], [4858], [59], [1294], [480], [1360], [1], [82], [480], [4859], [1109], [4860], [1], [1167], [1931], [1947], [144], [1926], [2], [104], [4861], [323], [334], [4862], [565], [1928], [682], [4], [29], [104], [4863], [174], [4864], [4865], [500], [803], [26], [30], [803], [26], [30], [1742], [164], [4866], [4], [351], [4867], [198], [26], [30], [4868], [88], [4869], [2], [68], [103], [591], [7], [1849], [29], [104], [1955], [1], [4870], [29], [591], [1], [803], [26], [30], [4], [4871], [45], [235], [30], [1956], [7], [39], [95], [457], [4872], [602], [102], [226], [74], [2], [591], [55], [1957], [1006], [1], [457], [4873], [408], [5], [4874], [603], [4875], [803], [26], [30], [1010], [20], [4876], [744], [4877], [4878], [4], [170], [228], [922], [381], [26], [273], [4879], [198], [1169], [7], [127], [4880], [1958], [255], [1959], [4881], [4882], [2], [791], [470], [1152], [15], [4883], [88], [1835], [475], [1906], [4], [170], [1960], [4884], [4885], [48], [77], [4886], [361], [26], [1020], [1], [570], [4887], [236], [2], [882], [4888], [72], [1177], [4889], [472], [590], [804], [4890], [1], [65], [4891], [199], [8], [785], [1893], [30], [1953], [104], [30], [1961], [7], [4892], [4893], [323], [24], [4894], [1445], [2], [24], [4895], [4896], [1331], [1962], [24], [592], [5], [4897], [3], [1147], [598], [2], [26], [1], [148], [474], [4898], [2], [805], [7], [1963], [4899], [204], [4900], [4901], [4902], [4903], [4904], [50], [594], [234], [4905], [103], [805], [4906], [1165], [703], [1964], [463], [127], [4], [587], [4907], [119], [70], [20], [4908], [8], [441], [2], [37], [159], [1780], [80], [24], [4909], [163], [1964], [4910], [1965], [5], [594], [323], [218], [70], [72], [1177], [1859], [4], [587], [80], [24], [260], [594], [234], [266], [638], [4911], [420], [4912], [321], [288], [386], [802], [1], [159], [1363], [1], [4913], [1306], [4914], [1073], [805], [793], [4], [272], [4915], [2], [162], [24], [4916], [643], [199], [4917], [4918], [26], [4919], [4920], [2], [805], [7], [1963], [4921], [1962], [125], [2], [24], [337], [3], [159], [1177], [95], [4922], [923], [804], [1965], [5], [457], [4923], [1942], [143], [174], [1966], [167], [1967], [2], [174], [26], [4924], [1], [4925], [474], [323], [685], [2], [24], [1939], [1170], [2], [4], [806], [2], [6], [4926], [2], [104], [4927], [1420], [471], [2], [4928], [26], [1096], [430], [72], [604], [4929], [3], [4930], [2], [82], [480], [8], [4931], [4932], [1968], [4933], [272], [3], [1178], [174], [604], [1179], [86], [5], [4934], [2], [1920], [8], [4935], [4936], [4937], [1968], [2], [430], [159], [1936], [604], [471], [4938], [4939], [4940], [402], [8], [381], [908], [588], [2], [412], [1969], [4941], [1509], [3], [29], [104], [277], [2], [174], [26], [3], [383], [2], [29], [104], [127], [1], [701], [1862], [4942], [2], [412], [604], [4943], [5], [4944], [4945], [104], [30, 763], [302], [4946], [405], [26], [30], [4947], [1028], [48], [4948], [2], [2], [26], [4949], [286], [4950], [2], [4951], [1028], [320], [390], [3], [1168], [1970], [4], [2], [1971], [2], [590], [2], [26], [30], [78], [1938], [3], [4952], [3], [4953], [3], [4954], [3], [1952], [705], [3], [1957], [3], [4955], [3], [4956], [3], [1972], [4957], [4], [26], [30], [4958], [4959], [1971], [2], [26], [165], [598], [234], [77], [4960], [388], [598], [166], [2], [26], [273], [685], [917], [2], [598], [790], [8], [1973], [1974], [388], [131], [1890], [4961], [150], [2], [24], [419], [1899], [185], [1918], [180], [2], [1975], [2], [4962], [1973], [8], [1975], [4963], [2], [790], [4964], [1976], [4965], [180], [917], [2], [4966], [26], [30], [3], [39], [1933], [4967], [1897], [1], [1352], [4968], [791], [470], [1152], [8], [470], [4969], [8], [791], [470], [4970], [7], [4971], [4972], [4973], [4974], [4975], [4976], [4977], [3], [4978], [234], [77], [24], [4979], [3], [4980], [1149], [16], [4981], [78], [4982], [790], [1958], [1885], [4983], [4984], [30], [388], [26], [4985], [637], [2], [170], [1886], [1884], [1156], [7], [1802], [4], [26], [1976], [8], [185], [4986], [70], [249], [26], [30], [4987], [381], [235], [190], [4988], [583], [401], [4989], [234], [77], [4990], [1], [4991], [4992], [1867], [4993], [3], [4994], [4995], [1956], [4996], [475], [4997], [20], [22], [95], [4998], [4999], [1873], [5000], [24], [1175], [7], [81], [592], [20], [5001], [2], [192], [5002], [5003], [8], [1], [381], [797], [30], [3], [103], [241], [254], [1], [235], [55], [477], [190], [5004], [265], [5005], [4], [22], [566], [711], [691], [302], [383], [13], [5006], [5007], [2], [29], [235], [70], [1016], [1966], [30], [1], [206], [798], [48], [127], [4], [5008], [1977], [1567], [1869], [73], [5009], [54], [5010], [104], [30], [5011], [5012], [228], [1092], [5013], [15], [774], [1], [303], [26], [30], [1], [5014], [5015], [12], [248], [695], [5], [5016], [5017], [5018], [102], [695], [5], [5019], [5020], [5021], [1535], [5022], [1880], [15], [5023], [5024], [4], [5025], [5026], [4], [806], [2], [5027], [410], [1148], [30], [5028], [5029], [5], [26], [30], [5030], [2], [5031], [4], [5032], [5033], [5034], [472], [26], [273], [54], [5035], [5036], [5037], [236], [5038], [5039], [5040], [887], [25], [5041], [948], [7], [5042], [987], [242], [1], [5043], [47], [12], [725], [113], [84], [72], [199], [481], [126], [391], [72], [392], [324], [72], [192], [547], [113], [84], [72], [199], [481], [126], [391], [72], [392], [324], [5044], [1951], [113], [84], [72], [199], [481], [126], [391], [72], [392], [324], [72], [1168], [113], [84], [72], [199], [481], [126], [391], [72], [392], [324], [72], [5045], [113], [84], [72], [199], [481], [126], [391], [72], [392], [324], [72], [1972], [113], [84], [72], [199], [392], [324], [72], [800], [595], [236], [113], [84], [72], [199], [481], [126], [391], [72], [392], [324], [72], [60], [5046], [591], [324], [145], [72], [199], [210], [5], [27], [5047], [47], [12], [19], [807], [8], [19], [8], [808], [5048], [141], [237], [1180], [1978], [5049], [1], [5050], [1], [10], [1], [89], [602], [809], [5051], [18], [10], [38], [605], [810], [2], [139], [5052], [10], [12], [1979], [277], [393], [1], [168], [160], [811], [812], [169], [2], [1980], [92], [41], [36], [1181], [209], [1981], [325], [38], [441], [209], [1981], [5053], [1982], [1182], [63], [61], [46], [441], [209], [141], [5054], [5055], [747], [3], [363], [228], [5056], [3], [5057], [310], [3], [5058], [5059], [3], [5060], [3], [86], [1550], [39], [1183], [27], [57], [5061], [5062], [1], [19], [5063], [166], [215], [1072], [5064], [31], [27], [394], [1], [1846], [813], [3], [5065], [31], [1983], [3], [5066], [1184], [1], [74], [2], [5067], [5068], [5069], [1984], [23], [1184], [88], [220], [238], [124], [5070], [714], [5071], [237], [75], [1], [5072], [798], [48], [188], [5073], [5074], [5075], [5076], [5077], [1], [48], [814], [443], [3], [88], [5078], [5079], [5], [5080], [141], [5081], [814], [443], [124], [5082], [6], [1183], [25], [5083], [27], [8], [5084], [25], [5085], [141], [1985], [1179], [5], [1986], [815], [5086], [6], [1183], [454], [70], [124], [203], [5087], [25], [5088], [1985], [39], [1179], [764], [103], [5089], [8], [5090], [5091], [5092], [55], [5093], [5094], [19], [816], [8], [60], [5095], [6], [5096], [16], [5097], [98], [5098], [5099], [32], [297], [5100], [19], [2], [5101], [1987], [18], [395], [1988], [64], [146], [17], [1], [396], [5102], [5103], [1989], [10], [17], [5104], [5105], [363], [1], [1980], [7], [5106], [5107], [1], [67], [2], [720], [482], [467], [23], [135], [5108], [5109], [1185], [38], [3], [606], [41], [483], [7], [5110], [25], [1714], [52], [1186], [482], [1], [22], [136], [240], [5111], [813], [1], [326], [1990], [61], [46], [365], [209], [484], [1182], [36], [38], [365], [209], [484], [151], [19], [5112], [5113], [38], [607], [10], [20], [5114], [1991], [603], [5115], [1187], [5116], [1027], [5117], [5118], [5119], [11], [18], [10], [521], [22], [1009], [59], [1991], [3], [393], [528], [745], [18], [10], [85], [5120], [5], [18], [10], [3], [1992], [19], [4], [5121], [274], [1], [12], [40], [608], [19], [816], [5122], [1], [5123], [18], [10], [101], [817], [523], [2], [1993], [12], [212], [5124], [5125], [28], [96], [238], [146], [244], [6], [1188], [64], [1], [44], [485], [743], [29], [1994], [5126], [5127], [583], [7], [5128], [810], [818], [40], [5129], [819], [157], [745], [5130], [52], [1], [5131], [2], [12], [23], [17], [5132], [120], [18], [10], [2], [5133], [1], [5134], [27], [468], [275], [1995], [1996], [5135], [808], [5136], [1481], [18], [395], [1], [1997], [5137], [19], [327], [1825], [112], [297], [23], [1945], [19], [609], [745], [5138], [70], [5139], [820], [610], [5140], [18], [10], [821], [43], [5141], [1], [926], [2], [1812], [822], [18], [10], [11], [120], [19], [603], [1989], [10], [193], [5142], [403], [96], [43], [19], [1], [483], [32], [1], [396], [5143], [28], [131], [327], [5144], [19], [1], [1998], [1999], [5145], [5146], [5147], [5148], [28], [1448], [2], [1189], [5149], [1190], [19], [5150], [1], [698], [1], [44], [276], [101], [96], [5151], [5152], [751], [28], [2], [1189], [121], [19], [486], [1], [396], [5153], [2000], [200], [810], [1265], [2], [1993], [173], [6], [5154], [105], [85], [608], [43], [1], [483], [274], [2001], [5155], [4], [106], [36], [38], [811], [5156], [804], [5157], [2002], [141], [5158], [1], [238], [212], [19], [44], [1], [36], [90], [43], [487], [753], [43], [78], [1], [94], [89], [79], [611], [90], [64], [2003], [1992], [19], [1], [22], [105], [5], [5159], [5160], [38], [5161], [5162], [210], [5163], [2004], [2005], [5], [18], [5164], [151], [19], [5165], [1], [89], [23], [5166], [654], [966], [1018], [2], [2006], [275], [1995], [5167], [23], [17], [2007], [905], [5168], [5169], [5170], [2008], [5171], [212], [808], [751], [1], [483], [823], [44], [121], [191], [64], [487], [64], [78], [79], [1], [41], [94], [89], [2009], [90], [64], [150], [78], [79], [1], [63], [61], [46], [128], [75], [107], [90], [43], [70], [98], [81], [5172], [65], [41], [1], [22], [105], [40], [612], [1996], [5173], [19], [426], [5174], [792], [454], [275], [2010], [2011], [613], [328], [205], [483], [274], [371], [139], [65], [898], [6], [5175], [107], [222], [120], [1], [36], [44], [5176], [328], [19], [1], [206], [107], [52], [36], [200], [19], [6], [1188], [64], [487], [64], [212], [1], [94], [89], [423], [107], [90], [64], [150], [811], [18], [10], [1], [22], [105], [106], [36], [38], [28], [503], [105], [5177], [328], [5], [5178], [68], [297], [105], [822], [18], [10], [1191], [106], [41], [36], [38], [11], [276], [1191], [106], [94], [89], [1], [41], [325], [38], [200], [19], [6], [1188], [441], [43], [1], [611], [23], [1], [96], [44], [1192], [98], [824], [825], [78], [244], [326], [4], [276], [1305], [43], [469], [64], [101], [5179], [117], [1], [22], [105], [23], [17], [1193], [4], [52], [275], [336], [5180], [5181], [212], [19], [1], [36], [38], [44], [90], [91], [43], [487], [64], [78], [79], [1], [41], [94], [89], [79], [44], [150], [173], [28], [41], [63], [61], [46], [128], [75], [79], [44], [90], [486], [200], [98], [5182], [85], [106], [63], [61], [4], [652], [139], [5183], [1059], [826], [5184], [5185], [5186], [5187], [84], [1194], [19], [268], [141], [1], [48], [2012], [488], [5188], [18], [10], [1], [41], [94], [48], [2013], [200], [918], [5], [256], [329], [208], [1073], [1273], [2014], [810], [660], [5189], [827], [5], [19], [15], [244], [5190], [5191], [2], [5192], [139], [5193], [195], [5194], [1195], [5195], [828], [1319], [1], [22], [2015], [829], [19], [85], [106], [268], [141], [1], [73], [327], [101], [1193], [4], [52], [275], [660], [5196], [5197], [200], [19], [608], [64], [1], [44], [485], [829], [661], [85], [106], [5198], [393], [36], [38], [212], [1], [41], [94], [89], [611], [28], [41], [63], [61], [46], [128], [75], [107], [90], [43], [19], [1580], [5199], [1], [89], [3], [46], [151], [134], [19], [816], [654], [5200], [5201], [483], [274], [1182], [63], [61], [46], [5202], [654], [5203], [1357], [120], [5204], [18], [10], [23], [5205], [19], [830], [5206], [46], [651], [23], [756], [454], [5207], [275], [603], [5208], [89], [176], [268], [1196], [1], [46], [2], [804], [1617], [5209], [17], [1193], [4], [120], [18], [10], [38], [5210], [1197], [831], [212], [19], [1], [36], [38], [44], [90], [91], [64], [487], [64], [78], [79], [1], [41], [94], [89], [107], [247], [1], [41], [63], [61], [46], [128], [75], [79], [823], [44], [90], [91], [43], [829], [85], [106], [393], [63], [61], [46], [5211], [243], [20], [2016], [98], [4], [139], [2017], [821], [43], [23], [5212], [608], [5213], [5214], [121], [31], [2], [5215], [5216], [5217], [19], [816], [43], [327], [5218], [2018], [5219], [5220], [5221], [5222], [6], [5223], [1191], [106], [36], [38], [11], [614], [94], [89], [101], [18], [10], [57], [614], [36], [78], [18], [395], [614], [94], [89], [1], [41], [325], [274], [205], [327], [283], [1], [1997], [23], [820], [610], [5224], [1198], [826], [825], [90], [2019], [1195], [5225], [5226], [5227], [28], [44], [615], [7], [2020], [4], [1199], [5228], [2021], [98], [2022], [2023], [121], [19], [5229], [1], [22], [610], [5230], [5231], [85], [106], [325], [247], [1], [36], [38], [102], [79], [19], [44], [90], [64], [78], [79], [1], [41], [63], [61], [46], [44], [90], [43], [829], [19], [85], [106], [393], [36], [38], [2003], [1], [606], [106], [36], [38], [1190], [19], [22], [105], [2024], [6], [203], [141], [117], [1], [46], [651], [54], [79], [1], [36], [38], [823], [44], [90], [191], [64], [5232], [98], [1], [22], [105], [358], [1293], [78], [79], [1], [94], [89], [107], [90], [43], [86], [78], [1], [41], [63], [61], [46], [128], [75], [44], [90], [191], [43], [1087], [18], [10], [5], [256], [329], [2025], [11], [139], [5233], [336], [5234], [19], [2026], [124], [2014], [2027], [5235], [5236], [577], [5237], [808], [751], [5238], [1], [396], [5239], [5240], [5241], [832], [200], [1657], [153], [5242], [608], [64], [326], [1137], [5243], [19], [63], [61], [46], [5244], [5245], [1], [5246], [3], [84], [1184], [19], [1], [827], [5247], [3], [1200], [358], [183], [68], [1166], [105], [822], [18], [10], [614], [63], [61], [46], [11], [5248], [660], [614], [94], [320], [390], [1], [41], [325], [390], [200], [98], [2], [5249], [821], [43], [825], [212], [19], [1], [41], [63], [38], [44], [121], [191], [64], [487], [43], [212], [1], [94], [611], [78], [79], [1], [41], [63], [61], [46], [128], [75], [44], [90], [43], [2028], [11], [813], [106], [63], [38], [101], [22], [100], [238], [5250], [19], [5251], [117], [2029], [1187], [210], [5], [612], [275], [38], [1197], [831], [2], [68], [456], [2005], [1848], [1194], [19], [5252], [268], [141], [1], [48], [2012], [488], [19], [5253], [5254], [20], [5255], [557], [576], [91], [19], [5256], [5257], [4], [131], [1840], [5258], [5259], [64], [1], [31], [611], [186], [81], [571], [5260], [6], [5261], [557], [5262], [348], [91], [5263], [5264], [2], [5265], [183], [23], [151], [19], [5266], [5267], [4], [98], [54], [634], [22], [5], [1643], [5268], [1201], [3], [288], [5269], [716], [2030], [31], [2], [1187], [5270], [831], [210], [5], [5271], [5272], [2029], [5273], [5274], [370], [1], [22], [567], [275], [1202], [2031], [5275], [18], [10], [5276], [5277], [1197], [831], [2025], [18], [10], [11], [616], [1], [41], [325], [38], [101], [617], [117], [4], [1199], [5278], [195], [200], [616], [2], [326], [824], [825], [78], [1], [617], [615], [244], [98], [5279], [616], [2022], [2023], [121], [31], [2], [19], [2032], [1203], [43], [327], [90], [19], [64], [1], [44], [485], [1], [36], [78], [121], [43], [1], [1181], [43], [1], [94], [89], [23], [1087], [5], [256], [329], [2033], [98], [512], [18], [395], [78], [1], [63], [61], [46], [79], [19], [107], [90], [486], [173], [2034], [22], [1194], [19], [5280], [268], [141], [1], [48], [2], [68], [5281], [2008], [3], [86], [287], [1818], [5282], [1984], [2002], [833], [46], [32], [5283], [5284], [6], [203], [105], [741], [5285], [5286], [5287], [405], [496], [19], [5], [19], [780], [70], [11], [612], [2031], [5288], [1201], [540], [151], [19], [163], [5289], [4], [2026], [23], [121], [1], [36], [38], [43], [1], [44], [485], [212], [1], [63], [61], [46], [128], [75], [107], [121], [191], [43], [5290], [19], [5291], [2035], [18], [10], [5292], [23], [992], [5], [2036], [1], [22], [105], [368], [44], [813], [834], [276], [5293], [25], [1204], [823], [423], [1858], [212], [44], [1], [36], [2028], [191], [43], [173], [78], [79], [1], [94], [89], [44], [150], [173], [3], [1181], [107], [1], [63], [61], [46], [90], [191], [486], [173], [448], [1205], [18], [10], [65], [41], [1], [22], [105], [1713], [613], [328], [157], [125], [5294], [18], [10], [23], [5295], [18], [10], [1], [238], [200], [328], [6], [955], [2], [19], [141], [5296], [23], [17], [5297], [209], [5298], [5299], [5300], [5301], [90], [19], [43], [205], [1206], [215], [23], [121], [1], [396], [276], [617], [615], [15], [820], [1], [2016], [98], [824], [469], [2037], [54], [79], [1], [36], [38], [44], [5302], [5303], [98], [4], [106], [36], [20], [2038], [365], [557], [78], [1], [63], [61], [46], [121], [43], [1], [107], [485], [19], [226], [2039], [2040], [5304], [106], [36], [38], [468], [19], [2039], [5305], [1], [243], [28], [5306], [5307], [23], [5308], [5309], [5310], [5311], [5312], [856], [5313], [285], [806], [2], [5314], [1], [5315], [155], [176], [27], [646], [5316], [4], [5317], [7], [5318], [1], [169], [2], [489], [68], [1166], [105], [40], [612], [2011], [328], [2041], [336], [2042], [2043], [23], [822], [18], [10], [11], [5319], [1], [41], [325], [38], [101], [96], [617], [4], [1199], [959], [2044], [2033], [98], [22], [610], [5320], [160], [5321], [826], [469], [39], [1983], [28], [617], [615], [992], [18], [5], [5322], [5323], [2045], [43], [5324], [247], [1], [36], [79], [19], [44], [121], [191], [64], [90], [43], [1], [107], [485], [1], [63], [61], [46], [2001], [98], [4], [106], [36], [1487], [350], [4], [1207], [697], [18], [10], [139], [2017], [1], [41], [325], [38], [200], [98], [2], [326], [814], [329], [85], [321], [28], [36], [38], [79], [19], [47], [262], [44], [121], [191], [43], [28], [94], [89], [79], [44], [150], [121], [191], [43], [28], [41], [63], [61], [46], [128], [75], [79], [107], [121], [191], [43], [5325], [33], [105], [612], [336], [2042], [2043], [2041], [38], [5326], [1208], [792], [454], [3], [109], [33], [105], [5327], [244], [19], [5328], [341], [5329], [5330], [5331], [596], [19], [393], [18], [10], [528], [117], [85], [64], [100], [1209], [330], [18], [10], [120], [10], [331], [128], [75], [57], [120], [237], [1180], [5332], [1978], [352], [1], [428], [274], [10], [5333], [12], [809], [52], [1], [36], [38], [426], [5334], [830], [120], [237], [1180], [1], [129], [1210], [54], [2021], [835], [38], [5335], [5336], [157], [341], [836], [5337], [178], [157], [94], [735], [89], [5338], [836], [5339], [5340], [1], [63], [61], [46], [28], [330], [17], [18], [10], [147], [757], [2046], [5341], [1027], [128], [75], [488], [59], [86], [147], [490], [2013], [5342], [1], [46], [602], [40], [5343], [5344], [5345], [1211], [1212], [52], [809], [206], [5346], [618], [1], [213], [491], [332], [1], [428], [10], [607], [10], [1875], [25], [74], [2], [1211], [1], [48], [767], [5347], [490], [160], [5348], [5349], [160], [5350], [5351], [5352], [1], [1541], [160], [112], [5353], [12], [28], [1213], [5354], [488], [52], [38], [1214], [268], [139], [1], [129], [1210], [1729], [18], [10], [180], [139], [2], [23], [5355], [5356], [154], [429], [689], [1547], [5357], [837], [734], [570], [5358], [12], [289], [568], [126], [5359], [139], [1], [48], [429], [5360], [5361], [5362], [71], [10], [4], [237], [75], [25], [179], [2047], [5363], [361], [5364], [2048], [542], [2], [5365], [570], [5366], [2], [5367], [5368], [120], [1], [56], [12], [1561], [120], [5369], [128], [75], [5370], [5371], [827], [5372], [31], [2049], [147], [1], [539], [499], [5373], [1], [10], [28], [12], [5374], [52], [5], [5375], [5376], [1041], [838], [2050], [10], [128], [75], [1042], [838], [2050], [10], [5377], [5378], [52], [916], [157], [125], [12], [5379], [120], [10], [128], [75], [740], [126], [2051], [10], [154], [1], [1528], [208], [365], [482], [2], [1733], [65], [12], [244], [52], [5380], [1093], [2052], [2053], [41], [2054], [2055], [154], [20], [326], [4], [2056], [2057], [1], [256], [94], [89], [200], [52], [5381], [4], [106], [329], [566], [753], [484], [839], [23], [32], [45], [329], [5382], [618], [5383], [1093], [101], [160], [2], [757], [2046], [5384], [38], [128], [75], [1], [1189], [23], [55], [52], [5385], [5386], [5387], [5388], [4], [5389], [2058], [320], [38], [28], [12], [605], [52], [5390], [5391], [248], [338], [20], [6], [17], [52], [5392], [2], [728], [5393], [5394], [5395], [213], [375], [28], [12], [40], [1102], [5396], [52], [596], [114], [18], [10], [2], [68], [735], [89], [2004], [506], [178], [23], [1215], [106], [18], [255], [713], [5397], [1185], [1], [12], [226], [36], [38], [128], [75], [54], [1856], [18], [10], [5398], [47], [100], [44], [1], [5399], [418], [1192], [100], [44], [512], [2056], [2057], [1], [5400], [5401], [665], [1192], [98], [5402], [5403], [54], [5404], [5405], [5406], [5407], [276], [5408], [1283], [347], [18], [10], [1200], [96], [41], [63], [1], [2059], [238], [5409], [1], [105], [887], [2052], [2060], [157], [125], [596], [96], [120], [1205], [41], [36], [1982], [4], [1207], [112], [1753], [5410], [491], [332], [1214], [2061], [2062], [10], [1], [12], [881], [5411], [40], [457], [5412], [840], [5413], [1216], [841], [842], [20], [6], [5414], [228], [1005], [5415], [274], [1750], [2], [12], [5416], [332], [5417], [11], [2063], [2], [5418], [5419], [2], [407], [193], [5420], [5421], [260], [89], [716], [5422], [5423], [11], [1217], [195], [397], [5424], [5425], [274], [5426], [5427], [337], [108], [96], [120], [5428], [5429], [1], [120], [150], [28], [96], [557], [195], [397], [2064], [52], [41], [36], [686], [1], [2059], [20], [2038], [5430], [766], [811], [195], [397], [106], [5431], [2065], [609], [20], [1701], [5432], [5433], [160], [331], [18], [10], [5434], [843], [65], [41], [2], [12], [1672], [160], [5435], [4], [843], [41], [36], [421], [1008], [927], [5436], [959], [5437], [540], [5438], [5439], [52], [5440], [1710], [5441], [4], [843], [5442], [101], [4], [5443], [29], [2066], [275], [5444], [613], [328], [210], [5], [552], [123], [830], [141], [613], [5445], [5446], [5447], [2], [5448], [1059], [5449], [210], [5], [118], [2067], [1196], [5450], [1218], [1482], [5451], [5452], [2068], [476], [5453], [818], [210], [5], [5454], [1219], [5455], [38], [1220], [2024], [1], [843], [36], [297], [18], [10], [81], [1116], [5456], [2034], [2069], [4], [5457], [5458], [139], [276], [1], [5459], [619], [5460], [824], [2], [5461], [5462], [3], [118], [2067], [70], [52], [5463], [1], [1857], [489], [308], [512], [5464], [52], [818], [1624], [1458], [105], [124], [5465], [98], [1], [5466], [619], [821], [43], [469], [2037], [1], [5467], [5468], [135], [160], [331], [5469], [2063], [5470], [2], [5471], [705], [1062], [5472], [5473], [5474], [5475], [5476], [5477], [2070], [5478], [1195], [2048], [81], [5479], [5480], [5481], [34], [1], [620], [136], [244], [160], [1221], [5482], [2], [5483], [25], [5484], [5485], [5486], [1635], [2071], [208], [2072], [350], [844], [1222], [5487], [5488], [1], [428], [5489], [5490], [28], [1987], [2073], [5491], [1], [29], [327], [1036], [255], [5492], [133], [6], [5493], [43], [5494], [50], [1198], [255], [5495], [2066], [619], [6], [5496], [5497], [2074], [5498], [5499], [15], [5500], [2035], [5501], [5502], [20], [6], [2064], [1223], [1], [1224], [467], [5503], [2075], [327], [1036], [20], [620], [844], [5504], [11], [63], [2076], [5505], [1], [2077], [390], [11], [5506], [5507], [248], [5508], [5509], [5510], [842], [331], [70], [118], [5511], [2078], [6], [5512], [1206], [615], [5513], [828], [183], [5514], [2075], [20], [5515], [28], [175], [305], [5516], [28], [350], [5517], [5518], [2079], [5519], [5520], [5521], [2080], [2027], [5522], [5523], [5524], [237], [2], [1099], [5525], [1225], [5526], [64], [1205], [1], [329], [20], [178], [5527], [1700], [1226], [5528], [5529], [5530], [310], [7], [5531], [92], [5532], [676], [828], [5533], [743], [297], [1227], [183], [2078], [5534], [6], [5535], [4], [947], [2081], [1228], [64], [5536], [183], [189], [620], [135], [5537], [613], [328], [5538], [5539], [1219], [5540], [2074], [5541], [248], [695], [27], [16], [5542], [4], [1998], [1999], [1754], [92], [64], [5543], [117], [28], [100], [5544], [135], [5545], [1208], [5546], [5547], [1225], [135], [1505], [5548], [5549], [5550], [1855, 763], [5551], [5552], [1226], [2], [329], [1212], [1], [5553], [5554], [20], [620], [5555], [552], [5556], [4], [36], [5557], [5558], [5559], [308], [20], [5560], [2], [94], [536], [4], [5561], [18], [5562], [1], [190], [136], [621], [5563], [5564], [5565], [2], [833], [18], [10], [5566], [5567], [2], [5568], [210], [5], [5569], [1229], [1203], [5], [5570], [5571], [207], [468], [52], [5572], [2040], [1822], [5573], [5574], [5575], [1], [2], [330], [2082], [5576], [619], [6], [1473], [4], [1474], [36], [819], [157], [20], [6], [5577], [31], [2083], [366], [2], [44], [52], [5578], [4], [6], [5579], [5580], [45], [2083], [5581], [32], [107], [5582], [5583], [5584], [5585], [5586], [489], [81], [5587], [1226], [155], [68], [5588], [5589], [5590], [205], [5591], [5592], [5593], [5594], [2069], [4], [622], [5595], [806], [6], [5596], [1196], [622], [5597], [121], [43], [839], [1], [396], [10], [155], [6], [833], [10], [32], [5598], [5599], [5600], [5601], [5602], [832], [5603], [4], [5604], [2], [5], [844], [1222], [2084], [5605], [5606], [5607], [330], [17], [5608], [2], [5609], [110], [5610], [1], [168], [237], [75], [2085], [675], [98], [5611], [5612], [1145], [5613], [5614], [1230], [489], [1675], [2009], [5615], [331], [5616], [16], [5617], [395], [5618], [620], [105], [5619], [5620], [2070], [5621], [5622], [1], [395], [1089], [4], [2073], [6], [809], [2077], [1221], [1], [5623], [5624], [2086], [11], [622], [1224], [32], [5625], [5626], [2087], [762], [994], [160], [331], [5627], [834], [18], [395], [302], [994], [52], [1221], [5628], [4], [5629], [622], [1911], [832], [101], [5630], [36], [1], [600], [5631], [5632], [2086], [70], [229], [5633], [6], [5634], [5635], [1], [5636], [5637], [564], [131], [1224], [419], [118], [5638], [1228], [64], [1223], [842], [331], [5639], [5640], [1219], [622], [1894], [2088], [5641], [832], [1307], [2089], [18], [10], [5642], [2084], [5643], [467], [330], [2049], [861], [5644], [10], [844], [1222], [2072], [467], [10], [5645], [61], [5646], [616], [5647], [5648], [5649], [1135], [5650], [5651], [208], [698], [820], [1227], [117], [5652], [616], [1145], [2088], [4], [5653], [2090], [1227], [183], [5654], [169], [20], [2036], [393], [36], [38], [607], [10], [5655], [118], [5656], [208], [2030], [1229], [1203], [2079], [2091], [17], [18], [10], [130], [593], [70], [38], [818], [1220], [17], [5657], [5658], [100], [2085], [6], [1190], [5659], [728], [1229], [5660], [135], [1228], [64], [1223], [15], [5661], [5662], [2087], [1], [5663], [619], [5664], [5665], [5666], [5667], [2068], [5668], [826], [36], [183], [5669], [1220], [5670], [5671], [1], [1225], [5672], [403], [36], [5673], [405], [18], [10], [1659], [2076], [8], [5674], [60], [5675], [5676], [20], [2058], [160], [1], [12], [17], [52], [601], [103], [1204], [5677], [1], [10], [5678], [489], [47], [605], [819], [213], [17], [732], [213], [1], [12], [5679], [52], [2007], [2092], [107], [7], [5680], [4], [1682], [566], [147], [178], [766], [208], [73], [443], [605], [52], [1231], [88], [5681], [101], [175], [5682], [5683], [404], [5684], [193], [97], [605], [52], [819], [213], [5685], [339], [213], [2093], [23], [40], [5686], [1], [330], [5687], [834], [5688], [1218], [2091], [28], [33], [175], [15], [5689], [5690], [1232], [5691], [120], [18], [10], [2053], [41], [63], [208], [74], [2], [5692], [564], [12], [40], [5693], [491], [332], [2061], [842], [248], [5694], [6], [213], [2093], [636], [2094], [5695], [160], [760], [563], [213], [192], [426], [1123], [5696], [2], [201], [175], [305], [1], [1213], [840], [305], [15], [338], [126], [213], [491], [332], [248], [81], [5697], [33], [715], [155], [12], [1988], [44], [2020], [1], [175], [32], [50], [18], [10], [5698], [1202], [5699], [1], [5700], [1233], [175], [255], [998], [2095], [52], [331], [1230], [101], [96], [64], [1], [175], [2], [1234], [141], [18], [10], [5701], [5702], [5703], [1235], [623], [40], [5704], [88], [5705], [1687], [624], [2], [1232], [20], [5706], [12], [208], [301], [577], [40], [5707], [466], [1235], [516], [5708], [7], [40], [1946], [623], [28], [238], [40], [5709], [466], [5710], [623], [20], [1112], [1868], [728], [1788], [163], [5711], [84], [154], [5712], [5713], [320], [390], [7], [648], [6], [108], [1204], [2096], [5714], [1565], [1870], [5715], [5716], [5717], [5718], [815], [108], [2096], [2092], [2097], [2098], [5719], [1209], [623], [17], [5720], [5721], [711], [5722], [815], [374], [5], [466], [692], [623], [167], [154], [12], [950], [2006], [5723], [40], [5724], [5725], [193], [137], [5726], [5727], [175], [5728], [5729], [2099], [213], [491], [332], [1322], [2], [489], [5730], [875], [256], [94], [48], [12], [5731], [41], [5732], [46], [12], [285], [344], [1211], [2099], [5733], [41], [63], [61], [46], [484], [3], [3], [299], [40], [1143], [175], [5734], [256], [63], [61], [46], [12], [602], [40], [5735], [1236], [175], [2], [68], [320], [390], [128], [75], [2], [1236], [423], [552], [5], [502], [1236], [5736], [5737], [130], [134], [175], [2100], [1], [330], [40], [1233], [213], [192], [1], [71], [18], [10], [1216], [426], [5738], [5739], [137], [625], [15], [5740], [5741], [5742], [2], [1099], [1], [168], [18], [10], [59], [1217], [195], [397], [144], [175], [601], [1126], [2101], [52], [3], [86], [5743], [107], [5744], [18], [10], [3], [107], [18], [10], [5745], [426], [1233], [175], [5746], [44], [834], [120], [5747], [195], [5748], [949], [5749], [5750], [5751], [1198], [1], [96], [256], [5752], [63], [61], [46], [12], [5753], [610], [2095], [18], [10], [1230], [121], [43], [98], [31], [2], [5754], [1208], [5755], [5756], [486], [2080], [5757], [486], [5758], [5759], [840], [568], [126], [287], [71], [18], [10], [1216], [5760], [335], [2101], [52], [1582], [1536], [1454], [56], [10], [1], [539], [499], [5761], [840], [5762], [5763], [5764], [1232], [5765], [2044], [5766], [394], [389], [161], [624], [625], [1237], [5767], [11], [18], [10], [23], [79], [44], [11], [52], [117], [50], [484], [3], [5768], [5769], [5770], [2102], [23], [79], [44], [11], [18], [10], [389], [161], [624], [5771], [396], [1237], [11], [5772], [1238], [5773], [5774], [23], [79], [44], [11], [18], [10], [5775], [561], [44], [2103], [1202], [5776], [2000], [67], [625], [1237], [11], [5777], [368], [5778], [2051], [10], [1217], [195], [397], [57], [67], [625], [1239], [1185], [85], [609], [1], [206], [2104], [618], [154], [109], [443], [2], [5], [5779], [195], [397], [561], [1], [44], [1], [41], [61], [46], [5780], [923], [577], [5781], [625], [1239], [2060], [47], [5782], [19], [807], [141], [18], [10], [513], [1], [12], [289], [195], [397], [394], [17], [389], [161], [624], [833], [18], [10], [1239], [1], [41], [36], [1240], [154], [5783], [5784], [18], [10], [1238], [57], [19], [807], [2065], [43], [835], [1240], [3], [609], [1], [206], [2104], [618], [5785], [5786], [18], [10], [25], [502], [5787], [5788], [1231], [5789], [332], [20], [5790], [305], [17], [109], [902], [107], [94], [735], [89], [12], [602], [5791], [1235], [1231], [491], [332], [45], [3], [1163], [5792], [5793], [2062], [10], [1], [238], [17], [59], [1562], [50], [206], [5794], [237], [75], [1212], [607], [10], [394], [74], [2], [1994], [398], [5795], [326], [835], [1240], [85], [157], [1], [238], [289], [326], [835], [1241], [839], [2045], [482], [1], [5796], [109], [484], [3], [180], [321], [5797], [16], [2], [68], [139], [276], [167], [276], [5798], [5799], [2019], [607], [10], [394], [389], [161], [1], [606], [5800], [5801], [63], [61], [46], [85], [209], [289], [394], [389], [161], [1], [79], [515], [1723], [2015], [85], [157], [5802], [528], [5803], [61], [46], [57], [19], [807], [85], [609], [5804], [394], [513], [389], [161], [1], [5805], [1990], [61], [46], [1241], [839], [154], [109], [766], [2], [12], [47], [5806], [5807], [702], [5808], [67], [2], [702], [5809], [5810], [702], [5811], [5812], [7], [5813], [2105], [5814], [5815], [2032], [2], [139], [5816], [1218], [5], [18], [10], [238], [520], [502], [5817], [5818], [141], [1], [168], [237], [75], [1807], [1979], [18], [10], [5819], [1157], [274], [23], [1200], [497], [227], [41], [2055], [289], [568], [2], [67], [1157], [5820], [1], [237], [75], [734], [23], [244], [606], [27], [227], [41], [2103], [1214], [1], [358], [506], [1015], [2], [23], [606], [2097], [2098], [618], [20], [6], [17], [117], [5821], [696], [28], [561], [1213], [40], [1143], [18], [10], [830], [139], [1], [129], [1210], [2], [68], [488], [289], [40], [5822], [5823], [488], [2100], [12], [5824], [160], [1], [267], [827], [1], [48], [210], [5], [22], [5825], [10], [245], [5826], [4], [5827], [5828], [2], [320], [390], [348], [22], [109], [2106], [107], [41], [61], [46], [154], [5829], [5830], [423], [209], [4], [1207], [1135], [518], [4], [1201], [442], [5831], [11], [52], [41], [8], [67], [100], [1209], [330], [1986], [530], [25], [13], [172], [2107], [6], [13], [37], [2107], [259], [5832], [4], [123], [312], [37], [5833], [2], [13], [37], [3], [815], [5834], [422], [27], [5835], [661], [5836], [311], [112], [297], [1242], [1], [5837], [3], [47], [262], [621], [5838], [1], [800], [595], [236], [124], [5839], [140], [5840], [5841], [841], [817], [1243], [1], [93], [11], [649], [465], [13], [172], [5842], [186], [13], [2108], [3], [5843], [422], [3], [17], [22], [2089], [140], [2], [412], [37], [303], [345], [2109], [224], [6], [303], [93], [2110], [45], [349], [25], [845], [2111], [5], [1176], [5844], [3], [5845], [142], [5846], [25], [179], [2071], [5847], [349], [25], [5848], [3], [1836], [889], [5849], [3], [413], [27], [32], [1159], [1383], [5850], [3], [2112], [1839], [3], [401], [32], [253], [173], [1], [233], [310], [3], [1], [837], [3], [421], [118], [1242], [1], [293], [466], [116], [172], [4], [5851], [624], [2], [578], [765], [1], [131], [136], [3], [466], [4], [456], [3], [2113], [67], [2], [351], [422], [252], [202], [114], [8], [5852], [5853], [2114], [5854], [1], [230], [49], [112], [464], [3], [87], [40], [5855], [3], [5856], [11], [136], [3], [86], [718], [1], [49], [5857], [2115], [5858], [2108], [3], [1930], [1], [1502], [65], [578], [762], [95], [846], [5], [197], [379], [2116], [32], [8], [847], [690], [223], [134], [652], [379], [5859], [1], [5860], [5861], [49], [11], [494], [5862], [498], [142], [252], [202], [114], [5863], [351], [846], [5864], [20], [22], [5865], [198], [93], [544], [114], [8], [3], [45], [277], [5866], [2], [5867], [3], [5868], [2112], [516], [5869], [5870], [3], [5871], [5872], [11], [785], [896], [5873], [232], [2117], [73], [7], [1914], [198], [93], [422], [266], [5874], [5875], [5876], [3], [679], [5877], [25], [2118], [768], [7], [5878], [1739], [1100], [2], [4], [5879], [2], [1016], [5880], [3], [401], [2119], [5881], [2118], [768], [25], [198], [93], [2], [115], [34], [5882], [5883], [145], [64], [192], [3], [5884], [5885], [5886], [140], [5887], [1], [12], [5888], [1860], [1794], [232], [2], [140], [3], [2], [287], [22], [13], [37], [3], [87], [2120], [1], [5889], [47], [3], [1], [34], [132], [135], [147], [5890], [2121], [1244], [20], [123], [5891], [55], [230], [2106], [4], [13], [5892], [223], [49], [266], [1140], [5893], [3], [5894], [4], [49], [123], [848], [5895], [1967], [1], [626], [3], [67], [1892], [3], [717], [16], [134], [3], [22], [1122], [4], [303], [345], [2109], [5896], [453], [6], [715], [1658], [2], [5897], [494], [5], [1], [5898], [2], [147], [5899], [1244], [97], [5900], [635], [2], [5], [17], [2122], [1245], [1246], [135], [1758], [599], [5901], [770], [375], [1247], [627], [1248], [93], [3], [5902], [1245], [1246], [3], [2121], [1244], [1], [457], [223], [13], [37], [770], [271], [4], [73], [1159], [97], [5903], [5904], [25], [13], [37], [34], [20], [849], [604], [5905], [5906], [4], [793], [4], [83], [2], [49], [3], [32], [837], [3], [233], [1970], [812], [4], [216], [628], [5907], [13], [172], [3], [17], [1955], [500], [1], [1113], [2119], [49], [5908], [5909], [5910], [50], [3], [5911], [81], [1960], [2123], [2], [846], [1241], [2054], [1], [343], [549], [232], [1], [22], [136], [3], [87], [17], [22], [1841], [5912], [1], [1797], [5913], [15], [774], [1], [49], [266], [2047], [3], [5914], [837], [3], [1114], [5915], [242], [3], [869], [1861], [2124], [870], [55], [5916], [5917], [1969], [3], [211], [314], [628], [6], [13], [146], [342], [220], [1], [13], [3], [3], [1775], [1], [13], [32], [570], [5918], [5919], [5920], [236], [87], [5921], [4], [5922], [3], [165], [211], [314], [628], [32], [1124], [102], [2082], [5923], [267], [49], [5], [5924], [220], [3], [850], [83], [2018], [2125], [461], [3], [5925], [5926], [3], [32], [1631], [5927], [198], [93], [3], [1], [34], [573], [3], [84], [123], [1384], [3], [158], [5928], [92], [69], [2126], [5929], [49], [4], [5930], [11], [580], [69], [5931], [2127], [5932], [69], [1020], [25], [1133], [11], [69], [599], [375], [2128], [196], [770], [5933], [69], [2129], [5934], [3], [15], [5935], [5936], [5937], [5938], [236], [368], [297], [1242], [1], [267], [3], [785], [742], [232], [29], [1385], [3], [5939], [335], [2130], [13], [2131], [817], [207], [468], [1959], [5940], [812], [851], [254], [262], [47], [34], [45], [3], [5941], [1508], [1285], [1026], [8], [1], [188], [32], [147], [1783], [1555], [1], [465], [742], [232], [20], [22], [1174], [2130], [351], [663], [13], [172], [4], [67], [2], [845], [67], [1844], [3], [45], [349], [25], [5942], [5943], [49], [3], [5944], [2], [845], [5], [100], [463], [39], [203], [143], [5945], [1760], [314], [2132], [2], [192], [5946], [1833], [49], [11], [574], [5947], [15], [5948], [16], [3], [2], [875], [629], [5949], [3], [108], [5950], [173], [5], [1367], [599], [463], [1921], [158], [3], [1146], [49], [5951], [11], [230], [629], [627], [1248], [93], [335], [223], [158], [674], [319], [3], [5952], [1133], [1], [303], [93], [223], [27], [2133], [1248], [93], [2], [158], [55], [456], [580], [3], [1146], [2134], [5953], [15], [5954], [1245], [1246], [17], [5955], [5956], [93], [5957], [571], [2135], [5958], [49], [4], [303], [345], [187], [55], [2081], [5959], [366], [737], [5960], [5961], [100], [2135], [5962], [1026], [4], [65], [845], [717], [16], [3], [867], [1186], [482], [1817], [222], [158], [5963], [13], [1134], [5964], [1243], [112], [12], [3], [189], [5965], [83], [13], [311], [621], [5966], [469], [5967], [2136], [49], [3], [81], [1854], [211], [314], [5968], [812], [97], [5969], [83], [5970], [1726], [3], [2137], [11], [140], [298], [2138], [3], [5971], [114], [34], [3], [22], [5972], [31], [5973], [5974], [3], [3], [83], [2], [1272], [569], [123], [317], [1206], [3], [3], [3], [5975], [2139], [3], [3], [13], [192], [5976], [11], [580], [5977], [3], [197], [630], [3], [86], [674], [319], [4], [380], [7], [127], [1247], [11], [293], [270], [5978], [398], [3], [2120], [2140], [1800], [47], [20], [2141], [140], [34], [1], [12], [40], [5979], [140], [3], [872], [759], [5980], [13], [37], [5], [140], [7], [621], [1], [315], [5981], [627], [5], [6], [5982], [5983], [103], [402], [498], [84], [5984], [2142], [372], [3], [759], [1215], [5985], [116], [5], [140], [1], [34], [3], [5986], [3], [211], [314], [628], [5], [140], [1], [34], [3], [143], [1132], [50], [3], [214], [1234], [31], [5987], [1], [5988], [5989], [5990], [12], [32], [1178], [851], [254], [1], [48], [87], [135], [5991], [5992], [2124], [88], [777], [4], [1], [2143], [2], [129], [741], [32], [87], [5993], [5994], [2], [311], [5995], [370], [3], [1954], [3], [3], [2114], [163], [5996], [65], [5997], [1806], [370], [3], [17], [22], [1378], [5998], [222], [2144], [5999], [6000], [1017], [1], [1249], [315], [852], [2145], [6001], [4], [148], [1250], [6002], [8], [2146], [836], [2], [29], [6003], [398], [96], [1249], [2147], [2148], [6004], [1], [83], [347], [6005], [258], [32], [2], [399], [3], [17], [134], [316], [8], [3], [57], [1111], [6006], [586], [13], [37], [697], [6007], [2105], [850], [6008], [6009], [161], [34], [3], [838], [3], [32], [1781], [2], [1251], [6], [65], [599], [6010], [271], [4], [631], [6011], [6012], [1], [33], [1251], [161], [203], [6013], [271], [4], [65], [83], [1124], [3], [100], [315], [366], [47], [34], [17], [6014], [140], [1346], [34], [6015], [2149], [674], [3], [1826], [2150], [6016], [6017], [6018], [6019], [6020], [50], [319], [3], [196], [6021], [1], [464], [690], [6022], [11], [6023], [298], [6024], [6025], [161], [8], [15], [17], [6026], [2], [3], [17], [6027], [6028], [1974], [1117], [13], [6029], [116], [40], [849], [34], [3], [17], [100], [315], [421], [6030], [161], [34], [3], [15], [2151], [16], [88], [777], [3], [17], [2], [2152], [73], [492], [11], [493], [8], [2141], [27], [576], [114], [1], [12], [298], [103], [233], [6031], [6032], [6033], [838], [399], [196], [1740], [8], [3], [22], [6034], [2153], [6035], [11], [1], [381], [1], [1249], [6036], [6037], [116], [37], [306], [55], [69], [69], [69], [69], [8], [69], [69], [69], [69], [97], [6038], [20], [22], [3], [3], [6039], [29], [6040], [13], [37], [34], [15], [2151], [4], [2146], [88], [777], [3], [163], [33], [49], [32], [366], [74], [2], [1034], [398], [55], [69], [3], [57], [6041], [836], [349], [25], [3], [45], [227], [317], [6042], [1], [201], [197], [379], [630], [8], [1], [34], [298], [3], [11], [103], [233], [204], [6043], [6044], [732], [8], [1850], [6045], [6046], [3], [17], [22], [6047], [2153], [6048], [399], [15], [573], [6049], [20], [6050], [1], [345], [20], [301], [6051], [1], [12], [3], [1], [6052], [6053], [1234], [1], [549], [198], [93], [2], [6054], [6055], [2], [752], [6056], [3], [6057], [3], [27], [6058], [6059], [2154], [1], [6060], [2148], [2155], [1], [343], [1252], [852], [13], [252], [576], [114], [8], [2], [490], [33], [52], [6061], [123], [306], [2], [1649], [92], [69], [69], [69], [69], [69], [17], [6062], [757], [6063], [233], [310], [1], [549], [1789], [6064], [116], [3], [86], [233], [6065], [6066], [1141], [1], [13], [3], [27], [6067], [454], [2], [461], [32], [143], [123], [1412], [6068], [91], [1784], [6069], [852], [2156], [133], [3], [92], [69], [197], [322], [781], [2156], [69], [317], [1827], [69], [319], [630], [69], [158], [933], [2127], [6070], [3], [6071], [69], [456], [49], [3], [40], [6072], [2147], [52], [1], [345], [852], [2145], [116], [37], [8], [27], [338], [147], [2152], [29], [2155], [230], [3], [2113], [197], [322], [778], [630], [6073], [8], [266], [3], [3], [3], [3], [45], [197], [322], [781], [847], [1923], [631], [2129], [15], [6074], [34], [3], [227], [317], [7], [6075], [6076], [458], [20], [22], [266], [3], [1], [12], [6077], [2154], [3], [1], [399], [347], [6078], [114], [3], [6079], [907], [3], [50], [120], [1537], [447], [258], [453], [774], [6], [6080], [2123], [759], [2142], [372], [116], [3], [6081], [1215], [6082], [2], [140], [1], [34], [6083], [493], [161], [6084], [492], [398], [116], [8], [34], [1], [34], [6085], [399], [11], [1776], [27], [338], [3], [6086], [2138], [569], [350], [2], [1250], [492], [398], [116], [8], [1], [34], [3], [1], [83], [6087], [40], [1252], [492], [11], [6088], [28], [34], [40], [849], [1250], [492], [398], [116], [6089], [123], [1799], [1], [569], [787], [3], [57], [6090], [253], [6091], [1483], [1324], [631], [33], [493], [161], [39], [108], [6092], [5], [211], [314], [628], [266], [2157], [13], [375], [6093], [57], [6094], [161], [116], [2139], [627], [6095], [172], [7], [717], [258], [65], [7], [6096], [311], [1], [464], [17], [2133], [581], [3], [22], [112], [12], [5], [97], [1], [6097], [678], [40], [6098], [1838], [204], [2137], [11], [227], [267], [13], [3], [1251], [1238], [112], [5], [57], [3], [853], [1149], [4], [493], [627], [142], [2], [529], [109], [482], [2143], [850], [140], [13], [37], [375], [338], [6099], [11], [60], [6100], [2], [68], [97], [6101], [11], [140], [841], [1243], [6102], [83], [8], [34], [3], [850], [2125], [83], [13], [37], [114], [1731], [737], [3], [6103], [6104], [6], [6105], [4], [3], [422], [472], [3], [267], [33], [49], [305], [11], [6106], [6107], [1], [626], [145], [15], [151], [2131], [3], [1130], [6108], [817], [3], [573], [83], [34], [3], [7], [667], [83], [1125], [4], [198], [93], [3], [7], [127], [1247], [3], [6109], [998], [1335], [50], [3], [6110], [93], [1], [115], [898], [6], [31], [27], [6111], [83], [7], [6112], [2], [461], [81], [6113], [65], [848], [2], [7], [1821], [1], [461], [678], [20], [83], [1381], [341], [569], [678], [596], [3], [20], [22], [3], [3], [1270], [1], [31], [83], [218], [6114], [11], [851], [787], [2], [11], [293], [6115], [218], [575], [1], [131], [136], [1129], [108], [6116], [2], [196], [369], [2], [8], [2], [3], [1129], [108], [2], [882], [650], [32], [585], [197], [578], [847], [1138], [6117], [4], [6118], [3], [3], [32], [585], [112], [3], [47], [3], [6119], [5], [13], [86], [97], [6120], [1], [6121], [3], [20], [22], [2126], [197], [1], [13], [5], [6122], [630], [335], [250], [2140], [123], [424], [2], [851], [1], [31], [315], [116], [92], [83], [271], [4], [198], [3], [45], [544], [631], [629], [1176], [15], [6123], [631], [1977], [83], [271], [4], [6124], [498], [7], [471], [6125], [629], [597], [3], [446], [3], [3], [3], [83], [271], [4], [6126], [2134], [2110], [190], [137], [27], [1], [1595], [6], [83], [13], [37], [83], [6127], [853], [6128], [2], [529], [4], [1144], [47], [29], [6129], [34], [8], [6130], [1], [22], [1132], [50], [771], [2158], [3], [269], [318], [112], [849], [3], [20], [22], [97], [151], [2], [2090], [4], [31], [2144], [1253], [1795], [158], [1125], [4], [197], [13], [429], [492], [6131], [3], [47], [465], [13], [37], [2132], [60], [6132], [1752], [112], [6133], [3], [2], [6134], [6135], [7], [621], [6136], [1851], [97], [6137], [1165], [11], [136], [47], [1684], [6138], [27], [576], [114], [115], [3], [13], [37], [6139], [1], [34], [6140], [771], [2158], [2122], [603], [1], [115], [8], [3], [4], [714], [6141], [6142], [3], [713], [12], [3], [81], [6143], [661], [147], [130], [6144], [399], [6145], [6146], [399], [313], [369], [8], [3], [17], [828], [2149], [57], [465], [158], [415], [463], [572], [6147], [3], [379], [1], [293], [65], [848], [108], [6148], [11], [6149], [316], [3], [87], [1804], [316], [5], [123], [1388], [684], [1253], [2128], [3], [1113], [158], [6150], [783], [2102], [1253], [391], [13], [37], [127], [16], [31], [196], [841], [2136], [316], [3], [165], [53], [784], [6151], [4], [6152], [1049], [17], [370], [3], [6153], [33], [49], [1134], [102], [6154], [6155], [4], [6], [203], [13], [172], [1119], [581], [47], [34], [17], [490], [115], [87], [6156], [2], [230], [169], [2], [196], [3], [319], [1801], [271], [4], [13], [6157], [3], [70], [81], [1686], [87], [6158], [20], [2], [230], [99], [49], [3], [542], [6159], [93], [1], [99], [575], [1138], [3], [81], [6160], [20], [1174], [6161], [969], [169], [2], [136], [3], [6162], [228], [2115], [6163], [6164], [853], [930], [13], [113], [814], [66], [732], [20], [6165], [2], [529], [4], [1144], [103], [2150], [585], [262], [1], [74], [2], [378], [3], [1], [13], [308], [2], [73], [1034], [4], [6166], [6167], [3], [99], [14], [1], [12], [17], [1681], [6168], [737], [269], [318], [87], [6169], [2], [230], [99], [13], [37], [3], [7], [956], [20], [22], [3], [6170], [22], [6], [269], [17], [601], [13], [15], [135], [6171], [1756], [6172], [1719], [1097], [2010], [3], [17], [13], [1828], [340], [2], [211], [1769], [3], [17], [6173], [6], [419], [147], [6174], [6175], [65], [848], [4], [6176], [207], [1759], [269], [318], [15], [17], [6177], [930], [103], [6178], [2157], [99], [13], [37], [218], [1816], [269], [29], [66], [463], [108], [6179], [2094], [6180], [11], [493], [161], [3], [17], [87], [6181], [83], [2], [33], [493], [20], [6182], [1], [626], [1], [464], [17], [269], [419], [1762], [2], [109], [13], [113], [4], [232], [32], [99], [13], [172], [6183], [271], [4], [2111], [6184], [113], [6185], [3], [679], [262], [6186], [4], [6], [127], [4], [1178], [424], [6187], [629], [597], [55], [3], [3], [853], [846], [4], [529], [6188], [2], [22], [8], [1764], [269], [6189], [6190], [3], [158], [115], [765], [1622], [3], [6191], [11], [490], [316], [40], [6192], [99], [6193], [115], [8], [7], [6194], [6195], [314], [3], [1252], [6196], [6], [83], [13], [37], [1961], [1819], [69], [99], [49], [69], [586], [783], [586], [6197], [2116], [2159], [586], [578], [847], [2159], [3], [69], [158], [3], [317], [8], [143], [461], [410], [2], [13], [37], [1186], [1741], [3], [306], [187], [55], [3], [3], [3], [3], [3], [87], [458], [1], [37], [1131], [232], [2117], [3], [1], [103], [1810], [6198], [775], [3], [384], [37], [375], [6199], [1], [1837], [780], [20], [1108], [3], [6200], [1140], [498], [3], [544], [114], [8], [765], [11], [99], [13], [37], [3], [151], [6201], [6202], [99], [6203], [3], [57], [27], [202], [114], [3], [33], [357], [25], [249], [13], [6204], [158], [1542], [49], [305], [15], [6205], [1], [2160], [626], [31], [6206], [1773], [66], [2], [230], [3], [490], [115], [2], [6207], [33], [316], [6208], [305], [6209], [718], [4], [6210], [6211], [13], [37], [114], [1], [2160], [626]]\n",
            "padded_docs:\n",
            " [[  42]\n",
            " [  45]\n",
            " [ 277]\n",
            " ...\n",
            " [   1]\n",
            " [2160]\n",
            " [ 626]]\n"
          ]
        }
      ]
    },
    {
      "cell_type": "markdown",
      "source": [
        "***Encode Labels***"
      ],
      "metadata": {
        "id": "OAA_T_teLKLw"
      }
    },
    {
      "cell_type": "code",
      "source": [
        "labels = data['Label'].values\n",
        "label_encoder = preprocessing.LabelEncoder()\n",
        "encoded_labels = label_encoder.fit_transform(labels)\n",
        "print('Unique encoded_labels:\\n',np.unique(encoded_labels))"
      ],
      "metadata": {
        "id": "pWW_fgrd88ID",
        "colab": {
          "base_uri": "https://localhost:8080/"
        },
        "outputId": "7717c7a0-cba0-4fc4-e90b-490d9a757ca9"
      },
      "execution_count": null,
      "outputs": [
        {
          "output_type": "stream",
          "name": "stdout",
          "text": [
            "Unique encoded_labels:\n",
            " [0 1 2 3 4 5 6 7 8]\n"
          ]
        }
      ]
    },
    {
      "cell_type": "markdown",
      "source": [
        "# **Split data**"
      ],
      "metadata": {
        "id": "xVFnqxzEP8-K"
      }
    },
    {
      "cell_type": "code",
      "source": [
        "X_train, X_test, Y_train, Y_test = train_test_split(padded_words, encoded_labels, test_size = 0.10, random_state = 42)\n",
        "print(X_train.shape,Y_train.shape)\n",
        "print(X_test.shape,Y_test.shape)"
      ],
      "metadata": {
        "colab": {
          "base_uri": "https://localhost:8080/"
        },
        "id": "JemsU6q8P8-L",
        "outputId": "0a1a7507-7b13-499b-df5f-c39730f82ca1"
      },
      "execution_count": null,
      "outputs": [
        {
          "output_type": "stream",
          "name": "stdout",
          "text": [
            "(16219, 1) (16219,)\n",
            "(1803, 1) (1803,)\n"
          ]
        }
      ]
    },
    {
      "cell_type": "markdown",
      "source": [
        "# **Word2vec Model**"
      ],
      "metadata": {
        "id": "yH5RHPg2lIEM"
      }
    },
    {
      "cell_type": "markdown",
      "source": [
        "**Download model zip file, unzip it**"
      ],
      "metadata": {
        "id": "T9GnLWrdvViJ"
      }
    },
    {
      "cell_type": "code",
      "source": [
        "# !wget https://bakrianoo.ewr1.vultrobjects.com/aravec/full_grams_sg_300_wiki.zip\n",
        "# !unzip \"/content/full_grams_sg_300_wiki.zip\" -d \"/content/\""
      ],
      "metadata": {
        "id": "IcLJiI8AlTDO"
      },
      "execution_count": null,
      "outputs": []
    },
    {
      "cell_type": "markdown",
      "source": [
        "**Load Model**"
      ],
      "metadata": {
        "id": "zf7zBgBkvlXt"
      }
    },
    {
      "cell_type": "code",
      "source": [
        "# w2v_model = gensim.models.Word2Vec.load('/content/full_grams_sg_300_wiki.mdl')\n",
        "w2v_model = KeyedVectors.load('/content/full_grams_sg_300_wiki.mdl')"
      ],
      "metadata": {
        "id": "X8hwYxXil_4p"
      },
      "execution_count": null,
      "outputs": []
    },
    {
      "cell_type": "markdown",
      "source": [
        "***662,109 words with 300 dimensions represent every word.***"
      ],
      "metadata": {
        "id": "z7CC1Th6MARq"
      }
    },
    {
      "cell_type": "code",
      "source": [
        "w2v_model.wv.vectors.shape"
      ],
      "metadata": {
        "colab": {
          "base_uri": "https://localhost:8080/"
        },
        "id": "EuSu_mWE2gY0",
        "outputId": "c9631a2d-cccb-4b91-d857-7bca715e8628"
      },
      "execution_count": null,
      "outputs": [
        {
          "output_type": "execute_result",
          "data": {
            "text/plain": [
              "(662109, 300)"
            ]
          },
          "metadata": {},
          "execution_count": 22
        }
      ]
    },
    {
      "cell_type": "markdown",
      "source": [
        "***load the whole embedding into memory***\n"
      ],
      "metadata": {
        "id": "hLLT5VL9MQN0"
      }
    },
    {
      "cell_type": "code",
      "source": [
        "w2v_embeddings_index={}\n",
        "TOTAL_EMBEDDING_DIM=300\n",
        "\n",
        "for word in w2v_model.wv.vocab:\n",
        "    w2v_embeddings_index[word] = w2v_model[word]\n",
        "    \n",
        "print('Loaded %s word vectors.'% len(w2v_embeddings_index))"
      ],
      "metadata": {
        "colab": {
          "base_uri": "https://localhost:8080/"
        },
        "id": "zn_qIE0T4JXJ",
        "outputId": "0771dc73-23a7-4daa-b11f-30167ce528c9"
      },
      "execution_count": null,
      "outputs": [
        {
          "output_type": "stream",
          "name": "stderr",
          "text": [
            "/usr/local/lib/python3.7/dist-packages/ipykernel_launcher.py:5: DeprecationWarning: Call to deprecated `__getitem__` (Method will be removed in 4.0.0, use self.wv.__getitem__() instead).\n",
            "  \"\"\"\n"
          ]
        },
        {
          "output_type": "stream",
          "name": "stdout",
          "text": [
            "Loaded 662109 word vectors.\n"
          ]
        }
      ]
    },
    {
      "cell_type": "markdown",
      "source": [
        "***create a weight matrix for words in corpus***"
      ],
      "metadata": {
        "id": "hQ8Tgn2FMaXe"
      }
    },
    {
      "cell_type": "code",
      "source": [
        "embedding_matrix = np.zeros((vocab_size, TOTAL_EMBEDDING_DIM))\n",
        "\n",
        "for word, i in t.word_index.items():\n",
        "    embedding_vector = w2v_embeddings_index.get(word)\n",
        "    if embedding_vector is not None:\n",
        "        embedding_matrix[i] = embedding_vector\n",
        "        \n",
        "print('Embedding Matrix shape:', embedding_matrix.shape)"
      ],
      "metadata": {
        "colab": {
          "base_uri": "https://localhost:8080/"
        },
        "id": "4PxSx4uq4c1p",
        "outputId": "f2aee72f-13f3-4d98-81d5-b8bf6eb848b5"
      },
      "execution_count": null,
      "outputs": [
        {
          "output_type": "stream",
          "name": "stdout",
          "text": [
            "Embedding Matrix shape: (6212, 300)\n"
          ]
        }
      ]
    },
    {
      "cell_type": "code",
      "source": [
        "embedding_layer = tf.keras.layers.Embedding(vocab_size, TOTAL_EMBEDDING_DIM, weights=[embedding_matrix], input_length=1, trainable=False)"
      ],
      "metadata": {
        "id": "cWxEowmBuorX"
      },
      "execution_count": null,
      "outputs": []
    },
    {
      "cell_type": "markdown",
      "source": [
        "# **LSTM**"
      ],
      "metadata": {
        "id": "Z8IP5Z7P24h7"
      }
    },
    {
      "cell_type": "markdown",
      "source": [
        "***define model***"
      ],
      "metadata": {
        "id": "5DNK9PKCM3OO"
      }
    },
    {
      "cell_type": "code",
      "source": [
        "input_placeholder= tf.keras.Input(shape=(1,), dtype='int32')\n",
        "input_embedding = embedding_layer(input_placeholder)\n",
        "lstm= tf.keras.layers.LSTM(units=10, activation='relu')(input_embedding)\n",
        "preds = tf.keras.layers.Dense(9, activation='softmax', name = 'activation')(lstm)\n",
        "model = tf.keras.models.Model(inputs=input_placeholder, outputs=preds)"
      ],
      "metadata": {
        "id": "3S27hCvivxKo"
      },
      "execution_count": null,
      "outputs": []
    },
    {
      "cell_type": "markdown",
      "source": [
        "***Note:  'categorical_crossentropy' works on one-hot encoded target, while 'sparse_categorical_crossentropy' works on integer target.\n",
        "So, we'll compile with 'sparse_categorical_crossentropy'***"
      ],
      "metadata": {
        "id": "VuzLqgwUBKeH"
      }
    },
    {
      "cell_type": "markdown",
      "source": [
        "***compile model***\n"
      ],
      "metadata": {
        "id": "IXM3yS87M7V8"
      }
    },
    {
      "cell_type": "code",
      "source": [
        "model.compile(loss='sparse_categorical_crossentropy', optimizer=tf.keras.optimizers.Adam(\n",
        "    lr=0.001, beta_1=0.9, beta_2=0.999), metrics=['accuracy'])\n",
        "# model.compile(optimizer='adam',loss = tf.keras.losses.SparseCategoricalCrossentropy(from_logits=True), metrics=['accuracy'])"
      ],
      "metadata": {
        "colab": {
          "base_uri": "https://localhost:8080/"
        },
        "id": "V-KDm4-k3Fdx",
        "outputId": "a085939e-7f4d-4f04-f869-6afa70674746"
      },
      "execution_count": null,
      "outputs": [
        {
          "output_type": "stream",
          "name": "stderr",
          "text": [
            "/usr/local/lib/python3.7/dist-packages/keras/optimizer_v2/adam.py:105: UserWarning: The `lr` argument is deprecated, use `learning_rate` instead.\n",
            "  super(Adam, self).__init__(name, **kwargs)\n"
          ]
        }
      ]
    },
    {
      "cell_type": "markdown",
      "source": [
        "***summarize model***\n"
      ],
      "metadata": {
        "id": "kgt4XX50NERG"
      }
    },
    {
      "cell_type": "code",
      "source": [
        "print(model.summary())"
      ],
      "metadata": {
        "colab": {
          "base_uri": "https://localhost:8080/"
        },
        "id": "YERY8saB8h4o",
        "outputId": "a8fd6a04-0a9c-4dd4-8e44-f7f1a6fd4472"
      },
      "execution_count": null,
      "outputs": [
        {
          "output_type": "stream",
          "name": "stdout",
          "text": [
            "Model: \"model\"\n",
            "_________________________________________________________________\n",
            " Layer (type)                Output Shape              Param #   \n",
            "=================================================================\n",
            " input_1 (InputLayer)        [(None, 1)]               0         \n",
            "                                                                 \n",
            " embedding (Embedding)       (None, 1, 300)            1863600   \n",
            "                                                                 \n",
            " lstm (LSTM)                 (None, 10)                12440     \n",
            "                                                                 \n",
            " activation (Dense)          (None, 9)                 99        \n",
            "                                                                 \n",
            "=================================================================\n",
            "Total params: 1,876,139\n",
            "Trainable params: 12,539\n",
            "Non-trainable params: 1,863,600\n",
            "_________________________________________________________________\n",
            "None\n"
          ]
        }
      ]
    },
    {
      "cell_type": "markdown",
      "source": [
        "***fit model***"
      ],
      "metadata": {
        "id": "b7EnkF00NJcH"
      }
    },
    {
      "cell_type": "code",
      "source": [
        "# history= model.fit(X_train, Y_train, epochs=50, verbose=0)\n",
        "\n",
        "epochs = 5\n",
        "batch_size = 64\n",
        "\n",
        "history = model.fit(X_train, Y_train, epochs=epochs, batch_size=batch_size,validation_split=0.1,callbacks=[EarlyStopping(monitor='val_loss', patience=3, min_delta=0.0001)])"
      ],
      "metadata": {
        "id": "QxNKLbzG8n4n",
        "colab": {
          "base_uri": "https://localhost:8080/"
        },
        "outputId": "e52c0c2c-b341-4410-8fb3-ca9b599c1fc4"
      },
      "execution_count": null,
      "outputs": [
        {
          "output_type": "stream",
          "name": "stdout",
          "text": [
            "Epoch 1/5\n",
            "229/229 [==============================] - 6s 9ms/step - loss: 0.8702 - accuracy: 0.8467 - val_loss: 0.4661 - val_accuracy: 0.8699\n",
            "Epoch 2/5\n",
            "229/229 [==============================] - 1s 6ms/step - loss: 0.4308 - accuracy: 0.8863 - val_loss: 0.3744 - val_accuracy: 0.8964\n",
            "Epoch 3/5\n",
            "229/229 [==============================] - 1s 5ms/step - loss: 0.3636 - accuracy: 0.8992 - val_loss: 0.3331 - val_accuracy: 0.9038\n",
            "Epoch 4/5\n",
            "229/229 [==============================] - 1s 5ms/step - loss: 0.3277 - accuracy: 0.9047 - val_loss: 0.3111 - val_accuracy: 0.9131\n",
            "Epoch 5/5\n",
            "229/229 [==============================] - 1s 6ms/step - loss: 0.2964 - accuracy: 0.9142 - val_loss: 0.2917 - val_accuracy: 0.9199\n"
          ]
        }
      ]
    },
    {
      "cell_type": "markdown",
      "source": [
        "# **Model Evaluation**"
      ],
      "metadata": {
        "id": "AbwN-NScQ34C"
      }
    },
    {
      "cell_type": "code",
      "source": [
        "loss, accuracy = model.evaluate(X_test, Y_test, verbose=0)\n",
        "print('Loss: %f \\nAccuracy: %f' % (loss, accuracy))"
      ],
      "metadata": {
        "colab": {
          "base_uri": "https://localhost:8080/"
        },
        "id": "AL97eVMhCOG9",
        "outputId": "4d9f177b-024c-43d4-9628-d645ef9fa9f0"
      },
      "execution_count": null,
      "outputs": [
        {
          "output_type": "stream",
          "name": "stdout",
          "text": [
            "Loss: 0.346402 \n",
            "Accuracy: 0.899057\n"
          ]
        }
      ]
    },
    {
      "cell_type": "code",
      "source": [
        "plt.title('Loss')\n",
        "plt.plot(history.history['loss'], label='train')\n",
        "plt.plot(history.history['val_loss'], label='test')\n",
        "plt.legend()\n",
        "plt.show();"
      ],
      "metadata": {
        "colab": {
          "base_uri": "https://localhost:8080/",
          "height": 281
        },
        "id": "ChcK7UJHUnm3",
        "outputId": "66551a8e-ad9c-4867-c833-0c5e72858f46"
      },
      "execution_count": null,
      "outputs": [
        {
          "output_type": "display_data",
          "data": {
            "text/plain": [
              "<Figure size 432x288 with 1 Axes>"
            ],
            "image/png": "[encoded data removed]"
          },
          "metadata": {
            "needs_background": "light"
          }
        }
      ]
    },
    {
      "cell_type": "code",
      "source": [
        "history.history"
      ],
      "metadata": {
        "colab": {
          "base_uri": "https://localhost:8080/"
        },
        "id": "sL8ZDf2DYQgr",
        "outputId": "e021360a-fbe1-40c4-d73b-867465b7335f"
      },
      "execution_count": null,
      "outputs": [
        {
          "output_type": "execute_result",
          "data": {
            "text/plain": [
              "{'accuracy': [0.8466808199882507,\n",
              "  0.886277973651886,\n",
              "  0.8991573452949524,\n",
              "  0.9047064185142517,\n",
              "  0.9142289757728577],\n",
              " 'loss': [0.870202898979187,\n",
              "  0.4307709038257599,\n",
              "  0.3635867238044739,\n",
              "  0.3277026116847992,\n",
              "  0.2963750660419464],\n",
              " 'val_accuracy': [0.8699136972427368,\n",
              "  0.8964241743087769,\n",
              "  0.9038224220275879,\n",
              "  0.9130702614784241,\n",
              "  0.9198520183563232],\n",
              " 'val_loss': [0.4661332368850708,\n",
              "  0.3743957579135895,\n",
              "  0.3331436216831207,\n",
              "  0.31110894680023193,\n",
              "  0.2917304039001465]}"
            ]
          },
          "metadata": {},
          "execution_count": 32
        }
      ]
    },
    {
      "cell_type": "code",
      "source": [
        "plt.title('Accuracy')\n",
        "plt.plot(history.history['accuracy'], label='train')\n",
        "plt.plot(history.history['val_accuracy'], label='test')\n",
        "plt.legend()\n",
        "plt.show();"
      ],
      "metadata": {
        "id": "etM12KmXUrqM",
        "colab": {
          "base_uri": "https://localhost:8080/",
          "height": 281
        },
        "outputId": "765523a2-630c-49df-cee6-2dfe1409051d"
      },
      "execution_count": null,
      "outputs": [
        {
          "output_type": "display_data",
          "data": {
            "text/plain": [
              "<Figure size 432x288 with 1 Axes>"
            ],
            "image/png": "[encoded data removed]"
          },
          "metadata": {
            "needs_background": "light"
          }
        }
      ]
    },
    {
      "cell_type": "markdown",
      "source": [
        "# **Testing**"
      ],
      "metadata": {
        "id": "tHDNOOE4raRP"
      }
    },
    {
      "cell_type": "code",
      "source": [
        "input_text = ['رونالدو لاعب في نادي مانشستر يونايتد']\n",
        "seq = t.texts_to_sequences(input_text)\n",
        "\n",
        "labels = np.unique(labels)\n",
        "for encoded_word in seq[0]:\n",
        "    print('Word: ', t.index_word[encoded_word])\n",
        "    pred = model.predict([encoded_word])\n",
        "    print('\\nPredictions probability for each class: \\n', pred)\n",
        "    print('\\nPredicted Class: ', labels[np.argmax(pred)])\n",
        "    print('\\n***************************\\n')\n"
      ],
      "metadata": {
        "colab": {
          "base_uri": "https://localhost:8080/"
        },
        "id": "H3vAQqZlYLyI",
        "outputId": "c5424429-6880-4759-c116-e891f679df42"
      },
      "execution_count": null,
      "outputs": [
        {
          "output_type": "stream",
          "name": "stdout",
          "text": [
            "Word:  رونالدو\n",
            "\n",
            "Predictions probability for each class: \n",
            " [[0.00928852 0.00124065 0.04629789 0.4161594  0.01740612 0.0018918\n",
            "  0.01035308 0.06982835 0.42753422]]\n",
            "\n",
            "Predicted Class:  O\n",
            "\n",
            "***************************\n",
            "\n",
            "Word:  لاعب\n",
            "\n",
            "Predictions probability for each class: \n",
            " [[1.2682490e-04 3.3108497e-03 6.7580794e-04 1.7411283e-03 2.5725763e-04\n",
            "  2.8236543e-03 1.2027845e-03 9.8699832e-04 9.8887467e-01]]\n",
            "\n",
            "Predicted Class:  O\n",
            "\n",
            "***************************\n",
            "\n",
            "Word:  في\n",
            "\n",
            "Predictions probability for each class: \n",
            " [[4.4928968e-04 2.9110740e-04 1.3336475e-04 9.0526865e-04 5.3295959e-04\n",
            "  1.1822416e-03 3.5870922e-04 2.8258233e-04 9.9586451e-01]]\n",
            "\n",
            "Predicted Class:  O\n",
            "\n",
            "***************************\n",
            "\n",
            "Word:  نادي\n",
            "\n",
            "Predictions probability for each class: \n",
            " [[0.03134243 0.02248914 0.4694392  0.05831537 0.04020361 0.01863706\n",
            "  0.010545   0.01802397 0.33100414]]\n",
            "\n",
            "Predicted Class:  B-ORG\n",
            "\n",
            "***************************\n",
            "\n",
            "Word:  مانشستر\n",
            "\n",
            "Predictions probability for each class: \n",
            " [[0.42048565 0.01639961 0.06560574 0.1293227  0.15242012 0.02942845\n",
            "  0.03055212 0.0521762  0.10360943]]\n",
            "\n",
            "Predicted Class:  B-LOC\n",
            "\n",
            "***************************\n",
            "\n",
            "Word:  يونايتد\n",
            "\n",
            "Predictions probability for each class: \n",
            " [[0.02925301 0.10205989 0.26613718 0.1527365  0.04257357 0.04251847\n",
            "  0.10563856 0.12384879 0.135234  ]]\n",
            "\n",
            "Predicted Class:  B-ORG\n",
            "\n",
            "***************************\n",
            "\n"
          ]
        }
      ]
    }
  ]
}